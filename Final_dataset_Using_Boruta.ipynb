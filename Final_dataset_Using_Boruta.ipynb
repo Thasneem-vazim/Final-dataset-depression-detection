{
  "nbformat": 4,
  "nbformat_minor": 0,
  "metadata": {
    "colab": {
      "name": "Final dataset Using Boruta.ipynb",
      "provenance": [],
      "authorship_tag": "ABX9TyMlv/0TuRQevtCz42vU2S7a",
      "include_colab_link": true
    },
    "kernelspec": {
      "name": "python3",
      "display_name": "Python 3"
    },
    "language_info": {
      "name": "python"
    }
  },
  "cells": [
    {
      "cell_type": "markdown",
      "metadata": {
        "id": "view-in-github",
        "colab_type": "text"
      },
      "source": [
        "<a href=\"https://colab.research.google.com/github/Thasneem-vazim/Final-dataset-depression-detection/blob/main/Final_dataset_Using_Boruta.ipynb\" target=\"_parent\"><img src=\"https://colab.research.google.com/assets/colab-badge.svg\" alt=\"Open In Colab\"/></a>"
      ]
    },
    {
      "cell_type": "code",
      "execution_count": 1,
      "metadata": {
        "id": "0ynnCxlHJjDo"
      },
      "outputs": [],
      "source": [
        "import numpy as np\n",
        "import pandas as pd\n",
        "import matplotlib.pyplot as plt\n",
        "import seaborn as sns\n",
        "from sklearn.model_selection import train_test_split\n",
        "from sklearn.linear_model import LogisticRegression\n",
        "from sklearn import metrics\n",
        "#%matplotlib inline\n",
        "import warnings\n",
        "warnings.filterwarnings('ignore')\n",
        "from sklearn.tree import DecisionTreeClassifier\n",
        "\n",
        "pd.set_option('display.max_rows', None)"
      ]
    },
    {
      "cell_type": "code",
      "source": [
        "depressionDataset = pd.read_csv(\"/content/final dataset.csv\")\n",
        "X = depressionDataset[['AGERNG','GENDER','EDU','PROF','MARSTS','RESDPL','LIVWTH','ENVSAT','POSSAT','FINSTR','DEBT','PHYEX','SMOKE','DRINK','ILLNESS','PREMED','EATDIS','AVGSLP','INSOM','TSSN','WRKPRE','ANXI','DEPRI','ABUSED','CHEAT','THREAT','SUICIDE','INFER','CONFLICT','LOST']]\n",
        "y=depressionDataset[['DEPRESSED']]\n"
      ],
      "metadata": {
        "id": "_TNzIAWxJuBD"
      },
      "execution_count": 2,
      "outputs": []
    },
    {
      "cell_type": "code",
      "source": [
        ""
      ],
      "metadata": {
        "id": "-cc2YJt90f-W"
      },
      "execution_count": 2,
      "outputs": []
    },
    {
      "cell_type": "code",
      "execution_count": 3,
      "metadata": {
        "id": "ovbxpvqH80a3"
      },
      "outputs": [],
      "source": [
        "from sklearn.preprocessing import LabelEncoder\n",
        "### label encode the categorical values and convert them to numbers\n",
        "le = LabelEncoder()\n",
        "le.fit(X['AGERNG'].astype(str))\n",
        "X['AGERNG'] = le.transform(X['AGERNG'].astype(str))\n",
        "\n",
        "le = LabelEncoder()\n",
        "le.fit(X['GENDER'].astype(str))\n",
        "X['GENDER'] = le.transform(X['GENDER'].astype(str))\n",
        "\n",
        "le = LabelEncoder()\n",
        "le.fit(X['EDU'].astype(str))\n",
        "X['EDU'] = le.transform(X['EDU'].astype(str))\n",
        "\n",
        "le = LabelEncoder()\n",
        "le.fit(X['PROF'].astype(str))\n",
        "X['PROF'] = le.transform(X['PROF'].astype(str))\n",
        "\n",
        "\n",
        "le = LabelEncoder()\n",
        "le.fit(X['MARSTS'].astype(str))\n",
        "X['MARSTS'] = le.transform(X['MARSTS'].astype(str))\n",
        "\n",
        "\n",
        "\n",
        "le = LabelEncoder()\n",
        "le.fit(X['RESDPL'].astype(str))\n",
        "X['RESDPL'] = le.transform(X['RESDPL'].astype(str))\n",
        "\n",
        "\n",
        "\n",
        "le = LabelEncoder()\n",
        "le.fit(X['LIVWTH'].astype(str))\n",
        "X['LIVWTH'] = le.transform(X['LIVWTH'].astype(str))\n",
        "\n",
        "\n",
        "\n",
        "le = LabelEncoder()\n",
        "le.fit(X['ENVSAT'].astype(str))\n",
        "X['ENVSAT'] = le.transform(X['ENVSAT'].astype(str))\n",
        "\n",
        "le = LabelEncoder()\n",
        "le.fit(X['POSSAT'].astype(str))\n",
        "X['POSSAT'] = le.transform(X['POSSAT'].astype(str))\n",
        "\n",
        "\n",
        "\n",
        "le = LabelEncoder()\n",
        "le.fit(X['FINSTR'].astype(str))\n",
        "X['FINSTR'] = le.transform(X['FINSTR'].astype(str))\n",
        "\n",
        "le = LabelEncoder()\n",
        "le.fit(X['DEBT'].astype(str))\n",
        "X['DEBT'] = le.transform(X['DEBT'].astype(str))\n",
        "\n",
        "\n",
        "\n",
        "le = LabelEncoder()\n",
        "le.fit(X['PHYEX'].astype(str))\n",
        "X['PHYEX'] = le.transform(X['PHYEX'].astype(str))\n",
        "\n",
        "\n",
        "\n",
        "\n",
        "le = LabelEncoder()\n",
        "le.fit(X['SMOKE'].astype(str))\n",
        "X['SMOKE'] = le.transform(X['SMOKE'].astype(str))\n",
        "\n",
        "\n",
        "\n",
        "le = LabelEncoder()\n",
        "le.fit(X['DRINK'].astype(str))\n",
        "X['DRINK'] = le.transform(X['DRINK'].astype(str))\n",
        "\n",
        "\n",
        "le = LabelEncoder()\n",
        "le.fit(X['ILLNESS'].astype(str))\n",
        "X['ILLNESS'] = le.transform(X['ILLNESS'].astype(str))\n",
        "\n",
        "\n",
        "\n",
        "\n",
        "le = LabelEncoder()\n",
        "le.fit(X['PREMED'].astype(str))\n",
        "X['PREMED'] = le.transform(X['PREMED'].astype(str))\n",
        "\n",
        "\n",
        "\n",
        "le = LabelEncoder()\n",
        "le.fit(X['EATDIS'].astype(str))\n",
        "X['EATDIS'] = le.transform(X['EATDIS'].astype(str))\n",
        "\n",
        "le = LabelEncoder()\n",
        "le.fit(X['AVGSLP'].astype(str))\n",
        "X['AVGSLP'] = le.transform(X['AVGSLP'].astype(str))\n",
        "\n",
        "\n",
        "\n",
        "le = LabelEncoder()\n",
        "le.fit(X['INSOM'].astype(str))\n",
        "X['INSOM'] = le.transform(X['INSOM'].astype(str))\n",
        "\n",
        "\n",
        "\n",
        "\n",
        "le = LabelEncoder()\n",
        "le.fit(X['TSSN'].astype(str))\n",
        "X['TSSN'] = le.transform(X['TSSN'].astype(str))\n",
        "\n",
        "\n",
        "\n",
        "\n",
        "le = LabelEncoder()\n",
        "le.fit(X['WRKPRE'].astype(str))\n",
        "X['WRKPRE'] = le.transform(X['WRKPRE'].astype(str))\n",
        "\n",
        "\n",
        "\n",
        "\n",
        "le = LabelEncoder()\n",
        "le.fit(X['ANXI'].astype(str))\n",
        "X['ANXI'] = le.transform(X['ANXI'].astype(str))\n",
        "\n",
        "\n",
        "\n",
        "\n",
        "le = LabelEncoder()\n",
        "le.fit(X['DEPRI'].astype(str))\n",
        "X['DEPRI'] = le.transform(X['DEPRI'].astype(str))\n",
        "\n",
        "\n",
        "\n",
        "le = LabelEncoder()\n",
        "le.fit(X['ABUSED'].astype(str))\n",
        "X['ABUSED'] = le.transform(X['ABUSED'].astype(str))\n",
        "\n",
        "\n",
        "\n",
        "\n",
        "le = LabelEncoder()\n",
        "le.fit(X['CHEAT'].astype(str))\n",
        "X['CHEAT'] = le.transform(X['CHEAT'].astype(str))\n",
        "\n",
        "\n",
        "\n",
        "le = LabelEncoder()\n",
        "le.fit(X['THREAT'].astype(str))\n",
        "X['THREAT'] = le.transform(X['THREAT'].astype(str))\n",
        "\n",
        "\n",
        "\n",
        "le = LabelEncoder()\n",
        "le.fit(X['SUICIDE'].astype(str))\n",
        "X['SUICIDE'] = le.transform(X['SUICIDE'].astype(str))\n",
        "\n",
        "\n",
        "le = LabelEncoder()\n",
        "le.fit(X['INFER'].astype(str))\n",
        "X['INFER'] = le.transform(X['INFER'].astype(str))\n",
        "\n",
        "\n",
        "le = LabelEncoder()\n",
        "le.fit(X['CONFLICT'].astype(str))\n",
        "X['CONFLICT'] = le.transform(X['CONFLICT'].astype(str))\n",
        "\n",
        "\n",
        "\n",
        "le = LabelEncoder()\n",
        "le.fit(X['LOST'].astype(str))\n",
        "X['LOST'] = le.transform(X['LOST'].astype(str))\n",
        "le = LabelEncoder()\n",
        "\n",
        "le.fit(y['DEPRESSED'].astype(str))\n",
        "y['DEPRESSED'] = le.transform(y['DEPRESSED'].astype(str))\n"
      ]
    },
    {
      "cell_type": "code",
      "source": [
        "X_train,X_test,y_train,y_test=train_test_split(X,y,test_size=0.2,random_state=0)"
      ],
      "metadata": {
        "id": "wt5DNJtUOtlv"
      },
      "execution_count": 4,
      "outputs": []
    },
    {
      "cell_type": "code",
      "source": [
        "!pip install Boruta"
      ],
      "metadata": {
        "colab": {
          "base_uri": "https://localhost:8080/"
        },
        "id": "to5k7e0VJ8CN",
        "outputId": "f2b3f561-d8ce-4cc4-ff2c-6295d368276d"
      },
      "execution_count": 5,
      "outputs": [
        {
          "output_type": "stream",
          "name": "stdout",
          "text": [
            "Looking in indexes: https://pypi.org/simple, https://us-python.pkg.dev/colab-wheels/public/simple/\n",
            "Collecting Boruta\n",
            "  Downloading Boruta-0.3-py3-none-any.whl (56 kB)\n",
            "\u001b[K     |████████████████████████████████| 56 kB 2.8 MB/s \n",
            "\u001b[?25hRequirement already satisfied: scipy>=0.17.0 in /usr/local/lib/python3.7/dist-packages (from Boruta) (1.4.1)\n",
            "Requirement already satisfied: numpy>=1.10.4 in /usr/local/lib/python3.7/dist-packages (from Boruta) (1.21.6)\n",
            "Requirement already satisfied: scikit-learn>=0.17.1 in /usr/local/lib/python3.7/dist-packages (from Boruta) (1.0.2)\n",
            "Requirement already satisfied: threadpoolctl>=2.0.0 in /usr/local/lib/python3.7/dist-packages (from scikit-learn>=0.17.1->Boruta) (3.1.0)\n",
            "Requirement already satisfied: joblib>=0.11 in /usr/local/lib/python3.7/dist-packages (from scikit-learn>=0.17.1->Boruta) (1.1.0)\n",
            "Installing collected packages: Boruta\n",
            "Successfully installed Boruta-0.3\n"
          ]
        }
      ]
    },
    {
      "cell_type": "code",
      "source": [
        "import pandas as pd\n",
        "from sklearn.ensemble import RandomForestClassifier\n",
        "from boruta import BorutaPy\n",
        "\n",
        "# load X and y\n",
        "# NOTE BorutaPy accepts numpy arrays only, hence the .values attribute\n",
        "\n",
        "X=X_train.to_numpy()\n",
        "y=y_train.to_numpy().ravel()\n",
        "\n",
        "print(type(X))\n",
        "print(type(y))\n",
        "# define random forest classifier, with utilising all cores and\n",
        "# sampling in proportion to y labels\n",
        "rf = RandomForestClassifier(n_jobs=-1, class_weight='balanced', max_depth=5)\n",
        "\n",
        "# define Boruta feature selection method\n",
        "feat_selector = BorutaPy(rf, n_estimators='auto', verbose=2, random_state=1)\n",
        "\n",
        "# find all relevant features - 5 features should be selected\n",
        "feat_selector.fit(X, y)\n",
        "\n",
        "# check selected features - first 5 features are selected\n",
        "feat_selector.support_\n",
        "\n",
        "# check ranking of features\n",
        "feat_selector.ranking_\n",
        "\n",
        "# call transform() on X to filter it down to selected features\n",
        "X_filtered = feat_selector.transform(X)"
      ],
      "metadata": {
        "colab": {
          "base_uri": "https://localhost:8080/"
        },
        "id": "nCIBcoMIKDm2",
        "outputId": "510bfc69-48b3-4b06-fa98-53b5a25a1d93"
      },
      "execution_count": 6,
      "outputs": [
        {
          "output_type": "stream",
          "name": "stdout",
          "text": [
            "<class 'numpy.ndarray'>\n",
            "<class 'numpy.ndarray'>\n",
            "Iteration: \t1 / 100\n",
            "Confirmed: \t0\n",
            "Tentative: \t30\n",
            "Rejected: \t0\n",
            "Iteration: \t2 / 100\n",
            "Confirmed: \t0\n",
            "Tentative: \t30\n",
            "Rejected: \t0\n",
            "Iteration: \t3 / 100\n",
            "Confirmed: \t0\n",
            "Tentative: \t30\n",
            "Rejected: \t0\n",
            "Iteration: \t4 / 100\n",
            "Confirmed: \t0\n",
            "Tentative: \t30\n",
            "Rejected: \t0\n",
            "Iteration: \t5 / 100\n",
            "Confirmed: \t0\n",
            "Tentative: \t30\n",
            "Rejected: \t0\n",
            "Iteration: \t6 / 100\n",
            "Confirmed: \t0\n",
            "Tentative: \t30\n",
            "Rejected: \t0\n",
            "Iteration: \t7 / 100\n",
            "Confirmed: \t0\n",
            "Tentative: \t30\n",
            "Rejected: \t0\n",
            "Iteration: \t8 / 100\n",
            "Confirmed: \t20\n",
            "Tentative: \t3\n",
            "Rejected: \t7\n",
            "Iteration: \t9 / 100\n",
            "Confirmed: \t20\n",
            "Tentative: \t3\n",
            "Rejected: \t7\n",
            "Iteration: \t10 / 100\n",
            "Confirmed: \t20\n",
            "Tentative: \t3\n",
            "Rejected: \t7\n",
            "Iteration: \t11 / 100\n",
            "Confirmed: \t20\n",
            "Tentative: \t3\n",
            "Rejected: \t7\n",
            "Iteration: \t12 / 100\n",
            "Confirmed: \t20\n",
            "Tentative: \t3\n",
            "Rejected: \t7\n",
            "Iteration: \t13 / 100\n",
            "Confirmed: \t20\n",
            "Tentative: \t2\n",
            "Rejected: \t8\n",
            "Iteration: \t14 / 100\n",
            "Confirmed: \t20\n",
            "Tentative: \t2\n",
            "Rejected: \t8\n",
            "Iteration: \t15 / 100\n",
            "Confirmed: \t20\n",
            "Tentative: \t2\n",
            "Rejected: \t8\n",
            "Iteration: \t16 / 100\n",
            "Confirmed: \t20\n",
            "Tentative: \t2\n",
            "Rejected: \t8\n",
            "Iteration: \t17 / 100\n",
            "Confirmed: \t20\n",
            "Tentative: \t2\n",
            "Rejected: \t8\n",
            "Iteration: \t18 / 100\n",
            "Confirmed: \t20\n",
            "Tentative: \t2\n",
            "Rejected: \t8\n",
            "Iteration: \t19 / 100\n",
            "Confirmed: \t20\n",
            "Tentative: \t2\n",
            "Rejected: \t8\n",
            "Iteration: \t20 / 100\n",
            "Confirmed: \t20\n",
            "Tentative: \t2\n",
            "Rejected: \t8\n",
            "Iteration: \t21 / 100\n",
            "Confirmed: \t20\n",
            "Tentative: \t2\n",
            "Rejected: \t8\n",
            "Iteration: \t22 / 100\n",
            "Confirmed: \t20\n",
            "Tentative: \t2\n",
            "Rejected: \t8\n",
            "Iteration: \t23 / 100\n",
            "Confirmed: \t20\n",
            "Tentative: \t2\n",
            "Rejected: \t8\n",
            "Iteration: \t24 / 100\n",
            "Confirmed: \t20\n",
            "Tentative: \t2\n",
            "Rejected: \t8\n",
            "Iteration: \t25 / 100\n",
            "Confirmed: \t20\n",
            "Tentative: \t2\n",
            "Rejected: \t8\n",
            "Iteration: \t26 / 100\n",
            "Confirmed: \t20\n",
            "Tentative: \t2\n",
            "Rejected: \t8\n",
            "Iteration: \t27 / 100\n",
            "Confirmed: \t20\n",
            "Tentative: \t2\n",
            "Rejected: \t8\n",
            "Iteration: \t28 / 100\n",
            "Confirmed: \t20\n",
            "Tentative: \t2\n",
            "Rejected: \t8\n",
            "Iteration: \t29 / 100\n",
            "Confirmed: \t20\n",
            "Tentative: \t2\n",
            "Rejected: \t8\n",
            "Iteration: \t30 / 100\n",
            "Confirmed: \t20\n",
            "Tentative: \t2\n",
            "Rejected: \t8\n",
            "Iteration: \t31 / 100\n",
            "Confirmed: \t20\n",
            "Tentative: \t2\n",
            "Rejected: \t8\n",
            "Iteration: \t32 / 100\n",
            "Confirmed: \t20\n",
            "Tentative: \t2\n",
            "Rejected: \t8\n",
            "Iteration: \t33 / 100\n",
            "Confirmed: \t20\n",
            "Tentative: \t2\n",
            "Rejected: \t8\n",
            "Iteration: \t34 / 100\n",
            "Confirmed: \t20\n",
            "Tentative: \t1\n",
            "Rejected: \t9\n",
            "Iteration: \t35 / 100\n",
            "Confirmed: \t20\n",
            "Tentative: \t1\n",
            "Rejected: \t9\n",
            "Iteration: \t36 / 100\n",
            "Confirmed: \t20\n",
            "Tentative: \t1\n",
            "Rejected: \t9\n",
            "Iteration: \t37 / 100\n",
            "Confirmed: \t20\n",
            "Tentative: \t1\n",
            "Rejected: \t9\n",
            "Iteration: \t38 / 100\n",
            "Confirmed: \t20\n",
            "Tentative: \t1\n",
            "Rejected: \t9\n",
            "Iteration: \t39 / 100\n",
            "Confirmed: \t20\n",
            "Tentative: \t1\n",
            "Rejected: \t9\n",
            "Iteration: \t40 / 100\n",
            "Confirmed: \t20\n",
            "Tentative: \t1\n",
            "Rejected: \t9\n",
            "Iteration: \t41 / 100\n",
            "Confirmed: \t20\n",
            "Tentative: \t1\n",
            "Rejected: \t9\n",
            "Iteration: \t42 / 100\n",
            "Confirmed: \t20\n",
            "Tentative: \t1\n",
            "Rejected: \t9\n",
            "Iteration: \t43 / 100\n",
            "Confirmed: \t20\n",
            "Tentative: \t1\n",
            "Rejected: \t9\n",
            "Iteration: \t44 / 100\n",
            "Confirmed: \t20\n",
            "Tentative: \t1\n",
            "Rejected: \t9\n",
            "Iteration: \t45 / 100\n",
            "Confirmed: \t20\n",
            "Tentative: \t1\n",
            "Rejected: \t9\n",
            "Iteration: \t46 / 100\n",
            "Confirmed: \t20\n",
            "Tentative: \t1\n",
            "Rejected: \t9\n",
            "Iteration: \t47 / 100\n",
            "Confirmed: \t20\n",
            "Tentative: \t1\n",
            "Rejected: \t9\n",
            "Iteration: \t48 / 100\n",
            "Confirmed: \t20\n",
            "Tentative: \t1\n",
            "Rejected: \t9\n",
            "Iteration: \t49 / 100\n",
            "Confirmed: \t20\n",
            "Tentative: \t1\n",
            "Rejected: \t9\n",
            "Iteration: \t50 / 100\n",
            "Confirmed: \t20\n",
            "Tentative: \t1\n",
            "Rejected: \t9\n",
            "Iteration: \t51 / 100\n",
            "Confirmed: \t20\n",
            "Tentative: \t1\n",
            "Rejected: \t9\n",
            "Iteration: \t52 / 100\n",
            "Confirmed: \t20\n",
            "Tentative: \t1\n",
            "Rejected: \t9\n",
            "Iteration: \t53 / 100\n",
            "Confirmed: \t20\n",
            "Tentative: \t1\n",
            "Rejected: \t9\n",
            "Iteration: \t54 / 100\n",
            "Confirmed: \t20\n",
            "Tentative: \t1\n",
            "Rejected: \t9\n",
            "Iteration: \t55 / 100\n",
            "Confirmed: \t20\n",
            "Tentative: \t1\n",
            "Rejected: \t9\n",
            "Iteration: \t56 / 100\n",
            "Confirmed: \t20\n",
            "Tentative: \t1\n",
            "Rejected: \t9\n",
            "Iteration: \t57 / 100\n",
            "Confirmed: \t20\n",
            "Tentative: \t1\n",
            "Rejected: \t9\n",
            "Iteration: \t58 / 100\n",
            "Confirmed: \t20\n",
            "Tentative: \t1\n",
            "Rejected: \t9\n",
            "Iteration: \t59 / 100\n",
            "Confirmed: \t20\n",
            "Tentative: \t1\n",
            "Rejected: \t9\n",
            "Iteration: \t60 / 100\n",
            "Confirmed: \t20\n",
            "Tentative: \t1\n",
            "Rejected: \t9\n",
            "Iteration: \t61 / 100\n",
            "Confirmed: \t20\n",
            "Tentative: \t1\n",
            "Rejected: \t9\n",
            "Iteration: \t62 / 100\n",
            "Confirmed: \t20\n",
            "Tentative: \t1\n",
            "Rejected: \t9\n",
            "Iteration: \t63 / 100\n",
            "Confirmed: \t20\n",
            "Tentative: \t1\n",
            "Rejected: \t9\n",
            "Iteration: \t64 / 100\n",
            "Confirmed: \t20\n",
            "Tentative: \t1\n",
            "Rejected: \t9\n",
            "Iteration: \t65 / 100\n",
            "Confirmed: \t20\n",
            "Tentative: \t1\n",
            "Rejected: \t9\n",
            "Iteration: \t66 / 100\n",
            "Confirmed: \t20\n",
            "Tentative: \t1\n",
            "Rejected: \t9\n",
            "Iteration: \t67 / 100\n",
            "Confirmed: \t20\n",
            "Tentative: \t1\n",
            "Rejected: \t9\n",
            "Iteration: \t68 / 100\n",
            "Confirmed: \t20\n",
            "Tentative: \t1\n",
            "Rejected: \t9\n",
            "Iteration: \t69 / 100\n",
            "Confirmed: \t20\n",
            "Tentative: \t1\n",
            "Rejected: \t9\n",
            "Iteration: \t70 / 100\n",
            "Confirmed: \t20\n",
            "Tentative: \t1\n",
            "Rejected: \t9\n",
            "Iteration: \t71 / 100\n",
            "Confirmed: \t20\n",
            "Tentative: \t1\n",
            "Rejected: \t9\n",
            "Iteration: \t72 / 100\n",
            "Confirmed: \t20\n",
            "Tentative: \t1\n",
            "Rejected: \t9\n",
            "Iteration: \t73 / 100\n",
            "Confirmed: \t20\n",
            "Tentative: \t1\n",
            "Rejected: \t9\n",
            "Iteration: \t74 / 100\n",
            "Confirmed: \t20\n",
            "Tentative: \t1\n",
            "Rejected: \t9\n",
            "Iteration: \t75 / 100\n",
            "Confirmed: \t20\n",
            "Tentative: \t1\n",
            "Rejected: \t9\n",
            "Iteration: \t76 / 100\n",
            "Confirmed: \t20\n",
            "Tentative: \t1\n",
            "Rejected: \t9\n",
            "Iteration: \t77 / 100\n",
            "Confirmed: \t20\n",
            "Tentative: \t1\n",
            "Rejected: \t9\n",
            "Iteration: \t78 / 100\n",
            "Confirmed: \t20\n",
            "Tentative: \t1\n",
            "Rejected: \t9\n",
            "Iteration: \t79 / 100\n",
            "Confirmed: \t20\n",
            "Tentative: \t1\n",
            "Rejected: \t9\n",
            "Iteration: \t80 / 100\n",
            "Confirmed: \t20\n",
            "Tentative: \t1\n",
            "Rejected: \t9\n",
            "Iteration: \t81 / 100\n",
            "Confirmed: \t20\n",
            "Tentative: \t1\n",
            "Rejected: \t9\n",
            "Iteration: \t82 / 100\n",
            "Confirmed: \t20\n",
            "Tentative: \t1\n",
            "Rejected: \t9\n",
            "Iteration: \t83 / 100\n",
            "Confirmed: \t20\n",
            "Tentative: \t1\n",
            "Rejected: \t9\n",
            "Iteration: \t84 / 100\n",
            "Confirmed: \t20\n",
            "Tentative: \t1\n",
            "Rejected: \t9\n",
            "Iteration: \t85 / 100\n",
            "Confirmed: \t20\n",
            "Tentative: \t1\n",
            "Rejected: \t9\n",
            "Iteration: \t86 / 100\n",
            "Confirmed: \t20\n",
            "Tentative: \t1\n",
            "Rejected: \t9\n",
            "Iteration: \t87 / 100\n",
            "Confirmed: \t20\n",
            "Tentative: \t1\n",
            "Rejected: \t9\n",
            "Iteration: \t88 / 100\n",
            "Confirmed: \t20\n",
            "Tentative: \t1\n",
            "Rejected: \t9\n",
            "Iteration: \t89 / 100\n",
            "Confirmed: \t20\n",
            "Tentative: \t1\n",
            "Rejected: \t9\n",
            "Iteration: \t90 / 100\n",
            "Confirmed: \t20\n",
            "Tentative: \t1\n",
            "Rejected: \t9\n",
            "Iteration: \t91 / 100\n",
            "Confirmed: \t20\n",
            "Tentative: \t1\n",
            "Rejected: \t9\n",
            "Iteration: \t92 / 100\n",
            "Confirmed: \t20\n",
            "Tentative: \t1\n",
            "Rejected: \t9\n",
            "Iteration: \t93 / 100\n",
            "Confirmed: \t20\n",
            "Tentative: \t1\n",
            "Rejected: \t9\n",
            "Iteration: \t94 / 100\n",
            "Confirmed: \t20\n",
            "Tentative: \t1\n",
            "Rejected: \t9\n",
            "Iteration: \t95 / 100\n",
            "Confirmed: \t20\n",
            "Tentative: \t1\n",
            "Rejected: \t9\n",
            "Iteration: \t96 / 100\n",
            "Confirmed: \t20\n",
            "Tentative: \t1\n",
            "Rejected: \t9\n",
            "Iteration: \t97 / 100\n",
            "Confirmed: \t20\n",
            "Tentative: \t1\n",
            "Rejected: \t9\n",
            "Iteration: \t98 / 100\n",
            "Confirmed: \t20\n",
            "Tentative: \t1\n",
            "Rejected: \t9\n",
            "Iteration: \t99 / 100\n",
            "Confirmed: \t20\n",
            "Tentative: \t1\n",
            "Rejected: \t9\n",
            "\n",
            "\n",
            "BorutaPy finished running.\n",
            "\n",
            "Iteration: \t100 / 100\n",
            "Confirmed: \t20\n",
            "Tentative: \t1\n",
            "Rejected: \t9\n"
          ]
        }
      ]
    },
    {
      "cell_type": "code",
      "source": [
        "print(feat_selector.support_)\n",
        "print(feat_selector.ranking_)"
      ],
      "metadata": {
        "colab": {
          "base_uri": "https://localhost:8080/"
        },
        "id": "A4JDaiePN6WW",
        "outputId": "c19b1e5b-bf40-4abb-9973-63614c12f49e"
      },
      "execution_count": 7,
      "outputs": [
        {
          "output_type": "stream",
          "name": "stdout",
          "text": [
            "[ True False False  True False False  True  True  True  True False False\n",
            " False False False False  True  True  True  True  True  True  True  True\n",
            "  True  True  True  True  True  True]\n",
            "[ 1  7  4  1  8  5  1  1  1  1  2  3  6  9  9 11  1  1  1  1  1  1  1  1\n",
            "  1  1  1  1  1  1]\n"
          ]
        }
      ]
    },
    {
      "cell_type": "code",
      "source": [
        "\n",
        "X_trainSelectedFeature=pd.DataFrame()\n",
        "\n",
        "X_trainSelectedFeature['AGERNG']=X_train['AGERNG']\n",
        "X_trainSelectedFeature['PROF']=X_train['PROF']\n",
        "X_trainSelectedFeature['LIVWTH']=X_train['LIVWTH']\n",
        "X_trainSelectedFeature['ENVSAT']=X_train['ENVSAT']\n",
        "X_trainSelectedFeature['POSSAT']=X_train['POSSAT']\n",
        "X_trainSelectedFeature['FINSTR']=X_train['FINSTR']\n",
        "\n",
        "\n",
        "X_trainSelectedFeature['WRKPRE']=X_train['WRKPRE']\n",
        "X_trainSelectedFeature['ABUSED']=X_train['ABUSED']\n",
        "X_trainSelectedFeature['CHEAT']=X_train['CHEAT']\n",
        "X_trainSelectedFeature['THREAT']=X_train['THREAT']\n",
        "X_trainSelectedFeature['INFER']=X_train['INFER']\n",
        "X_trainSelectedFeature['ANXI']=X_train['ANXI']\n",
        "X_trainSelectedFeature['DEPRI']=X_train['DEPRI']\n",
        "X_trainSelectedFeature['SUICIDE']=X_train['SUICIDE']\n",
        "X_trainSelectedFeature['CONFLICT']=X_train['CONFLICT']\n",
        "X_trainSelectedFeature['EATDIS']=X_train['EATDIS']\n",
        "X_trainSelectedFeature['AVGSLP']=X_train['AVGSLP']\n",
        "X_trainSelectedFeature['INSOM']=X_train['INSOM']\n",
        "X_trainSelectedFeature['TSSN']=X_train['TSSN']\n",
        "X_trainSelectedFeature['LOST']=X_train['LOST']\n",
        "\n",
        "\n",
        "\n",
        "\n",
        "\n"
      ],
      "metadata": {
        "id": "SjWaio2cKYZR"
      },
      "execution_count": 10,
      "outputs": []
    },
    {
      "cell_type": "code",
      "source": [
        "X_testSelectedFeature=pd.DataFrame()\n",
        "\n",
        "X_testSelectedFeature['AGERNG']=X_test['AGERNG']\n",
        "X_testSelectedFeature['PROF']=X_test['PROF']\n",
        "X_testSelectedFeature['LIVWTH']=X_test['LIVWTH']\n",
        "X_testSelectedFeature['ENVSAT']=X_test['ENVSAT']\n",
        "X_testSelectedFeature['POSSAT']=X_test['POSSAT']\n",
        "X_testSelectedFeature['FINSTR']=X_test['FINSTR']\n",
        "\n",
        "\n",
        "X_testSelectedFeature['WRKPRE']=X_test['WRKPRE']\n",
        "X_testSelectedFeature['ABUSED']=X_test['ABUSED']\n",
        "X_testSelectedFeature['CHEAT']=X_test['CHEAT']\n",
        "X_testSelectedFeature['THREAT']=X_test['THREAT']\n",
        "X_testSelectedFeature['INFER']=X_test['INFER']\n",
        "X_testSelectedFeature['ANXI']=X_test['ANXI']\n",
        "X_testSelectedFeature['DEPRI']=X_test['DEPRI']\n",
        "X_testSelectedFeature['SUICIDE']=X_test['SUICIDE']\n",
        "X_testSelectedFeature['CONFLICT']=X_test['CONFLICT']\n",
        "X_testSelectedFeature['EATDIS']=X_test['EATDIS']\n",
        "X_testSelectedFeature['AVGSLP']=X_test['AVGSLP']\n",
        "X_testSelectedFeature['INSOM']=X_test['INSOM']\n",
        "X_testSelectedFeature['TSSN']=X_test['TSSN']\n",
        "X_testSelectedFeature['LOST']=X_test['LOST']\n",
        "\n",
        "\n",
        "\n"
      ],
      "metadata": {
        "id": "R4oo7VVEKiPR"
      },
      "execution_count": 11,
      "outputs": []
    },
    {
      "cell_type": "code",
      "source": [
        "X_trainSelectedFeature.shape"
      ],
      "metadata": {
        "colab": {
          "base_uri": "https://localhost:8080/"
        },
        "id": "h3Kv1P1kOVN4",
        "outputId": "9d8dc2bf-6cb7-47ea-afb3-68032900d1eb"
      },
      "execution_count": 12,
      "outputs": [
        {
          "output_type": "execute_result",
          "data": {
            "text/plain": [
              "(1411, 20)"
            ]
          },
          "metadata": {},
          "execution_count": 12
        }
      ]
    },
    {
      "cell_type": "code",
      "source": [
        "X_testSelectedFeature.shape"
      ],
      "metadata": {
        "colab": {
          "base_uri": "https://localhost:8080/"
        },
        "id": "-zE351nNOdnz",
        "outputId": "15b0ba3d-31b3-48f0-c793-5203edde6224"
      },
      "execution_count": 13,
      "outputs": [
        {
          "output_type": "execute_result",
          "data": {
            "text/plain": [
              "(353, 20)"
            ]
          },
          "metadata": {},
          "execution_count": 13
        }
      ]
    },
    {
      "cell_type": "code",
      "source": [
        "from imblearn.over_sampling import SMOTE\n",
        "smote=SMOTE('minority',random_state=0)\n",
        "X_trainSelectedFeatureAfterSMOTE,y_train=smote.fit_resample(X_trainSelectedFeature, y_train)"
      ],
      "metadata": {
        "id": "cO8N3U6YKnox"
      },
      "execution_count": 14,
      "outputs": []
    },
    {
      "cell_type": "code",
      "source": [
        "from sklearn.neighbors import KNeighborsClassifier\n",
        "import time\n",
        "KNNClassification = KNeighborsClassifier(n_neighbors=7)\n",
        "KNNClassification.fit(X_trainSelectedFeatureAfterSMOTE,y_train)\n",
        "y_predict=KNNClassification.predict(X_testSelectedFeature)\n",
        "from sklearn.metrics import classification_report,confusion_matrix\n",
        "cm1=confusion_matrix(y_test,y_predict)\n",
        "import seaborn as sns\n",
        "sns.heatmap(cm1,annot=True)\n",
        "print(classification_report(y_test,y_predict))\n",
        "\n",
        "\n",
        "\n"
      ],
      "metadata": {
        "colab": {
          "base_uri": "https://localhost:8080/",
          "height": 422
        },
        "id": "FzxNUadXKrjT",
        "outputId": "bd9a848f-dc25-4e18-9547-1460fb1e0f77"
      },
      "execution_count": 15,
      "outputs": [
        {
          "output_type": "stream",
          "name": "stdout",
          "text": [
            "              precision    recall  f1-score   support\n",
            "\n",
            "           0       0.65      0.90      0.76       142\n",
            "           1       0.91      0.67      0.77       211\n",
            "\n",
            "    accuracy                           0.76       353\n",
            "   macro avg       0.78      0.79      0.76       353\n",
            "weighted avg       0.81      0.76      0.77       353\n",
            "\n"
          ]
        },
        {
          "output_type": "display_data",
          "data": {
            "text/plain": [
              "<Figure size 432x288 with 2 Axes>"
            ],
            "image/png": "[encoded data removed]"
          },
          "metadata": {
            "needs_background": "light"
          }
        }
      ]
    },
    {
      "cell_type": "code",
      "source": [
        "y_predictionKNN_proba=KNNClassification.predict_proba(X_testSelectedFeature)[:,1]\n",
        "AUCKNN=metrics.roc_auc_score(y_test,y_predictionKNN_proba)\n",
        "print(\"AUC KNN: \",AUCKNN)\n",
        "fprKNN, tprKNN, thresholds = metrics.roc_curve(y_test,y_predictionKNN_proba)\n",
        "\n",
        "plt.plot(fprKNN,tprKNN,label=\"KNN ( area = \"+str(AUCKNN)+\" )\")\n",
        "plt.xlabel('False Positive Rate')\n",
        "plt.ylabel('True Positive Rate')\n",
        "plt.legend(loc=4)\n",
        "plt.show()\n"
      ],
      "metadata": {
        "colab": {
          "base_uri": "https://localhost:8080/",
          "height": 296
        },
        "id": "mlUvvM8jBKOL",
        "outputId": "7291fa9f-7ad4-4e6d-d78a-b1c433844bbb"
      },
      "execution_count": 16,
      "outputs": [
        {
          "output_type": "stream",
          "name": "stdout",
          "text": [
            "AUC KNN:  0.8885755290034043\n"
          ]
        },
        {
          "output_type": "display_data",
          "data": {
            "text/plain": [
              "<Figure size 432x288 with 1 Axes>"
            ],
            "image/png": "[encoded data removed]"
          },
          "metadata": {
            "needs_background": "light"
          }
        }
      ]
    },
    {
      "cell_type": "code",
      "source": [
        "prediction=KNNClassification.predict(X_testSelectedFeature)\n",
        "print('Accuracy = ', metrics.accuracy_score(y_test, prediction)*100)"
      ],
      "metadata": {
        "colab": {
          "base_uri": "https://localhost:8080/"
        },
        "id": "flSHNcp2B47y",
        "outputId": "9272cf66-4dd4-4135-efe0-50addc2c8b9f"
      },
      "execution_count": 17,
      "outputs": [
        {
          "output_type": "stream",
          "name": "stdout",
          "text": [
            "Accuracy =  76.48725212464589\n"
          ]
        }
      ]
    },
    {
      "cell_type": "code",
      "source": [
        "from sklearn.ensemble import AdaBoostClassifier\n",
        "ADABoostClassification=AdaBoostClassifier()\n",
        "ADABoostClassification.fit(X_trainSelectedFeatureAfterSMOTE,y_train)\n",
        "y_predictionADABoost=ADABoostClassification.predict(X_testSelectedFeature)"
      ],
      "metadata": {
        "id": "CiwsNTOVKxsT"
      },
      "execution_count": 18,
      "outputs": []
    },
    {
      "cell_type": "code",
      "source": [
        "from sklearn.metrics import classification_report,confusion_matrix\n",
        "y_predict_test=ADABoostClassification.predict(X_testSelectedFeature)\n",
        "cm1=confusion_matrix(y_test,y_predict_test)\n",
        "import seaborn as sns\n",
        "sns.heatmap(cm1,annot=True)\n",
        "print(classification_report(y_test,y_predict_test))"
      ],
      "metadata": {
        "colab": {
          "base_uri": "https://localhost:8080/",
          "height": 424
        },
        "id": "K7jkIPUPLIg4",
        "outputId": "e97d4ccb-71c1-4671-ad61-aa7f85807865"
      },
      "execution_count": 19,
      "outputs": [
        {
          "output_type": "stream",
          "name": "stdout",
          "text": [
            "              precision    recall  f1-score   support\n",
            "\n",
            "           0       0.80      0.83      0.81       142\n",
            "           1       0.88      0.86      0.87       211\n",
            "\n",
            "    accuracy                           0.85       353\n",
            "   macro avg       0.84      0.84      0.84       353\n",
            "weighted avg       0.85      0.85      0.85       353\n",
            "\n"
          ]
        },
        {
          "output_type": "display_data",
          "data": {
            "text/plain": [
              "<Figure size 432x288 with 2 Axes>"
            ],
            "image/png": "[encoded data removed]"
          },
          "metadata": {
            "needs_background": "light"
          }
        }
      ]
    },
    {
      "cell_type": "code",
      "source": [
        "y_predictionKNN_proba=ADABoostClassification.predict_proba(X_testSelectedFeature)[:,1]\n",
        "AUCKNN=metrics.roc_auc_score(y_test,y_predictionKNN_proba)\n",
        "print(\"AUC KNN: \",AUCKNN)\n",
        "fprAda, tprAda, thresholds = metrics.roc_curve(y_test,y_predictionKNN_proba)\n",
        "\n",
        "plt.plot(fprAda,tprAda,label=\"KNN ( area = \"+str(AUCKNN)+\" )\")\n",
        "plt.xlabel('False Positive Rate')\n",
        "plt.ylabel('True Positive Rate')\n",
        "plt.legend(loc=4)\n",
        "plt.show()\n"
      ],
      "metadata": {
        "colab": {
          "base_uri": "https://localhost:8080/",
          "height": 296
        },
        "id": "DYE9FzaQKJdO",
        "outputId": "d09ec34c-d9a6-4567-c817-471b45141573"
      },
      "execution_count": 20,
      "outputs": [
        {
          "output_type": "stream",
          "name": "stdout",
          "text": [
            "AUC KNN:  0.9280755623790136\n"
          ]
        },
        {
          "output_type": "display_data",
          "data": {
            "text/plain": [
              "<Figure size 432x288 with 1 Axes>"
            ],
            "image/png": "[encoded data removed]"
          },
          "metadata": {
            "needs_background": "light"
          }
        }
      ]
    },
    {
      "cell_type": "code",
      "source": [
        "prediction=ADABoostClassification.predict(X_testSelectedFeature)\n",
        "print('Accuracy = ', metrics.accuracy_score(y_test, prediction)*100)"
      ],
      "metadata": {
        "colab": {
          "base_uri": "https://localhost:8080/"
        },
        "id": "7B5oJdVxB23l",
        "outputId": "67132b8f-ebd2-4633-e977-b7094ee8109d"
      },
      "execution_count": 21,
      "outputs": [
        {
          "output_type": "stream",
          "name": "stdout",
          "text": [
            "Accuracy =  84.70254957507082\n"
          ]
        }
      ]
    },
    {
      "cell_type": "code",
      "source": [
        "from sklearn.ensemble import GradientBoostingClassifier\n",
        "GradeintBoostClassification = GradientBoostingClassifier(loss='deviance',max_features=1,random_state=0,max_leaf_nodes=None)\n",
        "GradeintBoostClassification.fit(X_trainSelectedFeatureAfterSMOTE,y_train)\n",
        "y_predict=GradeintBoostClassification.predict(X_testSelectedFeature)\n",
        "\n",
        "cm1=confusion_matrix(y_test,y_predict)\n",
        "import seaborn as sns\n",
        "sns.heatmap(cm1,annot=True)\n",
        "print(classification_report(y_test,y_predict))"
      ],
      "metadata": {
        "colab": {
          "base_uri": "https://localhost:8080/",
          "height": 423
        },
        "id": "WElr9MUtMLZu",
        "outputId": "3f66a39f-d753-4c1a-c771-04de97bf0fa4"
      },
      "execution_count": 22,
      "outputs": [
        {
          "output_type": "stream",
          "name": "stdout",
          "text": [
            "              precision    recall  f1-score   support\n",
            "\n",
            "           0       0.81      0.89      0.85       142\n",
            "           1       0.92      0.86      0.89       211\n",
            "\n",
            "    accuracy                           0.87       353\n",
            "   macro avg       0.87      0.87      0.87       353\n",
            "weighted avg       0.88      0.87      0.87       353\n",
            "\n"
          ]
        },
        {
          "output_type": "display_data",
          "data": {
            "text/plain": [
              "<Figure size 432x288 with 2 Axes>"
            ],
            "image/png": "[encoded data removed]"
          },
          "metadata": {
            "needs_background": "light"
          }
        }
      ]
    },
    {
      "cell_type": "code",
      "source": [
        "y_predictionKNN_proba=GradeintBoostClassification.predict_proba(X_testSelectedFeature)[:,1]\n",
        "AUCKNN=metrics.roc_auc_score(y_test,y_predictionKNN_proba)\n",
        "print(\"AUC KNN: \",AUCKNN)\n",
        "fprGradientBoost, tprGradientBoost, thresholds = metrics.roc_curve(y_test,y_predictionKNN_proba)\n",
        "\n",
        "plt.plot(fprGradientBoost,tprGradientBoost,label=\"KNN ( area = \"+str(AUCKNN)+\" )\")\n",
        "plt.xlabel('False Positive Rate')\n",
        "plt.ylabel('True Positive Rate')\n",
        "plt.legend(loc=4)\n",
        "plt.show()\n"
      ],
      "metadata": {
        "colab": {
          "base_uri": "https://localhost:8080/",
          "height": 296
        },
        "id": "J4GKLQGeMnG6",
        "outputId": "b0bb6219-4ee6-4da4-b362-6e6535f76619"
      },
      "execution_count": 23,
      "outputs": [
        {
          "output_type": "stream",
          "name": "stdout",
          "text": [
            "AUC KNN:  0.934767372004539\n"
          ]
        },
        {
          "output_type": "display_data",
          "data": {
            "text/plain": [
              "<Figure size 432x288 with 1 Axes>"
            ],
            "image/png": "[encoded data removed]"
          },
          "metadata": {
            "needs_background": "light"
          }
        }
      ]
    },
    {
      "cell_type": "code",
      "source": [
        "prediction=GradeintBoostClassification.predict(X_testSelectedFeature)\n",
        "print('Accuracy = ', metrics.accuracy_score(y_test, prediction)*100)"
      ],
      "metadata": {
        "colab": {
          "base_uri": "https://localhost:8080/"
        },
        "id": "rgYfy4kFB0lN",
        "outputId": "fb5bbbbf-e694-43b8-b596-58a3a4710924"
      },
      "execution_count": 24,
      "outputs": [
        {
          "output_type": "stream",
          "name": "stdout",
          "text": [
            "Accuracy =  87.25212464589235\n"
          ]
        }
      ]
    },
    {
      "cell_type": "code",
      "execution_count": 25,
      "metadata": {
        "colab": {
          "base_uri": "https://localhost:8080/",
          "height": 421
        },
        "id": "bf4MO-Z18aP_",
        "outputId": "2d595d69-d4a5-43f6-d128-bba0f6656a4e"
      },
      "outputs": [
        {
          "output_type": "stream",
          "name": "stdout",
          "text": [
            "              precision    recall  f1-score   support\n",
            "\n",
            "           0       0.83      0.89      0.86       142\n",
            "           1       0.92      0.88      0.90       211\n",
            "\n",
            "    accuracy                           0.88       353\n",
            "   macro avg       0.87      0.88      0.88       353\n",
            "weighted avg       0.88      0.88      0.88       353\n",
            "\n"
          ]
        },
        {
          "output_type": "display_data",
          "data": {
            "text/plain": [
              "<Figure size 432x288 with 2 Axes>"
            ],
            "image/png": "[encoded data removed]"
          },
          "metadata": {
            "needs_background": "light"
          }
        }
      ],
      "source": [
        "import xgboost as xgb\n",
        "XGBoostClassification=xgb.XGBClassifier()\n",
        "XGBoostClassification.fit(X_trainSelectedFeatureAfterSMOTE,y_train)\n",
        "\n",
        "\n",
        "y_predictionXgBoost=XGBoostClassification.predict(X_testSelectedFeature)\n",
        "from sklearn.metrics import classification_report,confusion_matrix\n",
        "cm1=confusion_matrix(y_test,y_predictionXgBoost)\n",
        "sns.heatmap(cm1,annot=True)\n",
        "print(classification_report(y_test,y_predictionXgBoost))\n"
      ]
    },
    {
      "cell_type": "code",
      "source": [
        "y_predictionXgB_proba=XGBoostClassification.predict_proba(X_testSelectedFeature)[:,1]\n",
        "AUCXgB=metrics.roc_auc_score(y_test,y_predictionXgB_proba)\n",
        "print(\"AUC Voting: \",AUCXgB)\n",
        "\n",
        "fprXgB, tprXgB, thresholds = metrics.roc_curve(y_test,y_predictionXgB_proba)\n",
        "\n",
        "plt.plot(fprXgB,tprXgB,label=\"XgBoost ( area = \"+str(AUCXgB)+\" )\")\n",
        "plt.xlabel('False Positive Rate')\n",
        "plt.ylabel('True Positive Rate')\n",
        "plt.legend(loc=4)\n",
        "plt.show()\n"
      ],
      "metadata": {
        "id": "JIt7NkEeQEr3",
        "colab": {
          "base_uri": "https://localhost:8080/",
          "height": 296
        },
        "outputId": "532aa2e7-50fd-4a6d-8d63-66fea699c067"
      },
      "execution_count": 26,
      "outputs": [
        {
          "output_type": "stream",
          "name": "stdout",
          "text": [
            "AUC Voting:  0.9403077231159469\n"
          ]
        },
        {
          "output_type": "display_data",
          "data": {
            "text/plain": [
              "<Figure size 432x288 with 1 Axes>"
            ],
            "image/png": "[encoded data removed]"
          },
          "metadata": {
            "needs_background": "light"
          }
        }
      ]
    },
    {
      "cell_type": "code",
      "source": [
        "prediction=XGBoostClassification.predict(X_testSelectedFeature)\n",
        "print('Accuracy = ', metrics.accuracy_score(y_test, prediction)*100)"
      ],
      "metadata": {
        "colab": {
          "base_uri": "https://localhost:8080/"
        },
        "id": "4XyTdePDBw5n",
        "outputId": "ab8cbb6f-0fbf-48f9-9a7b-c8f60fe0a575"
      },
      "execution_count": 27,
      "outputs": [
        {
          "output_type": "stream",
          "name": "stdout",
          "text": [
            "Accuracy =  88.10198300283287\n"
          ]
        }
      ]
    },
    {
      "cell_type": "code",
      "source": [
        "from sklearn.ensemble import BaggingClassifier\n",
        "from sklearn.neural_network import MLPClassifier\n",
        "\n",
        "base_cls = MLPClassifier(random_state=0)\n",
        "\n",
        "# no. of base classifier\n",
        "num_trees = 30\n",
        "seed = 15\n",
        "# bagging classifier\n",
        "bagClassificationMLP = BaggingClassifier(base_estimator=base_cls, n_estimators=num_trees, random_state=0)\n"
      ],
      "metadata": {
        "id": "xnuGiYFzQZNn"
      },
      "execution_count": 28,
      "outputs": []
    },
    {
      "cell_type": "code",
      "source": [
        "bagClassificationMLP.fit(X_trainSelectedFeatureAfterSMOTE, y_train)\n",
        "y_predictionBagMLP = bagClassificationMLP.predict(X_testSelectedFeature)"
      ],
      "metadata": {
        "id": "10Iu8y54Qlh4"
      },
      "execution_count": 29,
      "outputs": []
    },
    {
      "cell_type": "code",
      "source": [
        "cm1=confusion_matrix(y_test,y_predictionBagMLP)\n",
        "import seaborn as sns\n",
        "sns.heatmap(cm1,annot=True)\n",
        "print(classification_report(y_test,y_predict))"
      ],
      "metadata": {
        "colab": {
          "base_uri": "https://localhost:8080/",
          "height": 421
        },
        "id": "6U2bAMVxQxHj",
        "outputId": "5dae690e-98e4-468f-d772-90bcc76d68c1"
      },
      "execution_count": 30,
      "outputs": [
        {
          "output_type": "stream",
          "name": "stdout",
          "text": [
            "              precision    recall  f1-score   support\n",
            "\n",
            "           0       0.81      0.89      0.85       142\n",
            "           1       0.92      0.86      0.89       211\n",
            "\n",
            "    accuracy                           0.87       353\n",
            "   macro avg       0.87      0.87      0.87       353\n",
            "weighted avg       0.88      0.87      0.87       353\n",
            "\n"
          ]
        },
        {
          "output_type": "display_data",
          "data": {
            "text/plain": [
              "<Figure size 432x288 with 2 Axes>"
            ],
            "image/png": "[encoded data removed]"
          },
          "metadata": {
            "needs_background": "light"
          }
        }
      ]
    },
    {
      "cell_type": "code",
      "source": [
        "y_predictionBagMLP_proba=bagClassificationMLP.predict_proba(X_testSelectedFeature)[:,1]\n",
        "AUCBAGMLP=metrics.roc_auc_score(y_test,y_predictionBagMLP_proba)\n",
        "print(\"AUC Bagging with MLP: \",AUCBAGMLP)\n",
        "\n",
        "\n",
        "fprBagMLP, tprBagMLP, thresholds = metrics.roc_curve(y_test,y_predictionBagMLP_proba)\n",
        "\n",
        "plt.plot(fprBagMLP,tprBagMLP,label=\"Bagging with MLP ( area = \"+str(AUCBAGMLP)+\" )\")\n",
        "plt.xlabel('False Positive Rate')\n",
        "plt.ylabel('True Positive Rate')\n",
        "plt.legend(loc=4)\n",
        "plt.show()"
      ],
      "metadata": {
        "colab": {
          "base_uri": "https://localhost:8080/",
          "height": 296
        },
        "id": "ed3xfmrnRAbP",
        "outputId": "c06e578e-c737-4cae-a0c2-4cabc8b2cbaf"
      },
      "execution_count": 31,
      "outputs": [
        {
          "output_type": "stream",
          "name": "stdout",
          "text": [
            "AUC Bagging with MLP:  0.9470996595687871\n"
          ]
        },
        {
          "output_type": "display_data",
          "data": {
            "text/plain": [
              "<Figure size 432x288 with 1 Axes>"
            ],
            "image/png": "[encoded data removed]"
          },
          "metadata": {
            "needs_background": "light"
          }
        }
      ]
    },
    {
      "cell_type": "code",
      "source": [
        "prediction=bagClassificationMLP.predict(X_testSelectedFeature)\n",
        "print('Accuracy = ', metrics.accuracy_score(y_test, prediction)*100)"
      ],
      "metadata": {
        "colab": {
          "base_uri": "https://localhost:8080/"
        },
        "id": "6hpJ18-qBudy",
        "outputId": "69128f7f-801f-495d-ca9a-95accf3e8a83"
      },
      "execution_count": 32,
      "outputs": [
        {
          "output_type": "stream",
          "name": "stdout",
          "text": [
            "Accuracy =  89.23512747875354\n"
          ]
        }
      ]
    },
    {
      "cell_type": "code",
      "source": [
        "plt.figure()\n",
        "\n",
        "#plt.plot(fprRBF,tprRBF,label=\"SVM (AUC: 0.95)\")\n",
        "plt.plot(fprKNN,tprKNN,label=\"KNN (AUC: 0.78)\")\n",
        "#plt.plot(fprDT,tprDT,label=\"DT (AUC: 0.86)\")\n",
        "#plt.plot(fprRF,tprRF,label=\"RF (AUC: 0.90)\")\n",
        "plt.plot(fprAda,tprAda,label=\"AdaBoost (AUC: 0.79)\")\n",
        "#plt.plot(fprMLP,tprMLP,label=\"MLP (AUC: 0.96)\")\n",
        "plt.plot(fprGradientBoost,tprGradientBoost,label=\"GB (AUC: 0.88)\")\n",
        "plt.plot(fprXgB,tprXgB,label=\"XGBoost (AUC: 0.81)\")\n",
        "plt.plot(fprBagMLP,tprBagMLP,label=\"Bagging (AUC: 0.81)\")\n",
        "\n",
        "\n",
        "plt.plot([0, 1], [0, 1], color='navy', linestyle='--')\n",
        "plt.xlabel('False Positive Rate')\n",
        "plt.ylabel('True Positive Rate')\n",
        "plt.legend(loc=4)\n",
        "plt.savefig('Without feature selection-SMOTE-ROCNew.png',dpi=1000)\n",
        "plt.show()"
      ],
      "metadata": {
        "colab": {
          "base_uri": "https://localhost:8080/",
          "height": 279
        },
        "id": "jsUPW7XMG9r1",
        "outputId": "157380c0-9f13-4cdb-d9d6-cb6a53c762ff"
      },
      "execution_count": 33,
      "outputs": [
        {
          "output_type": "display_data",
          "data": {
            "text/plain": [
              "<Figure size 432x288 with 1 Axes>"
            ],
            "image/png": "[encoded data removed]"
          },
          "metadata": {
            "needs_background": "light"
          }
        }
      ]
    },
    {
      "cell_type": "code",
      "source": [
        "# Import Library\n",
        "import numpy as np \n",
        "import matplotlib.pyplot as plt \n",
        "\n",
        "# Define Data\n",
        "data3 = ['Boruta']\n",
        "xvals = [72]\n",
        "yvals = [74]\n",
        "zvals = [73.33]\n",
        "avals = [73.33]\n",
        "bvals = [76.0]\n",
        "\n",
        "x_axis = np.arange(len(data3))\n",
        "\n",
        "# Multi bar Chart\n",
        "plt.bar(x_axis +0.1, xvals, width=0.07, label = 'KNN')\n",
        "plt.bar(x_axis +0.1*2, yvals, width=0.07, label = 'AdaBoost')\n",
        "plt.bar(x_axis +0.1*3, zvals, width=0.07, label = 'GradientBoost')\n",
        "plt.bar(x_axis +0.1*4, avals, width=0.07, label = 'XGBoost')\n",
        "plt.bar(x_axis +0.1*5, bvals, width=0.07, label = 'Bagging')\n",
        "\n",
        "# Xticks\n",
        "plt.xticks(x_axis,data3)\n",
        "plt.ylabel(\"Accuracy (%)\")\n",
        "plt.xlabel(\"Experiments on classification \")\n",
        "plt.title(\"Comparitive analysis using Boruta\")\n",
        "plt.legend()\n",
        "plt.show()"
      ],
      "metadata": {
        "id": "zptjWHbG3o2B",
        "outputId": "05df8ca6-65c3-475a-9434-b5c570dfdeae",
        "colab": {
          "base_uri": "https://localhost:8080/",
          "height": 278
        }
      },
      "execution_count": 34,
      "outputs": [
        {
          "output_type": "display_data",
          "data": {
            "text/plain": [
              "<Figure size 432x288 with 1 Axes>"
            ],
            "image/png": "[encoded data removed]"
          },
          "metadata": {
            "needs_background": "light"
          }
        }
      ]
    },
    {
      "cell_type": "code",
      "source": [
        "X_train = X_trainSelectedFeatureAfterSMOTE.to_numpy()\n",
        "y_train = y_train.to_numpy().squeeze()\n",
        "X_test  = X_testSelectedFeature.to_numpy()"
      ],
      "metadata": {
        "id": "0n3ZzcGw0puI"
      },
      "execution_count": 35,
      "outputs": []
    },
    {
      "cell_type": "code",
      "source": [
        "!pip install pytorch-tabnet\n",
        "import numpy  as np\n",
        "import pandas as pd\n",
        "from pytorch_tabnet.tab_model import TabNetClassifier\n",
        "\n",
        "classifier = TabNetClassifier(verbose=0,seed=42)\n",
        "classifier.fit(X_train=X_train, y_train=y_train,\n",
        "               patience=2,max_epochs=500,\n",
        "               eval_metric=['auc'])\n"
      ],
      "metadata": {
        "id": "weTR-SqE0s_V",
        "outputId": "643b0abd-ec22-4e4b-e88b-8b2f96b13ecd",
        "colab": {
          "base_uri": "https://localhost:8080/"
        }
      },
      "execution_count": 36,
      "outputs": [
        {
          "output_type": "stream",
          "name": "stdout",
          "text": [
            "Looking in indexes: https://pypi.org/simple, https://us-python.pkg.dev/colab-wheels/public/simple/\n",
            "Collecting pytorch-tabnet\n",
            "  Downloading pytorch_tabnet-3.1.1-py3-none-any.whl (39 kB)\n",
            "Requirement already satisfied: scipy>1.4 in /usr/local/lib/python3.7/dist-packages (from pytorch-tabnet) (1.4.1)\n",
            "Requirement already satisfied: tqdm<5.0,>=4.36 in /usr/local/lib/python3.7/dist-packages (from pytorch-tabnet) (4.64.0)\n",
            "Requirement already satisfied: scikit_learn>0.21 in /usr/local/lib/python3.7/dist-packages (from pytorch-tabnet) (1.0.2)\n",
            "Requirement already satisfied: numpy<2.0,>=1.17 in /usr/local/lib/python3.7/dist-packages (from pytorch-tabnet) (1.21.6)\n",
            "Requirement already satisfied: torch<2.0,>=1.2 in /usr/local/lib/python3.7/dist-packages (from pytorch-tabnet) (1.11.0+cu113)\n",
            "Requirement already satisfied: joblib>=0.11 in /usr/local/lib/python3.7/dist-packages (from scikit_learn>0.21->pytorch-tabnet) (1.1.0)\n",
            "Requirement already satisfied: threadpoolctl>=2.0.0 in /usr/local/lib/python3.7/dist-packages (from scikit_learn>0.21->pytorch-tabnet) (3.1.0)\n",
            "Requirement already satisfied: typing-extensions in /usr/local/lib/python3.7/dist-packages (from torch<2.0,>=1.2->pytorch-tabnet) (4.2.0)\n",
            "Installing collected packages: pytorch-tabnet\n",
            "Successfully installed pytorch-tabnet-3.1.1\n",
            "No early stopping will be performed, last training weights will be used.\n"
          ]
        }
      ]
    },
    {
      "cell_type": "code",
      "source": [
        "prediction=classifier.predict(X_test)\n",
        "print('Accuracy = ', metrics.accuracy_score(y_test, prediction)*100)"
      ],
      "metadata": {
        "id": "I6RiDC2sBcVA",
        "outputId": "bbf88f7f-ec26-4c9f-b8ea-4fa30a7eb7de",
        "colab": {
          "base_uri": "https://localhost:8080/"
        }
      },
      "execution_count": 37,
      "outputs": [
        {
          "output_type": "stream",
          "name": "stdout",
          "text": [
            "Accuracy =  91.78470254957507\n"
          ]
        }
      ]
    }
  ]
}