{
  "cells": [
    {
      "cell_type": "markdown",
      "metadata": {
        "id": "view-in-github",
        "colab_type": "text"
      },
      "source": [
        "<a href=\"https://colab.research.google.com/github/Thasneem-vazim/Final-dataset-depression-detection/blob/main/Final_dataset_Without_using_feature_selection.ipynb\" target=\"_parent\"><img src=\"https://colab.research.google.com/assets/colab-badge.svg\" alt=\"Open In Colab\"/></a>"
      ]
    },
    {
      "cell_type": "code",
      "execution_count": 73,
      "metadata": {
        "id": "KhcUHlUl8Uyx"
      },
      "outputs": [],
      "source": [
        "import numpy as np\n",
        "import pandas as pd\n",
        "import matplotlib.pyplot as plt\n",
        "import seaborn as sns\n",
        "from sklearn.model_selection import train_test_split\n",
        "from sklearn.linear_model import LogisticRegression\n",
        "from sklearn import metrics\n",
        "import warnings\n",
        "warnings.filterwarnings('ignore')\n",
        "from sklearn.tree import DecisionTreeClassifier\n",
        "pd.set_option('display.max_rows', None)"
      ]
    },
    {
      "cell_type": "code",
      "execution_count": 74,
      "metadata": {
        "id": "DgvammKN8myn"
      },
      "outputs": [],
      "source": [
        "depressionDataset = pd.read_csv(\"/content/final dataset.csv\")\n",
        "X = depressionDataset[['AGERNG','GENDER','EDU','PROF','MARSTS','RESDPL','LIVWTH','ENVSAT','POSSAT','FINSTR','DEBT','PHYEX','SMOKE','DRINK','ILLNESS','PREMED','EATDIS','AVGSLP','INSOM','TSSN','WRKPRE','ANXI','DEPRI','ABUSED','CHEAT','THREAT','SUICIDE','INFER','CONFLICT','LOST']]\n",
        "y=depressionDataset[['DEPRESSED']]"
      ]
    },
    {
      "cell_type": "code",
      "execution_count": 75,
      "metadata": {
        "id": "ovbxpvqH80a3"
      },
      "outputs": [],
      "source": [
        "from sklearn.preprocessing import LabelEncoder\n",
        "### label encode the categorical values and convert them to numbers\n",
        "le = LabelEncoder()\n",
        "le.fit(X['AGERNG'].astype(str))\n",
        "X['AGERNG'] = le.transform(X['AGERNG'].astype(str))\n",
        "\n",
        "le = LabelEncoder()\n",
        "le.fit(X['GENDER'].astype(str))\n",
        "X['GENDER'] = le.transform(X['GENDER'].astype(str))\n",
        "\n",
        "le = LabelEncoder()\n",
        "le.fit(X['EDU'].astype(str))\n",
        "X['EDU'] = le.transform(X['EDU'].astype(str))\n",
        "\n",
        "le = LabelEncoder()\n",
        "le.fit(X['PROF'].astype(str))\n",
        "X['PROF'] = le.transform(X['PROF'].astype(str))\n",
        "\n",
        "\n",
        "le = LabelEncoder()\n",
        "le.fit(X['MARSTS'].astype(str))\n",
        "X['MARSTS'] = le.transform(X['MARSTS'].astype(str))\n",
        "\n",
        "\n",
        "\n",
        "le = LabelEncoder()\n",
        "le.fit(X['RESDPL'].astype(str))\n",
        "X['RESDPL'] = le.transform(X['RESDPL'].astype(str))\n",
        "\n",
        "\n",
        "\n",
        "le = LabelEncoder()\n",
        "le.fit(X['LIVWTH'].astype(str))\n",
        "X['LIVWTH'] = le.transform(X['LIVWTH'].astype(str))\n",
        "\n",
        "\n",
        "\n",
        "le = LabelEncoder()\n",
        "le.fit(X['ENVSAT'].astype(str))\n",
        "X['ENVSAT'] = le.transform(X['ENVSAT'].astype(str))\n",
        "\n",
        "le = LabelEncoder()\n",
        "le.fit(X['POSSAT'].astype(str))\n",
        "X['POSSAT'] = le.transform(X['POSSAT'].astype(str))\n",
        "\n",
        "\n",
        "\n",
        "le = LabelEncoder()\n",
        "le.fit(X['FINSTR'].astype(str))\n",
        "X['FINSTR'] = le.transform(X['FINSTR'].astype(str))\n",
        "\n",
        "le = LabelEncoder()\n",
        "le.fit(X['DEBT'].astype(str))\n",
        "X['DEBT'] = le.transform(X['DEBT'].astype(str))\n",
        "\n",
        "\n",
        "\n",
        "le = LabelEncoder()\n",
        "le.fit(X['PHYEX'].astype(str))\n",
        "X['PHYEX'] = le.transform(X['PHYEX'].astype(str))\n",
        "\n",
        "\n",
        "\n",
        "\n",
        "le = LabelEncoder()\n",
        "le.fit(X['SMOKE'].astype(str))\n",
        "X['SMOKE'] = le.transform(X['SMOKE'].astype(str))\n",
        "\n",
        "\n",
        "\n",
        "le = LabelEncoder()\n",
        "le.fit(X['DRINK'].astype(str))\n",
        "X['DRINK'] = le.transform(X['DRINK'].astype(str))\n",
        "\n",
        "\n",
        "le = LabelEncoder()\n",
        "le.fit(X['ILLNESS'].astype(str))\n",
        "X['ILLNESS'] = le.transform(X['ILLNESS'].astype(str))\n",
        "\n",
        "\n",
        "\n",
        "\n",
        "le = LabelEncoder()\n",
        "le.fit(X['PREMED'].astype(str))\n",
        "X['PREMED'] = le.transform(X['PREMED'].astype(str))\n",
        "\n",
        "\n",
        "\n",
        "le = LabelEncoder()\n",
        "le.fit(X['EATDIS'].astype(str))\n",
        "X['EATDIS'] = le.transform(X['EATDIS'].astype(str))\n",
        "\n",
        "le = LabelEncoder()\n",
        "le.fit(X['AVGSLP'].astype(str))\n",
        "X['AVGSLP'] = le.transform(X['AVGSLP'].astype(str))\n",
        "\n",
        "\n",
        "\n",
        "le = LabelEncoder()\n",
        "le.fit(X['INSOM'].astype(str))\n",
        "X['INSOM'] = le.transform(X['INSOM'].astype(str))\n",
        "\n",
        "\n",
        "\n",
        "\n",
        "le = LabelEncoder()\n",
        "le.fit(X['TSSN'].astype(str))\n",
        "X['TSSN'] = le.transform(X['TSSN'].astype(str))\n",
        "\n",
        "\n",
        "\n",
        "\n",
        "le = LabelEncoder()\n",
        "le.fit(X['WRKPRE'].astype(str))\n",
        "X['WRKPRE'] = le.transform(X['WRKPRE'].astype(str))\n",
        "\n",
        "\n",
        "\n",
        "\n",
        "le = LabelEncoder()\n",
        "le.fit(X['ANXI'].astype(str))\n",
        "X['ANXI'] = le.transform(X['ANXI'].astype(str))\n",
        "\n",
        "\n",
        "\n",
        "\n",
        "le = LabelEncoder()\n",
        "le.fit(X['DEPRI'].astype(str))\n",
        "X['DEPRI'] = le.transform(X['DEPRI'].astype(str))\n",
        "\n",
        "\n",
        "\n",
        "le = LabelEncoder()\n",
        "le.fit(X['ABUSED'].astype(str))\n",
        "X['ABUSED'] = le.transform(X['ABUSED'].astype(str))\n",
        "\n",
        "\n",
        "\n",
        "\n",
        "le = LabelEncoder()\n",
        "le.fit(X['CHEAT'].astype(str))\n",
        "X['CHEAT'] = le.transform(X['CHEAT'].astype(str))\n",
        "\n",
        "\n",
        "\n",
        "le = LabelEncoder()\n",
        "le.fit(X['THREAT'].astype(str))\n",
        "X['THREAT'] = le.transform(X['THREAT'].astype(str))\n",
        "\n",
        "\n",
        "\n",
        "le = LabelEncoder()\n",
        "le.fit(X['SUICIDE'].astype(str))\n",
        "X['SUICIDE'] = le.transform(X['SUICIDE'].astype(str))\n",
        "\n",
        "\n",
        "le = LabelEncoder()\n",
        "le.fit(X['INFER'].astype(str))\n",
        "X['INFER'] = le.transform(X['INFER'].astype(str))\n",
        "\n",
        "\n",
        "le = LabelEncoder()\n",
        "le.fit(X['CONFLICT'].astype(str))\n",
        "X['CONFLICT'] = le.transform(X['CONFLICT'].astype(str))\n",
        "\n",
        "\n",
        "\n",
        "le = LabelEncoder()\n",
        "le.fit(X['LOST'].astype(str))\n",
        "X['LOST'] = le.transform(X['LOST'].astype(str))\n",
        "\n",
        "\n"
      ]
    },
    {
      "cell_type": "code",
      "execution_count": 76,
      "metadata": {
        "id": "Ci0hXN49nrHy"
      },
      "outputs": [],
      "source": [
        "X_train,X_test,y_train,y_test=train_test_split(X,y,test_size=0.2,random_state=0)"
      ]
    },
    {
      "cell_type": "code",
      "execution_count": 77,
      "metadata": {
        "id": "QhHCGlGd9VN-"
      },
      "outputs": [],
      "source": [
        "from imblearn.over_sampling import SMOTE\n",
        "smote=SMOTE('minority',random_state=0)\n",
        "X_trainSelectedFeatureAfterSMOTE,y_train=smote.fit_resample(X_train, y_train)\n"
      ]
    },
    {
      "cell_type": "code",
      "execution_count": 78,
      "metadata": {
        "id": "CfcepgRFDpOY",
        "colab": {
          "base_uri": "https://localhost:8080/"
        },
        "outputId": "d98bec14-5dbd-4481-e80f-adab49edcd94"
      },
      "outputs": [
        {
          "output_type": "stream",
          "name": "stdout",
          "text": [
            "(1622, 1)\n"
          ]
        }
      ],
      "source": [
        "print(y_train.shape)"
      ]
    },
    {
      "cell_type": "code",
      "execution_count": 79,
      "metadata": {
        "colab": {
          "base_uri": "https://localhost:8080/"
        },
        "id": "8X9K49Qu-xDn",
        "outputId": "25f781b0-e934-4935-eea1-dcd278688966"
      },
      "outputs": [
        {
          "output_type": "execute_result",
          "data": {
            "text/plain": [
              "KNeighborsClassifier()"
            ]
          },
          "metadata": {},
          "execution_count": 79
        }
      ],
      "source": [
        "from sklearn.neighbors import KNeighborsClassifier\n",
        "\n",
        "KNNClassification = KNeighborsClassifier()\n",
        "KNNClassification.fit(X_trainSelectedFeatureAfterSMOTE,y_train)"
      ]
    },
    {
      "cell_type": "code",
      "execution_count": 80,
      "metadata": {
        "colab": {
          "base_uri": "https://localhost:8080/",
          "height": 282
        },
        "id": "1QyyS4vf_GNR",
        "outputId": "aa3a025e-4855-4661-f9ac-d1f54e9640bc"
      },
      "outputs": [
        {
          "output_type": "execute_result",
          "data": {
            "text/plain": [
              "<matplotlib.axes._subplots.AxesSubplot at 0x7f8ac4f38490>"
            ]
          },
          "metadata": {},
          "execution_count": 80
        },
        {
          "output_type": "display_data",
          "data": {
            "text/plain": [
              "<Figure size 432x288 with 2 Axes>"
            ],
            "image/png": "[encoded data removed]"
          },
          "metadata": {
            "needs_background": "light"
          }
        }
      ],
      "source": [
        "from sklearn.metrics import classification_report,confusion_matrix\n",
        "y1_predict_test=KNNClassification.predict(X_test)\n",
        "cm1=confusion_matrix(y_test,y1_predict_test)\n",
        "sns.heatmap(cm1,annot=True)"
      ]
    },
    {
      "cell_type": "code",
      "execution_count": 81,
      "metadata": {
        "colab": {
          "base_uri": "https://localhost:8080/"
        },
        "id": "ks7PkYB5_jNx",
        "outputId": "40991c84-44db-46a1-8dcb-1c8daf11f994"
      },
      "outputs": [
        {
          "output_type": "stream",
          "name": "stdout",
          "text": [
            "              precision    recall  f1-score   support\n",
            "\n",
            "           0       0.62      0.89      0.73       142\n",
            "           1       0.89      0.63      0.74       211\n",
            "\n",
            "    accuracy                           0.73       353\n",
            "   macro avg       0.76      0.76      0.73       353\n",
            "weighted avg       0.78      0.73      0.73       353\n",
            "\n"
          ]
        }
      ],
      "source": [
        "print(classification_report(y_test,y1_predict_test))"
      ]
    },
    {
      "cell_type": "code",
      "execution_count": 82,
      "metadata": {
        "colab": {
          "base_uri": "https://localhost:8080/",
          "height": 296
        },
        "id": "tbxsKO0o_l9E",
        "outputId": "6f2ff0fa-fa3f-45d3-c383-cb3b35819159"
      },
      "outputs": [
        {
          "output_type": "stream",
          "name": "stdout",
          "text": [
            "AUC:  0.8687170415860089\n"
          ]
        },
        {
          "output_type": "display_data",
          "data": {
            "text/plain": [
              "<Figure size 432x288 with 1 Axes>"
            ],
            "image/png": "[encoded data removed]"
          },
          "metadata": {
            "needs_background": "light"
          }
        }
      ],
      "source": [
        "y_predictionKNN_proba=KNNClassification.predict_proba(X_test)[:,1]\n",
        "AUCKNN=metrics.roc_auc_score(y_test,y_predictionKNN_proba)\n",
        "print(\"AUC: \",AUCKNN)\n",
        "fprKNN, tprKNN, thresholds = metrics.roc_curve(y_test,y_predictionKNN_proba)\n",
        "\n",
        "plt.plot(fprKNN,tprKNN,label=\"( area = \"+str(AUCKNN)+\" )\")\n",
        "plt.xlabel('False Positive Rate')\n",
        "plt.ylabel('True Positive Rate')\n",
        "plt.legend(loc=4)\n",
        "plt.show()"
      ]
    },
    {
      "cell_type": "code",
      "execution_count": 83,
      "metadata": {
        "colab": {
          "base_uri": "https://localhost:8080/"
        },
        "id": "iIuDIoltxFAx",
        "outputId": "e1b5cfe3-a5a7-4a9c-8698-458446ae680e"
      },
      "outputs": [
        {
          "output_type": "stream",
          "name": "stdout",
          "text": [
            "Accuracy =  73.37110481586402\n"
          ]
        }
      ],
      "source": [
        "prediction=KNNClassification.predict(X_test)\n",
        "print('Accuracy = ', metrics.accuracy_score(y_test, prediction)*100)"
      ]
    },
    {
      "cell_type": "code",
      "execution_count": 84,
      "metadata": {
        "colab": {
          "base_uri": "https://localhost:8080/"
        },
        "id": "V2NBRjDM_ynM",
        "outputId": "bf49b231-8774-4531-f37a-561cf12fb317"
      },
      "outputs": [
        {
          "output_type": "execute_result",
          "data": {
            "text/plain": [
              "AdaBoostClassifier(n_estimators=100)"
            ]
          },
          "metadata": {},
          "execution_count": 84
        }
      ],
      "source": [
        "from sklearn.ensemble import AdaBoostClassifier\n",
        "ADABoostClassification=AdaBoostClassifier(n_estimators=100)\n",
        "ADABoostClassification.fit(X_trainSelectedFeatureAfterSMOTE,y_train)\n"
      ]
    },
    {
      "cell_type": "code",
      "execution_count": 85,
      "metadata": {
        "colab": {
          "base_uri": "https://localhost:8080/",
          "height": 285
        },
        "id": "DOv_JbYyADE5",
        "outputId": "9a0dc500-4c9d-48c7-cdfc-01a7ffaf2593"
      },
      "outputs": [
        {
          "output_type": "execute_result",
          "data": {
            "text/plain": [
              "<matplotlib.axes._subplots.AxesSubplot at 0x7f8b7e421190>"
            ]
          },
          "metadata": {},
          "execution_count": 85
        },
        {
          "output_type": "display_data",
          "data": {
            "text/plain": [
              "<Figure size 432x288 with 2 Axes>"
            ],
            "image/png": "[encoded data removed]"
          },
          "metadata": {
            "needs_background": "light"
          }
        }
      ],
      "source": [
        "y1_predict_test=ADABoostClassification.predict(X_test)\n",
        "cm1=confusion_matrix(y_test,y1_predict_test)\n",
        "sns.heatmap(cm1,annot=True)"
      ]
    },
    {
      "cell_type": "code",
      "execution_count": 86,
      "metadata": {
        "id": "WCoI6VwTAb0a",
        "colab": {
          "base_uri": "https://localhost:8080/",
          "height": 296
        },
        "outputId": "963abd6b-e91a-4e57-8d20-eaa9b4164ac5"
      },
      "outputs": [
        {
          "output_type": "stream",
          "name": "stdout",
          "text": [
            "AUC:  0.9248047526867366\n"
          ]
        },
        {
          "output_type": "display_data",
          "data": {
            "text/plain": [
              "<Figure size 432x288 with 1 Axes>"
            ],
            "image/png": "[encoded data removed]"
          },
          "metadata": {
            "needs_background": "light"
          }
        }
      ],
      "source": [
        "y_predictionKNN_proba=ADABoostClassification.predict_proba(X_test)[:,1]\n",
        "AUCKNN=metrics.roc_auc_score(y_test,y_predictionKNN_proba)\n",
        "print(\"AUC: \",AUCKNN)\n",
        "fprAda, tprAda, thresholds = metrics.roc_curve(y_test,y_predictionKNN_proba)\n",
        "\n",
        "plt.plot(fprAda,tprAda,label=\"( area = \"+str(AUCKNN)+\" )\")\n",
        "plt.xlabel('False Positive Rate')\n",
        "plt.ylabel('True Positive Rate')\n",
        "plt.legend(loc=4)\n",
        "plt.show()"
      ]
    },
    {
      "cell_type": "code",
      "execution_count": 87,
      "metadata": {
        "colab": {
          "base_uri": "https://localhost:8080/"
        },
        "id": "SxctEUP6xU2v",
        "outputId": "b6322afe-ad50-4e2d-fc7d-cefd6dd4842e"
      },
      "outputs": [
        {
          "output_type": "stream",
          "name": "stdout",
          "text": [
            "Accuracy =  85.26912181303116\n"
          ]
        }
      ],
      "source": [
        "prediction=ADABoostClassification.predict(X_test)\n",
        "print('Accuracy = ', metrics.accuracy_score(y_test, prediction)*100)"
      ]
    },
    {
      "cell_type": "code",
      "execution_count": 88,
      "metadata": {
        "id": "psvzTwPcAoGP",
        "colab": {
          "base_uri": "https://localhost:8080/"
        },
        "outputId": "f201405a-6b96-47d4-9933-34cf85990bce"
      },
      "outputs": [
        {
          "output_type": "execute_result",
          "data": {
            "text/plain": [
              "GradientBoostingClassifier(random_state=0)"
            ]
          },
          "metadata": {},
          "execution_count": 88
        }
      ],
      "source": [
        "from sklearn.ensemble import GradientBoostingClassifier\n",
        "GradeintBoostClassification = GradientBoostingClassifier(loss='deviance',random_state=0)\n",
        "GradeintBoostClassification.fit(X_trainSelectedFeatureAfterSMOTE,y_train)"
      ]
    },
    {
      "cell_type": "code",
      "execution_count": 89,
      "metadata": {
        "colab": {
          "base_uri": "https://localhost:8080/",
          "height": 282
        },
        "id": "9D9tqan8AtXc",
        "outputId": "90a4b905-a25f-420a-a235-f891c1890404"
      },
      "outputs": [
        {
          "output_type": "execute_result",
          "data": {
            "text/plain": [
              "<matplotlib.axes._subplots.AxesSubplot at 0x7f8ac4e0cd50>"
            ]
          },
          "metadata": {},
          "execution_count": 89
        },
        {
          "output_type": "display_data",
          "data": {
            "text/plain": [
              "<Figure size 432x288 with 2 Axes>"
            ],
            "image/png": "[encoded data removed]"
          },
          "metadata": {
            "needs_background": "light"
          }
        }
      ],
      "source": [
        "y1_predict_test=GradeintBoostClassification.predict(X_test)\n",
        "cm1=confusion_matrix(y_test,y1_predict_test)\n",
        "sns.heatmap(cm1,annot=True)"
      ]
    },
    {
      "cell_type": "code",
      "execution_count": 90,
      "metadata": {
        "colab": {
          "base_uri": "https://localhost:8080/"
        },
        "id": "sX1INMGRA9yk",
        "outputId": "3bacd94f-ec75-4f6c-8523-fd716790319a"
      },
      "outputs": [
        {
          "output_type": "stream",
          "name": "stdout",
          "text": [
            "              precision    recall  f1-score   support\n",
            "\n",
            "           0       0.84      0.87      0.85       142\n",
            "           1       0.91      0.89      0.90       211\n",
            "\n",
            "    accuracy                           0.88       353\n",
            "   macro avg       0.88      0.88      0.88       353\n",
            "weighted avg       0.88      0.88      0.88       353\n",
            "\n"
          ]
        }
      ],
      "source": [
        "print(classification_report(y_test,y1_predict_test))"
      ]
    },
    {
      "cell_type": "code",
      "execution_count": 94,
      "metadata": {
        "id": "VeUiTcqkBB3D",
        "colab": {
          "base_uri": "https://localhost:8080/",
          "height": 296
        },
        "outputId": "e00485fb-9c23-427c-9c0a-55365bfb48c3"
      },
      "outputs": [
        {
          "output_type": "stream",
          "name": "stdout",
          "text": [
            "AUC:  0.9507376009612176\n"
          ]
        },
        {
          "output_type": "display_data",
          "data": {
            "text/plain": [
              "<Figure size 432x288 with 1 Axes>"
            ],
            "image/png": "[encoded data removed]"
          },
          "metadata": {
            "needs_background": "light"
          }
        }
      ],
      "source": [
        "y_predictionKNN_proba=GradeintBoostClassification.predict_proba(X_test)[:,1]\n",
        "AUCKNN=metrics.roc_auc_score(y_test,y_predictionKNN_proba)\n",
        "print(\"AUC: \",AUCKNN)\n",
        "fprGradientBoost, tprGradientBoost, thresholds = metrics.roc_curve(y_test,y_predictionKNN_proba)\n",
        "\n",
        "plt.plot(fprGradientBoost,tprGradientBoost,label=\"( area = \"+str(AUCKNN)+\" )\")\n",
        "plt.xlabel('False Positive Rate')\n",
        "plt.ylabel('True Positive Rate')\n",
        "plt.legend(loc=4)\n",
        "plt.show()"
      ]
    },
    {
      "cell_type": "code",
      "execution_count": 95,
      "metadata": {
        "colab": {
          "base_uri": "https://localhost:8080/"
        },
        "id": "FDM0spK0xp20",
        "outputId": "25df0489-700b-4c2a-f6c2-91a34fb10fd7"
      },
      "outputs": [
        {
          "output_type": "stream",
          "name": "stdout",
          "text": [
            "Accuracy =  88.10198300283287\n"
          ]
        }
      ],
      "source": [
        "prediction=GradeintBoostClassification.predict(X_test)\n",
        "print('Accuracy = ', metrics.accuracy_score(y_test, prediction)*100)"
      ]
    },
    {
      "cell_type": "code",
      "execution_count": 96,
      "metadata": {
        "colab": {
          "base_uri": "https://localhost:8080/"
        },
        "id": "Z4rijCi-xkfQ",
        "outputId": "5e9a72a9-bf3c-4199-ba8c-88a41504d06a"
      },
      "outputs": [
        {
          "output_type": "execute_result",
          "data": {
            "text/plain": [
              "XGBClassifier(booster='gblinear', learning_rate=0.01)"
            ]
          },
          "metadata": {},
          "execution_count": 96
        }
      ],
      "source": [
        "import xgboost as xgb\n",
        "XGBoostClassification=xgb.XGBClassifier(base_score=0.5, booster='gblinear', colsample_bylevel=1,\n",
        "              colsample_bynode=1, colsample_bytree=1, gamma=0,\n",
        "              learning_rate=0.01, max_delta_step=0, max_depth=3,\n",
        "              min_child_weight=1, missing=None, n_estimators=100, n_jobs=1,\n",
        "              nthread=None, objective='binary:logistic', random_state=0,\n",
        "              reg_alpha=0, reg_lambda=1, scale_pos_weight=1, seed=None,\n",
        "              silent=None, subsample=1, verbosity=1)\n",
        "XGBoostClassification.fit(X_trainSelectedFeatureAfterSMOTE,y_train)"
      ]
    },
    {
      "cell_type": "code",
      "execution_count": 97,
      "metadata": {
        "colab": {
          "base_uri": "https://localhost:8080/",
          "height": 282
        },
        "id": "0NQbBRVEYhHi",
        "outputId": "6c034d98-f6e6-44dd-9b24-5df7f6040e37"
      },
      "outputs": [
        {
          "output_type": "execute_result",
          "data": {
            "text/plain": [
              "<matplotlib.axes._subplots.AxesSubplot at 0x7f8ac48f7210>"
            ]
          },
          "metadata": {},
          "execution_count": 97
        },
        {
          "output_type": "display_data",
          "data": {
            "text/plain": [
              "<Figure size 432x288 with 2 Axes>"
            ],
            "image/png": "[encoded data removed]"
          },
          "metadata": {
            "needs_background": "light"
          }
        }
      ],
      "source": [
        "y_predictionXgBoost=XGBoostClassification.predict(X_test)\n",
        "cm1=confusion_matrix(y_test,y1_predict_test)\n",
        "sns.heatmap(cm1,annot=True)"
      ]
    },
    {
      "cell_type": "code",
      "execution_count": 98,
      "metadata": {
        "colab": {
          "base_uri": "https://localhost:8080/"
        },
        "id": "W5VxVWQcYtyT",
        "outputId": "3acee153-64ea-484a-8bd9-e64233bc4fba"
      },
      "outputs": [
        {
          "output_type": "stream",
          "name": "stdout",
          "text": [
            "              precision    recall  f1-score   support\n",
            "\n",
            "           0       0.82      0.72      0.76       142\n",
            "           1       0.82      0.89      0.86       211\n",
            "\n",
            "    accuracy                           0.82       353\n",
            "   macro avg       0.82      0.80      0.81       353\n",
            "weighted avg       0.82      0.82      0.82       353\n",
            "\n"
          ]
        }
      ],
      "source": [
        "print(classification_report(y_test,y_predictionXgBoost))"
      ]
    },
    {
      "cell_type": "code",
      "execution_count": 99,
      "metadata": {
        "id": "9MgCCytWYuah",
        "colab": {
          "base_uri": "https://localhost:8080/",
          "height": 296
        },
        "outputId": "da525fba-2823-42a2-ac7c-533cebff0ded"
      },
      "outputs": [
        {
          "output_type": "stream",
          "name": "stdout",
          "text": [
            "AUC:  0.9023763433682663\n"
          ]
        },
        {
          "output_type": "display_data",
          "data": {
            "text/plain": [
              "<Figure size 432x288 with 1 Axes>"
            ],
            "image/png": "[encoded data removed]"
          },
          "metadata": {
            "needs_background": "light"
          }
        }
      ],
      "source": [
        "y_predictionKNN_proba=XGBoostClassification.predict_proba(X_test)[:,1]\n",
        "AUCKNN=metrics.roc_auc_score(y_test,y_predictionKNN_proba)\n",
        "print(\"AUC: \",AUCKNN)\n",
        "fprXgB, tprXgB, thresholds = metrics.roc_curve(y_test,y_predictionKNN_proba)\n",
        "plt.plot(fprXgB,tprXgB,label=\"( area = \"+str(AUCKNN)+\" )\")\n",
        "plt.xlabel('False Positive Rate')\n",
        "plt.ylabel('True Positive Rate')\n",
        "plt.legend(loc=4)\n",
        "plt.show()\n",
        "\n"
      ]
    },
    {
      "cell_type": "code",
      "execution_count": 100,
      "metadata": {
        "colab": {
          "base_uri": "https://localhost:8080/"
        },
        "id": "bu6VgYcvx5eL",
        "outputId": "14af4084-302a-4ce6-ee02-583b6bbeb6be"
      },
      "outputs": [
        {
          "output_type": "stream",
          "name": "stdout",
          "text": [
            "Accuracy =  82.15297450424929\n"
          ]
        }
      ],
      "source": [
        "prediction=XGBoostClassification.predict(X_test)\n",
        "print('Accuracy = ', metrics.accuracy_score(y_test, prediction)*100)"
      ]
    },
    {
      "cell_type": "code",
      "execution_count": 101,
      "metadata": {
        "id": "FcAgHt8lafPh",
        "colab": {
          "base_uri": "https://localhost:8080/"
        },
        "outputId": "1d5c8089-ba81-400b-8edf-523b683097f3"
      },
      "outputs": [
        {
          "output_type": "execute_result",
          "data": {
            "text/plain": [
              "BaggingClassifier(base_estimator=MLPClassifier(random_state=0), n_estimators=30,\n",
              "                  random_state=0)"
            ]
          },
          "metadata": {},
          "execution_count": 101
        }
      ],
      "source": [
        "from sklearn.ensemble import BaggingClassifier\n",
        "from sklearn.neural_network import MLPClassifier\n",
        "base_cls = MLPClassifier(random_state=0)\n",
        "bagClassificationMLP = BaggingClassifier(base_estimator=base_cls, n_estimators=30, random_state=0)\n",
        "bagClassificationMLP.fit(X_trainSelectedFeatureAfterSMOTE, y_train)\n"
      ]
    },
    {
      "cell_type": "code",
      "execution_count": 102,
      "metadata": {
        "id": "jyhedGd5dGEh",
        "colab": {
          "base_uri": "https://localhost:8080/",
          "height": 282
        },
        "outputId": "d0541235-d7d8-4827-d8e7-ac546b9a97c8"
      },
      "outputs": [
        {
          "output_type": "execute_result",
          "data": {
            "text/plain": [
              "<matplotlib.axes._subplots.AxesSubplot at 0x7f8ac481f810>"
            ]
          },
          "metadata": {},
          "execution_count": 102
        },
        {
          "output_type": "display_data",
          "data": {
            "text/plain": [
              "<Figure size 432x288 with 2 Axes>"
            ],
            "image/png": "[encoded data removed]"
          },
          "metadata": {
            "needs_background": "light"
          }
        }
      ],
      "source": [
        "y_predictionBagMLP = bagClassificationMLP.predict(X_test)\n",
        "cm1=confusion_matrix(y_test,y_predictionBagMLP)\n",
        "sns.heatmap(cm1,annot=True)"
      ]
    },
    {
      "cell_type": "code",
      "execution_count": 103,
      "metadata": {
        "id": "1lKDc5tbdiq2",
        "colab": {
          "base_uri": "https://localhost:8080/"
        },
        "outputId": "feea39dd-9c72-4e86-fe53-d51403f0fad1"
      },
      "outputs": [
        {
          "output_type": "stream",
          "name": "stdout",
          "text": [
            "              precision    recall  f1-score   support\n",
            "\n",
            "           0       0.82      0.89      0.86       142\n",
            "           1       0.92      0.87      0.90       211\n",
            "\n",
            "    accuracy                           0.88       353\n",
            "   macro avg       0.87      0.88      0.88       353\n",
            "weighted avg       0.88      0.88      0.88       353\n",
            "\n"
          ]
        }
      ],
      "source": [
        "print(classification_report(y_test,y_predictionBagMLP))"
      ]
    },
    {
      "cell_type": "code",
      "execution_count": 104,
      "metadata": {
        "id": "t15Ndk3hd1Iw",
        "colab": {
          "base_uri": "https://localhost:8080/",
          "height": 296
        },
        "outputId": "91c59415-89a3-4629-b225-cb8549fe84cb"
      },
      "outputs": [
        {
          "output_type": "stream",
          "name": "stdout",
          "text": [
            "AUC:  0.9596822642013216\n"
          ]
        },
        {
          "output_type": "display_data",
          "data": {
            "text/plain": [
              "<Figure size 432x288 with 1 Axes>"
            ],
            "image/png": "[encoded data removed]"
          },
          "metadata": {
            "needs_background": "light"
          }
        }
      ],
      "source": [
        "y_predictionKNN_proba=bagClassificationMLP.predict_proba(X_test)[:,1]\n",
        "AUCKNN=metrics.roc_auc_score(y_test,y_predictionKNN_proba)\n",
        "print(\"AUC: \",AUCKNN)\n",
        "fprBagMLP, tprBagMLP, thresholds = metrics.roc_curve(y_test,y_predictionKNN_proba)\n",
        "plt.plot(fprBagMLP,tprBagMLP,label=\"( area = \"+str(AUCKNN)+\" )\")\n",
        "plt.xlabel('False Positive Rate')\n",
        "plt.ylabel('True Positive Rate')\n",
        "plt.legend(loc=4)\n",
        "plt.show()\n"
      ]
    },
    {
      "cell_type": "code",
      "execution_count": 105,
      "metadata": {
        "id": "UYEhU8D5yBzt",
        "colab": {
          "base_uri": "https://localhost:8080/"
        },
        "outputId": "bbb2cabe-d971-46b7-8153-f87878aef5c3"
      },
      "outputs": [
        {
          "output_type": "stream",
          "name": "stdout",
          "text": [
            "Accuracy =  88.10198300283287\n"
          ]
        }
      ],
      "source": [
        "prediction=bagClassificationMLP.predict(X_test)\n",
        "print('Accuracy = ', metrics.accuracy_score(y_test, prediction)*100)"
      ]
    },
    {
      "cell_type": "code",
      "source": [
        "import numpy as np\n",
        "import pandas as pd\n",
        "\n",
        "\n",
        "X_train = X_trainSelectedFeatureAfterSMOTE.to_numpy()\n",
        "y_train = y_train.to_numpy().squeeze()\n",
        "X_test  = X_test.to_numpy()"
      ],
      "metadata": {
        "id": "_kbe1CtZxj1u"
      },
      "execution_count": 106,
      "outputs": []
    },
    {
      "cell_type": "code",
      "source": [
        "!pip install pytorch-tabnet\n",
        "import numpy  as np\n",
        "import pandas as pd\n",
        "from pytorch_tabnet.tab_model import TabNetClassifier\n",
        "\n",
        "classifier = TabNetClassifier(verbose=0,seed=42)\n",
        "classifier.fit(X_train=X_train, y_train=y_train,\n",
        "               patience=2,max_epochs=2000,\n",
        "               eval_metric=['auc'])\n",
        "\n"
      ],
      "metadata": {
        "colab": {
          "base_uri": "https://localhost:8080/"
        },
        "id": "om3HM3DvxoCe",
        "outputId": "be202a59-19df-4384-b8f2-4be0f2a6db75"
      },
      "execution_count": 112,
      "outputs": [
        {
          "output_type": "stream",
          "name": "stdout",
          "text": [
            "Looking in indexes: https://pypi.org/simple, https://us-python.pkg.dev/colab-wheels/public/simple/\n",
            "Requirement already satisfied: pytorch-tabnet in /usr/local/lib/python3.7/dist-packages (3.1.1)\n",
            "Requirement already satisfied: numpy<2.0,>=1.17 in /usr/local/lib/python3.7/dist-packages (from pytorch-tabnet) (1.21.6)\n",
            "Requirement already satisfied: scipy>1.4 in /usr/local/lib/python3.7/dist-packages (from pytorch-tabnet) (1.4.1)\n",
            "Requirement already satisfied: torch<2.0,>=1.2 in /usr/local/lib/python3.7/dist-packages (from pytorch-tabnet) (1.11.0+cu113)\n",
            "Requirement already satisfied: tqdm<5.0,>=4.36 in /usr/local/lib/python3.7/dist-packages (from pytorch-tabnet) (4.64.0)\n",
            "Requirement already satisfied: scikit_learn>0.21 in /usr/local/lib/python3.7/dist-packages (from pytorch-tabnet) (1.0.2)\n",
            "Requirement already satisfied: joblib>=0.11 in /usr/local/lib/python3.7/dist-packages (from scikit_learn>0.21->pytorch-tabnet) (1.1.0)\n",
            "Requirement already satisfied: threadpoolctl>=2.0.0 in /usr/local/lib/python3.7/dist-packages (from scikit_learn>0.21->pytorch-tabnet) (3.1.0)\n",
            "Requirement already satisfied: typing-extensions in /usr/local/lib/python3.7/dist-packages (from torch<2.0,>=1.2->pytorch-tabnet) (4.2.0)\n",
            "No early stopping will be performed, last training weights will be used.\n"
          ]
        }
      ]
    },
    {
      "cell_type": "code",
      "source": [
        "prediction=classifier.predict(X_test)\n",
        "print('Accuracy = ', metrics.accuracy_score(y_test, prediction)*100)"
      ],
      "metadata": {
        "colab": {
          "base_uri": "https://localhost:8080/"
        },
        "outputId": "bacc8d71-0b19-4486-979e-5c9bc7e89ea5",
        "id": "I6RiDC2sBcVA"
      },
      "execution_count": 113,
      "outputs": [
        {
          "output_type": "stream",
          "name": "stdout",
          "text": [
            "Accuracy =  91.78470254957507\n"
          ]
        }
      ]
    },
    {
      "cell_type": "code",
      "source": [
        ""
      ],
      "metadata": {
        "id": "8WlRXX_uXOBS"
      },
      "execution_count": 108,
      "outputs": []
    },
    {
      "cell_type": "code",
      "execution_count": 109,
      "metadata": {
        "colab": {
          "base_uri": "https://localhost:8080/",
          "height": 296
        },
        "outputId": "fbc33da5-1913-40bd-b166-e1cd8bd436d6",
        "id": "Ahhtu3KWXRXq"
      },
      "outputs": [
        {
          "output_type": "stream",
          "name": "stdout",
          "text": [
            "AUC:  0.960116147119685\n"
          ]
        },
        {
          "output_type": "display_data",
          "data": {
            "text/plain": [
              "<Figure size 432x288 with 1 Axes>"
            ],
            "image/png": "[encoded data removed]"
          },
          "metadata": {
            "needs_background": "light"
          }
        }
      ],
      "source": [
        "y_predictionKNN_proba=classifier.predict_proba(X_test)[:,1]\n",
        "AUCKNN=metrics.roc_auc_score(y_test,y_predictionKNN_proba)\n",
        "print(\"AUC: \",AUCKNN)\n",
        "fprKNN, tprKNN, thresholds = metrics.roc_curve(y_test,y_predictionKNN_proba)\n",
        "plt.plot(fprKNN,tprKNN,label=\"( area = \"+str(AUCKNN)+\" )\")\n",
        "plt.xlabel('False Positive Rate')\n",
        "plt.ylabel('True Positive Rate')\n",
        "plt.legend(loc=4)\n",
        "plt.show()\n"
      ]
    },
    {
      "cell_type": "code",
      "source": [
        "plt.figure()\n",
        "\n",
        "#plt.plot(fprRBF,tprRBF,label=\"SVM (AUC: 0.95)\")\n",
        "plt.plot(fprKNN,tprKNN,label=\"TabNet (AUC: 0.96)\")\n",
        "#plt.plot(fprDT,tprDT,label=\"DT (AUC: 0.86)\")\n",
        "#plt.plot(fprRF,tprRF,label=\"RF (AUC: 0.90)\")\n",
        "plt.plot(fprAda,tprAda,label=\"AdaBoost (AUC: 0.92)\")\n",
        "#plt.plot(fprMLP,tprMLP,label=\"MLP (AUC: 0.96)\")\n",
        "plt.plot(fprGradientBoost,tprGradientBoost,label=\"GB (AUC: 0.95)\")\n",
        "plt.plot(fprXgB,tprXgB,label=\"XGBoost (AUC: 0.90)\")\n",
        "plt.plot(fprBagMLP,tprBagMLP,label=\"Bagging (AUC: 0.95)\")\n",
        "\n",
        "\n",
        "plt.plot([0, 1], [0, 1], color='navy', linestyle='--')\n",
        "plt.xlabel('False Positive Rate')\n",
        "plt.ylabel('True Positive Rate')\n",
        "plt.legend(loc=4)\n",
        "plt.savefig('Without feature selection-SMOTE-ROCNew.png',dpi=1000)\n",
        "plt.show()"
      ],
      "metadata": {
        "colab": {
          "base_uri": "https://localhost:8080/",
          "height": 279
        },
        "id": "jsUPW7XMG9r1",
        "outputId": "6debe98c-1050-4333-b8e9-9a0c7447eca4"
      },
      "execution_count": 110,
      "outputs": [
        {
          "output_type": "display_data",
          "data": {
            "text/plain": [
              "<Figure size 432x288 with 1 Axes>"
            ],
            "image/png": "[encoded data removed]"
          },
          "metadata": {
            "needs_background": "light"
          }
        }
      ]
    },
    {
      "cell_type": "code",
      "source": [
        "# Import Library\n",
        "import numpy as np \n",
        "import matplotlib.pyplot as plt \n",
        "\n",
        "# Define Data\n",
        "data3 = ['Boruta']\n",
        "xvals = [91.78]\n",
        "yvals = [85.26]\n",
        "zvals = [88.1]\n",
        "avals = [82.15]\n",
        "bvals = [82.15]\n",
        "\n",
        "x_axis = np.arange(len(data3))\n",
        "\n",
        "# Multi bar Chart\n",
        "plt.bar(x_axis +0.1, xvals, width=0.07, label = 'TabNet')\n",
        "plt.bar(x_axis +0.1*2, yvals, width=0.07, label = 'AdaBoost')\n",
        "plt.bar(x_axis +0.1*3, zvals, width=0.07, label = 'GradientBoost')\n",
        "plt.bar(x_axis +0.1*4, avals, width=0.07, label = 'XGBoost')\n",
        "plt.bar(x_axis +0.1*5, bvals, width=0.07, label = 'Bagging')\n",
        "\n",
        "# Xticks\n",
        "plt.xticks(x_axis,data3)\n",
        "plt.ylabel(\"Accuracy (%)\")\n",
        "plt.xlabel(\"Experiments on classification \")\n",
        "plt.title(\"Comparitive analysis using Boruta\")\n",
        "plt.legend()\n",
        "plt.show()"
      ],
      "metadata": {
        "id": "zptjWHbG3o2B",
        "outputId": "5fca446b-2ca9-4b51-f2a9-c09ef339c8b7",
        "colab": {
          "base_uri": "https://localhost:8080/",
          "height": 278
        }
      },
      "execution_count": 111,
      "outputs": [
        {
          "output_type": "display_data",
          "data": {
            "text/plain": [
              "<Figure size 432x288 with 1 Axes>"
            ],
            "image/png": "[encoded data removed]"
          },
          "metadata": {
            "needs_background": "light"
          }
        }
      ]
    }
  ],
  "metadata": {
    "colab": {
      "collapsed_sections": [],
      "name": "Final dataset Without using feature selection.ipynb",
      "provenance": [],
      "authorship_tag": "ABX9TyO5vxjds/683VRaSNYLsHql",
      "include_colab_link": true
    },
    "kernelspec": {
      "display_name": "Python 3",
      "name": "python3"
    },
    "language_info": {
      "name": "python"
    }
  },
  "nbformat": 4,
  "nbformat_minor": 0
}