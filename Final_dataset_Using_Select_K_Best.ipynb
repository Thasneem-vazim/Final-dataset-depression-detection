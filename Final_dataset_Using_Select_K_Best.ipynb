{
  "nbformat": 4,
  "nbformat_minor": 0,
  "metadata": {
    "colab": {
      "name": "Final dataset Using Select K Best.ipynb",
      "provenance": [],
      "collapsed_sections": [],
      "authorship_tag": "ABX9TyOeEsuLUEs0HTNlmUP2hxHx",
      "include_colab_link": true
    },
    "kernelspec": {
      "name": "python3",
      "display_name": "Python 3"
    },
    "language_info": {
      "name": "python"
    }
  },
  "cells": [
    {
      "cell_type": "markdown",
      "metadata": {
        "id": "view-in-github",
        "colab_type": "text"
      },
      "source": [
        "<a href=\"https://colab.research.google.com/github/Thasneem-vazim/Final-dataset-depression-detection/blob/main/Final_dataset_Using_Select_K_Best.ipynb\" target=\"_parent\"><img src=\"https://colab.research.google.com/assets/colab-badge.svg\" alt=\"Open In Colab\"/></a>"
      ]
    },
    {
      "cell_type": "code",
      "execution_count": 1,
      "metadata": {
        "id": "Hp3gjynefyoi"
      },
      "outputs": [],
      "source": [
        "import numpy as np\n",
        "import pandas as pd\n",
        "import matplotlib.pyplot as plt\n",
        "import seaborn as sns\n",
        "from sklearn.model_selection import train_test_split\n",
        "from sklearn.linear_model import LogisticRegression\n",
        "from sklearn import metrics\n",
        "#%matplotlib inline\n",
        "import warnings\n",
        "warnings.filterwarnings('ignore')\n",
        "from sklearn.tree import DecisionTreeClassifier\n",
        "\n",
        "pd.set_option('display.max_rows', None)"
      ]
    },
    {
      "cell_type": "code",
      "source": [
        "depressionDataset = pd.read_csv(\"/content/final dataset.csv\")\n",
        "X = depressionDataset[['AGERNG','GENDER','EDU','PROF','MARSTS','RESDPL','LIVWTH','ENVSAT','POSSAT','FINSTR','DEBT','PHYEX','SMOKE','DRINK','ILLNESS','PREMED','EATDIS','AVGSLP','INSOM','TSSN','WRKPRE','ANXI','DEPRI','ABUSED','CHEAT','THREAT','SUICIDE','INFER','CONFLICT','LOST']]\n",
        "y=depressionDataset[['DEPRESSED']]"
      ],
      "metadata": {
        "id": "_6y9aE6jgCU8"
      },
      "execution_count": 2,
      "outputs": []
    },
    {
      "cell_type": "code",
      "execution_count": 3,
      "metadata": {
        "id": "ovbxpvqH80a3"
      },
      "outputs": [],
      "source": [
        "from sklearn.preprocessing import LabelEncoder\n",
        "### label encode the categorical values and convert them to numbers\n",
        "le = LabelEncoder()\n",
        "le.fit(X['AGERNG'].astype(str))\n",
        "X['AGERNG'] = le.transform(X['AGERNG'].astype(str))\n",
        "\n",
        "le = LabelEncoder()\n",
        "le.fit(X['GENDER'].astype(str))\n",
        "X['GENDER'] = le.transform(X['GENDER'].astype(str))\n",
        "\n",
        "le = LabelEncoder()\n",
        "le.fit(X['EDU'].astype(str))\n",
        "X['EDU'] = le.transform(X['EDU'].astype(str))\n",
        "\n",
        "le = LabelEncoder()\n",
        "le.fit(X['PROF'].astype(str))\n",
        "X['PROF'] = le.transform(X['PROF'].astype(str))\n",
        "\n",
        "\n",
        "le = LabelEncoder()\n",
        "le.fit(X['MARSTS'].astype(str))\n",
        "X['MARSTS'] = le.transform(X['MARSTS'].astype(str))\n",
        "\n",
        "\n",
        "\n",
        "le = LabelEncoder()\n",
        "le.fit(X['RESDPL'].astype(str))\n",
        "X['RESDPL'] = le.transform(X['RESDPL'].astype(str))\n",
        "\n",
        "\n",
        "\n",
        "le = LabelEncoder()\n",
        "le.fit(X['LIVWTH'].astype(str))\n",
        "X['LIVWTH'] = le.transform(X['LIVWTH'].astype(str))\n",
        "\n",
        "\n",
        "\n",
        "le = LabelEncoder()\n",
        "le.fit(X['ENVSAT'].astype(str))\n",
        "X['ENVSAT'] = le.transform(X['ENVSAT'].astype(str))\n",
        "\n",
        "le = LabelEncoder()\n",
        "le.fit(X['POSSAT'].astype(str))\n",
        "X['POSSAT'] = le.transform(X['POSSAT'].astype(str))\n",
        "\n",
        "\n",
        "\n",
        "le = LabelEncoder()\n",
        "le.fit(X['FINSTR'].astype(str))\n",
        "X['FINSTR'] = le.transform(X['FINSTR'].astype(str))\n",
        "\n",
        "le = LabelEncoder()\n",
        "le.fit(X['DEBT'].astype(str))\n",
        "X['DEBT'] = le.transform(X['DEBT'].astype(str))\n",
        "\n",
        "\n",
        "\n",
        "le = LabelEncoder()\n",
        "le.fit(X['PHYEX'].astype(str))\n",
        "X['PHYEX'] = le.transform(X['PHYEX'].astype(str))\n",
        "\n",
        "\n",
        "\n",
        "\n",
        "le = LabelEncoder()\n",
        "le.fit(X['SMOKE'].astype(str))\n",
        "X['SMOKE'] = le.transform(X['SMOKE'].astype(str))\n",
        "\n",
        "\n",
        "\n",
        "le = LabelEncoder()\n",
        "le.fit(X['DRINK'].astype(str))\n",
        "X['DRINK'] = le.transform(X['DRINK'].astype(str))\n",
        "\n",
        "\n",
        "le = LabelEncoder()\n",
        "le.fit(X['ILLNESS'].astype(str))\n",
        "X['ILLNESS'] = le.transform(X['ILLNESS'].astype(str))\n",
        "\n",
        "\n",
        "\n",
        "\n",
        "le = LabelEncoder()\n",
        "le.fit(X['PREMED'].astype(str))\n",
        "X['PREMED'] = le.transform(X['PREMED'].astype(str))\n",
        "\n",
        "\n",
        "\n",
        "le = LabelEncoder()\n",
        "le.fit(X['EATDIS'].astype(str))\n",
        "X['EATDIS'] = le.transform(X['EATDIS'].astype(str))\n",
        "\n",
        "le = LabelEncoder()\n",
        "le.fit(X['AVGSLP'].astype(str))\n",
        "X['AVGSLP'] = le.transform(X['AVGSLP'].astype(str))\n",
        "\n",
        "\n",
        "\n",
        "le = LabelEncoder()\n",
        "le.fit(X['INSOM'].astype(str))\n",
        "X['INSOM'] = le.transform(X['INSOM'].astype(str))\n",
        "\n",
        "\n",
        "\n",
        "\n",
        "le = LabelEncoder()\n",
        "le.fit(X['TSSN'].astype(str))\n",
        "X['TSSN'] = le.transform(X['TSSN'].astype(str))\n",
        "\n",
        "\n",
        "\n",
        "\n",
        "le = LabelEncoder()\n",
        "le.fit(X['WRKPRE'].astype(str))\n",
        "X['WRKPRE'] = le.transform(X['WRKPRE'].astype(str))\n",
        "\n",
        "\n",
        "\n",
        "\n",
        "le = LabelEncoder()\n",
        "le.fit(X['ANXI'].astype(str))\n",
        "X['ANXI'] = le.transform(X['ANXI'].astype(str))\n",
        "\n",
        "\n",
        "\n",
        "\n",
        "le = LabelEncoder()\n",
        "le.fit(X['DEPRI'].astype(str))\n",
        "X['DEPRI'] = le.transform(X['DEPRI'].astype(str))\n",
        "\n",
        "\n",
        "\n",
        "le = LabelEncoder()\n",
        "le.fit(X['ABUSED'].astype(str))\n",
        "X['ABUSED'] = le.transform(X['ABUSED'].astype(str))\n",
        "\n",
        "\n",
        "\n",
        "\n",
        "le = LabelEncoder()\n",
        "le.fit(X['CHEAT'].astype(str))\n",
        "X['CHEAT'] = le.transform(X['CHEAT'].astype(str))\n",
        "\n",
        "\n",
        "\n",
        "le = LabelEncoder()\n",
        "le.fit(X['THREAT'].astype(str))\n",
        "X['THREAT'] = le.transform(X['THREAT'].astype(str))\n",
        "\n",
        "\n",
        "\n",
        "le = LabelEncoder()\n",
        "le.fit(X['SUICIDE'].astype(str))\n",
        "X['SUICIDE'] = le.transform(X['SUICIDE'].astype(str))\n",
        "\n",
        "\n",
        "le = LabelEncoder()\n",
        "le.fit(X['INFER'].astype(str))\n",
        "X['INFER'] = le.transform(X['INFER'].astype(str))\n",
        "\n",
        "\n",
        "le = LabelEncoder()\n",
        "le.fit(X['CONFLICT'].astype(str))\n",
        "X['CONFLICT'] = le.transform(X['CONFLICT'].astype(str))\n",
        "\n",
        "\n",
        "\n",
        "le = LabelEncoder()\n",
        "le.fit(X['LOST'].astype(str))\n",
        "X['LOST'] = le.transform(X['LOST'].astype(str))\n",
        "\n",
        "le = LabelEncoder()\n",
        "le.fit(y['DEPRESSED'].astype(str))\n",
        "y['DEPRESSED'] = le.transform(y['DEPRESSED'].astype(str))\n"
      ]
    },
    {
      "cell_type": "code",
      "source": [
        "X_train,X_test,y_train,y_test=train_test_split(X,y,test_size=0.2,random_state=0)"
      ],
      "metadata": {
        "id": "q4TJl_3j91xF"
      },
      "execution_count": 4,
      "outputs": []
    },
    {
      "cell_type": "code",
      "source": [
        "import pandas as pd\n",
        "import numpy as np\n",
        "from sklearn.feature_selection import SelectKBest\n",
        "from sklearn.feature_selection import chi2,f_classif\n",
        "\n",
        "#apply SelectKBest class to extract top 15 best features\n",
        "bestfeatures = SelectKBest(score_func=chi2, k=15)\n",
        "fit = bestfeatures.fit(X_train,y_train)\n",
        "dfscores = pd.DataFrame(fit.scores_)\n",
        "dfcolumns = pd.DataFrame(X_train.columns)\n",
        "#concat two dataframes for better visualization\n",
        "featureScores = pd.concat([dfcolumns,dfscores],axis=1)\n",
        "featureScores.columns = ['Specs','Score']  #naming the dataframe columns\n",
        "print(featureScores.nlargest(15,'Score'))  #print 15 best features"
      ],
      "metadata": {
        "colab": {
          "base_uri": "https://localhost:8080/"
        },
        "id": "ALF_Mg6PgRjk",
        "outputId": "116341cc-cdc8-4bd3-8776-63ddfc5d6824"
      },
      "execution_count": 5,
      "outputs": [
        {
          "output_type": "stream",
          "name": "stdout",
          "text": [
            "       Specs       Score\n",
            "27     INFER  137.507865\n",
            "22     DEPRI  137.210468\n",
            "21      ANXI  135.602531\n",
            "8     POSSAT   98.801179\n",
            "26   SUICIDE   88.972706\n",
            "18     INSOM   85.545984\n",
            "23    ABUSED   84.650158\n",
            "28  CONFLICT   79.610013\n",
            "24     CHEAT   64.562793\n",
            "9     FINSTR   61.383955\n",
            "25    THREAT   47.761946\n",
            "29      LOST   44.626956\n",
            "16    EATDIS   40.781843\n",
            "7     ENVSAT   36.374450\n",
            "20    WRKPRE   27.724719\n"
          ]
        }
      ]
    },
    {
      "cell_type": "code",
      "source": [
        "X_trainSelectedFeature=pd.DataFrame()\n",
        "\n",
        "X_trainSelectedFeature['WRKPRE']=X_train['WRKPRE']\n",
        "X_trainSelectedFeature['POSSAT']=X_train['POSSAT']\n",
        "X_trainSelectedFeature['EATDIS']=X_train['EATDIS']\n",
        "X_trainSelectedFeature['INSOM']=X_train['INSOM']\n",
        "X_trainSelectedFeature['FINSTR']=X_train['FINSTR']\n",
        "X_trainSelectedFeature['ANXI']=X_train['ANXI']\n",
        "X_trainSelectedFeature['DEPRI']=X_train['DEPRI']\n",
        "X_trainSelectedFeature['ABUSED']=X_train['ABUSED']\n",
        "X_trainSelectedFeature['CHEAT']=X_train['CHEAT']\n",
        "X_trainSelectedFeature['THREAT']=X_train['THREAT']\n",
        "X_trainSelectedFeature['SUICIDE']=X_train['SUICIDE']\n",
        "X_trainSelectedFeature['INFER']=X_train['INFER']\n",
        "X_trainSelectedFeature['CONFLICT']=X_train['CONFLICT']\n",
        "X_trainSelectedFeature['LOST']=X_train['LOST']\n",
        "X_trainSelectedFeature['ENVSAT']=X_train['ENVSAT']"
      ],
      "metadata": {
        "id": "tlQxzCoiidaH"
      },
      "execution_count": 6,
      "outputs": []
    },
    {
      "cell_type": "code",
      "source": [
        "X_trainSelectedFeature.shape"
      ],
      "metadata": {
        "colab": {
          "base_uri": "https://localhost:8080/"
        },
        "id": "m1AxqR7disSV",
        "outputId": "698638e7-276f-4333-c85f-278dda26f424"
      },
      "execution_count": 7,
      "outputs": [
        {
          "output_type": "execute_result",
          "data": {
            "text/plain": [
              "(1411, 15)"
            ]
          },
          "metadata": {},
          "execution_count": 7
        }
      ]
    },
    {
      "cell_type": "code",
      "source": [
        "from imblearn.over_sampling import SMOTE\n",
        "smote=SMOTE('minority',random_state=0)\n",
        "X_trainSelectedFeatureAfterSMOTE,y_train=smote.fit_resample(X_trainSelectedFeature, y_train)"
      ],
      "metadata": {
        "id": "1ln7I-yfheQs"
      },
      "execution_count": 8,
      "outputs": []
    },
    {
      "cell_type": "code",
      "source": [
        "X_testSelectedFeature=pd.DataFrame()\n",
        "\n",
        "X_testSelectedFeature['WRKPRE']=X_test['WRKPRE']\n",
        "X_testSelectedFeature['POSSAT']=X_test['POSSAT']\n",
        "X_testSelectedFeature['EATDIS']=X_test['EATDIS']\n",
        "X_testSelectedFeature['INSOM']=X_test['INSOM']\n",
        "X_testSelectedFeature['FINSTR']=X_test['FINSTR']\n",
        "X_testSelectedFeature['ANXI']=X_test['ANXI']\n",
        "X_testSelectedFeature['DEPRI']=X_test['DEPRI']\n",
        "X_testSelectedFeature['ABUSED']=X_test['ABUSED']\n",
        "X_testSelectedFeature['CHEAT']=X_test['CHEAT']\n",
        "X_testSelectedFeature['THREAT']=X_test['THREAT']\n",
        "X_testSelectedFeature['SUICIDE']=X_test['SUICIDE']\n",
        "X_testSelectedFeature['INFER']=X_test['INFER']\n",
        "X_testSelectedFeature['CONFLICT']=X_test['CONFLICT']\n",
        "X_testSelectedFeature['LOST']=X_test['LOST']\n",
        "X_testSelectedFeature['ENVSAT']=X_test['ENVSAT']"
      ],
      "metadata": {
        "id": "VyO28JSGkJVb"
      },
      "execution_count": 9,
      "outputs": []
    },
    {
      "cell_type": "code",
      "source": [
        "X_testSelectedFeature.shape"
      ],
      "metadata": {
        "colab": {
          "base_uri": "https://localhost:8080/"
        },
        "id": "Q-GgMr0VBlNT",
        "outputId": "09cdbd51-3fab-4c92-ca71-4aa786c7e668"
      },
      "execution_count": 10,
      "outputs": [
        {
          "output_type": "execute_result",
          "data": {
            "text/plain": [
              "(353, 15)"
            ]
          },
          "metadata": {},
          "execution_count": 10
        }
      ]
    },
    {
      "cell_type": "code",
      "source": [
        "from sklearn.neighbors import KNeighborsClassifier\n",
        "KNNClassification = KNeighborsClassifier(n_neighbors=7)\n",
        "KNNClassification.fit(X_trainSelectedFeatureAfterSMOTE,y_train)\n",
        "y_predictionKNN=KNNClassification.predict(X_testSelectedFeature)\n"
      ],
      "metadata": {
        "id": "93aMxLB_hjBn"
      },
      "execution_count": 11,
      "outputs": []
    },
    {
      "cell_type": "code",
      "source": [
        "from sklearn.metrics import classification_report,confusion_matrix\n",
        "y_predict_test=KNNClassification.predict(X_testSelectedFeature)\n",
        "cm1=confusion_matrix(y_test,y_predict_test)\n",
        "import seaborn as sns\n",
        "sns.heatmap(cm1,annot=True)\n",
        "print(classification_report(y_test,y_predict_test))\n"
      ],
      "metadata": {
        "id": "LDSHMO5YkWxA",
        "colab": {
          "base_uri": "https://localhost:8080/",
          "height": 425
        },
        "outputId": "84aa51b3-c34b-4d87-b602-9430daa3a01a"
      },
      "execution_count": 12,
      "outputs": [
        {
          "output_type": "stream",
          "name": "stdout",
          "text": [
            "              precision    recall  f1-score   support\n",
            "\n",
            "           0       0.72      0.90      0.80       142\n",
            "           1       0.92      0.76      0.83       211\n",
            "\n",
            "    accuracy                           0.82       353\n",
            "   macro avg       0.82      0.83      0.81       353\n",
            "weighted avg       0.84      0.82      0.82       353\n",
            "\n"
          ]
        },
        {
          "output_type": "display_data",
          "data": {
            "text/plain": [
              "<Figure size 432x288 with 2 Axes>"
            ],
            "image/png": "[encoded data removed]"
          },
          "metadata": {
            "needs_background": "light"
          }
        }
      ]
    },
    {
      "cell_type": "code",
      "source": [
        "y_predictionKNN_proba=KNNClassification.predict_proba(X_testSelectedFeature)[:,1]\n",
        "AUCKNN=metrics.roc_auc_score(y_test,y_predictionKNN_proba)\n",
        "print(\"AUC KNN: \",AUCKNN)\n",
        "fprKNN, tprKNN, thresholds = metrics.roc_curve(y_test,y_predictionKNN_proba)\n",
        "\n",
        "plt.plot(fprKNN,tprKNN,label=\"KNN ( area = \"+str(AUCKNN)+\" )\")\n",
        "plt.xlabel('False Positive Rate')\n",
        "plt.ylabel('True Positive Rate')\n",
        "plt.legend(loc=4)\n",
        "plt.show()"
      ],
      "metadata": {
        "id": "cv9uP8CqkwvR",
        "colab": {
          "base_uri": "https://localhost:8080/",
          "height": 296
        },
        "outputId": "0af752ce-1f85-4844-ddb4-91407e54f8fb"
      },
      "execution_count": 13,
      "outputs": [
        {
          "output_type": "stream",
          "name": "stdout",
          "text": [
            "AUC KNN:  0.907983445697884\n"
          ]
        },
        {
          "output_type": "display_data",
          "data": {
            "text/plain": [
              "<Figure size 432x288 with 1 Axes>"
            ],
            "image/png": "[encoded data removed]"
          },
          "metadata": {
            "needs_background": "light"
          }
        }
      ]
    },
    {
      "cell_type": "code",
      "source": [
        "prediction=KNNClassification.predict(X_testSelectedFeature)\n",
        "print('Accuracy = ', metrics.accuracy_score(y_test, prediction)*100)"
      ],
      "metadata": {
        "id": "vUQvgis4AKMc",
        "colab": {
          "base_uri": "https://localhost:8080/"
        },
        "outputId": "0365099a-18f2-44b7-dc1f-f3ec5ddd3707"
      },
      "execution_count": 14,
      "outputs": [
        {
          "output_type": "stream",
          "name": "stdout",
          "text": [
            "Accuracy =  81.58640226628894\n"
          ]
        }
      ]
    },
    {
      "cell_type": "code",
      "source": [
        ""
      ],
      "metadata": {
        "id": "tUMExGSclJwf"
      },
      "execution_count": 14,
      "outputs": []
    },
    {
      "cell_type": "code",
      "source": [
        "from sklearn.ensemble import AdaBoostClassifier\n",
        "ADABoostClassification=AdaBoostClassifier()\n",
        "ADABoostClassification.fit(X_trainSelectedFeatureAfterSMOTE,y_train)"
      ],
      "metadata": {
        "id": "GYJ-4AQmkw9C",
        "colab": {
          "base_uri": "https://localhost:8080/"
        },
        "outputId": "b6ddf28c-71c1-4773-ae75-e509d6e14dc9"
      },
      "execution_count": 15,
      "outputs": [
        {
          "output_type": "execute_result",
          "data": {
            "text/plain": [
              "AdaBoostClassifier()"
            ]
          },
          "metadata": {},
          "execution_count": 15
        }
      ]
    },
    {
      "cell_type": "code",
      "source": [
        "y_predictionADABoost=ADABoostClassification.predict(X_testSelectedFeature)"
      ],
      "metadata": {
        "id": "agI6CmGBk_Ir"
      },
      "execution_count": 16,
      "outputs": []
    },
    {
      "cell_type": "code",
      "source": [
        "from sklearn.metrics import classification_report,confusion_matrix\n",
        "y_predict_test=ADABoostClassification.predict(X_testSelectedFeature)\n",
        "cm1=confusion_matrix(y_test,y_predict_test)\n",
        "import seaborn as sns\n",
        "sns.heatmap(cm1,annot=True)\n",
        "print(classification_report(y_test,y_predict_test))\n"
      ],
      "metadata": {
        "id": "snFr5AnxlEz-",
        "colab": {
          "base_uri": "https://localhost:8080/",
          "height": 421
        },
        "outputId": "693b0ce8-70ef-465d-e7f3-3aa2f8803d4b"
      },
      "execution_count": 17,
      "outputs": [
        {
          "output_type": "stream",
          "name": "stdout",
          "text": [
            "              precision    recall  f1-score   support\n",
            "\n",
            "           0       0.77      0.88      0.82       142\n",
            "           1       0.91      0.82      0.87       211\n",
            "\n",
            "    accuracy                           0.85       353\n",
            "   macro avg       0.84      0.85      0.84       353\n",
            "weighted avg       0.85      0.85      0.85       353\n",
            "\n"
          ]
        },
        {
          "output_type": "display_data",
          "data": {
            "text/plain": [
              "<Figure size 432x288 with 2 Axes>"
            ],
            "image/png": "[encoded data removed]"
          },
          "metadata": {
            "needs_background": "light"
          }
        }
      ]
    },
    {
      "cell_type": "code",
      "source": [
        "y_predictionKNN_proba=ADABoostClassification.predict_proba(X_testSelectedFeature)[:,1]\n",
        "AUCKNN=metrics.roc_auc_score(y_test,y_predictionKNN_proba)\n",
        "print(\"AUC : \",AUCKNN)\n",
        "fprAda, tprAda, thresholds = metrics.roc_curve(y_test,y_predictionKNN_proba)\n",
        "\n",
        "plt.plot(fprAda,tprAda,label=\"( area = \"+str(AUCKNN)+\" )\")\n",
        "plt.xlabel('False Positive Rate')\n",
        "plt.ylabel('True Positive Rate')\n",
        "plt.legend(loc=4)\n",
        "plt.show()"
      ],
      "metadata": {
        "id": "GC60qrPVlKqq",
        "colab": {
          "base_uri": "https://localhost:8080/",
          "height": 296
        },
        "outputId": "0f022ec5-bbc4-4f12-bd20-f155b8f503a0"
      },
      "execution_count": 18,
      "outputs": [
        {
          "output_type": "stream",
          "name": "stdout",
          "text": [
            "AUC :  0.921550630799012\n"
          ]
        },
        {
          "output_type": "display_data",
          "data": {
            "text/plain": [
              "<Figure size 432x288 with 1 Axes>"
            ],
            "image/png": "[encoded data removed]"
          },
          "metadata": {
            "needs_background": "light"
          }
        }
      ]
    },
    {
      "cell_type": "code",
      "source": [
        "prediction=ADABoostClassification.predict(X_testSelectedFeature)\n",
        "print('Accuracy = ', metrics.accuracy_score(y_test, prediction)*100)"
      ],
      "metadata": {
        "id": "l3jJhZzWsrsB",
        "colab": {
          "base_uri": "https://localhost:8080/"
        },
        "outputId": "9c5f120a-c77d-4131-8222-4de3e5c961fc"
      },
      "execution_count": 19,
      "outputs": [
        {
          "output_type": "stream",
          "name": "stdout",
          "text": [
            "Accuracy =  84.70254957507082\n"
          ]
        }
      ]
    },
    {
      "cell_type": "code",
      "source": [
        "from sklearn.ensemble import GradientBoostingClassifier\n",
        "GradeintBoostClassification = GradientBoostingClassifier(loss='deviance',max_features=1,random_state=0,max_leaf_nodes=None)\n",
        "GradeintBoostClassification.fit(X_trainSelectedFeatureAfterSMOTE,y_train)\n",
        "y_predictionGradient=GradeintBoostClassification.predict(X_testSelectedFeature)"
      ],
      "metadata": {
        "id": "dpKxb7xrlXPN"
      },
      "execution_count": 20,
      "outputs": []
    },
    {
      "cell_type": "code",
      "source": [
        "from sklearn.metrics import classification_report,confusion_matrix\n",
        "y_predict_test=GradeintBoostClassification.predict(X_testSelectedFeature)\n",
        "cm1=confusion_matrix(y_test,y_predict_test)\n",
        "import seaborn as sns\n",
        "sns.heatmap(cm1,annot=True)\n",
        "print(classification_report(y_test,y_predict_test))"
      ],
      "metadata": {
        "id": "L-KxvCi6lpoz",
        "colab": {
          "base_uri": "https://localhost:8080/",
          "height": 421
        },
        "outputId": "62f6d005-e969-44fa-bad0-672466a3dc49"
      },
      "execution_count": 21,
      "outputs": [
        {
          "output_type": "stream",
          "name": "stdout",
          "text": [
            "              precision    recall  f1-score   support\n",
            "\n",
            "           0       0.79      0.89      0.84       142\n",
            "           1       0.92      0.84      0.88       211\n",
            "\n",
            "    accuracy                           0.86       353\n",
            "   macro avg       0.86      0.87      0.86       353\n",
            "weighted avg       0.87      0.86      0.87       353\n",
            "\n"
          ]
        },
        {
          "output_type": "display_data",
          "data": {
            "text/plain": [
              "<Figure size 432x288 with 2 Axes>"
            ],
            "image/png": "[encoded data removed]"
          },
          "metadata": {
            "needs_background": "light"
          }
        }
      ]
    },
    {
      "cell_type": "code",
      "source": [
        "y_predictionKNN_proba=GradeintBoostClassification.predict_proba(X_testSelectedFeature)[:,1]\n",
        "AUCKNN=metrics.roc_auc_score(y_test,y_predictionKNN_proba)\n",
        "print(\"AUC: \",AUCKNN)\n",
        "fprGradientBoost, tprGradientBoost, thresholds = metrics.roc_curve(y_test,y_predictionKNN_proba)\n",
        "\n",
        "plt.plot(fprGradientBoost,tprGradientBoost,label=\"( area = \"+str(AUCKNN)+\" )\")\n",
        "plt.xlabel('False Positive Rate')\n",
        "plt.ylabel('True Positive Rate')\n",
        "plt.legend(loc=4)\n",
        "plt.show()"
      ],
      "metadata": {
        "id": "_iMcih9mlyB6",
        "colab": {
          "base_uri": "https://localhost:8080/",
          "height": 296
        },
        "outputId": "9ad0ea1d-21ac-4f6c-a598-92115824f0c2"
      },
      "execution_count": 22,
      "outputs": [
        {
          "output_type": "stream",
          "name": "stdout",
          "text": [
            "AUC:  0.9252219478005473\n"
          ]
        },
        {
          "output_type": "display_data",
          "data": {
            "text/plain": [
              "<Figure size 432x288 with 1 Axes>"
            ],
            "image/png": "[encoded data removed]"
          },
          "metadata": {
            "needs_background": "light"
          }
        }
      ]
    },
    {
      "cell_type": "code",
      "source": [
        "prediction=GradeintBoostClassification.predict(X_testSelectedFeature)\n",
        "print('Accuracy = ', metrics.accuracy_score(y_test, prediction)*100)"
      ],
      "metadata": {
        "id": "YXmHVR2fs5tp",
        "colab": {
          "base_uri": "https://localhost:8080/"
        },
        "outputId": "3049ec05-a599-412a-991f-d4607f5e67ae"
      },
      "execution_count": 23,
      "outputs": [
        {
          "output_type": "stream",
          "name": "stdout",
          "text": [
            "Accuracy =  86.40226628895185\n"
          ]
        }
      ]
    },
    {
      "cell_type": "code",
      "execution_count": 24,
      "metadata": {
        "id": "5rlZEUNUX2ea",
        "colab": {
          "base_uri": "https://localhost:8080/",
          "height": 421
        },
        "outputId": "9c0f6dbf-6c01-4a41-9573-cf21dc6df227"
      },
      "outputs": [
        {
          "output_type": "stream",
          "name": "stdout",
          "text": [
            "              precision    recall  f1-score   support\n",
            "\n",
            "           0       0.74      0.96      0.84       142\n",
            "           1       0.96      0.78      0.86       211\n",
            "\n",
            "    accuracy                           0.85       353\n",
            "   macro avg       0.85      0.87      0.85       353\n",
            "weighted avg       0.88      0.85      0.85       353\n",
            "\n"
          ]
        },
        {
          "output_type": "display_data",
          "data": {
            "text/plain": [
              "<Figure size 432x288 with 2 Axes>"
            ],
            "image/png": "[encoded data removed]"
          },
          "metadata": {
            "needs_background": "light"
          }
        }
      ],
      "source": [
        "from xgboost import XGBClassifier\n",
        "import xgboost as xgb\n",
        "params = {\n",
        " 'objective':'binary:logitraw',\n",
        " 'max_depth': 2, 'min_child_weight': 2, 'gamma': 0.3, 'subsample': 0.6,\n",
        " 'colsample_bytree': 0.6, 'scale_pos_weight': 1,\n",
        " 'alpha': 0.01,\n",
        " 'learning_rate': 0.03,\n",
        " 'n_estimators':1000,'seed': 42\n",
        " }\n",
        "xgb_clf = XGBClassifier(**params)\n",
        "xgb_clf.fit(X_trainSelectedFeatureAfterSMOTE,y_train)\n",
        "\n",
        "yxg_pred=xgb_clf.predict(X_testSelectedFeature)\n",
        "cm4=confusion_matrix(y_test,yxg_pred)\n",
        "sns.heatmap(cm4,annot=True)\n",
        "print(classification_report(y_test,yxg_pred))"
      ]
    },
    {
      "cell_type": "code",
      "source": [
        "y_predictionXgBoost=xgb_clf.predict(X_testSelectedFeature)"
      ],
      "metadata": {
        "id": "QISvXtEdx3AN"
      },
      "execution_count": 25,
      "outputs": []
    },
    {
      "cell_type": "code",
      "source": [
        "y_predictionKNN_proba=xgb_clf.predict_proba(X_testSelectedFeature)[:,1]\n",
        "AUCKNN=metrics.roc_auc_score(y_test,y_predictionKNN_proba)\n",
        "print(\"AUC: \",AUCKNN)\n",
        "fprXgB, tprXgB, thresholds = metrics.roc_curve(y_test,y_predictionKNN_proba)\n",
        "\n",
        "plt.plot(fprXgB,tprXgB,label=\"( area = \"+str(AUCKNN)+\" )\")\n",
        "plt.xlabel('False Positive Rate')\n",
        "plt.ylabel('True Positive Rate')\n",
        "plt.legend(loc=4)\n",
        "plt.show()"
      ],
      "metadata": {
        "id": "QSmthl9pOtbv",
        "colab": {
          "base_uri": "https://localhost:8080/",
          "height": 296
        },
        "outputId": "03379178-59c7-4bde-e26f-aca4fb16d4d8"
      },
      "execution_count": 26,
      "outputs": [
        {
          "output_type": "stream",
          "name": "stdout",
          "text": [
            "AUC:  0.9242540551365062\n"
          ]
        },
        {
          "output_type": "display_data",
          "data": {
            "text/plain": [
              "<Figure size 432x288 with 1 Axes>"
            ],
            "image/png": "[encoded data removed]"
          },
          "metadata": {
            "needs_background": "light"
          }
        }
      ]
    },
    {
      "cell_type": "code",
      "source": [
        "prediction=xgb_clf.predict(X_testSelectedFeature)\n",
        "print('Accuracy = ', metrics.accuracy_score(y_test, prediction)*100)"
      ],
      "metadata": {
        "id": "t6oi2h8jtfGw",
        "colab": {
          "base_uri": "https://localhost:8080/"
        },
        "outputId": "a043390c-bf72-447d-a607-a3f791a887ba"
      },
      "execution_count": 27,
      "outputs": [
        {
          "output_type": "stream",
          "name": "stdout",
          "text": [
            "Accuracy =  84.98583569405099\n"
          ]
        }
      ]
    },
    {
      "cell_type": "code",
      "source": [
        "from sklearn.ensemble import BaggingClassifier\n",
        "from sklearn.neural_network import MLPClassifier\n",
        "\n",
        "base_cls = MLPClassifier(random_state=0)\n",
        "num_trees = 30\n",
        "seed = 15\n",
        "# bagging classifier\n",
        "bagClassificationMLP = BaggingClassifier(base_estimator=base_cls, n_estimators=num_trees, random_state=0)\n",
        "bagClassificationMLP.fit(X_trainSelectedFeatureAfterSMOTE, y_train)\n",
        "y_predictionBagMLP = bagClassificationMLP.predict(X_testSelectedFeature)\n"
      ],
      "metadata": {
        "id": "iL91oPzSPV4B"
      },
      "execution_count": 28,
      "outputs": []
    },
    {
      "cell_type": "code",
      "source": [
        "from sklearn.metrics import classification_report,confusion_matrix\n",
        "y_predict_test=bagClassificationMLP.predict(X_testSelectedFeature)\n",
        "cm1=confusion_matrix(y_test,y_predict_test)\n",
        "import seaborn as sns\n",
        "sns.heatmap(cm1,annot=True)\n",
        "print(classification_report(y_test,y_predict_test))"
      ],
      "metadata": {
        "id": "02F1BQCiPydM",
        "colab": {
          "base_uri": "https://localhost:8080/",
          "height": 421
        },
        "outputId": "2ec6a24e-19de-41be-9e76-deb4f7e14962"
      },
      "execution_count": 29,
      "outputs": [
        {
          "output_type": "stream",
          "name": "stdout",
          "text": [
            "              precision    recall  f1-score   support\n",
            "\n",
            "           0       0.78      0.87      0.82       142\n",
            "           1       0.90      0.84      0.87       211\n",
            "\n",
            "    accuracy                           0.85       353\n",
            "   macro avg       0.84      0.85      0.85       353\n",
            "weighted avg       0.85      0.85      0.85       353\n",
            "\n"
          ]
        },
        {
          "output_type": "display_data",
          "data": {
            "text/plain": [
              "<Figure size 432x288 with 2 Axes>"
            ],
            "image/png": "[encoded data removed]"
          },
          "metadata": {
            "needs_background": "light"
          }
        }
      ]
    },
    {
      "cell_type": "code",
      "source": [
        "y_predictionKNN_proba=bagClassificationMLP.predict_proba(X_testSelectedFeature)[:,1]\n",
        "AUCKNN=metrics.roc_auc_score(y_test,y_predictionKNN_proba)\n",
        "print(\"AUC: \",AUCKNN)\n",
        "fprBagMLP, tprBagMLP, thresholds = metrics.roc_curve(y_test,y_predictionKNN_proba)\n",
        "\n",
        "plt.plot(fprBagMLP,tprBagMLP,label=\"( area = \"+str(AUCKNN)+\" )\")\n",
        "plt.xlabel('False Positive Rate')\n",
        "plt.ylabel('True Positive Rate')\n",
        "plt.legend(loc=4)\n",
        "plt.show()"
      ],
      "metadata": {
        "id": "9L2ro0tEP2qu",
        "colab": {
          "base_uri": "https://localhost:8080/",
          "height": 296
        },
        "outputId": "709b0eec-81dc-4108-bed7-1757ae527bac"
      },
      "execution_count": 30,
      "outputs": [
        {
          "output_type": "stream",
          "name": "stdout",
          "text": [
            "AUC:  0.9332320939857152\n"
          ]
        },
        {
          "output_type": "display_data",
          "data": {
            "text/plain": [
              "<Figure size 432x288 with 1 Axes>"
            ],
            "image/png": "[encoded data removed]"
          },
          "metadata": {
            "needs_background": "light"
          }
        }
      ]
    },
    {
      "cell_type": "code",
      "source": [
        "prediction=bagClassificationMLP.predict(X_testSelectedFeature)\n",
        "print('Accuracy = ', metrics.accuracy_score(y_test, prediction)*100)"
      ],
      "metadata": {
        "id": "CEoHemSDtqgc",
        "colab": {
          "base_uri": "https://localhost:8080/"
        },
        "outputId": "b6beb886-c0ce-4e26-f04a-1fa1f2050151"
      },
      "execution_count": 31,
      "outputs": [
        {
          "output_type": "stream",
          "name": "stdout",
          "text": [
            "Accuracy =  84.98583569405099\n"
          ]
        }
      ]
    },
    {
      "cell_type": "code",
      "source": [
        "from sklearn.svm import SVC\n",
        "SVM=SVC()\n",
        "SVM.fit(X_trainSelectedFeatureAfterSMOTE,y_train)\n"
      ],
      "metadata": {
        "id": "ZhtYF6qswzHG",
        "colab": {
          "base_uri": "https://localhost:8080/"
        },
        "outputId": "704d7b89-db76-4e7a-de1f-5507c5521720"
      },
      "execution_count": 32,
      "outputs": [
        {
          "output_type": "execute_result",
          "data": {
            "text/plain": [
              "SVC()"
            ]
          },
          "metadata": {},
          "execution_count": 32
        }
      ]
    },
    {
      "cell_type": "code",
      "source": [
        "y_prediction = SVM.predict(X_testSelectedFeature)\n",
        "from sklearn.metrics import classification_report,confusion_matrix\n",
        "cm1=confusion_matrix(y_test,y_prediction)\n",
        "import seaborn as sns\n",
        "sns.heatmap(cm1,annot=True)\n",
        "print(classification_report(y_test,y_prediction))"
      ],
      "metadata": {
        "id": "_vU9zDS4xHou",
        "colab": {
          "base_uri": "https://localhost:8080/",
          "height": 421
        },
        "outputId": "c3e594dd-29c9-42fe-931e-0bb6dbe256c6"
      },
      "execution_count": 33,
      "outputs": [
        {
          "output_type": "stream",
          "name": "stdout",
          "text": [
            "              precision    recall  f1-score   support\n",
            "\n",
            "           0       0.77      0.92      0.84       142\n",
            "           1       0.93      0.82      0.87       211\n",
            "\n",
            "    accuracy                           0.86       353\n",
            "   macro avg       0.85      0.87      0.85       353\n",
            "weighted avg       0.87      0.86      0.86       353\n",
            "\n"
          ]
        },
        {
          "output_type": "display_data",
          "data": {
            "text/plain": [
              "<Figure size 432x288 with 2 Axes>"
            ],
            "image/png": "[encoded data removed]"
          },
          "metadata": {
            "needs_background": "light"
          }
        }
      ]
    },
    {
      "cell_type": "code",
      "source": [
        "prediction=SVM.predict(X_testSelectedFeature)\n",
        "print('Accuracy = ', metrics.accuracy_score(y_test, prediction)*100)"
      ],
      "metadata": {
        "id": "sVckgRVLr8YX",
        "colab": {
          "base_uri": "https://localhost:8080/"
        },
        "outputId": "9761b93f-2ec9-48f7-f17a-e3fce94a7ab2"
      },
      "execution_count": 34,
      "outputs": [
        {
          "output_type": "stream",
          "name": "stdout",
          "text": [
            "Accuracy =  85.55240793201133\n"
          ]
        }
      ]
    },
    {
      "cell_type": "code",
      "source": [
        "y_predictionKNN_proba=SVM.predict_proba(X_testSelectedFeature)[:,1]\n",
        "AUCKNN=metrics.roc_auc_score(y_test,y_predictionKNN_proba)\n",
        "print(\"AUC: \",AUCKNN)\n",
        "fprKNN, tprKNN, thresholds = metrics.roc_curve(y_test,y_predictionKNN_proba)\n",
        "\n",
        "plt.plot(fprKNN,tprKNN,label=\"( area = \"+str(AUCKNN)+\" )\")\n",
        "plt.xlabel('False Positive Rate')\n",
        "plt.ylabel('True Positive Rate')\n",
        "plt.legend(loc=4)\n",
        "plt.show()"
      ],
      "metadata": {
        "id": "uVXnElhJsDj9",
        "colab": {
          "base_uri": "https://localhost:8080/",
          "height": 380
        },
        "outputId": "315d26dd-0986-46a4-888b-483a316da36d"
      },
      "execution_count": 35,
      "outputs": [
        {
          "output_type": "error",
          "ename": "AttributeError",
          "evalue": "ignored",
          "traceback": [
            "\u001b[0;31m---------------------------------------------------------------------------\u001b[0m",
            "\u001b[0;31mAttributeError\u001b[0m                            Traceback (most recent call last)",
            "\u001b[0;32m<ipython-input-35-be45df450609>\u001b[0m in \u001b[0;36m<module>\u001b[0;34m()\u001b[0m\n\u001b[0;32m----> 1\u001b[0;31m \u001b[0my_predictionKNN_proba\u001b[0m\u001b[0;34m=\u001b[0m\u001b[0mSVM\u001b[0m\u001b[0;34m.\u001b[0m\u001b[0mpredict_proba\u001b[0m\u001b[0;34m(\u001b[0m\u001b[0mX_testSelectedFeature\u001b[0m\u001b[0;34m)\u001b[0m\u001b[0;34m[\u001b[0m\u001b[0;34m:\u001b[0m\u001b[0;34m,\u001b[0m\u001b[0;36m1\u001b[0m\u001b[0;34m]\u001b[0m\u001b[0;34m\u001b[0m\u001b[0;34m\u001b[0m\u001b[0m\n\u001b[0m\u001b[1;32m      2\u001b[0m \u001b[0mAUCKNN\u001b[0m\u001b[0;34m=\u001b[0m\u001b[0mmetrics\u001b[0m\u001b[0;34m.\u001b[0m\u001b[0mroc_auc_score\u001b[0m\u001b[0;34m(\u001b[0m\u001b[0my_test\u001b[0m\u001b[0;34m,\u001b[0m\u001b[0my_predictionKNN_proba\u001b[0m\u001b[0;34m)\u001b[0m\u001b[0;34m\u001b[0m\u001b[0;34m\u001b[0m\u001b[0m\n\u001b[1;32m      3\u001b[0m \u001b[0mprint\u001b[0m\u001b[0;34m(\u001b[0m\u001b[0;34m\"AUC: \"\u001b[0m\u001b[0;34m,\u001b[0m\u001b[0mAUCKNN\u001b[0m\u001b[0;34m)\u001b[0m\u001b[0;34m\u001b[0m\u001b[0;34m\u001b[0m\u001b[0m\n\u001b[1;32m      4\u001b[0m \u001b[0mfprKNN\u001b[0m\u001b[0;34m,\u001b[0m \u001b[0mtprKNN\u001b[0m\u001b[0;34m,\u001b[0m \u001b[0mthresholds\u001b[0m \u001b[0;34m=\u001b[0m \u001b[0mmetrics\u001b[0m\u001b[0;34m.\u001b[0m\u001b[0mroc_curve\u001b[0m\u001b[0;34m(\u001b[0m\u001b[0my_test\u001b[0m\u001b[0;34m,\u001b[0m\u001b[0my_predictionKNN_proba\u001b[0m\u001b[0;34m)\u001b[0m\u001b[0;34m\u001b[0m\u001b[0;34m\u001b[0m\u001b[0m\n\u001b[1;32m      5\u001b[0m \u001b[0;34m\u001b[0m\u001b[0m\n",
            "\u001b[0;32m/usr/local/lib/python3.7/dist-packages/sklearn/utils/metaestimators.py\u001b[0m in \u001b[0;36m__get__\u001b[0;34m(self, obj, owner)\u001b[0m\n\u001b[1;32m    107\u001b[0m             \u001b[0;31m# delegate only on instances, not the classes.\u001b[0m\u001b[0;34m\u001b[0m\u001b[0;34m\u001b[0m\u001b[0;34m\u001b[0m\u001b[0m\n\u001b[1;32m    108\u001b[0m             \u001b[0;31m# this is to allow access to the docstrings.\u001b[0m\u001b[0;34m\u001b[0m\u001b[0;34m\u001b[0m\u001b[0;34m\u001b[0m\u001b[0m\n\u001b[0;32m--> 109\u001b[0;31m             \u001b[0;32mif\u001b[0m \u001b[0;32mnot\u001b[0m \u001b[0mself\u001b[0m\u001b[0;34m.\u001b[0m\u001b[0mcheck\u001b[0m\u001b[0;34m(\u001b[0m\u001b[0mobj\u001b[0m\u001b[0;34m)\u001b[0m\u001b[0;34m:\u001b[0m\u001b[0;34m\u001b[0m\u001b[0;34m\u001b[0m\u001b[0m\n\u001b[0m\u001b[1;32m    110\u001b[0m                 \u001b[0;32mraise\u001b[0m \u001b[0mattr_err\u001b[0m\u001b[0;34m\u001b[0m\u001b[0;34m\u001b[0m\u001b[0m\n\u001b[1;32m    111\u001b[0m \u001b[0;34m\u001b[0m\u001b[0m\n",
            "\u001b[0;32m/usr/local/lib/python3.7/dist-packages/sklearn/svm/_base.py\u001b[0m in \u001b[0;36m_check_proba\u001b[0;34m(self)\u001b[0m\n\u001b[1;32m    799\u001b[0m         \u001b[0;32mif\u001b[0m \u001b[0;32mnot\u001b[0m \u001b[0mself\u001b[0m\u001b[0;34m.\u001b[0m\u001b[0mprobability\u001b[0m\u001b[0;34m:\u001b[0m\u001b[0;34m\u001b[0m\u001b[0;34m\u001b[0m\u001b[0m\n\u001b[1;32m    800\u001b[0m             raise AttributeError(\n\u001b[0;32m--> 801\u001b[0;31m                 \u001b[0;34m\"predict_proba is not available when  probability=False\"\u001b[0m\u001b[0;34m\u001b[0m\u001b[0;34m\u001b[0m\u001b[0m\n\u001b[0m\u001b[1;32m    802\u001b[0m             )\n\u001b[1;32m    803\u001b[0m         \u001b[0;32mif\u001b[0m \u001b[0mself\u001b[0m\u001b[0;34m.\u001b[0m\u001b[0m_impl\u001b[0m \u001b[0;32mnot\u001b[0m \u001b[0;32min\u001b[0m \u001b[0;34m(\u001b[0m\u001b[0;34m\"c_svc\"\u001b[0m\u001b[0;34m,\u001b[0m \u001b[0;34m\"nu_svc\"\u001b[0m\u001b[0;34m)\u001b[0m\u001b[0;34m:\u001b[0m\u001b[0;34m\u001b[0m\u001b[0;34m\u001b[0m\u001b[0m\n",
            "\u001b[0;31mAttributeError\u001b[0m: predict_proba is not available when  probability=False"
          ]
        }
      ]
    },
    {
      "cell_type": "code",
      "source": [
        "from sklearn.tree import DecisionTreeClassifier\n",
        "DT=DecisionTreeClassifier()\n",
        "DT=DT.fit(X_trainSelectedFeatureAfterSMOTE,y_train)\n",
        "y4_predict_test=DT.predict(X_testSelectedFeature)\n",
        "cm4=confusion_matrix(y_test,y4_predict_test)\n",
        "sns.heatmap(cm4,annot=True)\n",
        "sns.heatmap(cm1,annot=True)\n",
        "print(classification_report(y_test,y4_predict_test))"
      ],
      "metadata": {
        "id": "TAsXG4neshA0",
        "colab": {
          "base_uri": "https://localhost:8080/",
          "height": 421
        },
        "outputId": "d2d64865-3f75-4fba-efb8-2630abae7ba1"
      },
      "execution_count": 36,
      "outputs": [
        {
          "output_type": "stream",
          "name": "stdout",
          "text": [
            "              precision    recall  f1-score   support\n",
            "\n",
            "           0       0.77      0.89      0.83       142\n",
            "           1       0.92      0.82      0.87       211\n",
            "\n",
            "    accuracy                           0.85       353\n",
            "   macro avg       0.84      0.86      0.85       353\n",
            "weighted avg       0.86      0.85      0.85       353\n",
            "\n"
          ]
        },
        {
          "output_type": "display_data",
          "data": {
            "text/plain": [
              "<Figure size 432x288 with 3 Axes>"
            ],
            "image/png": "[encoded data removed]"
          },
          "metadata": {
            "needs_background": "light"
          }
        }
      ]
    },
    {
      "cell_type": "code",
      "source": [
        "y_predictionKNN_proba=DT.predict_proba(X_testSelectedFeature)[:,1]\n",
        "AUCKNN=metrics.roc_auc_score(y_test,y_predictionKNN_proba)\n",
        "print(\"AUC: \",AUCKNN)\n",
        "fprKNN, tprKNN, thresholds = metrics.roc_curve(y_test,y_predictionKNN_proba)\n",
        "\n",
        "plt.plot(fprKNN,tprKNN,label=\"( area = \"+str(AUCKNN)+\" )\")\n",
        "plt.xlabel('False Positive Rate')\n",
        "plt.ylabel('True Positive Rate')\n",
        "plt.legend(loc=4)\n",
        "plt.show()"
      ],
      "metadata": {
        "id": "EZ2ezyr61j2V",
        "colab": {
          "base_uri": "https://localhost:8080/",
          "height": 296
        },
        "outputId": "6c60b2d8-cd27-4ff4-994f-d715f5cf02a1"
      },
      "execution_count": 37,
      "outputs": [
        {
          "output_type": "stream",
          "name": "stdout",
          "text": [
            "AUC:  0.9136239236366064\n"
          ]
        },
        {
          "output_type": "display_data",
          "data": {
            "text/plain": [
              "<Figure size 432x288 with 1 Axes>"
            ],
            "image/png": "[encoded data removed]"
          },
          "metadata": {
            "needs_background": "light"
          }
        }
      ]
    },
    {
      "cell_type": "code",
      "source": [
        "prediction=DT.predict(X_testSelectedFeature)\n",
        "print('Accuracy = ', metrics.accuracy_score(y_test, y4_predict_test)*100)"
      ],
      "metadata": {
        "id": "z6O8-fROtGW6",
        "colab": {
          "base_uri": "https://localhost:8080/"
        },
        "outputId": "dff12be4-d1bb-4784-d314-e4602f751fb9"
      },
      "execution_count": 38,
      "outputs": [
        {
          "output_type": "stream",
          "name": "stdout",
          "text": [
            "Accuracy =  84.98583569405099\n"
          ]
        }
      ]
    },
    {
      "cell_type": "code",
      "source": [
        "from sklearn.naive_bayes import BernoulliNB\n",
        "BNBmodel = BernoulliNB()\n",
        "BNBmodel.fit(X_trainSelectedFeatureAfterSMOTE, y_train)"
      ],
      "metadata": {
        "id": "aF0I9PActfeD",
        "colab": {
          "base_uri": "https://localhost:8080/"
        },
        "outputId": "3c8fea0a-95fb-4400-8371-2c754024b32a"
      },
      "execution_count": 39,
      "outputs": [
        {
          "output_type": "execute_result",
          "data": {
            "text/plain": [
              "BernoulliNB()"
            ]
          },
          "metadata": {},
          "execution_count": 39
        }
      ]
    },
    {
      "cell_type": "code",
      "source": [
        "y3_predict_test=BNBmodel.predict(X_testSelectedFeature)\n",
        "cm1=confusion_matrix(y_test,y3_predict_test)\n",
        "sns.heatmap(cm1,annot=True)\n",
        "print(classification_report(y_test,y3_predict_test))"
      ],
      "metadata": {
        "id": "Bykj_5fstnGx",
        "colab": {
          "base_uri": "https://localhost:8080/",
          "height": 421
        },
        "outputId": "946e4e75-d411-4037-9c99-cc1dc9839b0a"
      },
      "execution_count": 40,
      "outputs": [
        {
          "output_type": "stream",
          "name": "stdout",
          "text": [
            "              precision    recall  f1-score   support\n",
            "\n",
            "           0       0.74      0.89      0.81       142\n",
            "           1       0.91      0.79      0.85       211\n",
            "\n",
            "    accuracy                           0.83       353\n",
            "   macro avg       0.83      0.84      0.83       353\n",
            "weighted avg       0.84      0.83      0.83       353\n",
            "\n"
          ]
        },
        {
          "output_type": "display_data",
          "data": {
            "text/plain": [
              "<Figure size 432x288 with 2 Axes>"
            ],
            "image/png": "[encoded data removed]"
          },
          "metadata": {
            "needs_background": "light"
          }
        }
      ]
    },
    {
      "cell_type": "code",
      "source": [
        "prediction=BNBmodel.predict(X_testSelectedFeature)\n",
        "print('Accuracy = ', metrics.accuracy_score(y_test, y3_predict_test)*100)"
      ],
      "metadata": {
        "id": "0GYyUTxYt1d1",
        "colab": {
          "base_uri": "https://localhost:8080/"
        },
        "outputId": "ad888599-88ad-4149-d36d-aa8fc6d5ff8d"
      },
      "execution_count": 41,
      "outputs": [
        {
          "output_type": "stream",
          "name": "stdout",
          "text": [
            "Accuracy =  83.0028328611898\n"
          ]
        }
      ]
    },
    {
      "cell_type": "code",
      "source": [
        "y_predictionKNN_proba=BNBmodel.predict_proba(X_testSelectedFeature)[:,1]\n",
        "AUCKNN=metrics.roc_auc_score(y_test,y_predictionKNN_proba)\n",
        "print(\"AUC: \",AUCKNN)\n",
        "fprKNN, tprKNN, thresholds = metrics.roc_curve(y_test,y_predictionKNN_proba)\n",
        "\n",
        "plt.plot(fprKNN,tprKNN,label=\"( area = \"+str(AUCKNN)+\" )\")\n",
        "plt.xlabel('False Positive Rate')\n",
        "plt.ylabel('True Positive Rate')\n",
        "plt.legend(loc=4)\n",
        "plt.show()"
      ],
      "metadata": {
        "id": "jLu-2YCD2-Q4",
        "colab": {
          "base_uri": "https://localhost:8080/",
          "height": 296
        },
        "outputId": "25969c4d-752f-4d07-8151-3fc662b158d8"
      },
      "execution_count": 42,
      "outputs": [
        {
          "output_type": "stream",
          "name": "stdout",
          "text": [
            "AUC:  0.9175789333155331\n"
          ]
        },
        {
          "output_type": "display_data",
          "data": {
            "text/plain": [
              "<Figure size 432x288 with 1 Axes>"
            ],
            "image/png": "[encoded data removed]"
          },
          "metadata": {
            "needs_background": "light"
          }
        }
      ]
    },
    {
      "cell_type": "code",
      "source": [
        "from sklearn.naive_bayes import MultinomialNB\n",
        "NB=MultinomialNB()\n",
        "NB.fit(X_trainSelectedFeatureAfterSMOTE,y_train)"
      ],
      "metadata": {
        "id": "dq_l-8Bet-B7",
        "colab": {
          "base_uri": "https://localhost:8080/"
        },
        "outputId": "d36f816c-1eb0-4738-c9b2-5e4a8d1e079f"
      },
      "execution_count": 43,
      "outputs": [
        {
          "output_type": "execute_result",
          "data": {
            "text/plain": [
              "MultinomialNB()"
            ]
          },
          "metadata": {},
          "execution_count": 43
        }
      ]
    },
    {
      "cell_type": "code",
      "source": [
        "y2_predict_test=NB.predict(X_testSelectedFeature)\n",
        "cm2=confusion_matrix(y_test,y2_predict_test)\n",
        "sns.heatmap(cm2,annot=True)\n",
        "print(classification_report(y_test,y2_predict_test))"
      ],
      "metadata": {
        "id": "wR7i2a6WuFjA",
        "colab": {
          "base_uri": "https://localhost:8080/",
          "height": 421
        },
        "outputId": "e81da10a-d9af-4d31-b7a2-b0e5e3f49b1b"
      },
      "execution_count": 44,
      "outputs": [
        {
          "output_type": "stream",
          "name": "stdout",
          "text": [
            "              precision    recall  f1-score   support\n",
            "\n",
            "           0       0.72      0.87      0.79       142\n",
            "           1       0.90      0.78      0.83       211\n",
            "\n",
            "    accuracy                           0.81       353\n",
            "   macro avg       0.81      0.82      0.81       353\n",
            "weighted avg       0.83      0.81      0.81       353\n",
            "\n"
          ]
        },
        {
          "output_type": "display_data",
          "data": {
            "text/plain": [
              "<Figure size 432x288 with 2 Axes>"
            ],
            "image/png": "[encoded data removed]"
          },
          "metadata": {
            "needs_background": "light"
          }
        }
      ]
    },
    {
      "cell_type": "code",
      "source": [
        "y_predictionKNN_proba=NB.predict_proba(X_testSelectedFeature)[:,1]\n",
        "AUCKNN=metrics.roc_auc_score(y_test,y_predictionKNN_proba)\n",
        "print(\"AUC: \",AUCKNN)\n",
        "fprKNN, tprKNN, thresholds = metrics.roc_curve(y_test,y_predictionKNN_proba)\n",
        "\n",
        "plt.plot(fprKNN,tprKNN,label=\"( area = \"+str(AUCKNN)+\" )\")\n",
        "plt.xlabel('False Positive Rate')\n",
        "plt.ylabel('True Positive Rate')\n",
        "plt.legend(loc=4)\n",
        "plt.show()"
      ],
      "metadata": {
        "id": "1Z9wdo7_37eZ",
        "colab": {
          "base_uri": "https://localhost:8080/",
          "height": 296
        },
        "outputId": "68cdfcc7-db90-4c73-cf5d-196a40953d71"
      },
      "execution_count": 45,
      "outputs": [
        {
          "output_type": "stream",
          "name": "stdout",
          "text": [
            "AUC:  0.9027935384820772\n"
          ]
        },
        {
          "output_type": "display_data",
          "data": {
            "text/plain": [
              "<Figure size 432x288 with 1 Axes>"
            ],
            "image/png": "[encoded data removed]"
          },
          "metadata": {
            "needs_background": "light"
          }
        }
      ]
    },
    {
      "cell_type": "code",
      "source": [
        "prediction=NB.predict(X_testSelectedFeature)\n",
        "print('Accuracy = ', metrics.accuracy_score(y_test, y2_predict_test)*100)"
      ],
      "metadata": {
        "id": "2dh7yeNbuTfq",
        "colab": {
          "base_uri": "https://localhost:8080/"
        },
        "outputId": "0acbe1a8-7237-47a2-c0e3-2320850f7c97"
      },
      "execution_count": 46,
      "outputs": [
        {
          "output_type": "stream",
          "name": "stdout",
          "text": [
            "Accuracy =  81.30311614730878\n"
          ]
        }
      ]
    },
    {
      "cell_type": "code",
      "source": [
        ""
      ],
      "metadata": {
        "id": "n2LFLnNX8YlH"
      },
      "execution_count": 46,
      "outputs": []
    },
    {
      "cell_type": "code",
      "source": [
        "# Import Library\n",
        "import numpy as np \n",
        "import matplotlib.pyplot as plt \n",
        "\n",
        "# Define Data\n",
        "data3 = ['SelectKBest']\n",
        "xvals = [69.33]\n",
        "yvals = [72]\n",
        "zvals = [69.33]\n",
        "avals = [72.0]\n",
        "bvals = [72.0]\n",
        "\n",
        "x_axis = np.arange(len(data3))\n",
        "\n",
        "# Multi bar Chart\n",
        "plt.bar(x_axis +0.1, xvals, width=0.07, label = 'KNN')\n",
        "plt.bar(x_axis +0.1*2, yvals, width=0.07, label = 'AdaBoost')\n",
        "plt.bar(x_axis +0.1*3, zvals, width=0.07, label = 'GradientBoost')\n",
        "plt.bar(x_axis +0.1*4, avals, width=0.07, label = 'XGBoost')\n",
        "plt.bar(x_axis +0.1*5, bvals, width=0.07, label = 'Bagging')\n",
        "\n",
        "# Xticks\n",
        "plt.xticks(x_axis,data3)\n",
        "plt.ylabel(\"Accuracy (%)\")\n",
        "plt.xlabel(\"Experiments on classification \")\n",
        "plt.title(\"Comparitive analysis using Boruta\")\n",
        "plt.legend()\n",
        "plt.show()"
      ],
      "metadata": {
        "id": "zptjWHbG3o2B",
        "outputId": "76ed55d3-49df-40db-8af4-b08df3a2ed30",
        "colab": {
          "base_uri": "https://localhost:8080/",
          "height": 278
        }
      },
      "execution_count": 47,
      "outputs": [
        {
          "output_type": "display_data",
          "data": {
            "text/plain": [
              "<Figure size 432x288 with 1 Axes>"
            ],
            "image/png": "[encoded data removed]"
          },
          "metadata": {
            "needs_background": "light"
          }
        }
      ]
    },
    {
      "cell_type": "code",
      "source": [
        "plt.figure()\n",
        "\n",
        "#plt.plot(fprRBF,tprRBF,label=\"SVM (AUC: 0.95)\")\n",
        "plt.plot(fprKNN,tprKNN,label=\"KNN (AUC: 0.66)\")\n",
        "#plt.plot(fprDT,tprDT,label=\"DT (AUC: 0.86)\")\n",
        "#plt.plot(fprRF,tprRF,label=\"RF (AUC: 0.90)\")\n",
        "plt.plot(fprAda,tprAda,label=\"AdaBoost (AUC: 0.81)\")\n",
        "#plt.plot(fprMLP,tprMLP,label=\"MLP (AUC: 0.96)\")\n",
        "plt.plot(fprGradientBoost,tprGradientBoost,label=\"GB (AUC: 0.79)\")\n",
        "plt.plot(fprXgB,tprXgB,label=\"XGBoost (AUC: 0.78)\")\n",
        "plt.plot(fprBagMLP,tprBagMLP,label=\"Bagging (AUC: 0.80)\")\n",
        "\n",
        "\n",
        "plt.plot([0, 1], [0, 1], color='navy', linestyle='--')\n",
        "plt.xlabel('False Positive Rate')\n",
        "plt.ylabel('True Positive Rate')\n",
        "plt.legend(loc=4)\n",
        "plt.savefig('Without feature selection-SMOTE-ROCNew.png',dpi=1000)\n",
        "plt.show()"
      ],
      "metadata": {
        "id": "uTUeCMICMr7M",
        "outputId": "1bbf082a-9ad8-4c6e-c3d7-7b4e7e18d964",
        "colab": {
          "base_uri": "https://localhost:8080/",
          "height": 279
        }
      },
      "execution_count": 48,
      "outputs": [
        {
          "output_type": "display_data",
          "data": {
            "text/plain": [
              "<Figure size 432x288 with 1 Axes>"
            ],
            "image/png": "[encoded data removed]"
          },
          "metadata": {
            "needs_background": "light"
          }
        }
      ]
    },
    {
      "cell_type": "code",
      "source": [
        "X_train = X_trainSelectedFeatureAfterSMOTE.to_numpy()\n",
        "y_train = y_train.to_numpy().squeeze()\n",
        "X_test  = X_testSelectedFeature.to_numpy()\n"
      ],
      "metadata": {
        "id": "89s8f-1k8bqK"
      },
      "execution_count": 49,
      "outputs": []
    },
    {
      "cell_type": "code",
      "source": [
        "import numpy  as np\n",
        "import pandas as pd\n",
        "!pip install pytorch-tabnet\n",
        "from pytorch_tabnet.tab_model import TabNetClassifier\n",
        "import torch\n",
        "\n",
        "\n",
        "classifier = TabNetClassifier(optimizer_fn=torch.optim.Adam,\n",
        "                       optimizer_params=dict(lr=1e-2),\n",
        "                       scheduler_params={\"step_size\":10,\"gamma\":0.9},\n",
        "                       scheduler_fn=torch.optim.lr_scheduler.StepLR,\n",
        "                       mask_type='entmax')\n"
      ],
      "metadata": {
        "colab": {
          "base_uri": "https://localhost:8080/"
        },
        "id": "Lrx4YyBBElW-",
        "outputId": "c7738ee6-26b7-4228-f7d1-ec8fc353c007"
      },
      "execution_count": 50,
      "outputs": [
        {
          "output_type": "stream",
          "name": "stdout",
          "text": [
            "Looking in indexes: https://pypi.org/simple, https://us-python.pkg.dev/colab-wheels/public/simple/\n",
            "Collecting pytorch-tabnet\n",
            "  Downloading pytorch_tabnet-3.1.1-py3-none-any.whl (39 kB)\n",
            "Requirement already satisfied: torch<2.0,>=1.2 in /usr/local/lib/python3.7/dist-packages (from pytorch-tabnet) (1.11.0+cu113)\n",
            "Requirement already satisfied: scipy>1.4 in /usr/local/lib/python3.7/dist-packages (from pytorch-tabnet) (1.4.1)\n",
            "Requirement already satisfied: tqdm<5.0,>=4.36 in /usr/local/lib/python3.7/dist-packages (from pytorch-tabnet) (4.64.0)\n",
            "Requirement already satisfied: scikit_learn>0.21 in /usr/local/lib/python3.7/dist-packages (from pytorch-tabnet) (1.0.2)\n",
            "Requirement already satisfied: numpy<2.0,>=1.17 in /usr/local/lib/python3.7/dist-packages (from pytorch-tabnet) (1.21.6)\n",
            "Requirement already satisfied: joblib>=0.11 in /usr/local/lib/python3.7/dist-packages (from scikit_learn>0.21->pytorch-tabnet) (1.1.0)\n",
            "Requirement already satisfied: threadpoolctl>=2.0.0 in /usr/local/lib/python3.7/dist-packages (from scikit_learn>0.21->pytorch-tabnet) (3.1.0)\n",
            "Requirement already satisfied: typing-extensions in /usr/local/lib/python3.7/dist-packages (from torch<2.0,>=1.2->pytorch-tabnet) (4.2.0)\n",
            "Installing collected packages: pytorch-tabnet\n",
            "Successfully installed pytorch-tabnet-3.1.1\n",
            "Device used : cpu\n"
          ]
        }
      ]
    },
    {
      "cell_type": "code",
      "source": [
        "classifier.fit(X_train=X_train, y_train=y_train,\n",
        "               patience=5,max_epochs=333,\n",
        "               eval_metric=['auc'])"
      ],
      "metadata": {
        "colab": {
          "base_uri": "https://localhost:8080/"
        },
        "id": "e84yXhu-I1xc",
        "outputId": "0365ae80-a5a3-4e50-b24d-f3b16ef4055d"
      },
      "execution_count": 51,
      "outputs": [
        {
          "output_type": "stream",
          "name": "stdout",
          "text": [
            "No early stopping will be performed, last training weights will be used.\n",
            "epoch 0  | loss: 0.87474 |  0:00:00s\n",
            "epoch 1  | loss: 0.68465 |  0:00:00s\n",
            "epoch 2  | loss: 0.58996 |  0:00:00s\n",
            "epoch 3  | loss: 0.54439 |  0:00:00s\n",
            "epoch 4  | loss: 0.51066 |  0:00:00s\n",
            "epoch 5  | loss: 0.48029 |  0:00:00s\n",
            "epoch 6  | loss: 0.4431  |  0:00:00s\n",
            "epoch 7  | loss: 0.42958 |  0:00:00s\n",
            "epoch 8  | loss: 0.40002 |  0:00:00s\n",
            "epoch 9  | loss: 0.38123 |  0:00:00s\n",
            "epoch 10 | loss: 0.3806  |  0:00:00s\n",
            "epoch 11 | loss: 0.36844 |  0:00:00s\n",
            "epoch 12 | loss: 0.35963 |  0:00:01s\n",
            "epoch 13 | loss: 0.35961 |  0:00:01s\n",
            "epoch 14 | loss: 0.33898 |  0:00:01s\n",
            "epoch 15 | loss: 0.32446 |  0:00:01s\n",
            "epoch 16 | loss: 0.32421 |  0:00:01s\n",
            "epoch 17 | loss: 0.31703 |  0:00:01s\n",
            "epoch 18 | loss: 0.31682 |  0:00:01s\n",
            "epoch 19 | loss: 0.30582 |  0:00:01s\n",
            "epoch 20 | loss: 0.29666 |  0:00:01s\n",
            "epoch 21 | loss: 0.30796 |  0:00:01s\n",
            "epoch 22 | loss: 0.29075 |  0:00:01s\n",
            "epoch 23 | loss: 0.27608 |  0:00:01s\n",
            "epoch 24 | loss: 0.28381 |  0:00:02s\n",
            "epoch 25 | loss: 0.2716  |  0:00:02s\n",
            "epoch 26 | loss: 0.28117 |  0:00:02s\n",
            "epoch 27 | loss: 0.26886 |  0:00:02s\n",
            "epoch 28 | loss: 0.27988 |  0:00:02s\n",
            "epoch 29 | loss: 0.25632 |  0:00:02s\n",
            "epoch 30 | loss: 0.27404 |  0:00:02s\n",
            "epoch 31 | loss: 0.25118 |  0:00:02s\n",
            "epoch 32 | loss: 0.26186 |  0:00:02s\n",
            "epoch 33 | loss: 0.24839 |  0:00:02s\n",
            "epoch 34 | loss: 0.25085 |  0:00:02s\n",
            "epoch 35 | loss: 0.25334 |  0:00:02s\n",
            "epoch 36 | loss: 0.25502 |  0:00:02s\n",
            "epoch 37 | loss: 0.25308 |  0:00:02s\n",
            "epoch 38 | loss: 0.24834 |  0:00:03s\n",
            "epoch 39 | loss: 0.24401 |  0:00:03s\n",
            "epoch 40 | loss: 0.23289 |  0:00:03s\n",
            "epoch 41 | loss: 0.23793 |  0:00:03s\n",
            "epoch 42 | loss: 0.23855 |  0:00:03s\n",
            "epoch 43 | loss: 0.24046 |  0:00:03s\n",
            "epoch 44 | loss: 0.22807 |  0:00:03s\n",
            "epoch 45 | loss: 0.2247  |  0:00:03s\n",
            "epoch 46 | loss: 0.23443 |  0:00:03s\n",
            "epoch 47 | loss: 0.23134 |  0:00:03s\n",
            "epoch 48 | loss: 0.22415 |  0:00:03s\n",
            "epoch 49 | loss: 0.22372 |  0:00:03s\n",
            "epoch 50 | loss: 0.22391 |  0:00:03s\n",
            "epoch 51 | loss: 0.21778 |  0:00:04s\n",
            "epoch 52 | loss: 0.21987 |  0:00:04s\n",
            "epoch 53 | loss: 0.21528 |  0:00:04s\n",
            "epoch 54 | loss: 0.21161 |  0:00:04s\n",
            "epoch 55 | loss: 0.2114  |  0:00:04s\n",
            "epoch 56 | loss: 0.21559 |  0:00:04s\n",
            "epoch 57 | loss: 0.20888 |  0:00:04s\n",
            "epoch 58 | loss: 0.21257 |  0:00:04s\n",
            "epoch 59 | loss: 0.20027 |  0:00:04s\n",
            "epoch 60 | loss: 0.19999 |  0:00:04s\n",
            "epoch 61 | loss: 0.2045  |  0:00:05s\n",
            "epoch 62 | loss: 0.21449 |  0:00:05s\n",
            "epoch 63 | loss: 0.20841 |  0:00:05s\n",
            "epoch 64 | loss: 0.20715 |  0:00:05s\n",
            "epoch 65 | loss: 0.19799 |  0:00:05s\n",
            "epoch 66 | loss: 0.20077 |  0:00:05s\n",
            "epoch 67 | loss: 0.19682 |  0:00:05s\n",
            "epoch 68 | loss: 0.20947 |  0:00:05s\n",
            "epoch 69 | loss: 0.19681 |  0:00:05s\n",
            "epoch 70 | loss: 0.18882 |  0:00:05s\n",
            "epoch 71 | loss: 0.19897 |  0:00:05s\n",
            "epoch 72 | loss: 0.19132 |  0:00:05s\n",
            "epoch 73 | loss: 0.1865  |  0:00:05s\n",
            "epoch 74 | loss: 0.19737 |  0:00:05s\n",
            "epoch 75 | loss: 0.18602 |  0:00:06s\n",
            "epoch 76 | loss: 0.20088 |  0:00:06s\n",
            "epoch 77 | loss: 0.18896 |  0:00:06s\n",
            "epoch 78 | loss: 0.18714 |  0:00:06s\n",
            "epoch 79 | loss: 0.18473 |  0:00:06s\n",
            "epoch 80 | loss: 0.17962 |  0:00:06s\n",
            "epoch 81 | loss: 0.19284 |  0:00:06s\n",
            "epoch 82 | loss: 0.18912 |  0:00:06s\n",
            "epoch 83 | loss: 0.18641 |  0:00:06s\n",
            "epoch 84 | loss: 0.18615 |  0:00:06s\n",
            "epoch 85 | loss: 0.18608 |  0:00:06s\n",
            "epoch 86 | loss: 0.19845 |  0:00:06s\n",
            "epoch 87 | loss: 0.18646 |  0:00:06s\n",
            "epoch 88 | loss: 0.18179 |  0:00:06s\n",
            "epoch 89 | loss: 0.17494 |  0:00:07s\n",
            "epoch 90 | loss: 0.18006 |  0:00:07s\n",
            "epoch 91 | loss: 0.18631 |  0:00:07s\n",
            "epoch 92 | loss: 0.17761 |  0:00:07s\n",
            "epoch 93 | loss: 0.18063 |  0:00:07s\n",
            "epoch 94 | loss: 0.18958 |  0:00:07s\n",
            "epoch 95 | loss: 0.18351 |  0:00:07s\n",
            "epoch 96 | loss: 0.18679 |  0:00:07s\n",
            "epoch 97 | loss: 0.19393 |  0:00:07s\n",
            "epoch 98 | loss: 0.18624 |  0:00:07s\n",
            "epoch 99 | loss: 0.17659 |  0:00:08s\n",
            "epoch 100| loss: 0.18381 |  0:00:08s\n",
            "epoch 101| loss: 0.18881 |  0:00:08s\n",
            "epoch 102| loss: 0.17865 |  0:00:08s\n",
            "epoch 103| loss: 0.17336 |  0:00:08s\n",
            "epoch 104| loss: 0.17539 |  0:00:08s\n",
            "epoch 105| loss: 0.18387 |  0:00:08s\n",
            "epoch 106| loss: 0.17395 |  0:00:09s\n",
            "epoch 107| loss: 0.16873 |  0:00:09s\n",
            "epoch 108| loss: 0.17805 |  0:00:09s\n",
            "epoch 109| loss: 0.17914 |  0:00:09s\n",
            "epoch 110| loss: 0.16391 |  0:00:09s\n",
            "epoch 111| loss: 0.16959 |  0:00:09s\n",
            "epoch 112| loss: 0.15621 |  0:00:10s\n",
            "epoch 113| loss: 0.1805  |  0:00:10s\n",
            "epoch 114| loss: 0.17751 |  0:00:10s\n",
            "epoch 115| loss: 0.17057 |  0:00:10s\n",
            "epoch 116| loss: 0.17999 |  0:00:10s\n",
            "epoch 117| loss: 0.17599 |  0:00:10s\n",
            "epoch 118| loss: 0.16335 |  0:00:11s\n",
            "epoch 119| loss: 0.16388 |  0:00:11s\n",
            "epoch 120| loss: 0.15977 |  0:00:11s\n",
            "epoch 121| loss: 0.16977 |  0:00:11s\n",
            "epoch 122| loss: 0.16717 |  0:00:11s\n",
            "epoch 123| loss: 0.168   |  0:00:11s\n",
            "epoch 124| loss: 0.17284 |  0:00:12s\n",
            "epoch 125| loss: 0.16153 |  0:00:12s\n",
            "epoch 126| loss: 0.16913 |  0:00:12s\n",
            "epoch 127| loss: 0.16784 |  0:00:12s\n",
            "epoch 128| loss: 0.15636 |  0:00:12s\n",
            "epoch 129| loss: 0.16442 |  0:00:12s\n",
            "epoch 130| loss: 0.17648 |  0:00:13s\n",
            "epoch 131| loss: 0.16528 |  0:00:13s\n",
            "epoch 132| loss: 0.1663  |  0:00:13s\n",
            "epoch 133| loss: 0.15504 |  0:00:13s\n",
            "epoch 134| loss: 0.16511 |  0:00:13s\n",
            "epoch 135| loss: 0.16517 |  0:00:14s\n",
            "epoch 136| loss: 0.15811 |  0:00:14s\n",
            "epoch 137| loss: 0.15456 |  0:00:14s\n",
            "epoch 138| loss: 0.16313 |  0:00:14s\n",
            "epoch 139| loss: 0.15433 |  0:00:14s\n",
            "epoch 140| loss: 0.15365 |  0:00:14s\n",
            "epoch 141| loss: 0.15978 |  0:00:14s\n",
            "epoch 142| loss: 0.15454 |  0:00:15s\n",
            "epoch 143| loss: 0.17628 |  0:00:15s\n",
            "epoch 144| loss: 0.15939 |  0:00:15s\n",
            "epoch 145| loss: 0.15772 |  0:00:15s\n",
            "epoch 146| loss: 0.15908 |  0:00:15s\n",
            "epoch 147| loss: 0.15454 |  0:00:15s\n",
            "epoch 148| loss: 0.1554  |  0:00:16s\n",
            "epoch 149| loss: 0.14781 |  0:00:16s\n",
            "epoch 150| loss: 0.16167 |  0:00:16s\n",
            "epoch 151| loss: 0.15515 |  0:00:16s\n",
            "epoch 152| loss: 0.15029 |  0:00:16s\n",
            "epoch 153| loss: 0.14841 |  0:00:16s\n",
            "epoch 154| loss: 0.15318 |  0:00:16s\n",
            "epoch 155| loss: 0.15406 |  0:00:17s\n",
            "epoch 156| loss: 0.15581 |  0:00:17s\n",
            "epoch 157| loss: 0.14226 |  0:00:17s\n",
            "epoch 158| loss: 0.14464 |  0:00:17s\n",
            "epoch 159| loss: 0.15986 |  0:00:17s\n",
            "epoch 160| loss: 0.16177 |  0:00:17s\n",
            "epoch 161| loss: 0.14322 |  0:00:18s\n",
            "epoch 162| loss: 0.1578  |  0:00:18s\n",
            "epoch 163| loss: 0.15831 |  0:00:18s\n",
            "epoch 164| loss: 0.14665 |  0:00:18s\n",
            "epoch 165| loss: 0.15025 |  0:00:18s\n",
            "epoch 166| loss: 0.15365 |  0:00:18s\n",
            "epoch 167| loss: 0.15453 |  0:00:18s\n",
            "epoch 168| loss: 0.14526 |  0:00:19s\n",
            "epoch 169| loss: 0.14837 |  0:00:19s\n",
            "epoch 170| loss: 0.14842 |  0:00:19s\n",
            "epoch 171| loss: 0.14936 |  0:00:19s\n",
            "epoch 172| loss: 0.14613 |  0:00:19s\n",
            "epoch 173| loss: 0.14704 |  0:00:19s\n",
            "epoch 174| loss: 0.14437 |  0:00:20s\n",
            "epoch 175| loss: 0.14179 |  0:00:20s\n",
            "epoch 176| loss: 0.14576 |  0:00:20s\n",
            "epoch 177| loss: 0.15356 |  0:00:20s\n",
            "epoch 178| loss: 0.15276 |  0:00:20s\n",
            "epoch 179| loss: 0.14251 |  0:00:21s\n",
            "epoch 180| loss: 0.14557 |  0:00:21s\n",
            "epoch 181| loss: 0.14892 |  0:00:21s\n",
            "epoch 182| loss: 0.13965 |  0:00:21s\n",
            "epoch 183| loss: 0.15045 |  0:00:22s\n",
            "epoch 184| loss: 0.14601 |  0:00:22s\n",
            "epoch 185| loss: 0.14889 |  0:00:22s\n",
            "epoch 186| loss: 0.14492 |  0:00:22s\n",
            "epoch 187| loss: 0.1448  |  0:00:23s\n",
            "epoch 188| loss: 0.15875 |  0:00:23s\n",
            "epoch 189| loss: 0.14104 |  0:00:23s\n",
            "epoch 190| loss: 0.13927 |  0:00:23s\n",
            "epoch 191| loss: 0.14368 |  0:00:24s\n",
            "epoch 192| loss: 0.15093 |  0:00:24s\n",
            "epoch 193| loss: 0.15173 |  0:00:24s\n",
            "epoch 194| loss: 0.1405  |  0:00:24s\n",
            "epoch 195| loss: 0.14372 |  0:00:24s\n",
            "epoch 196| loss: 0.1399  |  0:00:24s\n",
            "epoch 197| loss: 0.14433 |  0:00:25s\n",
            "epoch 198| loss: 0.14773 |  0:00:25s\n",
            "epoch 199| loss: 0.14877 |  0:00:25s\n",
            "epoch 200| loss: 0.14211 |  0:00:25s\n",
            "epoch 201| loss: 0.14471 |  0:00:25s\n",
            "epoch 202| loss: 0.14827 |  0:00:26s\n",
            "epoch 203| loss: 0.13488 |  0:00:26s\n",
            "epoch 204| loss: 0.1456  |  0:00:26s\n",
            "epoch 205| loss: 0.13336 |  0:00:26s\n",
            "epoch 206| loss: 0.14338 |  0:00:26s\n",
            "epoch 207| loss: 0.1406  |  0:00:26s\n",
            "epoch 208| loss: 0.13716 |  0:00:26s\n",
            "epoch 209| loss: 0.14827 |  0:00:27s\n",
            "epoch 210| loss: 0.13617 |  0:00:27s\n",
            "epoch 211| loss: 0.13526 |  0:00:27s\n",
            "epoch 212| loss: 0.13922 |  0:00:27s\n",
            "epoch 213| loss: 0.15866 |  0:00:27s\n",
            "epoch 214| loss: 0.12798 |  0:00:27s\n",
            "epoch 215| loss: 0.13787 |  0:00:28s\n",
            "epoch 216| loss: 0.146   |  0:00:28s\n",
            "epoch 217| loss: 0.14411 |  0:00:28s\n",
            "epoch 218| loss: 0.14933 |  0:00:28s\n",
            "epoch 219| loss: 0.15196 |  0:00:28s\n",
            "epoch 220| loss: 0.15173 |  0:00:28s\n",
            "epoch 221| loss: 0.13782 |  0:00:29s\n",
            "epoch 222| loss: 0.14463 |  0:00:29s\n",
            "epoch 223| loss: 0.13849 |  0:00:29s\n",
            "epoch 224| loss: 0.13721 |  0:00:29s\n",
            "epoch 225| loss: 0.13492 |  0:00:29s\n",
            "epoch 226| loss: 0.14472 |  0:00:29s\n",
            "epoch 227| loss: 0.13712 |  0:00:30s\n",
            "epoch 228| loss: 0.14292 |  0:00:30s\n",
            "epoch 229| loss: 0.13687 |  0:00:30s\n",
            "epoch 230| loss: 0.13484 |  0:00:30s\n",
            "epoch 231| loss: 0.14818 |  0:00:30s\n",
            "epoch 232| loss: 0.1434  |  0:00:30s\n",
            "epoch 233| loss: 0.14627 |  0:00:31s\n",
            "epoch 234| loss: 0.14675 |  0:00:31s\n",
            "epoch 235| loss: 0.13436 |  0:00:31s\n",
            "epoch 236| loss: 0.13777 |  0:00:31s\n",
            "epoch 237| loss: 0.13845 |  0:00:31s\n",
            "epoch 238| loss: 0.1435  |  0:00:31s\n",
            "epoch 239| loss: 0.14943 |  0:00:31s\n",
            "epoch 240| loss: 0.14708 |  0:00:31s\n",
            "epoch 241| loss: 0.1382  |  0:00:32s\n",
            "epoch 242| loss: 0.13948 |  0:00:32s\n",
            "epoch 243| loss: 0.13963 |  0:00:32s\n",
            "epoch 244| loss: 0.14022 |  0:00:32s\n",
            "epoch 245| loss: 0.14215 |  0:00:32s\n",
            "epoch 246| loss: 0.1398  |  0:00:33s\n",
            "epoch 247| loss: 0.13729 |  0:00:33s\n",
            "epoch 248| loss: 0.15177 |  0:00:33s\n",
            "epoch 249| loss: 0.14631 |  0:00:33s\n",
            "epoch 250| loss: 0.14282 |  0:00:34s\n",
            "epoch 251| loss: 0.1462  |  0:00:34s\n",
            "epoch 252| loss: 0.1328  |  0:00:34s\n",
            "epoch 253| loss: 0.14155 |  0:00:34s\n",
            "epoch 254| loss: 0.14325 |  0:00:34s\n",
            "epoch 255| loss: 0.13812 |  0:00:35s\n",
            "epoch 256| loss: 0.1357  |  0:00:35s\n",
            "epoch 257| loss: 0.14371 |  0:00:35s\n",
            "epoch 258| loss: 0.13928 |  0:00:35s\n",
            "epoch 259| loss: 0.14054 |  0:00:35s\n",
            "epoch 260| loss: 0.13276 |  0:00:35s\n",
            "epoch 261| loss: 0.13596 |  0:00:35s\n",
            "epoch 262| loss: 0.14349 |  0:00:36s\n",
            "epoch 263| loss: 0.1337  |  0:00:36s\n",
            "epoch 264| loss: 0.14053 |  0:00:36s\n",
            "epoch 265| loss: 0.13351 |  0:00:36s\n",
            "epoch 266| loss: 0.13945 |  0:00:36s\n",
            "epoch 267| loss: 0.13825 |  0:00:36s\n",
            "epoch 268| loss: 0.13904 |  0:00:36s\n",
            "epoch 269| loss: 0.13719 |  0:00:37s\n",
            "epoch 270| loss: 0.13637 |  0:00:37s\n",
            "epoch 271| loss: 0.13135 |  0:00:37s\n",
            "epoch 272| loss: 0.13233 |  0:00:37s\n",
            "epoch 273| loss: 0.13535 |  0:00:37s\n",
            "epoch 274| loss: 0.13276 |  0:00:37s\n",
            "epoch 275| loss: 0.13384 |  0:00:37s\n",
            "epoch 276| loss: 0.13169 |  0:00:37s\n",
            "epoch 277| loss: 0.13333 |  0:00:38s\n",
            "epoch 278| loss: 0.1365  |  0:00:38s\n",
            "epoch 279| loss: 0.13543 |  0:00:38s\n",
            "epoch 280| loss: 0.13387 |  0:00:38s\n",
            "epoch 281| loss: 0.13454 |  0:00:38s\n",
            "epoch 282| loss: 0.13555 |  0:00:38s\n",
            "epoch 283| loss: 0.13153 |  0:00:38s\n",
            "epoch 284| loss: 0.12912 |  0:00:39s\n",
            "epoch 285| loss: 0.13506 |  0:00:39s\n",
            "epoch 286| loss: 0.13987 |  0:00:39s\n",
            "epoch 287| loss: 0.13262 |  0:00:39s\n",
            "epoch 288| loss: 0.14952 |  0:00:39s\n",
            "epoch 289| loss: 0.12937 |  0:00:39s\n",
            "epoch 290| loss: 0.12897 |  0:00:40s\n",
            "epoch 291| loss: 0.13271 |  0:00:40s\n",
            "epoch 292| loss: 0.12923 |  0:00:40s\n",
            "epoch 293| loss: 0.13655 |  0:00:40s\n",
            "epoch 294| loss: 0.14146 |  0:00:40s\n",
            "epoch 295| loss: 0.13373 |  0:00:40s\n",
            "epoch 296| loss: 0.13349 |  0:00:41s\n",
            "epoch 297| loss: 0.13516 |  0:00:41s\n",
            "epoch 298| loss: 0.13379 |  0:00:41s\n",
            "epoch 299| loss: 0.14185 |  0:00:41s\n",
            "epoch 300| loss: 0.14393 |  0:00:41s\n",
            "epoch 301| loss: 0.13315 |  0:00:41s\n",
            "epoch 302| loss: 0.13356 |  0:00:41s\n",
            "epoch 303| loss: 0.1348  |  0:00:42s\n",
            "epoch 304| loss: 0.13218 |  0:00:42s\n",
            "epoch 305| loss: 0.13618 |  0:00:42s\n",
            "epoch 306| loss: 0.12991 |  0:00:42s\n",
            "epoch 307| loss: 0.14628 |  0:00:42s\n",
            "epoch 308| loss: 0.12896 |  0:00:42s\n",
            "epoch 309| loss: 0.14162 |  0:00:42s\n",
            "epoch 310| loss: 0.1371  |  0:00:42s\n",
            "epoch 311| loss: 0.13458 |  0:00:43s\n",
            "epoch 312| loss: 0.13596 |  0:00:43s\n",
            "epoch 313| loss: 0.13455 |  0:00:43s\n",
            "epoch 314| loss: 0.13872 |  0:00:43s\n",
            "epoch 315| loss: 0.1361  |  0:00:43s\n",
            "epoch 316| loss: 0.13535 |  0:00:43s\n",
            "epoch 317| loss: 0.13089 |  0:00:43s\n",
            "epoch 318| loss: 0.13664 |  0:00:44s\n",
            "epoch 319| loss: 0.13552 |  0:00:44s\n",
            "epoch 320| loss: 0.13624 |  0:00:44s\n",
            "epoch 321| loss: 0.12725 |  0:00:44s\n",
            "epoch 322| loss: 0.13276 |  0:00:44s\n",
            "epoch 323| loss: 0.13873 |  0:00:44s\n",
            "epoch 324| loss: 0.12931 |  0:00:44s\n",
            "epoch 325| loss: 0.13886 |  0:00:45s\n",
            "epoch 326| loss: 0.13531 |  0:00:45s\n",
            "epoch 327| loss: 0.13465 |  0:00:45s\n",
            "epoch 328| loss: 0.13199 |  0:00:45s\n",
            "epoch 329| loss: 0.13092 |  0:00:45s\n",
            "epoch 330| loss: 0.13822 |  0:00:45s\n",
            "epoch 331| loss: 0.13178 |  0:00:45s\n",
            "epoch 332| loss: 0.13568 |  0:00:46s\n"
          ]
        }
      ]
    },
    {
      "cell_type": "code",
      "source": [
        "prediction=classifier.predict(X_test)\n",
        "print('Accuracy = ', metrics.accuracy_score(y_test, prediction)*100)"
      ],
      "metadata": {
        "id": "m8zVzYPoInVU",
        "outputId": "ca48bfb7-1ef6-42ec-bead-bcbeb3405ca8",
        "colab": {
          "base_uri": "https://localhost:8080/"
        }
      },
      "execution_count": 52,
      "outputs": [
        {
          "output_type": "stream",
          "name": "stdout",
          "text": [
            "Accuracy =  86.40226628895185\n"
          ]
        }
      ]
    }
  ]
}