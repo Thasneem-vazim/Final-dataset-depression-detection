{
  "nbformat": 4,
  "nbformat_minor": 0,
  "metadata": {
    "colab": {
      "name": "Final dataset Using Select K Best.ipynb",
      "provenance": [],
      "collapsed_sections": [],
      "authorship_tag": "ABX9TyPjtF0cqHRp2LxWh0lyFntX",
      "include_colab_link": true
    },
    "kernelspec": {
      "name": "python3",
      "display_name": "Python 3"
    },
    "language_info": {
      "name": "python"
    }
  },
  "cells": [
    {
      "cell_type": "markdown",
      "metadata": {
        "id": "view-in-github",
        "colab_type": "text"
      },
      "source": [
        "<a href=\"https://colab.research.google.com/github/Thasneem-vazim/Final-dataset-depression-detection/blob/main/Final_dataset_Using_Select_K_Best.ipynb\" target=\"_parent\"><img src=\"https://colab.research.google.com/assets/colab-badge.svg\" alt=\"Open In Colab\"/></a>"
      ]
    },
    {
      "cell_type": "code",
      "execution_count": 1,
      "metadata": {
        "id": "Hp3gjynefyoi"
      },
      "outputs": [],
      "source": [
        "import numpy as np\n",
        "import pandas as pd\n",
        "import matplotlib.pyplot as plt\n",
        "import seaborn as sns\n",
        "from sklearn.model_selection import train_test_split\n",
        "from sklearn.linear_model import LogisticRegression\n",
        "from sklearn import metrics\n",
        "#%matplotlib inline\n",
        "import warnings\n",
        "warnings.filterwarnings('ignore')\n",
        "from sklearn.tree import DecisionTreeClassifier\n",
        "\n",
        "pd.set_option('display.max_rows', None)"
      ]
    },
    {
      "cell_type": "code",
      "source": [
        "depressionDataset = pd.read_csv(\"/content/final dataset.csv\")\n",
        "X = depressionDataset[['AGERNG','GENDER','EDU','PROF','MARSTS','RESDPL','LIVWTH','ENVSAT','POSSAT','FINSTR','DEBT','PHYEX','SMOKE','DRINK','ILLNESS','PREMED','EATDIS','AVGSLP','INSOM','TSSN','WRKPRE','ANXI','DEPRI','ABUSED','CHEAT','THREAT','SUICIDE','INFER','CONFLICT','LOST']]\n",
        "y=depressionDataset[['DEPRESSED']]"
      ],
      "metadata": {
        "id": "_6y9aE6jgCU8"
      },
      "execution_count": 2,
      "outputs": []
    },
    {
      "cell_type": "code",
      "execution_count": 3,
      "metadata": {
        "id": "ovbxpvqH80a3"
      },
      "outputs": [],
      "source": [
        "from sklearn.preprocessing import LabelEncoder\n",
        "### label encode the categorical values and convert them to numbers\n",
        "le = LabelEncoder()\n",
        "le.fit(X['AGERNG'].astype(str))\n",
        "X['AGERNG'] = le.transform(X['AGERNG'].astype(str))\n",
        "\n",
        "le = LabelEncoder()\n",
        "le.fit(X['GENDER'].astype(str))\n",
        "X['GENDER'] = le.transform(X['GENDER'].astype(str))\n",
        "\n",
        "le = LabelEncoder()\n",
        "le.fit(X['EDU'].astype(str))\n",
        "X['EDU'] = le.transform(X['EDU'].astype(str))\n",
        "\n",
        "le = LabelEncoder()\n",
        "le.fit(X['PROF'].astype(str))\n",
        "X['PROF'] = le.transform(X['PROF'].astype(str))\n",
        "\n",
        "\n",
        "le = LabelEncoder()\n",
        "le.fit(X['MARSTS'].astype(str))\n",
        "X['MARSTS'] = le.transform(X['MARSTS'].astype(str))\n",
        "\n",
        "\n",
        "\n",
        "le = LabelEncoder()\n",
        "le.fit(X['RESDPL'].astype(str))\n",
        "X['RESDPL'] = le.transform(X['RESDPL'].astype(str))\n",
        "\n",
        "\n",
        "\n",
        "le = LabelEncoder()\n",
        "le.fit(X['LIVWTH'].astype(str))\n",
        "X['LIVWTH'] = le.transform(X['LIVWTH'].astype(str))\n",
        "\n",
        "\n",
        "\n",
        "le = LabelEncoder()\n",
        "le.fit(X['ENVSAT'].astype(str))\n",
        "X['ENVSAT'] = le.transform(X['ENVSAT'].astype(str))\n",
        "\n",
        "le = LabelEncoder()\n",
        "le.fit(X['POSSAT'].astype(str))\n",
        "X['POSSAT'] = le.transform(X['POSSAT'].astype(str))\n",
        "\n",
        "\n",
        "\n",
        "le = LabelEncoder()\n",
        "le.fit(X['FINSTR'].astype(str))\n",
        "X['FINSTR'] = le.transform(X['FINSTR'].astype(str))\n",
        "\n",
        "le = LabelEncoder()\n",
        "le.fit(X['DEBT'].astype(str))\n",
        "X['DEBT'] = le.transform(X['DEBT'].astype(str))\n",
        "\n",
        "\n",
        "\n",
        "le = LabelEncoder()\n",
        "le.fit(X['PHYEX'].astype(str))\n",
        "X['PHYEX'] = le.transform(X['PHYEX'].astype(str))\n",
        "\n",
        "\n",
        "\n",
        "\n",
        "le = LabelEncoder()\n",
        "le.fit(X['SMOKE'].astype(str))\n",
        "X['SMOKE'] = le.transform(X['SMOKE'].astype(str))\n",
        "\n",
        "\n",
        "\n",
        "le = LabelEncoder()\n",
        "le.fit(X['DRINK'].astype(str))\n",
        "X['DRINK'] = le.transform(X['DRINK'].astype(str))\n",
        "\n",
        "\n",
        "le = LabelEncoder()\n",
        "le.fit(X['ILLNESS'].astype(str))\n",
        "X['ILLNESS'] = le.transform(X['ILLNESS'].astype(str))\n",
        "\n",
        "\n",
        "\n",
        "\n",
        "le = LabelEncoder()\n",
        "le.fit(X['PREMED'].astype(str))\n",
        "X['PREMED'] = le.transform(X['PREMED'].astype(str))\n",
        "\n",
        "\n",
        "\n",
        "le = LabelEncoder()\n",
        "le.fit(X['EATDIS'].astype(str))\n",
        "X['EATDIS'] = le.transform(X['EATDIS'].astype(str))\n",
        "\n",
        "le = LabelEncoder()\n",
        "le.fit(X['AVGSLP'].astype(str))\n",
        "X['AVGSLP'] = le.transform(X['AVGSLP'].astype(str))\n",
        "\n",
        "\n",
        "\n",
        "le = LabelEncoder()\n",
        "le.fit(X['INSOM'].astype(str))\n",
        "X['INSOM'] = le.transform(X['INSOM'].astype(str))\n",
        "\n",
        "\n",
        "\n",
        "\n",
        "le = LabelEncoder()\n",
        "le.fit(X['TSSN'].astype(str))\n",
        "X['TSSN'] = le.transform(X['TSSN'].astype(str))\n",
        "\n",
        "\n",
        "\n",
        "\n",
        "le = LabelEncoder()\n",
        "le.fit(X['WRKPRE'].astype(str))\n",
        "X['WRKPRE'] = le.transform(X['WRKPRE'].astype(str))\n",
        "\n",
        "\n",
        "\n",
        "\n",
        "le = LabelEncoder()\n",
        "le.fit(X['ANXI'].astype(str))\n",
        "X['ANXI'] = le.transform(X['ANXI'].astype(str))\n",
        "\n",
        "\n",
        "\n",
        "\n",
        "le = LabelEncoder()\n",
        "le.fit(X['DEPRI'].astype(str))\n",
        "X['DEPRI'] = le.transform(X['DEPRI'].astype(str))\n",
        "\n",
        "\n",
        "\n",
        "le = LabelEncoder()\n",
        "le.fit(X['ABUSED'].astype(str))\n",
        "X['ABUSED'] = le.transform(X['ABUSED'].astype(str))\n",
        "\n",
        "\n",
        "\n",
        "\n",
        "le = LabelEncoder()\n",
        "le.fit(X['CHEAT'].astype(str))\n",
        "X['CHEAT'] = le.transform(X['CHEAT'].astype(str))\n",
        "\n",
        "\n",
        "\n",
        "le = LabelEncoder()\n",
        "le.fit(X['THREAT'].astype(str))\n",
        "X['THREAT'] = le.transform(X['THREAT'].astype(str))\n",
        "\n",
        "\n",
        "\n",
        "le = LabelEncoder()\n",
        "le.fit(X['SUICIDE'].astype(str))\n",
        "X['SUICIDE'] = le.transform(X['SUICIDE'].astype(str))\n",
        "\n",
        "\n",
        "le = LabelEncoder()\n",
        "le.fit(X['INFER'].astype(str))\n",
        "X['INFER'] = le.transform(X['INFER'].astype(str))\n",
        "\n",
        "\n",
        "le = LabelEncoder()\n",
        "le.fit(X['CONFLICT'].astype(str))\n",
        "X['CONFLICT'] = le.transform(X['CONFLICT'].astype(str))\n",
        "\n",
        "\n",
        "\n",
        "le = LabelEncoder()\n",
        "le.fit(X['LOST'].astype(str))\n",
        "X['LOST'] = le.transform(X['LOST'].astype(str))\n",
        "\n",
        "le = LabelEncoder()\n",
        "le.fit(y['DEPRESSED'].astype(str))\n",
        "y['DEPRESSED'] = le.transform(y['DEPRESSED'].astype(str))\n"
      ]
    },
    {
      "cell_type": "code",
      "source": [
        "X_train,X_test,y_train,y_test=train_test_split(X,y,test_size=0.2,random_state=0)"
      ],
      "metadata": {
        "id": "q4TJl_3j91xF"
      },
      "execution_count": 4,
      "outputs": []
    },
    {
      "cell_type": "code",
      "source": [
        "import pandas as pd\n",
        "import numpy as np\n",
        "from sklearn.feature_selection import SelectKBest\n",
        "from sklearn.feature_selection import chi2,f_classif\n",
        "\n",
        "#apply SelectKBest class to extract top 15 best features\n",
        "bestfeatures = SelectKBest(score_func=chi2, k=15)\n",
        "fit = bestfeatures.fit(X_train,y_train)\n",
        "dfscores = pd.DataFrame(fit.scores_)\n",
        "dfcolumns = pd.DataFrame(X_train.columns)\n",
        "#concat two dataframes for better visualization\n",
        "featureScores = pd.concat([dfcolumns,dfscores],axis=1)\n",
        "featureScores.columns = ['Specs','Score']  #naming the dataframe columns\n",
        "print(featureScores.nlargest(15,'Score'))  #print 15 best features"
      ],
      "metadata": {
        "colab": {
          "base_uri": "https://localhost:8080/"
        },
        "id": "ALF_Mg6PgRjk",
        "outputId": "abc92cbb-1bfb-4b67-d0b3-71cd7fbafab7"
      },
      "execution_count": 5,
      "outputs": [
        {
          "output_type": "stream",
          "name": "stdout",
          "text": [
            "       Specs       Score\n",
            "27     INFER  137.507865\n",
            "22     DEPRI  137.210468\n",
            "21      ANXI  135.602531\n",
            "8     POSSAT   98.801179\n",
            "26   SUICIDE   88.972706\n",
            "18     INSOM   85.545984\n",
            "23    ABUSED   84.650158\n",
            "28  CONFLICT   79.610013\n",
            "24     CHEAT   64.562793\n",
            "9     FINSTR   61.383955\n",
            "25    THREAT   47.761946\n",
            "29      LOST   44.626956\n",
            "16    EATDIS   40.781843\n",
            "7     ENVSAT   36.374450\n",
            "20    WRKPRE   27.724719\n"
          ]
        }
      ]
    },
    {
      "cell_type": "code",
      "source": [
        "X_trainSelectedFeature=pd.DataFrame()\n",
        "\n",
        "X_trainSelectedFeature['WRKPRE']=X_train['WRKPRE']\n",
        "X_trainSelectedFeature['POSSAT']=X_train['POSSAT']\n",
        "X_trainSelectedFeature['EATDIS']=X_train['EATDIS']\n",
        "X_trainSelectedFeature['INSOM']=X_train['INSOM']\n",
        "X_trainSelectedFeature['FINSTR']=X_train['FINSTR']\n",
        "X_trainSelectedFeature['ANXI']=X_train['ANXI']\n",
        "X_trainSelectedFeature['DEPRI']=X_train['DEPRI']\n",
        "X_trainSelectedFeature['ABUSED']=X_train['ABUSED']\n",
        "X_trainSelectedFeature['CHEAT']=X_train['CHEAT']\n",
        "X_trainSelectedFeature['THREAT']=X_train['THREAT']\n",
        "X_trainSelectedFeature['SUICIDE']=X_train['SUICIDE']\n",
        "X_trainSelectedFeature['INFER']=X_train['INFER']\n",
        "X_trainSelectedFeature['CONFLICT']=X_train['CONFLICT']\n",
        "X_trainSelectedFeature['LOST']=X_train['LOST']\n",
        "X_trainSelectedFeature['ENVSAT']=X_train['ENVSAT']"
      ],
      "metadata": {
        "id": "tlQxzCoiidaH"
      },
      "execution_count": 6,
      "outputs": []
    },
    {
      "cell_type": "code",
      "source": [
        "X_trainSelectedFeature.shape"
      ],
      "metadata": {
        "colab": {
          "base_uri": "https://localhost:8080/"
        },
        "id": "m1AxqR7disSV",
        "outputId": "7b91d0bf-ec01-4fb8-b81e-54399a151e3c"
      },
      "execution_count": 7,
      "outputs": [
        {
          "output_type": "execute_result",
          "data": {
            "text/plain": [
              "(1411, 15)"
            ]
          },
          "metadata": {},
          "execution_count": 7
        }
      ]
    },
    {
      "cell_type": "code",
      "source": [
        "from imblearn.over_sampling import SMOTE\n",
        "smote=SMOTE('minority',random_state=0)\n",
        "X_trainSelectedFeatureAfterSMOTE,y_train=smote.fit_resample(X_trainSelectedFeature, y_train)"
      ],
      "metadata": {
        "id": "1ln7I-yfheQs"
      },
      "execution_count": 8,
      "outputs": []
    },
    {
      "cell_type": "code",
      "source": [
        "X_testSelectedFeature=pd.DataFrame()\n",
        "\n",
        "X_testSelectedFeature['WRKPRE']=X_test['WRKPRE']\n",
        "X_testSelectedFeature['POSSAT']=X_test['POSSAT']\n",
        "X_testSelectedFeature['EATDIS']=X_test['EATDIS']\n",
        "X_testSelectedFeature['INSOM']=X_test['INSOM']\n",
        "X_testSelectedFeature['FINSTR']=X_test['FINSTR']\n",
        "X_testSelectedFeature['ANXI']=X_test['ANXI']\n",
        "X_testSelectedFeature['DEPRI']=X_test['DEPRI']\n",
        "X_testSelectedFeature['ABUSED']=X_test['ABUSED']\n",
        "X_testSelectedFeature['CHEAT']=X_test['CHEAT']\n",
        "X_testSelectedFeature['THREAT']=X_test['THREAT']\n",
        "X_testSelectedFeature['SUICIDE']=X_test['SUICIDE']\n",
        "X_testSelectedFeature['INFER']=X_test['INFER']\n",
        "X_testSelectedFeature['CONFLICT']=X_test['CONFLICT']\n",
        "X_testSelectedFeature['LOST']=X_test['LOST']\n",
        "X_testSelectedFeature['ENVSAT']=X_test['ENVSAT']"
      ],
      "metadata": {
        "id": "VyO28JSGkJVb"
      },
      "execution_count": 9,
      "outputs": []
    },
    {
      "cell_type": "code",
      "source": [
        "X_testSelectedFeature.shape"
      ],
      "metadata": {
        "colab": {
          "base_uri": "https://localhost:8080/"
        },
        "id": "Q-GgMr0VBlNT",
        "outputId": "ab39699f-1dea-448d-d803-84298d83ce7b"
      },
      "execution_count": 10,
      "outputs": [
        {
          "output_type": "execute_result",
          "data": {
            "text/plain": [
              "(353, 15)"
            ]
          },
          "metadata": {},
          "execution_count": 10
        }
      ]
    },
    {
      "cell_type": "code",
      "source": [
        "from sklearn.neighbors import KNeighborsClassifier\n",
        "KNNClassification = KNeighborsClassifier(n_neighbors=7)\n",
        "KNNClassification.fit(X_trainSelectedFeatureAfterSMOTE,y_train)\n",
        "y_predictionKNN=KNNClassification.predict(X_testSelectedFeature)\n"
      ],
      "metadata": {
        "id": "93aMxLB_hjBn"
      },
      "execution_count": 11,
      "outputs": []
    },
    {
      "cell_type": "code",
      "source": [
        "from sklearn.metrics import classification_report,confusion_matrix\n",
        "y_predict_test=KNNClassification.predict(X_testSelectedFeature)\n",
        "cm1=confusion_matrix(y_test,y_predict_test)\n",
        "import seaborn as sns\n",
        "sns.heatmap(cm1,annot=True)\n",
        "print(classification_report(y_test,y_predict_test))\n"
      ],
      "metadata": {
        "id": "LDSHMO5YkWxA",
        "colab": {
          "base_uri": "https://localhost:8080/",
          "height": 425
        },
        "outputId": "90ac60f0-95d0-4d11-bdc8-ec0d3047d791"
      },
      "execution_count": 12,
      "outputs": [
        {
          "output_type": "stream",
          "name": "stdout",
          "text": [
            "              precision    recall  f1-score   support\n",
            "\n",
            "           0       0.72      0.90      0.80       142\n",
            "           1       0.92      0.76      0.83       211\n",
            "\n",
            "    accuracy                           0.82       353\n",
            "   macro avg       0.82      0.83      0.81       353\n",
            "weighted avg       0.84      0.82      0.82       353\n",
            "\n"
          ]
        },
        {
          "output_type": "display_data",
          "data": {
            "text/plain": [
              "<Figure size 432x288 with 2 Axes>"
            ],
            "image/png": "[encoded data removed]"
          },
          "metadata": {
            "needs_background": "light"
          }
        }
      ]
    },
    {
      "cell_type": "code",
      "source": [
        "y_predictionKNN_proba=KNNClassification.predict_proba(X_testSelectedFeature)[:,1]\n",
        "AUCKNN=metrics.roc_auc_score(y_test,y_predictionKNN_proba)\n",
        "print(\"AUC KNN: \",AUCKNN)\n",
        "fprKNN, tprKNN, thresholds = metrics.roc_curve(y_test,y_predictionKNN_proba)\n",
        "\n",
        "plt.plot(fprKNN,tprKNN,label=\"KNN ( area = \"+str(AUCKNN)+\" )\")\n",
        "plt.xlabel('False Positive Rate')\n",
        "plt.ylabel('True Positive Rate')\n",
        "plt.legend(loc=4)\n",
        "plt.show()"
      ],
      "metadata": {
        "id": "cv9uP8CqkwvR",
        "colab": {
          "base_uri": "https://localhost:8080/",
          "height": 296
        },
        "outputId": "c56cf589-cd46-421b-cbe6-a5b98db22382"
      },
      "execution_count": 13,
      "outputs": [
        {
          "output_type": "stream",
          "name": "stdout",
          "text": [
            "AUC KNN:  0.907983445697884\n"
          ]
        },
        {
          "output_type": "display_data",
          "data": {
            "text/plain": [
              "<Figure size 432x288 with 1 Axes>"
            ],
            "image/png": "[encoded data removed]"
          },
          "metadata": {
            "needs_background": "light"
          }
        }
      ]
    },
    {
      "cell_type": "code",
      "source": [
        "prediction=KNNClassification.predict(X_testSelectedFeature)\n",
        "print('Accuracy = ', metrics.accuracy_score(y_test, prediction)*100)"
      ],
      "metadata": {
        "id": "vUQvgis4AKMc",
        "colab": {
          "base_uri": "https://localhost:8080/"
        },
        "outputId": "9666014b-c81b-4964-bd15-641fc7153ef3"
      },
      "execution_count": 14,
      "outputs": [
        {
          "output_type": "stream",
          "name": "stdout",
          "text": [
            "Accuracy =  81.58640226628894\n"
          ]
        }
      ]
    },
    {
      "cell_type": "code",
      "source": [
        ""
      ],
      "metadata": {
        "id": "tUMExGSclJwf"
      },
      "execution_count": 14,
      "outputs": []
    },
    {
      "cell_type": "code",
      "source": [
        "from sklearn.ensemble import AdaBoostClassifier\n",
        "ADABoostClassification=AdaBoostClassifier()\n",
        "ADABoostClassification.fit(X_trainSelectedFeatureAfterSMOTE,y_train)"
      ],
      "metadata": {
        "id": "GYJ-4AQmkw9C",
        "colab": {
          "base_uri": "https://localhost:8080/"
        },
        "outputId": "6a02bc18-1c70-403f-d26d-3293a0b8db39"
      },
      "execution_count": 15,
      "outputs": [
        {
          "output_type": "execute_result",
          "data": {
            "text/plain": [
              "AdaBoostClassifier()"
            ]
          },
          "metadata": {},
          "execution_count": 15
        }
      ]
    },
    {
      "cell_type": "code",
      "source": [
        "y_predictionADABoost=ADABoostClassification.predict(X_testSelectedFeature)"
      ],
      "metadata": {
        "id": "agI6CmGBk_Ir"
      },
      "execution_count": 16,
      "outputs": []
    },
    {
      "cell_type": "code",
      "source": [
        "from sklearn.metrics import classification_report,confusion_matrix\n",
        "y_predict_test=ADABoostClassification.predict(X_testSelectedFeature)\n",
        "cm1=confusion_matrix(y_test,y_predict_test)\n",
        "import seaborn as sns\n",
        "sns.heatmap(cm1,annot=True)\n",
        "print(classification_report(y_test,y_predict_test))\n"
      ],
      "metadata": {
        "id": "snFr5AnxlEz-",
        "colab": {
          "base_uri": "https://localhost:8080/",
          "height": 421
        },
        "outputId": "52e2f2ab-f33a-467c-a187-62051cf564f9"
      },
      "execution_count": 17,
      "outputs": [
        {
          "output_type": "stream",
          "name": "stdout",
          "text": [
            "              precision    recall  f1-score   support\n",
            "\n",
            "           0       0.77      0.88      0.82       142\n",
            "           1       0.91      0.82      0.87       211\n",
            "\n",
            "    accuracy                           0.85       353\n",
            "   macro avg       0.84      0.85      0.84       353\n",
            "weighted avg       0.85      0.85      0.85       353\n",
            "\n"
          ]
        },
        {
          "output_type": "display_data",
          "data": {
            "text/plain": [
              "<Figure size 432x288 with 2 Axes>"
            ],
            "image/png": "[encoded data removed]"
          },
          "metadata": {
            "needs_background": "light"
          }
        }
      ]
    },
    {
      "cell_type": "code",
      "source": [
        "y_predictionKNN_proba=ADABoostClassification.predict_proba(X_testSelectedFeature)[:,1]\n",
        "AUCKNN=metrics.roc_auc_score(y_test,y_predictionKNN_proba)\n",
        "print(\"AUC : \",AUCKNN)\n",
        "fprAda, tprAda, thresholds = metrics.roc_curve(y_test,y_predictionKNN_proba)\n",
        "\n",
        "plt.plot(fprAda,tprAda,label=\"( area = \"+str(AUCKNN)+\" )\")\n",
        "plt.xlabel('False Positive Rate')\n",
        "plt.ylabel('True Positive Rate')\n",
        "plt.legend(loc=4)\n",
        "plt.show()"
      ],
      "metadata": {
        "id": "GC60qrPVlKqq",
        "colab": {
          "base_uri": "https://localhost:8080/",
          "height": 296
        },
        "outputId": "427943e8-2a88-48d8-a195-4a963686c020"
      },
      "execution_count": 18,
      "outputs": [
        {
          "output_type": "stream",
          "name": "stdout",
          "text": [
            "AUC :  0.921550630799012\n"
          ]
        },
        {
          "output_type": "display_data",
          "data": {
            "text/plain": [
              "<Figure size 432x288 with 1 Axes>"
            ],
            "image/png": "[encoded data removed]"
          },
          "metadata": {
            "needs_background": "light"
          }
        }
      ]
    },
    {
      "cell_type": "code",
      "source": [
        "prediction=ADABoostClassification.predict(X_testSelectedFeature)\n",
        "print('Accuracy = ', metrics.accuracy_score(y_test, prediction)*100)"
      ],
      "metadata": {
        "id": "l3jJhZzWsrsB",
        "colab": {
          "base_uri": "https://localhost:8080/"
        },
        "outputId": "72e318ab-e3e1-4e15-9d65-b29fee3d5fe6"
      },
      "execution_count": 19,
      "outputs": [
        {
          "output_type": "stream",
          "name": "stdout",
          "text": [
            "Accuracy =  84.70254957507082\n"
          ]
        }
      ]
    },
    {
      "cell_type": "code",
      "source": [
        "from sklearn.ensemble import GradientBoostingClassifier\n",
        "GradeintBoostClassification = GradientBoostingClassifier(loss='deviance',max_features=1,random_state=0,max_leaf_nodes=None)\n",
        "GradeintBoostClassification.fit(X_trainSelectedFeatureAfterSMOTE,y_train)\n",
        "y_predictionGradient=GradeintBoostClassification.predict(X_testSelectedFeature)"
      ],
      "metadata": {
        "id": "dpKxb7xrlXPN"
      },
      "execution_count": 20,
      "outputs": []
    },
    {
      "cell_type": "code",
      "source": [
        "from sklearn.metrics import classification_report,confusion_matrix\n",
        "y_predict_test=GradeintBoostClassification.predict(X_testSelectedFeature)\n",
        "cm1=confusion_matrix(y_test,y_predict_test)\n",
        "import seaborn as sns\n",
        "sns.heatmap(cm1,annot=True)\n",
        "print(classification_report(y_test,y_predict_test))"
      ],
      "metadata": {
        "id": "L-KxvCi6lpoz",
        "colab": {
          "base_uri": "https://localhost:8080/",
          "height": 421
        },
        "outputId": "13dc4df2-2a85-42cd-b98f-5f3a3147d626"
      },
      "execution_count": 21,
      "outputs": [
        {
          "output_type": "stream",
          "name": "stdout",
          "text": [
            "              precision    recall  f1-score   support\n",
            "\n",
            "           0       0.79      0.89      0.84       142\n",
            "           1       0.92      0.84      0.88       211\n",
            "\n",
            "    accuracy                           0.86       353\n",
            "   macro avg       0.86      0.87      0.86       353\n",
            "weighted avg       0.87      0.86      0.87       353\n",
            "\n"
          ]
        },
        {
          "output_type": "display_data",
          "data": {
            "text/plain": [
              "<Figure size 432x288 with 2 Axes>"
            ],
            "image/png": "[encoded data removed]"
          },
          "metadata": {
            "needs_background": "light"
          }
        }
      ]
    },
    {
      "cell_type": "code",
      "source": [
        "y_predictionKNN_proba=GradeintBoostClassification.predict_proba(X_testSelectedFeature)[:,1]\n",
        "AUCKNN=metrics.roc_auc_score(y_test,y_predictionKNN_proba)\n",
        "print(\"AUC: \",AUCKNN)\n",
        "fprGradientBoost, tprGradientBoost, thresholds = metrics.roc_curve(y_test,y_predictionKNN_proba)\n",
        "\n",
        "plt.plot(fprGradientBoost,tprGradientBoost,label=\"( area = \"+str(AUCKNN)+\" )\")\n",
        "plt.xlabel('False Positive Rate')\n",
        "plt.ylabel('True Positive Rate')\n",
        "plt.legend(loc=4)\n",
        "plt.show()"
      ],
      "metadata": {
        "id": "_iMcih9mlyB6",
        "colab": {
          "base_uri": "https://localhost:8080/",
          "height": 296
        },
        "outputId": "cee67a8f-d656-4ed4-ec2b-fdfd19a4a658"
      },
      "execution_count": 22,
      "outputs": [
        {
          "output_type": "stream",
          "name": "stdout",
          "text": [
            "AUC:  0.9252219478005473\n"
          ]
        },
        {
          "output_type": "display_data",
          "data": {
            "text/plain": [
              "<Figure size 432x288 with 1 Axes>"
            ],
            "image/png": "[encoded data removed]"
          },
          "metadata": {
            "needs_background": "light"
          }
        }
      ]
    },
    {
      "cell_type": "code",
      "source": [
        "prediction=GradeintBoostClassification.predict(X_testSelectedFeature)\n",
        "print('Accuracy = ', metrics.accuracy_score(y_test, prediction)*100)"
      ],
      "metadata": {
        "id": "YXmHVR2fs5tp",
        "colab": {
          "base_uri": "https://localhost:8080/"
        },
        "outputId": "288d7051-c870-4ff8-ff86-78b6a90cceb9"
      },
      "execution_count": 23,
      "outputs": [
        {
          "output_type": "stream",
          "name": "stdout",
          "text": [
            "Accuracy =  86.40226628895185\n"
          ]
        }
      ]
    },
    {
      "cell_type": "code",
      "execution_count": 24,
      "metadata": {
        "id": "5rlZEUNUX2ea",
        "colab": {
          "base_uri": "https://localhost:8080/",
          "height": 421
        },
        "outputId": "cfeb8317-3783-45cc-e48c-d5a77e5378c3"
      },
      "outputs": [
        {
          "output_type": "stream",
          "name": "stdout",
          "text": [
            "              precision    recall  f1-score   support\n",
            "\n",
            "           0       0.74      0.96      0.84       142\n",
            "           1       0.96      0.78      0.86       211\n",
            "\n",
            "    accuracy                           0.85       353\n",
            "   macro avg       0.85      0.87      0.85       353\n",
            "weighted avg       0.88      0.85      0.85       353\n",
            "\n"
          ]
        },
        {
          "output_type": "display_data",
          "data": {
            "text/plain": [
              "<Figure size 432x288 with 2 Axes>"
            ],
            "image/png": "[encoded data removed]"
          },
          "metadata": {
            "needs_background": "light"
          }
        }
      ],
      "source": [
        "from xgboost import XGBClassifier\n",
        "import xgboost as xgb\n",
        "params = {\n",
        " 'objective':'binary:logitraw',\n",
        " 'max_depth': 2, 'min_child_weight': 2, 'gamma': 0.3, 'subsample': 0.6,\n",
        " 'colsample_bytree': 0.6, 'scale_pos_weight': 1,\n",
        " 'alpha': 0.01,\n",
        " 'learning_rate': 0.03,\n",
        " 'n_estimators':1000,'seed': 42\n",
        " }\n",
        "xgb_clf = XGBClassifier(**params)\n",
        "xgb_clf.fit(X_trainSelectedFeatureAfterSMOTE,y_train)\n",
        "\n",
        "yxg_pred=xgb_clf.predict(X_testSelectedFeature)\n",
        "cm4=confusion_matrix(y_test,yxg_pred)\n",
        "sns.heatmap(cm4,annot=True)\n",
        "print(classification_report(y_test,yxg_pred))"
      ]
    },
    {
      "cell_type": "code",
      "source": [
        "y_predictionXgBoost=xgb_clf.predict(X_testSelectedFeature)"
      ],
      "metadata": {
        "id": "QISvXtEdx3AN"
      },
      "execution_count": 25,
      "outputs": []
    },
    {
      "cell_type": "code",
      "source": [
        "y_predictionKNN_proba=xgb_clf.predict_proba(X_testSelectedFeature)[:,1]\n",
        "AUCKNN=metrics.roc_auc_score(y_test,y_predictionKNN_proba)\n",
        "print(\"AUC: \",AUCKNN)\n",
        "fprXgB, tprXgB, thresholds = metrics.roc_curve(y_test,y_predictionKNN_proba)\n",
        "\n",
        "plt.plot(fprXgB,tprXgB,label=\"( area = \"+str(AUCKNN)+\" )\")\n",
        "plt.xlabel('False Positive Rate')\n",
        "plt.ylabel('True Positive Rate')\n",
        "plt.legend(loc=4)\n",
        "plt.show()"
      ],
      "metadata": {
        "id": "QSmthl9pOtbv",
        "colab": {
          "base_uri": "https://localhost:8080/",
          "height": 296
        },
        "outputId": "a06ace62-225a-487b-fe20-6745e26c3faf"
      },
      "execution_count": 26,
      "outputs": [
        {
          "output_type": "stream",
          "name": "stdout",
          "text": [
            "AUC:  0.9242540551365062\n"
          ]
        },
        {
          "output_type": "display_data",
          "data": {
            "text/plain": [
              "<Figure size 432x288 with 1 Axes>"
            ],
            "image/png": "[encoded data removed]"
          },
          "metadata": {
            "needs_background": "light"
          }
        }
      ]
    },
    {
      "cell_type": "code",
      "source": [
        "prediction=xgb_clf.predict(X_testSelectedFeature)\n",
        "print('Accuracy = ', metrics.accuracy_score(y_test, prediction)*100)"
      ],
      "metadata": {
        "id": "t6oi2h8jtfGw",
        "colab": {
          "base_uri": "https://localhost:8080/"
        },
        "outputId": "4070b623-b55d-47e0-cf91-efc317abd682"
      },
      "execution_count": 27,
      "outputs": [
        {
          "output_type": "stream",
          "name": "stdout",
          "text": [
            "Accuracy =  84.98583569405099\n"
          ]
        }
      ]
    },
    {
      "cell_type": "code",
      "source": [
        "from sklearn.ensemble import BaggingClassifier\n",
        "from sklearn.neural_network import MLPClassifier\n",
        "\n",
        "base_cls = MLPClassifier(random_state=0)\n",
        "num_trees = 30\n",
        "seed = 15\n",
        "# bagging classifier\n",
        "bagClassificationMLP = BaggingClassifier(base_estimator=base_cls, n_estimators=num_trees, random_state=0)\n",
        "bagClassificationMLP.fit(X_trainSelectedFeatureAfterSMOTE, y_train)\n",
        "y_predictionBagMLP = bagClassificationMLP.predict(X_testSelectedFeature)\n"
      ],
      "metadata": {
        "id": "iL91oPzSPV4B"
      },
      "execution_count": 28,
      "outputs": []
    },
    {
      "cell_type": "code",
      "source": [
        "from sklearn.metrics import classification_report,confusion_matrix\n",
        "y_predict_test=bagClassificationMLP.predict(X_testSelectedFeature)\n",
        "cm1=confusion_matrix(y_test,y_predict_test)\n",
        "import seaborn as sns\n",
        "sns.heatmap(cm1,annot=True)\n",
        "print(classification_report(y_test,y_predict_test))"
      ],
      "metadata": {
        "id": "02F1BQCiPydM",
        "colab": {
          "base_uri": "https://localhost:8080/",
          "height": 421
        },
        "outputId": "9a0f41fb-e9a0-4fa4-fee7-73e6c86d09c5"
      },
      "execution_count": 29,
      "outputs": [
        {
          "output_type": "stream",
          "name": "stdout",
          "text": [
            "              precision    recall  f1-score   support\n",
            "\n",
            "           0       0.78      0.87      0.82       142\n",
            "           1       0.90      0.84      0.87       211\n",
            "\n",
            "    accuracy                           0.85       353\n",
            "   macro avg       0.84      0.85      0.85       353\n",
            "weighted avg       0.85      0.85      0.85       353\n",
            "\n"
          ]
        },
        {
          "output_type": "display_data",
          "data": {
            "text/plain": [
              "<Figure size 432x288 with 2 Axes>"
            ],
            "image/png": "[encoded data removed]"
          },
          "metadata": {
            "needs_background": "light"
          }
        }
      ]
    },
    {
      "cell_type": "code",
      "source": [
        "y_predictionKNN_proba=bagClassificationMLP.predict_proba(X_testSelectedFeature)[:,1]\n",
        "AUCKNN=metrics.roc_auc_score(y_test,y_predictionKNN_proba)\n",
        "print(\"AUC: \",AUCKNN)\n",
        "fprBagMLP, tprBagMLP, thresholds = metrics.roc_curve(y_test,y_predictionKNN_proba)\n",
        "\n",
        "plt.plot(fprBagMLP,tprBagMLP,label=\"( area = \"+str(AUCKNN)+\" )\")\n",
        "plt.xlabel('False Positive Rate')\n",
        "plt.ylabel('True Positive Rate')\n",
        "plt.legend(loc=4)\n",
        "plt.show()"
      ],
      "metadata": {
        "id": "9L2ro0tEP2qu",
        "colab": {
          "base_uri": "https://localhost:8080/",
          "height": 296
        },
        "outputId": "65ef2118-a572-4140-99b8-15fdc5c8fabe"
      },
      "execution_count": 30,
      "outputs": [
        {
          "output_type": "stream",
          "name": "stdout",
          "text": [
            "AUC:  0.9332320939857152\n"
          ]
        },
        {
          "output_type": "display_data",
          "data": {
            "text/plain": [
              "<Figure size 432x288 with 1 Axes>"
            ],
            "image/png": "[encoded data removed]"
          },
          "metadata": {
            "needs_background": "light"
          }
        }
      ]
    },
    {
      "cell_type": "code",
      "source": [
        "prediction=bagClassificationMLP.predict(X_testSelectedFeature)\n",
        "print('Accuracy = ', metrics.accuracy_score(y_test, prediction)*100)"
      ],
      "metadata": {
        "id": "CEoHemSDtqgc",
        "colab": {
          "base_uri": "https://localhost:8080/"
        },
        "outputId": "fa24c2c6-69d9-4e79-bc7f-3533236436d4"
      },
      "execution_count": 31,
      "outputs": [
        {
          "output_type": "stream",
          "name": "stdout",
          "text": [
            "Accuracy =  84.98583569405099\n"
          ]
        }
      ]
    },
    {
      "cell_type": "code",
      "source": [
        "from sklearn.svm import SVC\n",
        "SVM=SVC()\n",
        "SVM.fit(X_trainSelectedFeatureAfterSMOTE,y_train)\n"
      ],
      "metadata": {
        "id": "ZhtYF6qswzHG",
        "colab": {
          "base_uri": "https://localhost:8080/"
        },
        "outputId": "c9d8092c-f047-4774-f1b0-30d3401d6387"
      },
      "execution_count": 32,
      "outputs": [
        {
          "output_type": "execute_result",
          "data": {
            "text/plain": [
              "SVC()"
            ]
          },
          "metadata": {},
          "execution_count": 32
        }
      ]
    },
    {
      "cell_type": "code",
      "source": [
        "y_prediction = SVM.predict(X_testSelectedFeature)\n",
        "from sklearn.metrics import classification_report,confusion_matrix\n",
        "cm1=confusion_matrix(y_test,y_prediction)\n",
        "import seaborn as sns\n",
        "sns.heatmap(cm1,annot=True)\n",
        "print(classification_report(y_test,y_prediction))"
      ],
      "metadata": {
        "id": "_vU9zDS4xHou",
        "colab": {
          "base_uri": "https://localhost:8080/",
          "height": 421
        },
        "outputId": "b2738ac6-89ab-45b8-8b5f-7d2aac2b82c5"
      },
      "execution_count": 33,
      "outputs": [
        {
          "output_type": "stream",
          "name": "stdout",
          "text": [
            "              precision    recall  f1-score   support\n",
            "\n",
            "           0       0.77      0.92      0.84       142\n",
            "           1       0.93      0.82      0.87       211\n",
            "\n",
            "    accuracy                           0.86       353\n",
            "   macro avg       0.85      0.87      0.85       353\n",
            "weighted avg       0.87      0.86      0.86       353\n",
            "\n"
          ]
        },
        {
          "output_type": "display_data",
          "data": {
            "text/plain": [
              "<Figure size 432x288 with 2 Axes>"
            ],
            "image/png": "[encoded data removed]"
          },
          "metadata": {
            "needs_background": "light"
          }
        }
      ]
    },
    {
      "cell_type": "code",
      "source": [
        "prediction=SVM.predict(X_testSelectedFeature)\n",
        "print('Accuracy = ', metrics.accuracy_score(y_test, prediction)*100)"
      ],
      "metadata": {
        "id": "sVckgRVLr8YX",
        "colab": {
          "base_uri": "https://localhost:8080/"
        },
        "outputId": "dea040d9-8355-4537-8fab-c2fe0065e457"
      },
      "execution_count": 34,
      "outputs": [
        {
          "output_type": "stream",
          "name": "stdout",
          "text": [
            "Accuracy =  85.55240793201133\n"
          ]
        }
      ]
    },
    {
      "cell_type": "code",
      "source": [
        "#y_predictionKNN_proba=SVM.predict_proba(X_testSelectedFeature)[:,1]\n",
        "AUCKNN=metrics.roc_auc_score(y_test,y_predictionKNN_proba)\n",
        "print(\"AUC: \",AUCKNN)\n",
        "fprKNN, tprKNN, thresholds = metrics.roc_curve(y_test,y_predictionKNN_proba)\n",
        "\n",
        "plt.plot(fprKNN,tprKNN,label=\"( area = \"+str(AUCKNN)+\" )\")\n",
        "plt.xlabel('False Positive Rate')\n",
        "plt.ylabel('True Positive Rate')\n",
        "plt.legend(loc=4)\n",
        "plt.show()"
      ],
      "metadata": {
        "id": "uVXnElhJsDj9",
        "colab": {
          "base_uri": "https://localhost:8080/",
          "height": 380
        },
        "outputId": "6a46fbf5-f870-4980-ce25-a0592e333ca9"
      },
      "execution_count": 35,
      "outputs": [
        {
          "output_type": "error",
          "ename": "AttributeError",
          "evalue": "ignored",
          "traceback": [
            "\u001b[0;31m---------------------------------------------------------------------------\u001b[0m",
            "\u001b[0;31mAttributeError\u001b[0m                            Traceback (most recent call last)",
            "\u001b[0;32m<ipython-input-35-be45df450609>\u001b[0m in \u001b[0;36m<module>\u001b[0;34m()\u001b[0m\n\u001b[0;32m----> 1\u001b[0;31m \u001b[0my_predictionKNN_proba\u001b[0m\u001b[0;34m=\u001b[0m\u001b[0mSVM\u001b[0m\u001b[0;34m.\u001b[0m\u001b[0mpredict_proba\u001b[0m\u001b[0;34m(\u001b[0m\u001b[0mX_testSelectedFeature\u001b[0m\u001b[0;34m)\u001b[0m\u001b[0;34m[\u001b[0m\u001b[0;34m:\u001b[0m\u001b[0;34m,\u001b[0m\u001b[0;36m1\u001b[0m\u001b[0;34m]\u001b[0m\u001b[0;34m\u001b[0m\u001b[0;34m\u001b[0m\u001b[0m\n\u001b[0m\u001b[1;32m      2\u001b[0m \u001b[0mAUCKNN\u001b[0m\u001b[0;34m=\u001b[0m\u001b[0mmetrics\u001b[0m\u001b[0;34m.\u001b[0m\u001b[0mroc_auc_score\u001b[0m\u001b[0;34m(\u001b[0m\u001b[0my_test\u001b[0m\u001b[0;34m,\u001b[0m\u001b[0my_predictionKNN_proba\u001b[0m\u001b[0;34m)\u001b[0m\u001b[0;34m\u001b[0m\u001b[0;34m\u001b[0m\u001b[0m\n\u001b[1;32m      3\u001b[0m \u001b[0mprint\u001b[0m\u001b[0;34m(\u001b[0m\u001b[0;34m\"AUC: \"\u001b[0m\u001b[0;34m,\u001b[0m\u001b[0mAUCKNN\u001b[0m\u001b[0;34m)\u001b[0m\u001b[0;34m\u001b[0m\u001b[0;34m\u001b[0m\u001b[0m\n\u001b[1;32m      4\u001b[0m \u001b[0mfprKNN\u001b[0m\u001b[0;34m,\u001b[0m \u001b[0mtprKNN\u001b[0m\u001b[0;34m,\u001b[0m \u001b[0mthresholds\u001b[0m \u001b[0;34m=\u001b[0m \u001b[0mmetrics\u001b[0m\u001b[0;34m.\u001b[0m\u001b[0mroc_curve\u001b[0m\u001b[0;34m(\u001b[0m\u001b[0my_test\u001b[0m\u001b[0;34m,\u001b[0m\u001b[0my_predictionKNN_proba\u001b[0m\u001b[0;34m)\u001b[0m\u001b[0;34m\u001b[0m\u001b[0;34m\u001b[0m\u001b[0m\n\u001b[1;32m      5\u001b[0m \u001b[0;34m\u001b[0m\u001b[0m\n",
            "\u001b[0;32m/usr/local/lib/python3.7/dist-packages/sklearn/utils/metaestimators.py\u001b[0m in \u001b[0;36m__get__\u001b[0;34m(self, obj, owner)\u001b[0m\n\u001b[1;32m    107\u001b[0m             \u001b[0;31m# delegate only on instances, not the classes.\u001b[0m\u001b[0;34m\u001b[0m\u001b[0;34m\u001b[0m\u001b[0;34m\u001b[0m\u001b[0m\n\u001b[1;32m    108\u001b[0m             \u001b[0;31m# this is to allow access to the docstrings.\u001b[0m\u001b[0;34m\u001b[0m\u001b[0;34m\u001b[0m\u001b[0;34m\u001b[0m\u001b[0m\n\u001b[0;32m--> 109\u001b[0;31m             \u001b[0;32mif\u001b[0m \u001b[0;32mnot\u001b[0m \u001b[0mself\u001b[0m\u001b[0;34m.\u001b[0m\u001b[0mcheck\u001b[0m\u001b[0;34m(\u001b[0m\u001b[0mobj\u001b[0m\u001b[0;34m)\u001b[0m\u001b[0;34m:\u001b[0m\u001b[0;34m\u001b[0m\u001b[0;34m\u001b[0m\u001b[0m\n\u001b[0m\u001b[1;32m    110\u001b[0m                 \u001b[0;32mraise\u001b[0m \u001b[0mattr_err\u001b[0m\u001b[0;34m\u001b[0m\u001b[0;34m\u001b[0m\u001b[0m\n\u001b[1;32m    111\u001b[0m \u001b[0;34m\u001b[0m\u001b[0m\n",
            "\u001b[0;32m/usr/local/lib/python3.7/dist-packages/sklearn/svm/_base.py\u001b[0m in \u001b[0;36m_check_proba\u001b[0;34m(self)\u001b[0m\n\u001b[1;32m    799\u001b[0m         \u001b[0;32mif\u001b[0m \u001b[0;32mnot\u001b[0m \u001b[0mself\u001b[0m\u001b[0;34m.\u001b[0m\u001b[0mprobability\u001b[0m\u001b[0;34m:\u001b[0m\u001b[0;34m\u001b[0m\u001b[0;34m\u001b[0m\u001b[0m\n\u001b[1;32m    800\u001b[0m             raise AttributeError(\n\u001b[0;32m--> 801\u001b[0;31m                 \u001b[0;34m\"predict_proba is not available when  probability=False\"\u001b[0m\u001b[0;34m\u001b[0m\u001b[0;34m\u001b[0m\u001b[0m\n\u001b[0m\u001b[1;32m    802\u001b[0m             )\n\u001b[1;32m    803\u001b[0m         \u001b[0;32mif\u001b[0m \u001b[0mself\u001b[0m\u001b[0;34m.\u001b[0m\u001b[0m_impl\u001b[0m \u001b[0;32mnot\u001b[0m \u001b[0;32min\u001b[0m \u001b[0;34m(\u001b[0m\u001b[0;34m\"c_svc\"\u001b[0m\u001b[0;34m,\u001b[0m \u001b[0;34m\"nu_svc\"\u001b[0m\u001b[0;34m)\u001b[0m\u001b[0;34m:\u001b[0m\u001b[0;34m\u001b[0m\u001b[0;34m\u001b[0m\u001b[0m\n",
            "\u001b[0;31mAttributeError\u001b[0m: predict_proba is not available when  probability=False"
          ]
        }
      ]
    },
    {
      "cell_type": "code",
      "source": [
        "from sklearn.tree import DecisionTreeClassifier\n",
        "DT=DecisionTreeClassifier()\n",
        "DT=DT.fit(X_trainSelectedFeatureAfterSMOTE,y_train)\n",
        "y4_predict_test=DT.predict(X_testSelectedFeature)\n",
        "cm4=confusion_matrix(y_test,y4_predict_test)\n",
        "sns.heatmap(cm4,annot=True)\n",
        "sns.heatmap(cm1,annot=True)\n",
        "print(classification_report(y_test,y4_predict_test))"
      ],
      "metadata": {
        "id": "TAsXG4neshA0",
        "colab": {
          "base_uri": "https://localhost:8080/",
          "height": 421
        },
        "outputId": "55f39f74-aa41-4ee8-d1ea-d12ae456f836"
      },
      "execution_count": 36,
      "outputs": [
        {
          "output_type": "stream",
          "name": "stdout",
          "text": [
            "              precision    recall  f1-score   support\n",
            "\n",
            "           0       0.77      0.89      0.83       142\n",
            "           1       0.92      0.82      0.87       211\n",
            "\n",
            "    accuracy                           0.85       353\n",
            "   macro avg       0.84      0.86      0.85       353\n",
            "weighted avg       0.86      0.85      0.85       353\n",
            "\n"
          ]
        },
        {
          "output_type": "display_data",
          "data": {
            "text/plain": [
              "<Figure size 432x288 with 3 Axes>"
            ],
            "image/png": "[encoded data removed]"
          },
          "metadata": {
            "needs_background": "light"
          }
        }
      ]
    },
    {
      "cell_type": "code",
      "source": [
        "y_predictionKNN_proba=DT.predict_proba(X_testSelectedFeature)[:,1]\n",
        "AUCKNN=metrics.roc_auc_score(y_test,y_predictionKNN_proba)\n",
        "print(\"AUC: \",AUCKNN)\n",
        "fprKNN, tprKNN, thresholds = metrics.roc_curve(y_test,y_predictionKNN_proba)\n",
        "\n",
        "plt.plot(fprKNN,tprKNN,label=\"( area = \"+str(AUCKNN)+\" )\")\n",
        "plt.xlabel('False Positive Rate')\n",
        "plt.ylabel('True Positive Rate')\n",
        "plt.legend(loc=4)\n",
        "plt.show()"
      ],
      "metadata": {
        "id": "EZ2ezyr61j2V",
        "colab": {
          "base_uri": "https://localhost:8080/",
          "height": 296
        },
        "outputId": "469cab7c-9904-4898-a6dc-82b9beabf120"
      },
      "execution_count": 37,
      "outputs": [
        {
          "output_type": "stream",
          "name": "stdout",
          "text": [
            "AUC:  0.9127561577998797\n"
          ]
        },
        {
          "output_type": "display_data",
          "data": {
            "text/plain": [
              "<Figure size 432x288 with 1 Axes>"
            ],
            "image/png": "[encoded data removed]"
          },
          "metadata": {
            "needs_background": "light"
          }
        }
      ]
    },
    {
      "cell_type": "code",
      "source": [
        "prediction=DT.predict(X_testSelectedFeature)\n",
        "print('Accuracy = ', metrics.accuracy_score(y_test, y4_predict_test)*100)"
      ],
      "metadata": {
        "id": "z6O8-fROtGW6",
        "colab": {
          "base_uri": "https://localhost:8080/"
        },
        "outputId": "7114c37f-9371-4b42-ccc0-f242c8791580"
      },
      "execution_count": 38,
      "outputs": [
        {
          "output_type": "stream",
          "name": "stdout",
          "text": [
            "Accuracy =  84.98583569405099\n"
          ]
        }
      ]
    },
    {
      "cell_type": "code",
      "source": [
        "from sklearn.naive_bayes import BernoulliNB\n",
        "BNBmodel = BernoulliNB()\n",
        "BNBmodel.fit(X_trainSelectedFeatureAfterSMOTE, y_train)"
      ],
      "metadata": {
        "id": "aF0I9PActfeD",
        "colab": {
          "base_uri": "https://localhost:8080/"
        },
        "outputId": "ef2907d6-96ca-4a5b-840a-a1ee51138928"
      },
      "execution_count": 39,
      "outputs": [
        {
          "output_type": "execute_result",
          "data": {
            "text/plain": [
              "BernoulliNB()"
            ]
          },
          "metadata": {},
          "execution_count": 39
        }
      ]
    },
    {
      "cell_type": "code",
      "source": [
        "y3_predict_test=BNBmodel.predict(X_testSelectedFeature)\n",
        "cm1=confusion_matrix(y_test,y3_predict_test)\n",
        "sns.heatmap(cm1,annot=True)\n",
        "print(classification_report(y_test,y3_predict_test))"
      ],
      "metadata": {
        "id": "Bykj_5fstnGx",
        "colab": {
          "base_uri": "https://localhost:8080/",
          "height": 421
        },
        "outputId": "68979141-a015-49ae-e4e7-cedfad27b770"
      },
      "execution_count": 40,
      "outputs": [
        {
          "output_type": "stream",
          "name": "stdout",
          "text": [
            "              precision    recall  f1-score   support\n",
            "\n",
            "           0       0.74      0.89      0.81       142\n",
            "           1       0.91      0.79      0.85       211\n",
            "\n",
            "    accuracy                           0.83       353\n",
            "   macro avg       0.83      0.84      0.83       353\n",
            "weighted avg       0.84      0.83      0.83       353\n",
            "\n"
          ]
        },
        {
          "output_type": "display_data",
          "data": {
            "text/plain": [
              "<Figure size 432x288 with 2 Axes>"
            ],
            "image/png": "[encoded data removed]"
          },
          "metadata": {
            "needs_background": "light"
          }
        }
      ]
    },
    {
      "cell_type": "code",
      "source": [
        "prediction=BNBmodel.predict(X_testSelectedFeature)\n",
        "print('Accuracy = ', metrics.accuracy_score(y_test, y3_predict_test)*100)"
      ],
      "metadata": {
        "id": "0GYyUTxYt1d1",
        "colab": {
          "base_uri": "https://localhost:8080/"
        },
        "outputId": "7f46e8ca-c6e1-4015-d48a-1ed19641720a"
      },
      "execution_count": 41,
      "outputs": [
        {
          "output_type": "stream",
          "name": "stdout",
          "text": [
            "Accuracy =  83.0028328611898\n"
          ]
        }
      ]
    },
    {
      "cell_type": "code",
      "source": [
        "y_predictionKNN_proba=BNBmodel.predict_proba(X_testSelectedFeature)[:,1]\n",
        "AUCKNN=metrics.roc_auc_score(y_test,y_predictionKNN_proba)\n",
        "print(\"AUC: \",AUCKNN)\n",
        "fprKNN, tprKNN, thresholds = metrics.roc_curve(y_test,y_predictionKNN_proba)\n",
        "\n",
        "plt.plot(fprKNN,tprKNN,label=\"( area = \"+str(AUCKNN)+\" )\")\n",
        "plt.xlabel('False Positive Rate')\n",
        "plt.ylabel('True Positive Rate')\n",
        "plt.legend(loc=4)\n",
        "plt.show()"
      ],
      "metadata": {
        "id": "jLu-2YCD2-Q4",
        "colab": {
          "base_uri": "https://localhost:8080/",
          "height": 296
        },
        "outputId": "c517284f-3eae-4c77-f8cb-0a56115a1729"
      },
      "execution_count": 42,
      "outputs": [
        {
          "output_type": "stream",
          "name": "stdout",
          "text": [
            "AUC:  0.9175789333155331\n"
          ]
        },
        {
          "output_type": "display_data",
          "data": {
            "text/plain": [
              "<Figure size 432x288 with 1 Axes>"
            ],
            "image/png": "[encoded data removed]"
          },
          "metadata": {
            "needs_background": "light"
          }
        }
      ]
    },
    {
      "cell_type": "code",
      "source": [
        "from sklearn.naive_bayes import MultinomialNB\n",
        "NB=MultinomialNB()\n",
        "NB.fit(X_trainSelectedFeatureAfterSMOTE,y_train)"
      ],
      "metadata": {
        "id": "dq_l-8Bet-B7",
        "colab": {
          "base_uri": "https://localhost:8080/"
        },
        "outputId": "3c4cfe87-2b40-4d49-e1a7-6202369d1f7c"
      },
      "execution_count": 43,
      "outputs": [
        {
          "output_type": "execute_result",
          "data": {
            "text/plain": [
              "MultinomialNB()"
            ]
          },
          "metadata": {},
          "execution_count": 43
        }
      ]
    },
    {
      "cell_type": "code",
      "source": [
        "y2_predict_test=NB.predict(X_testSelectedFeature)\n",
        "cm2=confusion_matrix(y_test,y2_predict_test)\n",
        "sns.heatmap(cm2,annot=True)\n",
        "print(classification_report(y_test,y2_predict_test))"
      ],
      "metadata": {
        "id": "wR7i2a6WuFjA",
        "colab": {
          "base_uri": "https://localhost:8080/",
          "height": 421
        },
        "outputId": "5e3bd59d-8d7f-47e9-a0c6-70d926028851"
      },
      "execution_count": 44,
      "outputs": [
        {
          "output_type": "stream",
          "name": "stdout",
          "text": [
            "              precision    recall  f1-score   support\n",
            "\n",
            "           0       0.72      0.87      0.79       142\n",
            "           1       0.90      0.78      0.83       211\n",
            "\n",
            "    accuracy                           0.81       353\n",
            "   macro avg       0.81      0.82      0.81       353\n",
            "weighted avg       0.83      0.81      0.81       353\n",
            "\n"
          ]
        },
        {
          "output_type": "display_data",
          "data": {
            "text/plain": [
              "<Figure size 432x288 with 2 Axes>"
            ],
            "image/png": "[encoded data removed]"
          },
          "metadata": {
            "needs_background": "light"
          }
        }
      ]
    },
    {
      "cell_type": "code",
      "source": [
        "y_predictionKNN_proba=NB.predict_proba(X_testSelectedFeature)[:,1]\n",
        "AUCKNN=metrics.roc_auc_score(y_test,y_predictionKNN_proba)\n",
        "print(\"AUC: \",AUCKNN)\n",
        "fprKNN, tprKNN, thresholds = metrics.roc_curve(y_test,y_predictionKNN_proba)\n",
        "\n",
        "plt.plot(fprKNN,tprKNN,label=\"( area = \"+str(AUCKNN)+\" )\")\n",
        "plt.xlabel('False Positive Rate')\n",
        "plt.ylabel('True Positive Rate')\n",
        "plt.legend(loc=4)\n",
        "plt.show()"
      ],
      "metadata": {
        "id": "1Z9wdo7_37eZ",
        "colab": {
          "base_uri": "https://localhost:8080/",
          "height": 296
        },
        "outputId": "ca559771-ee88-4d03-92e6-d3bb6680a436"
      },
      "execution_count": 45,
      "outputs": [
        {
          "output_type": "stream",
          "name": "stdout",
          "text": [
            "AUC:  0.9027935384820772\n"
          ]
        },
        {
          "output_type": "display_data",
          "data": {
            "text/plain": [
              "<Figure size 432x288 with 1 Axes>"
            ],
            "image/png": "[encoded data removed]"
          },
          "metadata": {
            "needs_background": "light"
          }
        }
      ]
    },
    {
      "cell_type": "code",
      "source": [
        "prediction=NB.predict(X_testSelectedFeature)\n",
        "print('Accuracy = ', metrics.accuracy_score(y_test, y2_predict_test)*100)"
      ],
      "metadata": {
        "id": "2dh7yeNbuTfq",
        "colab": {
          "base_uri": "https://localhost:8080/"
        },
        "outputId": "80f856e5-8010-4a6a-a217-848875aaae8e"
      },
      "execution_count": 46,
      "outputs": [
        {
          "output_type": "stream",
          "name": "stdout",
          "text": [
            "Accuracy =  81.30311614730878\n"
          ]
        }
      ]
    },
    {
      "cell_type": "code",
      "source": [
        ""
      ],
      "metadata": {
        "id": "n2LFLnNX8YlH"
      },
      "execution_count": 46,
      "outputs": []
    },
    {
      "cell_type": "code",
      "source": [
        "# Import Library\n",
        "import numpy as np \n",
        "import matplotlib.pyplot as plt \n",
        "\n",
        "# Define Data\n",
        "data3 = ['SelectKBest']\n",
        "xvals = [85.55]\n",
        "yvals = [84.7]\n",
        "zvals = [86.4]\n",
        "avals = [84.9]\n",
        "bvals = [84.98]\n",
        "\n",
        "x_axis = np.arange(len(data3))\n",
        "\n",
        "# Multi bar Chart\n",
        "plt.bar(x_axis +0.1, xvals, width=0.07, label = 'KNN')\n",
        "plt.bar(x_axis +0.1*2, yvals, width=0.07, label = 'AdaBoost')\n",
        "plt.bar(x_axis +0.1*3, zvals, width=0.07, label = 'GradientBoost')\n",
        "plt.bar(x_axis +0.1*4, avals, width=0.07, label = 'XGBoost')\n",
        "plt.bar(x_axis +0.1*5, bvals, width=0.07, label = 'Bagging')\n",
        "\n",
        "# Xticks\n",
        "plt.xticks(x_axis,data3)\n",
        "plt.ylabel(\"Accuracy (%)\")\n",
        "plt.xlabel(\"Experiments on classification \")\n",
        "plt.title(\"Comparitive analysis using Boruta\")\n",
        "plt.legend()\n",
        "plt.show()"
      ],
      "metadata": {
        "id": "zptjWHbG3o2B",
        "outputId": "c4b7eab7-2a91-4ba7-a36d-c94fb130f7b5",
        "colab": {
          "base_uri": "https://localhost:8080/",
          "height": 278
        }
      },
      "execution_count": 47,
      "outputs": [
        {
          "output_type": "display_data",
          "data": {
            "text/plain": [
              "<Figure size 432x288 with 1 Axes>"
            ],
            "image/png": "[encoded data removed]"
          },
          "metadata": {
            "needs_background": "light"
          }
        }
      ]
    },
    {
      "cell_type": "code",
      "source": [
        "plt.figure()\n",
        "\n",
        "#plt.plot(fprRBF,tprRBF,label=\"SVM (AUC: 0.92)\")\n",
        "plt.plot(fprKNN,tprKNN,label=\"Tabnet (AUC: 0.91)\")\n",
        "#plt.plot(fprDT,tprDT,label=\"DT (AUC: 0.92)\")\n",
        "#plt.plot(fprRF,tprRF,label=\"RF (AUC: 0.92)\")\n",
        "plt.plot(fprAda,tprAda,label=\"AdaBoost (AUC: 0.92)\")\n",
        "#plt.plot(fprMLP,tprMLP,label=\"MLP (AUC: 0.96)\")\n",
        "plt.plot(fprGradientBoost,tprGradientBoost,label=\"GB (AUC: 0.92)\")\n",
        "plt.plot(fprXgB,tprXgB,label=\"XGBoost (AUC: 0.92)\")\n",
        "plt.plot(fprBagMLP,tprBagMLP,label=\"Bagging (AUC: 0.93)\")\n",
        "\n",
        "\n",
        "plt.plot([0, 1], [0, 1], color='navy', linestyle='--')\n",
        "plt.xlabel('False Positive Rate')\n",
        "plt.ylabel('True Positive Rate')\n",
        "plt.legend(loc=4)\n",
        "plt.savefig('Without feature selection-SMOTE-ROCNew.png',dpi=1000)\n",
        "plt.show()"
      ],
      "metadata": {
        "id": "uTUeCMICMr7M",
        "outputId": "eb50128c-0964-40c1-b247-2053a06d344b",
        "colab": {
          "base_uri": "https://localhost:8080/",
          "height": 279
        }
      },
      "execution_count": 55,
      "outputs": [
        {
          "output_type": "display_data",
          "data": {
            "text/plain": [
              "<Figure size 432x288 with 1 Axes>"
            ],
            "image/png": "[encoded data removed]"
          },
          "metadata": {
            "needs_background": "light"
          }
        }
      ]
    },
    {
      "cell_type": "code",
      "source": [
        "X_train = X_trainSelectedFeatureAfterSMOTE.to_numpy()\n",
        "y_train = y_train.to_numpy().squeeze()\n",
        "X_test  = X_testSelectedFeature.to_numpy()\n"
      ],
      "metadata": {
        "id": "89s8f-1k8bqK"
      },
      "execution_count": 49,
      "outputs": []
    },
    {
      "cell_type": "code",
      "source": [
        "import numpy  as np\n",
        "import pandas as pd\n",
        "!pip install pytorch-tabnet\n",
        "from pytorch_tabnet.tab_model import TabNetClassifier\n",
        "import torch\n",
        "\n",
        "\n",
        "classifier = TabNetClassifier(optimizer_fn=torch.optim.Adam,\n",
        "                       optimizer_params=dict(lr=1e-2),\n",
        "                       scheduler_params={\"step_size\":10,\"gamma\":0.9},\n",
        "                       scheduler_fn=torch.optim.lr_scheduler.StepLR,\n",
        "                       mask_type='entmax')\n"
      ],
      "metadata": {
        "colab": {
          "base_uri": "https://localhost:8080/"
        },
        "id": "Lrx4YyBBElW-",
        "outputId": "81e7d3d6-1719-482e-9970-a482ca69c9c4"
      },
      "execution_count": 50,
      "outputs": [
        {
          "output_type": "stream",
          "name": "stdout",
          "text": [
            "Looking in indexes: https://pypi.org/simple, https://us-python.pkg.dev/colab-wheels/public/simple/\n",
            "Collecting pytorch-tabnet\n",
            "  Downloading pytorch_tabnet-3.1.1-py3-none-any.whl (39 kB)\n",
            "Requirement already satisfied: scikit_learn>0.21 in /usr/local/lib/python3.7/dist-packages (from pytorch-tabnet) (1.0.2)\n",
            "Requirement already satisfied: torch<2.0,>=1.2 in /usr/local/lib/python3.7/dist-packages (from pytorch-tabnet) (1.11.0+cu113)\n",
            "Requirement already satisfied: scipy>1.4 in /usr/local/lib/python3.7/dist-packages (from pytorch-tabnet) (1.4.1)\n",
            "Requirement already satisfied: numpy<2.0,>=1.17 in /usr/local/lib/python3.7/dist-packages (from pytorch-tabnet) (1.21.6)\n",
            "Requirement already satisfied: tqdm<5.0,>=4.36 in /usr/local/lib/python3.7/dist-packages (from pytorch-tabnet) (4.64.0)\n",
            "Requirement already satisfied: threadpoolctl>=2.0.0 in /usr/local/lib/python3.7/dist-packages (from scikit_learn>0.21->pytorch-tabnet) (3.1.0)\n",
            "Requirement already satisfied: joblib>=0.11 in /usr/local/lib/python3.7/dist-packages (from scikit_learn>0.21->pytorch-tabnet) (1.1.0)\n",
            "Requirement already satisfied: typing-extensions in /usr/local/lib/python3.7/dist-packages (from torch<2.0,>=1.2->pytorch-tabnet) (4.2.0)\n",
            "Installing collected packages: pytorch-tabnet\n",
            "Successfully installed pytorch-tabnet-3.1.1\n",
            "Device used : cpu\n"
          ]
        }
      ]
    },
    {
      "cell_type": "code",
      "source": [
        "classifier.fit(X_train=X_train, y_train=y_train,\n",
        "               patience=5,max_epochs=2000,\n",
        "               eval_metric=['auc'])"
      ],
      "metadata": {
        "colab": {
          "base_uri": "https://localhost:8080/"
        },
        "id": "e84yXhu-I1xc",
        "outputId": "3150d984-c6a9-44a0-aec5-f3cdf27fe36e"
      },
      "execution_count": 51,
      "outputs": [
        {
          "output_type": "stream",
          "name": "stdout",
          "text": [
            "No early stopping will be performed, last training weights will be used.\n",
            "epoch 0  | loss: 0.87474 |  0:00:00s\n",
            "epoch 1  | loss: 0.68465 |  0:00:00s\n",
            "epoch 2  | loss: 0.58996 |  0:00:00s\n",
            "epoch 3  | loss: 0.54439 |  0:00:00s\n",
            "epoch 4  | loss: 0.51066 |  0:00:00s\n",
            "epoch 5  | loss: 0.48029 |  0:00:00s\n",
            "epoch 6  | loss: 0.4431  |  0:00:00s\n",
            "epoch 7  | loss: 0.42958 |  0:00:00s\n",
            "epoch 8  | loss: 0.40002 |  0:00:00s\n",
            "epoch 9  | loss: 0.38123 |  0:00:00s\n",
            "epoch 10 | loss: 0.3806  |  0:00:01s\n",
            "epoch 11 | loss: 0.36844 |  0:00:01s\n",
            "epoch 12 | loss: 0.35963 |  0:00:01s\n",
            "epoch 13 | loss: 0.35961 |  0:00:01s\n",
            "epoch 14 | loss: 0.33898 |  0:00:01s\n",
            "epoch 15 | loss: 0.32446 |  0:00:01s\n",
            "epoch 16 | loss: 0.32421 |  0:00:01s\n",
            "epoch 17 | loss: 0.31703 |  0:00:01s\n",
            "epoch 18 | loss: 0.31682 |  0:00:01s\n",
            "epoch 19 | loss: 0.30582 |  0:00:01s\n",
            "epoch 20 | loss: 0.29666 |  0:00:01s\n",
            "epoch 21 | loss: 0.30796 |  0:00:01s\n",
            "epoch 22 | loss: 0.29075 |  0:00:02s\n",
            "epoch 23 | loss: 0.27608 |  0:00:02s\n",
            "epoch 24 | loss: 0.28381 |  0:00:02s\n",
            "epoch 25 | loss: 0.2716  |  0:00:02s\n",
            "epoch 26 | loss: 0.28117 |  0:00:02s\n",
            "epoch 27 | loss: 0.26886 |  0:00:02s\n",
            "epoch 28 | loss: 0.27988 |  0:00:02s\n",
            "epoch 29 | loss: 0.25632 |  0:00:02s\n",
            "epoch 30 | loss: 0.27404 |  0:00:02s\n",
            "epoch 31 | loss: 0.25118 |  0:00:02s\n",
            "epoch 32 | loss: 0.26186 |  0:00:02s\n",
            "epoch 33 | loss: 0.24839 |  0:00:03s\n",
            "epoch 34 | loss: 0.25085 |  0:00:03s\n",
            "epoch 35 | loss: 0.25334 |  0:00:03s\n",
            "epoch 36 | loss: 0.25502 |  0:00:03s\n",
            "epoch 37 | loss: 0.25308 |  0:00:03s\n",
            "epoch 38 | loss: 0.24834 |  0:00:03s\n",
            "epoch 39 | loss: 0.24401 |  0:00:03s\n",
            "epoch 40 | loss: 0.23289 |  0:00:03s\n",
            "epoch 41 | loss: 0.23793 |  0:00:03s\n",
            "epoch 42 | loss: 0.23855 |  0:00:03s\n",
            "epoch 43 | loss: 0.24046 |  0:00:03s\n",
            "epoch 44 | loss: 0.22807 |  0:00:03s\n",
            "epoch 45 | loss: 0.2247  |  0:00:03s\n",
            "epoch 46 | loss: 0.23443 |  0:00:04s\n",
            "epoch 47 | loss: 0.23134 |  0:00:04s\n",
            "epoch 48 | loss: 0.22415 |  0:00:04s\n",
            "epoch 49 | loss: 0.22372 |  0:00:04s\n",
            "epoch 50 | loss: 0.22391 |  0:00:04s\n",
            "epoch 51 | loss: 0.21778 |  0:00:04s\n",
            "epoch 52 | loss: 0.21987 |  0:00:04s\n",
            "epoch 53 | loss: 0.21528 |  0:00:04s\n",
            "epoch 54 | loss: 0.21161 |  0:00:04s\n",
            "epoch 55 | loss: 0.2114  |  0:00:04s\n",
            "epoch 56 | loss: 0.21559 |  0:00:04s\n",
            "epoch 57 | loss: 0.20888 |  0:00:04s\n",
            "epoch 58 | loss: 0.21257 |  0:00:05s\n",
            "epoch 59 | loss: 0.20027 |  0:00:05s\n",
            "epoch 60 | loss: 0.19999 |  0:00:05s\n",
            "epoch 61 | loss: 0.2045  |  0:00:05s\n",
            "epoch 62 | loss: 0.21449 |  0:00:05s\n",
            "epoch 63 | loss: 0.20841 |  0:00:05s\n",
            "epoch 64 | loss: 0.20715 |  0:00:05s\n",
            "epoch 65 | loss: 0.19799 |  0:00:05s\n",
            "epoch 66 | loss: 0.20077 |  0:00:06s\n",
            "epoch 67 | loss: 0.19682 |  0:00:06s\n",
            "epoch 68 | loss: 0.20947 |  0:00:06s\n",
            "epoch 69 | loss: 0.19681 |  0:00:06s\n",
            "epoch 70 | loss: 0.18882 |  0:00:06s\n",
            "epoch 71 | loss: 0.19897 |  0:00:06s\n",
            "epoch 72 | loss: 0.19132 |  0:00:07s\n",
            "epoch 73 | loss: 0.1865  |  0:00:07s\n",
            "epoch 74 | loss: 0.19737 |  0:00:07s\n",
            "epoch 75 | loss: 0.18602 |  0:00:07s\n",
            "epoch 76 | loss: 0.20088 |  0:00:07s\n",
            "epoch 77 | loss: 0.18896 |  0:00:07s\n",
            "epoch 78 | loss: 0.18714 |  0:00:07s\n",
            "epoch 79 | loss: 0.18473 |  0:00:08s\n",
            "epoch 80 | loss: 0.17962 |  0:00:08s\n",
            "epoch 81 | loss: 0.19284 |  0:00:08s\n",
            "epoch 82 | loss: 0.18912 |  0:00:08s\n",
            "epoch 83 | loss: 0.18641 |  0:00:08s\n",
            "epoch 84 | loss: 0.18615 |  0:00:08s\n",
            "epoch 85 | loss: 0.18608 |  0:00:08s\n",
            "epoch 86 | loss: 0.19845 |  0:00:09s\n",
            "epoch 87 | loss: 0.18646 |  0:00:09s\n",
            "epoch 88 | loss: 0.18179 |  0:00:09s\n",
            "epoch 89 | loss: 0.17494 |  0:00:09s\n",
            "epoch 90 | loss: 0.18006 |  0:00:09s\n",
            "epoch 91 | loss: 0.18631 |  0:00:09s\n",
            "epoch 92 | loss: 0.17761 |  0:00:10s\n",
            "epoch 93 | loss: 0.18063 |  0:00:10s\n",
            "epoch 94 | loss: 0.18958 |  0:00:10s\n",
            "epoch 95 | loss: 0.18351 |  0:00:10s\n",
            "epoch 96 | loss: 0.18679 |  0:00:10s\n",
            "epoch 97 | loss: 0.19393 |  0:00:10s\n",
            "epoch 98 | loss: 0.18624 |  0:00:10s\n",
            "epoch 99 | loss: 0.17659 |  0:00:11s\n",
            "epoch 100| loss: 0.18381 |  0:00:11s\n",
            "epoch 101| loss: 0.18881 |  0:00:11s\n",
            "epoch 102| loss: 0.17865 |  0:00:11s\n",
            "epoch 103| loss: 0.17336 |  0:00:11s\n",
            "epoch 104| loss: 0.17539 |  0:00:11s\n",
            "epoch 105| loss: 0.18387 |  0:00:12s\n",
            "epoch 106| loss: 0.17395 |  0:00:12s\n",
            "epoch 107| loss: 0.16873 |  0:00:12s\n",
            "epoch 108| loss: 0.17805 |  0:00:12s\n",
            "epoch 109| loss: 0.17914 |  0:00:12s\n",
            "epoch 110| loss: 0.16391 |  0:00:12s\n",
            "epoch 111| loss: 0.16959 |  0:00:12s\n",
            "epoch 112| loss: 0.15621 |  0:00:13s\n",
            "epoch 113| loss: 0.1805  |  0:00:13s\n",
            "epoch 114| loss: 0.17751 |  0:00:13s\n",
            "epoch 115| loss: 0.17057 |  0:00:13s\n",
            "epoch 116| loss: 0.17999 |  0:00:13s\n",
            "epoch 117| loss: 0.17599 |  0:00:13s\n",
            "epoch 118| loss: 0.16335 |  0:00:14s\n",
            "epoch 119| loss: 0.16388 |  0:00:14s\n",
            "epoch 120| loss: 0.15977 |  0:00:14s\n",
            "epoch 121| loss: 0.16977 |  0:00:14s\n",
            "epoch 122| loss: 0.16717 |  0:00:14s\n",
            "epoch 123| loss: 0.168   |  0:00:14s\n",
            "epoch 124| loss: 0.17284 |  0:00:14s\n",
            "epoch 125| loss: 0.16153 |  0:00:15s\n",
            "epoch 126| loss: 0.16913 |  0:00:15s\n",
            "epoch 127| loss: 0.16784 |  0:00:15s\n",
            "epoch 128| loss: 0.15636 |  0:00:15s\n",
            "epoch 129| loss: 0.16442 |  0:00:15s\n",
            "epoch 130| loss: 0.17648 |  0:00:15s\n",
            "epoch 131| loss: 0.16528 |  0:00:15s\n",
            "epoch 132| loss: 0.1663  |  0:00:15s\n",
            "epoch 133| loss: 0.15504 |  0:00:16s\n",
            "epoch 134| loss: 0.16511 |  0:00:16s\n",
            "epoch 135| loss: 0.16517 |  0:00:16s\n",
            "epoch 136| loss: 0.15811 |  0:00:16s\n",
            "epoch 137| loss: 0.15456 |  0:00:16s\n",
            "epoch 138| loss: 0.16313 |  0:00:16s\n",
            "epoch 139| loss: 0.15433 |  0:00:16s\n",
            "epoch 140| loss: 0.15365 |  0:00:17s\n",
            "epoch 141| loss: 0.15978 |  0:00:17s\n",
            "epoch 142| loss: 0.15454 |  0:00:17s\n",
            "epoch 143| loss: 0.17628 |  0:00:17s\n",
            "epoch 144| loss: 0.15939 |  0:00:17s\n",
            "epoch 145| loss: 0.15772 |  0:00:18s\n",
            "epoch 146| loss: 0.15908 |  0:00:18s\n",
            "epoch 147| loss: 0.15454 |  0:00:18s\n",
            "epoch 148| loss: 0.1554  |  0:00:18s\n",
            "epoch 149| loss: 0.14781 |  0:00:18s\n",
            "epoch 150| loss: 0.16167 |  0:00:19s\n",
            "epoch 151| loss: 0.15515 |  0:00:19s\n",
            "epoch 152| loss: 0.15029 |  0:00:19s\n",
            "epoch 153| loss: 0.14841 |  0:00:19s\n",
            "epoch 154| loss: 0.15318 |  0:00:19s\n",
            "epoch 155| loss: 0.15406 |  0:00:19s\n",
            "epoch 156| loss: 0.15581 |  0:00:20s\n",
            "epoch 157| loss: 0.14226 |  0:00:20s\n",
            "epoch 158| loss: 0.14464 |  0:00:20s\n",
            "epoch 159| loss: 0.15986 |  0:00:20s\n",
            "epoch 160| loss: 0.16177 |  0:00:20s\n",
            "epoch 161| loss: 0.14322 |  0:00:21s\n",
            "epoch 162| loss: 0.1578  |  0:00:21s\n",
            "epoch 163| loss: 0.15831 |  0:00:21s\n",
            "epoch 164| loss: 0.14665 |  0:00:21s\n",
            "epoch 165| loss: 0.15025 |  0:00:22s\n",
            "epoch 166| loss: 0.15365 |  0:00:22s\n",
            "epoch 167| loss: 0.15453 |  0:00:22s\n",
            "epoch 168| loss: 0.14526 |  0:00:22s\n",
            "epoch 169| loss: 0.14837 |  0:00:22s\n",
            "epoch 170| loss: 0.14842 |  0:00:22s\n",
            "epoch 171| loss: 0.14936 |  0:00:22s\n",
            "epoch 172| loss: 0.14613 |  0:00:23s\n",
            "epoch 173| loss: 0.14704 |  0:00:23s\n",
            "epoch 174| loss: 0.14437 |  0:00:23s\n",
            "epoch 175| loss: 0.14179 |  0:00:23s\n",
            "epoch 176| loss: 0.14576 |  0:00:23s\n",
            "epoch 177| loss: 0.15356 |  0:00:23s\n",
            "epoch 178| loss: 0.15276 |  0:00:24s\n",
            "epoch 179| loss: 0.14251 |  0:00:24s\n",
            "epoch 180| loss: 0.14557 |  0:00:24s\n",
            "epoch 181| loss: 0.14892 |  0:00:24s\n",
            "epoch 182| loss: 0.13965 |  0:00:24s\n",
            "epoch 183| loss: 0.15045 |  0:00:24s\n",
            "epoch 184| loss: 0.14601 |  0:00:25s\n",
            "epoch 185| loss: 0.14889 |  0:00:25s\n",
            "epoch 186| loss: 0.14492 |  0:00:25s\n",
            "epoch 187| loss: 0.1448  |  0:00:25s\n",
            "epoch 188| loss: 0.15875 |  0:00:25s\n",
            "epoch 189| loss: 0.14104 |  0:00:25s\n",
            "epoch 190| loss: 0.13927 |  0:00:25s\n",
            "epoch 191| loss: 0.14368 |  0:00:26s\n",
            "epoch 192| loss: 0.15093 |  0:00:26s\n",
            "epoch 193| loss: 0.15173 |  0:00:26s\n",
            "epoch 194| loss: 0.1405  |  0:00:26s\n",
            "epoch 195| loss: 0.14372 |  0:00:26s\n",
            "epoch 196| loss: 0.1399  |  0:00:27s\n",
            "epoch 197| loss: 0.14433 |  0:00:27s\n",
            "epoch 198| loss: 0.14773 |  0:00:27s\n",
            "epoch 199| loss: 0.14877 |  0:00:27s\n",
            "epoch 200| loss: 0.14211 |  0:00:27s\n",
            "epoch 201| loss: 0.14471 |  0:00:27s\n",
            "epoch 202| loss: 0.14827 |  0:00:28s\n",
            "epoch 203| loss: 0.13488 |  0:00:28s\n",
            "epoch 204| loss: 0.1456  |  0:00:28s\n",
            "epoch 205| loss: 0.13336 |  0:00:28s\n",
            "epoch 206| loss: 0.14338 |  0:00:28s\n",
            "epoch 207| loss: 0.1406  |  0:00:28s\n",
            "epoch 208| loss: 0.13716 |  0:00:29s\n",
            "epoch 209| loss: 0.14827 |  0:00:29s\n",
            "epoch 210| loss: 0.13617 |  0:00:29s\n",
            "epoch 211| loss: 0.13526 |  0:00:29s\n",
            "epoch 212| loss: 0.13922 |  0:00:29s\n",
            "epoch 213| loss: 0.15866 |  0:00:29s\n",
            "epoch 214| loss: 0.12798 |  0:00:29s\n",
            "epoch 215| loss: 0.13787 |  0:00:29s\n",
            "epoch 216| loss: 0.146   |  0:00:30s\n",
            "epoch 217| loss: 0.14411 |  0:00:30s\n",
            "epoch 218| loss: 0.14933 |  0:00:30s\n",
            "epoch 219| loss: 0.15196 |  0:00:30s\n",
            "epoch 220| loss: 0.15173 |  0:00:30s\n",
            "epoch 221| loss: 0.13782 |  0:00:30s\n",
            "epoch 222| loss: 0.14463 |  0:00:30s\n",
            "epoch 223| loss: 0.13849 |  0:00:31s\n",
            "epoch 224| loss: 0.13721 |  0:00:31s\n",
            "epoch 225| loss: 0.13492 |  0:00:31s\n",
            "epoch 226| loss: 0.14472 |  0:00:31s\n",
            "epoch 227| loss: 0.13712 |  0:00:31s\n",
            "epoch 228| loss: 0.14292 |  0:00:32s\n",
            "epoch 229| loss: 0.13687 |  0:00:32s\n",
            "epoch 230| loss: 0.13484 |  0:00:32s\n",
            "epoch 231| loss: 0.14818 |  0:00:33s\n",
            "epoch 232| loss: 0.1434  |  0:00:33s\n",
            "epoch 233| loss: 0.14627 |  0:00:33s\n",
            "epoch 234| loss: 0.14675 |  0:00:33s\n",
            "epoch 235| loss: 0.13436 |  0:00:33s\n",
            "epoch 236| loss: 0.13777 |  0:00:33s\n",
            "epoch 237| loss: 0.13845 |  0:00:34s\n",
            "epoch 238| loss: 0.1435  |  0:00:34s\n",
            "epoch 239| loss: 0.14943 |  0:00:34s\n",
            "epoch 240| loss: 0.14708 |  0:00:34s\n",
            "epoch 241| loss: 0.1382  |  0:00:34s\n",
            "epoch 242| loss: 0.13948 |  0:00:35s\n",
            "epoch 243| loss: 0.13963 |  0:00:35s\n",
            "epoch 244| loss: 0.14022 |  0:00:35s\n",
            "epoch 245| loss: 0.14215 |  0:00:35s\n",
            "epoch 246| loss: 0.1398  |  0:00:35s\n",
            "epoch 247| loss: 0.13729 |  0:00:35s\n",
            "epoch 248| loss: 0.15177 |  0:00:35s\n",
            "epoch 249| loss: 0.14631 |  0:00:36s\n",
            "epoch 250| loss: 0.14282 |  0:00:36s\n",
            "epoch 251| loss: 0.1462  |  0:00:36s\n",
            "epoch 252| loss: 0.1328  |  0:00:36s\n",
            "epoch 253| loss: 0.14155 |  0:00:36s\n",
            "epoch 254| loss: 0.14325 |  0:00:36s\n",
            "epoch 255| loss: 0.13812 |  0:00:36s\n",
            "epoch 256| loss: 0.1357  |  0:00:36s\n",
            "epoch 257| loss: 0.14371 |  0:00:37s\n",
            "epoch 258| loss: 0.13928 |  0:00:37s\n",
            "epoch 259| loss: 0.14054 |  0:00:37s\n",
            "epoch 260| loss: 0.13276 |  0:00:37s\n",
            "epoch 261| loss: 0.13596 |  0:00:37s\n",
            "epoch 262| loss: 0.14349 |  0:00:37s\n",
            "epoch 263| loss: 0.1337  |  0:00:38s\n",
            "epoch 264| loss: 0.14053 |  0:00:38s\n",
            "epoch 265| loss: 0.13351 |  0:00:38s\n",
            "epoch 266| loss: 0.13945 |  0:00:38s\n",
            "epoch 267| loss: 0.13825 |  0:00:38s\n",
            "epoch 268| loss: 0.13904 |  0:00:38s\n",
            "epoch 269| loss: 0.13719 |  0:00:38s\n",
            "epoch 270| loss: 0.13637 |  0:00:38s\n",
            "epoch 271| loss: 0.13135 |  0:00:39s\n",
            "epoch 272| loss: 0.13233 |  0:00:39s\n",
            "epoch 273| loss: 0.13535 |  0:00:39s\n",
            "epoch 274| loss: 0.13276 |  0:00:39s\n",
            "epoch 275| loss: 0.13384 |  0:00:39s\n",
            "epoch 276| loss: 0.13169 |  0:00:39s\n",
            "epoch 277| loss: 0.13333 |  0:00:39s\n",
            "epoch 278| loss: 0.1365  |  0:00:40s\n",
            "epoch 279| loss: 0.13543 |  0:00:40s\n",
            "epoch 280| loss: 0.13387 |  0:00:40s\n",
            "epoch 281| loss: 0.13454 |  0:00:40s\n",
            "epoch 282| loss: 0.13555 |  0:00:40s\n",
            "epoch 283| loss: 0.13153 |  0:00:40s\n",
            "epoch 284| loss: 0.12912 |  0:00:40s\n",
            "epoch 285| loss: 0.13506 |  0:00:40s\n",
            "epoch 286| loss: 0.13987 |  0:00:41s\n",
            "epoch 287| loss: 0.13262 |  0:00:41s\n",
            "epoch 288| loss: 0.14952 |  0:00:41s\n",
            "epoch 289| loss: 0.12937 |  0:00:41s\n",
            "epoch 290| loss: 0.12897 |  0:00:41s\n",
            "epoch 291| loss: 0.13271 |  0:00:42s\n",
            "epoch 292| loss: 0.12923 |  0:00:42s\n",
            "epoch 293| loss: 0.13655 |  0:00:42s\n",
            "epoch 294| loss: 0.14146 |  0:00:42s\n",
            "epoch 295| loss: 0.13373 |  0:00:43s\n",
            "epoch 296| loss: 0.13349 |  0:00:43s\n",
            "epoch 297| loss: 0.13516 |  0:00:43s\n",
            "epoch 298| loss: 0.13379 |  0:00:43s\n",
            "epoch 299| loss: 0.14185 |  0:00:44s\n",
            "epoch 300| loss: 0.14393 |  0:00:44s\n",
            "epoch 301| loss: 0.13315 |  0:00:44s\n",
            "epoch 302| loss: 0.13356 |  0:00:44s\n",
            "epoch 303| loss: 0.1348  |  0:00:44s\n",
            "epoch 304| loss: 0.13218 |  0:00:45s\n",
            "epoch 305| loss: 0.13618 |  0:00:45s\n",
            "epoch 306| loss: 0.12991 |  0:00:45s\n",
            "epoch 307| loss: 0.14628 |  0:00:45s\n",
            "epoch 308| loss: 0.12896 |  0:00:46s\n",
            "epoch 309| loss: 0.14162 |  0:00:46s\n",
            "epoch 310| loss: 0.1371  |  0:00:46s\n",
            "epoch 311| loss: 0.13458 |  0:00:47s\n",
            "epoch 312| loss: 0.13596 |  0:00:47s\n",
            "epoch 313| loss: 0.13455 |  0:00:47s\n",
            "epoch 314| loss: 0.13872 |  0:00:47s\n",
            "epoch 315| loss: 0.1361  |  0:00:48s\n",
            "epoch 316| loss: 0.13535 |  0:00:48s\n",
            "epoch 317| loss: 0.13089 |  0:00:48s\n",
            "epoch 318| loss: 0.13664 |  0:00:48s\n",
            "epoch 319| loss: 0.13552 |  0:00:49s\n",
            "epoch 320| loss: 0.13624 |  0:00:49s\n",
            "epoch 321| loss: 0.12725 |  0:00:49s\n",
            "epoch 322| loss: 0.13276 |  0:00:49s\n",
            "epoch 323| loss: 0.13873 |  0:00:50s\n",
            "epoch 324| loss: 0.12931 |  0:00:50s\n",
            "epoch 325| loss: 0.13886 |  0:00:50s\n",
            "epoch 326| loss: 0.13531 |  0:00:50s\n",
            "epoch 327| loss: 0.13465 |  0:00:51s\n",
            "epoch 328| loss: 0.13199 |  0:00:51s\n",
            "epoch 329| loss: 0.13092 |  0:00:51s\n",
            "epoch 330| loss: 0.13822 |  0:00:51s\n",
            "epoch 331| loss: 0.13178 |  0:00:51s\n",
            "epoch 332| loss: 0.13568 |  0:00:52s\n",
            "epoch 333| loss: 0.13902 |  0:00:52s\n",
            "epoch 334| loss: 0.13581 |  0:00:52s\n",
            "epoch 335| loss: 0.12783 |  0:00:53s\n",
            "epoch 336| loss: 0.13454 |  0:00:53s\n",
            "epoch 337| loss: 0.13759 |  0:00:53s\n",
            "epoch 338| loss: 0.13548 |  0:00:54s\n",
            "epoch 339| loss: 0.13911 |  0:00:54s\n",
            "epoch 340| loss: 0.13605 |  0:00:54s\n",
            "epoch 341| loss: 0.13373 |  0:00:54s\n",
            "epoch 342| loss: 0.14077 |  0:00:55s\n",
            "epoch 343| loss: 0.13277 |  0:00:55s\n",
            "epoch 344| loss: 0.13742 |  0:00:55s\n",
            "epoch 345| loss: 0.1359  |  0:00:56s\n",
            "epoch 346| loss: 0.13622 |  0:00:56s\n",
            "epoch 347| loss: 0.13072 |  0:00:56s\n",
            "epoch 348| loss: 0.13173 |  0:00:56s\n",
            "epoch 349| loss: 0.12458 |  0:00:56s\n",
            "epoch 350| loss: 0.12984 |  0:00:57s\n",
            "epoch 351| loss: 0.13498 |  0:00:57s\n",
            "epoch 352| loss: 0.12891 |  0:00:57s\n",
            "epoch 353| loss: 0.13514 |  0:00:58s\n",
            "epoch 354| loss: 0.12249 |  0:00:58s\n",
            "epoch 355| loss: 0.13068 |  0:00:58s\n",
            "epoch 356| loss: 0.12583 |  0:00:58s\n",
            "epoch 357| loss: 0.13626 |  0:00:58s\n",
            "epoch 358| loss: 0.13268 |  0:00:59s\n",
            "epoch 359| loss: 0.12957 |  0:00:59s\n",
            "epoch 360| loss: 0.13393 |  0:00:59s\n",
            "epoch 361| loss: 0.13327 |  0:00:59s\n",
            "epoch 362| loss: 0.13011 |  0:00:59s\n",
            "epoch 363| loss: 0.12659 |  0:00:59s\n",
            "epoch 364| loss: 0.12357 |  0:00:59s\n",
            "epoch 365| loss: 0.12736 |  0:01:00s\n",
            "epoch 366| loss: 0.13107 |  0:01:00s\n",
            "epoch 367| loss: 0.12925 |  0:01:00s\n",
            "epoch 368| loss: 0.13335 |  0:01:00s\n",
            "epoch 369| loss: 0.1298  |  0:01:00s\n",
            "epoch 370| loss: 0.12551 |  0:01:00s\n",
            "epoch 371| loss: 0.13526 |  0:01:00s\n",
            "epoch 372| loss: 0.12751 |  0:01:01s\n",
            "epoch 373| loss: 0.12919 |  0:01:01s\n",
            "epoch 374| loss: 0.13308 |  0:01:01s\n",
            "epoch 375| loss: 0.12726 |  0:01:01s\n",
            "epoch 376| loss: 0.12824 |  0:01:01s\n",
            "epoch 377| loss: 0.1252  |  0:01:01s\n",
            "epoch 378| loss: 0.12315 |  0:01:01s\n",
            "epoch 379| loss: 0.12275 |  0:01:02s\n",
            "epoch 380| loss: 0.12626 |  0:01:02s\n",
            "epoch 381| loss: 0.12453 |  0:01:02s\n",
            "epoch 382| loss: 0.13744 |  0:01:02s\n",
            "epoch 383| loss: 0.13305 |  0:01:02s\n",
            "epoch 384| loss: 0.12354 |  0:01:02s\n",
            "epoch 385| loss: 0.12655 |  0:01:02s\n",
            "epoch 386| loss: 0.12728 |  0:01:03s\n",
            "epoch 387| loss: 0.12862 |  0:01:03s\n",
            "epoch 388| loss: 0.12856 |  0:01:03s\n",
            "epoch 389| loss: 0.12175 |  0:01:03s\n",
            "epoch 390| loss: 0.13108 |  0:01:03s\n",
            "epoch 391| loss: 0.13105 |  0:01:03s\n",
            "epoch 392| loss: 0.12508 |  0:01:04s\n",
            "epoch 393| loss: 0.12367 |  0:01:04s\n",
            "epoch 394| loss: 0.12956 |  0:01:04s\n",
            "epoch 395| loss: 0.12549 |  0:01:04s\n",
            "epoch 396| loss: 0.13225 |  0:01:04s\n",
            "epoch 397| loss: 0.12776 |  0:01:05s\n",
            "epoch 398| loss: 0.13008 |  0:01:05s\n",
            "epoch 399| loss: 0.12742 |  0:01:05s\n",
            "epoch 400| loss: 0.12384 |  0:01:05s\n",
            "epoch 401| loss: 0.12292 |  0:01:05s\n",
            "epoch 402| loss: 0.14547 |  0:01:06s\n",
            "epoch 403| loss: 0.12647 |  0:01:06s\n",
            "epoch 404| loss: 0.13068 |  0:01:06s\n",
            "epoch 405| loss: 0.12728 |  0:01:06s\n",
            "epoch 406| loss: 0.13612 |  0:01:06s\n",
            "epoch 407| loss: 0.1358  |  0:01:07s\n",
            "epoch 408| loss: 0.13745 |  0:01:07s\n",
            "epoch 409| loss: 0.12892 |  0:01:07s\n",
            "epoch 410| loss: 0.13174 |  0:01:07s\n",
            "epoch 411| loss: 0.13223 |  0:01:08s\n",
            "epoch 412| loss: 0.12631 |  0:01:08s\n",
            "epoch 413| loss: 0.13128 |  0:01:08s\n",
            "epoch 414| loss: 0.13302 |  0:01:08s\n",
            "epoch 415| loss: 0.1353  |  0:01:08s\n",
            "epoch 416| loss: 0.12726 |  0:01:09s\n",
            "epoch 417| loss: 0.13107 |  0:01:09s\n",
            "epoch 418| loss: 0.13963 |  0:01:09s\n",
            "epoch 419| loss: 0.12558 |  0:01:09s\n",
            "epoch 420| loss: 0.13596 |  0:01:09s\n",
            "epoch 421| loss: 0.12486 |  0:01:09s\n",
            "epoch 422| loss: 0.13546 |  0:01:10s\n",
            "epoch 423| loss: 0.12648 |  0:01:10s\n",
            "epoch 424| loss: 0.11931 |  0:01:10s\n",
            "epoch 425| loss: 0.13554 |  0:01:10s\n",
            "epoch 426| loss: 0.13626 |  0:01:10s\n",
            "epoch 427| loss: 0.1288  |  0:01:10s\n",
            "epoch 428| loss: 0.13247 |  0:01:10s\n",
            "epoch 429| loss: 0.14368 |  0:01:11s\n",
            "epoch 430| loss: 0.13202 |  0:01:11s\n",
            "epoch 431| loss: 0.13454 |  0:01:11s\n",
            "epoch 432| loss: 0.12904 |  0:01:11s\n",
            "epoch 433| loss: 0.13128 |  0:01:11s\n",
            "epoch 434| loss: 0.12806 |  0:01:11s\n",
            "epoch 435| loss: 0.13307 |  0:01:12s\n",
            "epoch 436| loss: 0.12992 |  0:01:12s\n",
            "epoch 437| loss: 0.12979 |  0:01:12s\n",
            "epoch 438| loss: 0.12811 |  0:01:12s\n",
            "epoch 439| loss: 0.12712 |  0:01:12s\n",
            "epoch 440| loss: 0.12328 |  0:01:12s\n",
            "epoch 441| loss: 0.12494 |  0:01:12s\n",
            "epoch 442| loss: 0.12958 |  0:01:13s\n",
            "epoch 443| loss: 0.12626 |  0:01:13s\n",
            "epoch 444| loss: 0.13107 |  0:01:13s\n",
            "epoch 445| loss: 0.1264  |  0:01:13s\n",
            "epoch 446| loss: 0.12476 |  0:01:13s\n",
            "epoch 447| loss: 0.12697 |  0:01:14s\n",
            "epoch 448| loss: 0.13315 |  0:01:14s\n",
            "epoch 449| loss: 0.12839 |  0:01:14s\n",
            "epoch 450| loss: 0.11989 |  0:01:14s\n",
            "epoch 451| loss: 0.12729 |  0:01:14s\n",
            "epoch 452| loss: 0.12797 |  0:01:14s\n",
            "epoch 453| loss: 0.13831 |  0:01:14s\n",
            "epoch 454| loss: 0.12198 |  0:01:15s\n",
            "epoch 455| loss: 0.13039 |  0:01:15s\n",
            "epoch 456| loss: 0.12652 |  0:01:15s\n",
            "epoch 457| loss: 0.12976 |  0:01:15s\n",
            "epoch 458| loss: 0.12544 |  0:01:15s\n",
            "epoch 459| loss: 0.1296  |  0:01:15s\n",
            "epoch 460| loss: 0.12922 |  0:01:15s\n",
            "epoch 461| loss: 0.1213  |  0:01:16s\n",
            "epoch 462| loss: 0.12663 |  0:01:16s\n",
            "epoch 463| loss: 0.12381 |  0:01:16s\n",
            "epoch 464| loss: 0.12603 |  0:01:16s\n",
            "epoch 465| loss: 0.12483 |  0:01:16s\n",
            "epoch 466| loss: 0.12734 |  0:01:16s\n",
            "epoch 467| loss: 0.12326 |  0:01:17s\n",
            "epoch 468| loss: 0.12549 |  0:01:17s\n",
            "epoch 469| loss: 0.12737 |  0:01:17s\n",
            "epoch 470| loss: 0.12338 |  0:01:17s\n",
            "epoch 471| loss: 0.12517 |  0:01:17s\n",
            "epoch 472| loss: 0.13239 |  0:01:17s\n",
            "epoch 473| loss: 0.12818 |  0:01:17s\n",
            "epoch 474| loss: 0.1253  |  0:01:17s\n",
            "epoch 475| loss: 0.13158 |  0:01:17s\n",
            "epoch 476| loss: 0.13144 |  0:01:17s\n",
            "epoch 477| loss: 0.12809 |  0:01:17s\n",
            "epoch 478| loss: 0.12647 |  0:01:17s\n",
            "epoch 479| loss: 0.13264 |  0:01:17s\n",
            "epoch 480| loss: 0.12933 |  0:01:18s\n",
            "epoch 481| loss: 0.13281 |  0:01:18s\n",
            "epoch 482| loss: 0.12142 |  0:01:18s\n",
            "epoch 483| loss: 0.12752 |  0:01:18s\n",
            "epoch 484| loss: 0.13743 |  0:01:18s\n",
            "epoch 485| loss: 0.13525 |  0:01:18s\n",
            "epoch 486| loss: 0.12953 |  0:01:18s\n",
            "epoch 487| loss: 0.14143 |  0:01:18s\n",
            "epoch 488| loss: 0.12971 |  0:01:18s\n",
            "epoch 489| loss: 0.12854 |  0:01:18s\n",
            "epoch 490| loss: 0.14019 |  0:01:18s\n",
            "epoch 491| loss: 0.13116 |  0:01:18s\n",
            "epoch 492| loss: 0.12844 |  0:01:18s\n",
            "epoch 493| loss: 0.12694 |  0:01:18s\n",
            "epoch 494| loss: 0.13391 |  0:01:19s\n",
            "epoch 495| loss: 0.12962 |  0:01:19s\n",
            "epoch 496| loss: 0.12707 |  0:01:19s\n",
            "epoch 497| loss: 0.13138 |  0:01:19s\n",
            "epoch 498| loss: 0.13578 |  0:01:19s\n",
            "epoch 499| loss: 0.13304 |  0:01:19s\n",
            "epoch 500| loss: 0.1241  |  0:01:19s\n",
            "epoch 501| loss: 0.13171 |  0:01:19s\n",
            "epoch 502| loss: 0.13243 |  0:01:19s\n",
            "epoch 503| loss: 0.12175 |  0:01:19s\n",
            "epoch 504| loss: 0.12903 |  0:01:19s\n",
            "epoch 505| loss: 0.12237 |  0:01:19s\n",
            "epoch 506| loss: 0.12814 |  0:01:19s\n",
            "epoch 507| loss: 0.12883 |  0:01:19s\n",
            "epoch 508| loss: 0.13447 |  0:01:20s\n",
            "epoch 509| loss: 0.12646 |  0:01:20s\n",
            "epoch 510| loss: 0.12155 |  0:01:20s\n",
            "epoch 511| loss: 0.12614 |  0:01:20s\n",
            "epoch 512| loss: 0.12654 |  0:01:20s\n",
            "epoch 513| loss: 0.13019 |  0:01:20s\n",
            "epoch 514| loss: 0.12602 |  0:01:20s\n",
            "epoch 515| loss: 0.12569 |  0:01:20s\n",
            "epoch 516| loss: 0.12304 |  0:01:20s\n",
            "epoch 517| loss: 0.12446 |  0:01:20s\n",
            "epoch 518| loss: 0.12719 |  0:01:20s\n",
            "epoch 519| loss: 0.13106 |  0:01:20s\n",
            "epoch 520| loss: 0.12413 |  0:01:20s\n",
            "epoch 521| loss: 0.1236  |  0:01:20s\n",
            "epoch 522| loss: 0.12046 |  0:01:21s\n",
            "epoch 523| loss: 0.12606 |  0:01:21s\n",
            "epoch 524| loss: 0.13218 |  0:01:21s\n",
            "epoch 525| loss: 0.12105 |  0:01:21s\n",
            "epoch 526| loss: 0.12943 |  0:01:21s\n",
            "epoch 527| loss: 0.12435 |  0:01:21s\n",
            "epoch 528| loss: 0.11611 |  0:01:21s\n",
            "epoch 529| loss: 0.12492 |  0:01:21s\n",
            "epoch 530| loss: 0.12224 |  0:01:21s\n",
            "epoch 531| loss: 0.12674 |  0:01:21s\n",
            "epoch 532| loss: 0.12236 |  0:01:21s\n",
            "epoch 533| loss: 0.12254 |  0:01:21s\n",
            "epoch 534| loss: 0.12583 |  0:01:21s\n",
            "epoch 535| loss: 0.1222  |  0:01:22s\n",
            "epoch 536| loss: 0.12398 |  0:01:22s\n",
            "epoch 537| loss: 0.1249  |  0:01:22s\n",
            "epoch 538| loss: 0.12632 |  0:01:22s\n",
            "epoch 539| loss: 0.12862 |  0:01:22s\n",
            "epoch 540| loss: 0.12903 |  0:01:22s\n",
            "epoch 541| loss: 0.12494 |  0:01:22s\n",
            "epoch 542| loss: 0.12973 |  0:01:22s\n",
            "epoch 543| loss: 0.12114 |  0:01:22s\n",
            "epoch 544| loss: 0.12395 |  0:01:22s\n",
            "epoch 545| loss: 0.12082 |  0:01:22s\n",
            "epoch 546| loss: 0.1288  |  0:01:22s\n",
            "epoch 547| loss: 0.11941 |  0:01:22s\n",
            "epoch 548| loss: 0.12551 |  0:01:22s\n",
            "epoch 549| loss: 0.12348 |  0:01:23s\n",
            "epoch 550| loss: 0.12304 |  0:01:23s\n",
            "epoch 551| loss: 0.12224 |  0:01:23s\n",
            "epoch 552| loss: 0.12159 |  0:01:23s\n",
            "epoch 553| loss: 0.12277 |  0:01:23s\n",
            "epoch 554| loss: 0.11972 |  0:01:23s\n",
            "epoch 555| loss: 0.12569 |  0:01:23s\n",
            "epoch 556| loss: 0.12166 |  0:01:23s\n",
            "epoch 557| loss: 0.12954 |  0:01:23s\n",
            "epoch 558| loss: 0.12081 |  0:01:23s\n",
            "epoch 559| loss: 0.1287  |  0:01:23s\n",
            "epoch 560| loss: 0.11576 |  0:01:23s\n",
            "epoch 561| loss: 0.12219 |  0:01:23s\n",
            "epoch 562| loss: 0.12618 |  0:01:23s\n",
            "epoch 563| loss: 0.12461 |  0:01:24s\n",
            "epoch 564| loss: 0.12055 |  0:01:24s\n",
            "epoch 565| loss: 0.11894 |  0:01:24s\n",
            "epoch 566| loss: 0.12625 |  0:01:24s\n",
            "epoch 567| loss: 0.12558 |  0:01:24s\n",
            "epoch 568| loss: 0.12612 |  0:01:24s\n",
            "epoch 569| loss: 0.1273  |  0:01:24s\n",
            "epoch 570| loss: 0.1213  |  0:01:24s\n",
            "epoch 571| loss: 0.12261 |  0:01:24s\n",
            "epoch 572| loss: 0.12917 |  0:01:24s\n",
            "epoch 573| loss: 0.1295  |  0:01:24s\n",
            "epoch 574| loss: 0.1261  |  0:01:24s\n",
            "epoch 575| loss: 0.1181  |  0:01:24s\n",
            "epoch 576| loss: 0.123   |  0:01:25s\n",
            "epoch 577| loss: 0.12031 |  0:01:25s\n",
            "epoch 578| loss: 0.12197 |  0:01:25s\n",
            "epoch 579| loss: 0.11839 |  0:01:25s\n",
            "epoch 580| loss: 0.12175 |  0:01:25s\n",
            "epoch 581| loss: 0.12051 |  0:01:25s\n",
            "epoch 582| loss: 0.1252  |  0:01:25s\n",
            "epoch 583| loss: 0.11515 |  0:01:25s\n",
            "epoch 584| loss: 0.12113 |  0:01:25s\n",
            "epoch 585| loss: 0.12052 |  0:01:25s\n",
            "epoch 586| loss: 0.11752 |  0:01:25s\n",
            "epoch 587| loss: 0.12341 |  0:01:25s\n",
            "epoch 588| loss: 0.12271 |  0:01:25s\n",
            "epoch 589| loss: 0.1209  |  0:01:25s\n",
            "epoch 590| loss: 0.13523 |  0:01:26s\n",
            "epoch 591| loss: 0.11685 |  0:01:26s\n",
            "epoch 592| loss: 0.11785 |  0:01:26s\n",
            "epoch 593| loss: 0.12368 |  0:01:26s\n",
            "epoch 594| loss: 0.11965 |  0:01:26s\n",
            "epoch 595| loss: 0.12119 |  0:01:26s\n",
            "epoch 596| loss: 0.11295 |  0:01:26s\n",
            "epoch 597| loss: 0.11928 |  0:01:26s\n",
            "epoch 598| loss: 0.11705 |  0:01:26s\n",
            "epoch 599| loss: 0.12215 |  0:01:26s\n",
            "epoch 600| loss: 0.12401 |  0:01:26s\n",
            "epoch 601| loss: 0.13141 |  0:01:26s\n",
            "epoch 602| loss: 0.11756 |  0:01:26s\n",
            "epoch 603| loss: 0.11639 |  0:01:27s\n",
            "epoch 604| loss: 0.12257 |  0:01:27s\n",
            "epoch 605| loss: 0.12432 |  0:01:27s\n",
            "epoch 606| loss: 0.12646 |  0:01:27s\n",
            "epoch 607| loss: 0.12663 |  0:01:27s\n",
            "epoch 608| loss: 0.12287 |  0:01:27s\n",
            "epoch 609| loss: 0.11875 |  0:01:27s\n",
            "epoch 610| loss: 0.1176  |  0:01:27s\n",
            "epoch 611| loss: 0.12451 |  0:01:27s\n",
            "epoch 612| loss: 0.11942 |  0:01:27s\n",
            "epoch 613| loss: 0.1144  |  0:01:27s\n",
            "epoch 614| loss: 0.12124 |  0:01:27s\n",
            "epoch 615| loss: 0.12425 |  0:01:27s\n",
            "epoch 616| loss: 0.12907 |  0:01:27s\n",
            "epoch 617| loss: 0.12179 |  0:01:28s\n",
            "epoch 618| loss: 0.12048 |  0:01:28s\n",
            "epoch 619| loss: 0.1204  |  0:01:28s\n",
            "epoch 620| loss: 0.11602 |  0:01:28s\n",
            "epoch 621| loss: 0.12331 |  0:01:28s\n",
            "epoch 622| loss: 0.11927 |  0:01:28s\n",
            "epoch 623| loss: 0.11663 |  0:01:28s\n",
            "epoch 624| loss: 0.11914 |  0:01:28s\n",
            "epoch 625| loss: 0.11763 |  0:01:28s\n",
            "epoch 626| loss: 0.12623 |  0:01:28s\n",
            "epoch 627| loss: 0.1207  |  0:01:28s\n",
            "epoch 628| loss: 0.12141 |  0:01:28s\n",
            "epoch 629| loss: 0.12329 |  0:01:28s\n",
            "epoch 630| loss: 0.12111 |  0:01:29s\n",
            "epoch 631| loss: 0.12015 |  0:01:29s\n",
            "epoch 632| loss: 0.12246 |  0:01:29s\n",
            "epoch 633| loss: 0.11985 |  0:01:29s\n",
            "epoch 634| loss: 0.11936 |  0:01:29s\n",
            "epoch 635| loss: 0.11956 |  0:01:29s\n",
            "epoch 636| loss: 0.12354 |  0:01:29s\n",
            "epoch 637| loss: 0.11952 |  0:01:29s\n",
            "epoch 638| loss: 0.11952 |  0:01:29s\n",
            "epoch 639| loss: 0.12044 |  0:01:29s\n",
            "epoch 640| loss: 0.12022 |  0:01:29s\n",
            "epoch 641| loss: 0.11563 |  0:01:29s\n",
            "epoch 642| loss: 0.1238  |  0:01:29s\n",
            "epoch 643| loss: 0.11934 |  0:01:29s\n",
            "epoch 644| loss: 0.12179 |  0:01:30s\n",
            "epoch 645| loss: 0.12495 |  0:01:30s\n",
            "epoch 646| loss: 0.12394 |  0:01:30s\n",
            "epoch 647| loss: 0.12401 |  0:01:30s\n",
            "epoch 648| loss: 0.1165  |  0:01:30s\n",
            "epoch 649| loss: 0.11864 |  0:01:30s\n",
            "epoch 650| loss: 0.1225  |  0:01:30s\n",
            "epoch 651| loss: 0.12152 |  0:01:30s\n",
            "epoch 652| loss: 0.13012 |  0:01:30s\n",
            "epoch 653| loss: 0.12118 |  0:01:30s\n",
            "epoch 654| loss: 0.11915 |  0:01:30s\n",
            "epoch 655| loss: 0.12314 |  0:01:30s\n",
            "epoch 656| loss: 0.12819 |  0:01:30s\n",
            "epoch 657| loss: 0.12001 |  0:01:30s\n",
            "epoch 658| loss: 0.11806 |  0:01:31s\n",
            "epoch 659| loss: 0.12313 |  0:01:31s\n",
            "epoch 660| loss: 0.12181 |  0:01:31s\n",
            "epoch 661| loss: 0.12207 |  0:01:31s\n",
            "epoch 662| loss: 0.12416 |  0:01:31s\n",
            "epoch 663| loss: 0.12348 |  0:01:31s\n",
            "epoch 664| loss: 0.12514 |  0:01:31s\n",
            "epoch 665| loss: 0.12413 |  0:01:31s\n",
            "epoch 666| loss: 0.11863 |  0:01:31s\n",
            "epoch 667| loss: 0.12097 |  0:01:31s\n",
            "epoch 668| loss: 0.12376 |  0:01:31s\n",
            "epoch 669| loss: 0.11643 |  0:01:31s\n",
            "epoch 670| loss: 0.1199  |  0:01:31s\n",
            "epoch 671| loss: 0.12229 |  0:01:31s\n",
            "epoch 672| loss: 0.11568 |  0:01:32s\n",
            "epoch 673| loss: 0.12002 |  0:01:32s\n",
            "epoch 674| loss: 0.11658 |  0:01:32s\n",
            "epoch 675| loss: 0.11918 |  0:01:32s\n",
            "epoch 676| loss: 0.12384 |  0:01:32s\n",
            "epoch 677| loss: 0.12271 |  0:01:32s\n",
            "epoch 678| loss: 0.12135 |  0:01:32s\n",
            "epoch 679| loss: 0.12135 |  0:01:32s\n",
            "epoch 680| loss: 0.12026 |  0:01:32s\n",
            "epoch 681| loss: 0.12377 |  0:01:32s\n",
            "epoch 682| loss: 0.11731 |  0:01:32s\n",
            "epoch 683| loss: 0.12161 |  0:01:32s\n",
            "epoch 684| loss: 0.11968 |  0:01:32s\n",
            "epoch 685| loss: 0.11674 |  0:01:32s\n",
            "epoch 686| loss: 0.11671 |  0:01:33s\n",
            "epoch 687| loss: 0.12041 |  0:01:33s\n",
            "epoch 688| loss: 0.1156  |  0:01:33s\n",
            "epoch 689| loss: 0.12024 |  0:01:33s\n",
            "epoch 690| loss: 0.12055 |  0:01:33s\n",
            "epoch 691| loss: 0.1204  |  0:01:33s\n",
            "epoch 692| loss: 0.11834 |  0:01:33s\n",
            "epoch 693| loss: 0.11701 |  0:01:33s\n",
            "epoch 694| loss: 0.11851 |  0:01:33s\n",
            "epoch 695| loss: 0.11748 |  0:01:33s\n",
            "epoch 696| loss: 0.11617 |  0:01:33s\n",
            "epoch 697| loss: 0.11697 |  0:01:33s\n",
            "epoch 698| loss: 0.11925 |  0:01:33s\n",
            "epoch 699| loss: 0.11573 |  0:01:34s\n",
            "epoch 700| loss: 0.12229 |  0:01:34s\n",
            "epoch 701| loss: 0.11525 |  0:01:34s\n",
            "epoch 702| loss: 0.12225 |  0:01:34s\n",
            "epoch 703| loss: 0.12275 |  0:01:34s\n",
            "epoch 704| loss: 0.11547 |  0:01:34s\n",
            "epoch 705| loss: 0.12232 |  0:01:34s\n",
            "epoch 706| loss: 0.12046 |  0:01:34s\n",
            "epoch 707| loss: 0.11276 |  0:01:34s\n",
            "epoch 708| loss: 0.11707 |  0:01:34s\n",
            "epoch 709| loss: 0.11665 |  0:01:34s\n",
            "epoch 710| loss: 0.11833 |  0:01:34s\n",
            "epoch 711| loss: 0.11959 |  0:01:34s\n",
            "epoch 712| loss: 0.12177 |  0:01:34s\n",
            "epoch 713| loss: 0.11669 |  0:01:35s\n",
            "epoch 714| loss: 0.11702 |  0:01:35s\n",
            "epoch 715| loss: 0.12174 |  0:01:35s\n",
            "epoch 716| loss: 0.1136  |  0:01:35s\n",
            "epoch 717| loss: 0.11766 |  0:01:35s\n",
            "epoch 718| loss: 0.12419 |  0:01:35s\n",
            "epoch 719| loss: 0.12217 |  0:01:35s\n",
            "epoch 720| loss: 0.11686 |  0:01:35s\n",
            "epoch 721| loss: 0.1227  |  0:01:35s\n",
            "epoch 722| loss: 0.11983 |  0:01:35s\n",
            "epoch 723| loss: 0.11905 |  0:01:35s\n",
            "epoch 724| loss: 0.12321 |  0:01:35s\n",
            "epoch 725| loss: 0.12267 |  0:01:35s\n",
            "epoch 726| loss: 0.11821 |  0:01:35s\n",
            "epoch 727| loss: 0.12426 |  0:01:36s\n",
            "epoch 728| loss: 0.11996 |  0:01:36s\n",
            "epoch 729| loss: 0.11997 |  0:01:36s\n",
            "epoch 730| loss: 0.125   |  0:01:36s\n",
            "epoch 731| loss: 0.13017 |  0:01:36s\n",
            "epoch 732| loss: 0.12108 |  0:01:36s\n",
            "epoch 733| loss: 0.12059 |  0:01:36s\n",
            "epoch 734| loss: 0.11954 |  0:01:36s\n",
            "epoch 735| loss: 0.11681 |  0:01:36s\n",
            "epoch 736| loss: 0.124   |  0:01:36s\n",
            "epoch 737| loss: 0.11956 |  0:01:36s\n",
            "epoch 738| loss: 0.12829 |  0:01:36s\n",
            "epoch 739| loss: 0.11856 |  0:01:36s\n",
            "epoch 740| loss: 0.12319 |  0:01:37s\n",
            "epoch 741| loss: 0.12705 |  0:01:37s\n",
            "epoch 742| loss: 0.12245 |  0:01:37s\n",
            "epoch 743| loss: 0.13322 |  0:01:37s\n",
            "epoch 744| loss: 0.12456 |  0:01:37s\n",
            "epoch 745| loss: 0.11494 |  0:01:37s\n",
            "epoch 746| loss: 0.12829 |  0:01:37s\n",
            "epoch 747| loss: 0.11971 |  0:01:37s\n",
            "epoch 748| loss: 0.12171 |  0:01:37s\n",
            "epoch 749| loss: 0.12493 |  0:01:37s\n",
            "epoch 750| loss: 0.11836 |  0:01:37s\n",
            "epoch 751| loss: 0.12059 |  0:01:37s\n",
            "epoch 752| loss: 0.12055 |  0:01:37s\n",
            "epoch 753| loss: 0.11701 |  0:01:38s\n",
            "epoch 754| loss: 0.1227  |  0:01:38s\n",
            "epoch 755| loss: 0.12185 |  0:01:38s\n",
            "epoch 756| loss: 0.11892 |  0:01:38s\n",
            "epoch 757| loss: 0.1181  |  0:01:38s\n",
            "epoch 758| loss: 0.12064 |  0:01:38s\n",
            "epoch 759| loss: 0.11753 |  0:01:38s\n",
            "epoch 760| loss: 0.12422 |  0:01:38s\n",
            "epoch 761| loss: 0.12569 |  0:01:38s\n",
            "epoch 762| loss: 0.11724 |  0:01:38s\n",
            "epoch 763| loss: 0.11982 |  0:01:38s\n",
            "epoch 764| loss: 0.11886 |  0:01:38s\n",
            "epoch 765| loss: 0.12279 |  0:01:38s\n",
            "epoch 766| loss: 0.11751 |  0:01:39s\n",
            "epoch 767| loss: 0.11567 |  0:01:39s\n",
            "epoch 768| loss: 0.12367 |  0:01:39s\n",
            "epoch 769| loss: 0.11929 |  0:01:39s\n",
            "epoch 770| loss: 0.12506 |  0:01:39s\n",
            "epoch 771| loss: 0.12597 |  0:01:39s\n",
            "epoch 772| loss: 0.11982 |  0:01:39s\n",
            "epoch 773| loss: 0.12397 |  0:01:39s\n",
            "epoch 774| loss: 0.12371 |  0:01:39s\n",
            "epoch 775| loss: 0.11551 |  0:01:39s\n",
            "epoch 776| loss: 0.12303 |  0:01:39s\n",
            "epoch 777| loss: 0.12623 |  0:01:39s\n",
            "epoch 778| loss: 0.12945 |  0:01:39s\n",
            "epoch 779| loss: 0.12561 |  0:01:39s\n",
            "epoch 780| loss: 0.12057 |  0:01:40s\n",
            "epoch 781| loss: 0.12704 |  0:01:40s\n",
            "epoch 782| loss: 0.12113 |  0:01:40s\n",
            "epoch 783| loss: 0.11773 |  0:01:40s\n",
            "epoch 784| loss: 0.1249  |  0:01:40s\n",
            "epoch 785| loss: 0.12249 |  0:01:40s\n",
            "epoch 786| loss: 0.12261 |  0:01:40s\n",
            "epoch 787| loss: 0.12818 |  0:01:40s\n",
            "epoch 788| loss: 0.12831 |  0:01:40s\n",
            "epoch 789| loss: 0.12059 |  0:01:40s\n",
            "epoch 790| loss: 0.12271 |  0:01:40s\n",
            "epoch 791| loss: 0.11912 |  0:01:40s\n",
            "epoch 792| loss: 0.12603 |  0:01:40s\n",
            "epoch 793| loss: 0.12611 |  0:01:41s\n",
            "epoch 794| loss: 0.12883 |  0:01:41s\n",
            "epoch 795| loss: 0.12247 |  0:01:41s\n",
            "epoch 796| loss: 0.12276 |  0:01:41s\n",
            "epoch 797| loss: 0.12377 |  0:01:41s\n",
            "epoch 798| loss: 0.12535 |  0:01:41s\n",
            "epoch 799| loss: 0.12743 |  0:01:41s\n",
            "epoch 800| loss: 0.12202 |  0:01:41s\n",
            "epoch 801| loss: 0.11662 |  0:01:41s\n",
            "epoch 802| loss: 0.13262 |  0:01:41s\n",
            "epoch 803| loss: 0.1195  |  0:01:41s\n",
            "epoch 804| loss: 0.11824 |  0:01:41s\n",
            "epoch 805| loss: 0.12402 |  0:01:41s\n",
            "epoch 806| loss: 0.12848 |  0:01:41s\n",
            "epoch 807| loss: 0.12956 |  0:01:42s\n",
            "epoch 808| loss: 0.11935 |  0:01:42s\n",
            "epoch 809| loss: 0.12262 |  0:01:42s\n",
            "epoch 810| loss: 0.12401 |  0:01:42s\n",
            "epoch 811| loss: 0.12353 |  0:01:42s\n",
            "epoch 812| loss: 0.12041 |  0:01:42s\n",
            "epoch 813| loss: 0.11986 |  0:01:42s\n",
            "epoch 814| loss: 0.11565 |  0:01:42s\n",
            "epoch 815| loss: 0.11328 |  0:01:42s\n",
            "epoch 816| loss: 0.12525 |  0:01:42s\n",
            "epoch 817| loss: 0.11879 |  0:01:42s\n",
            "epoch 818| loss: 0.11222 |  0:01:42s\n",
            "epoch 819| loss: 0.11811 |  0:01:42s\n",
            "epoch 820| loss: 0.11674 |  0:01:42s\n",
            "epoch 821| loss: 0.11949 |  0:01:43s\n",
            "epoch 822| loss: 0.11593 |  0:01:43s\n",
            "epoch 823| loss: 0.11824 |  0:01:43s\n",
            "epoch 824| loss: 0.11711 |  0:01:43s\n",
            "epoch 825| loss: 0.12111 |  0:01:43s\n",
            "epoch 826| loss: 0.1165  |  0:01:43s\n",
            "epoch 827| loss: 0.12037 |  0:01:43s\n",
            "epoch 828| loss: 0.1146  |  0:01:43s\n",
            "epoch 829| loss: 0.11578 |  0:01:43s\n",
            "epoch 830| loss: 0.11962 |  0:01:43s\n",
            "epoch 831| loss: 0.1228  |  0:01:43s\n",
            "epoch 832| loss: 0.11797 |  0:01:43s\n",
            "epoch 833| loss: 0.12035 |  0:01:44s\n",
            "epoch 834| loss: 0.11885 |  0:01:44s\n",
            "epoch 835| loss: 0.12091 |  0:01:44s\n",
            "epoch 836| loss: 0.11704 |  0:01:44s\n",
            "epoch 837| loss: 0.12202 |  0:01:44s\n",
            "epoch 838| loss: 0.11725 |  0:01:44s\n",
            "epoch 839| loss: 0.12009 |  0:01:44s\n",
            "epoch 840| loss: 0.11989 |  0:01:44s\n",
            "epoch 841| loss: 0.12083 |  0:01:44s\n",
            "epoch 842| loss: 0.12157 |  0:01:44s\n",
            "epoch 843| loss: 0.11808 |  0:01:44s\n",
            "epoch 844| loss: 0.11851 |  0:01:44s\n",
            "epoch 845| loss: 0.1153  |  0:01:44s\n",
            "epoch 846| loss: 0.11848 |  0:01:44s\n",
            "epoch 847| loss: 0.1184  |  0:01:45s\n",
            "epoch 848| loss: 0.11562 |  0:01:45s\n",
            "epoch 849| loss: 0.11348 |  0:01:45s\n",
            "epoch 850| loss: 0.1162  |  0:01:45s\n",
            "epoch 851| loss: 0.11386 |  0:01:45s\n",
            "epoch 852| loss: 0.11455 |  0:01:45s\n",
            "epoch 853| loss: 0.11717 |  0:01:45s\n",
            "epoch 854| loss: 0.11708 |  0:01:45s\n",
            "epoch 855| loss: 0.11551 |  0:01:45s\n",
            "epoch 856| loss: 0.12309 |  0:01:45s\n",
            "epoch 857| loss: 0.12054 |  0:01:45s\n",
            "epoch 858| loss: 0.11828 |  0:01:45s\n",
            "epoch 859| loss: 0.116   |  0:01:45s\n",
            "epoch 860| loss: 0.11935 |  0:01:46s\n",
            "epoch 861| loss: 0.11179 |  0:01:46s\n",
            "epoch 862| loss: 0.11687 |  0:01:46s\n",
            "epoch 863| loss: 0.12115 |  0:01:46s\n",
            "epoch 864| loss: 0.11844 |  0:01:46s\n",
            "epoch 865| loss: 0.11654 |  0:01:46s\n",
            "epoch 866| loss: 0.11895 |  0:01:46s\n",
            "epoch 867| loss: 0.11637 |  0:01:46s\n",
            "epoch 868| loss: 0.12144 |  0:01:46s\n",
            "epoch 869| loss: 0.11561 |  0:01:46s\n",
            "epoch 870| loss: 0.11504 |  0:01:46s\n",
            "epoch 871| loss: 0.11357 |  0:01:46s\n",
            "epoch 872| loss: 0.11474 |  0:01:46s\n",
            "epoch 873| loss: 0.11938 |  0:01:46s\n",
            "epoch 874| loss: 0.12203 |  0:01:47s\n",
            "epoch 875| loss: 0.12149 |  0:01:47s\n",
            "epoch 876| loss: 0.11915 |  0:01:47s\n",
            "epoch 877| loss: 0.11761 |  0:01:47s\n",
            "epoch 878| loss: 0.13255 |  0:01:47s\n",
            "epoch 879| loss: 0.11646 |  0:01:47s\n",
            "epoch 880| loss: 0.12213 |  0:01:47s\n",
            "epoch 881| loss: 0.11798 |  0:01:47s\n",
            "epoch 882| loss: 0.1144  |  0:01:47s\n",
            "epoch 883| loss: 0.11828 |  0:01:47s\n",
            "epoch 884| loss: 0.12302 |  0:01:47s\n",
            "epoch 885| loss: 0.11561 |  0:01:47s\n",
            "epoch 886| loss: 0.11744 |  0:01:47s\n",
            "epoch 887| loss: 0.11184 |  0:01:47s\n",
            "epoch 888| loss: 0.11702 |  0:01:48s\n",
            "epoch 889| loss: 0.12135 |  0:01:48s\n",
            "epoch 890| loss: 0.12058 |  0:01:48s\n",
            "epoch 891| loss: 0.12285 |  0:01:48s\n",
            "epoch 892| loss: 0.11847 |  0:01:48s\n",
            "epoch 893| loss: 0.11628 |  0:01:48s\n",
            "epoch 894| loss: 0.11828 |  0:01:48s\n",
            "epoch 895| loss: 0.12535 |  0:01:48s\n",
            "epoch 896| loss: 0.11883 |  0:01:48s\n",
            "epoch 897| loss: 0.12289 |  0:01:48s\n",
            "epoch 898| loss: 0.11506 |  0:01:48s\n",
            "epoch 899| loss: 0.11617 |  0:01:48s\n",
            "epoch 900| loss: 0.12634 |  0:01:48s\n",
            "epoch 901| loss: 0.12301 |  0:01:48s\n",
            "epoch 902| loss: 0.12223 |  0:01:49s\n",
            "epoch 903| loss: 0.11976 |  0:01:49s\n",
            "epoch 904| loss: 0.12546 |  0:01:49s\n",
            "epoch 905| loss: 0.11695 |  0:01:49s\n",
            "epoch 906| loss: 0.12025 |  0:01:49s\n",
            "epoch 907| loss: 0.12725 |  0:01:49s\n",
            "epoch 908| loss: 0.11509 |  0:01:49s\n",
            "epoch 909| loss: 0.11596 |  0:01:49s\n",
            "epoch 910| loss: 0.11617 |  0:01:49s\n",
            "epoch 911| loss: 0.12003 |  0:01:49s\n",
            "epoch 912| loss: 0.11724 |  0:01:49s\n",
            "epoch 913| loss: 0.12065 |  0:01:49s\n",
            "epoch 914| loss: 0.11972 |  0:01:49s\n",
            "epoch 915| loss: 0.11993 |  0:01:50s\n",
            "epoch 916| loss: 0.11751 |  0:01:50s\n",
            "epoch 917| loss: 0.11707 |  0:01:50s\n",
            "epoch 918| loss: 0.11713 |  0:01:50s\n",
            "epoch 919| loss: 0.11754 |  0:01:50s\n",
            "epoch 920| loss: 0.11952 |  0:01:50s\n",
            "epoch 921| loss: 0.117   |  0:01:50s\n",
            "epoch 922| loss: 0.11757 |  0:01:50s\n",
            "epoch 923| loss: 0.12071 |  0:01:50s\n",
            "epoch 924| loss: 0.11298 |  0:01:50s\n",
            "epoch 925| loss: 0.12547 |  0:01:50s\n",
            "epoch 926| loss: 0.11876 |  0:01:50s\n",
            "epoch 927| loss: 0.11979 |  0:01:50s\n",
            "epoch 928| loss: 0.11698 |  0:01:50s\n",
            "epoch 929| loss: 0.11488 |  0:01:51s\n",
            "epoch 930| loss: 0.11375 |  0:01:51s\n",
            "epoch 931| loss: 0.11521 |  0:01:51s\n",
            "epoch 932| loss: 0.12018 |  0:01:51s\n",
            "epoch 933| loss: 0.11872 |  0:01:51s\n",
            "epoch 934| loss: 0.11516 |  0:01:51s\n",
            "epoch 935| loss: 0.11987 |  0:01:51s\n",
            "epoch 936| loss: 0.11495 |  0:01:51s\n",
            "epoch 937| loss: 0.12312 |  0:01:51s\n",
            "epoch 938| loss: 0.11587 |  0:01:51s\n",
            "epoch 939| loss: 0.11996 |  0:01:51s\n",
            "epoch 940| loss: 0.11985 |  0:01:51s\n",
            "epoch 941| loss: 0.11614 |  0:01:51s\n",
            "epoch 942| loss: 0.11884 |  0:01:51s\n",
            "epoch 943| loss: 0.11958 |  0:01:52s\n",
            "epoch 944| loss: 0.11547 |  0:01:52s\n",
            "epoch 945| loss: 0.11671 |  0:01:52s\n",
            "epoch 946| loss: 0.11672 |  0:01:52s\n",
            "epoch 947| loss: 0.11649 |  0:01:52s\n",
            "epoch 948| loss: 0.12162 |  0:01:52s\n",
            "epoch 949| loss: 0.11862 |  0:01:52s\n",
            "epoch 950| loss: 0.11466 |  0:01:52s\n",
            "epoch 951| loss: 0.11901 |  0:01:52s\n",
            "epoch 952| loss: 0.12095 |  0:01:52s\n",
            "epoch 953| loss: 0.11638 |  0:01:52s\n",
            "epoch 954| loss: 0.11706 |  0:01:52s\n",
            "epoch 955| loss: 0.11604 |  0:01:52s\n",
            "epoch 956| loss: 0.12004 |  0:01:53s\n",
            "epoch 957| loss: 0.1162  |  0:01:53s\n",
            "epoch 958| loss: 0.11576 |  0:01:53s\n",
            "epoch 959| loss: 0.1127  |  0:01:53s\n",
            "epoch 960| loss: 0.1199  |  0:01:53s\n",
            "epoch 961| loss: 0.11852 |  0:01:53s\n",
            "epoch 962| loss: 0.11596 |  0:01:53s\n",
            "epoch 963| loss: 0.11323 |  0:01:53s\n",
            "epoch 964| loss: 0.11903 |  0:01:53s\n",
            "epoch 965| loss: 0.11368 |  0:01:53s\n",
            "epoch 966| loss: 0.11579 |  0:01:53s\n",
            "epoch 967| loss: 0.11578 |  0:01:53s\n",
            "epoch 968| loss: 0.11619 |  0:01:53s\n",
            "epoch 969| loss: 0.11719 |  0:01:54s\n",
            "epoch 970| loss: 0.11249 |  0:01:54s\n",
            "epoch 971| loss: 0.11678 |  0:01:54s\n",
            "epoch 972| loss: 0.12072 |  0:01:54s\n",
            "epoch 973| loss: 0.11372 |  0:01:54s\n",
            "epoch 974| loss: 0.11286 |  0:01:54s\n",
            "epoch 975| loss: 0.11869 |  0:01:54s\n",
            "epoch 976| loss: 0.11699 |  0:01:54s\n",
            "epoch 977| loss: 0.11357 |  0:01:54s\n",
            "epoch 978| loss: 0.11296 |  0:01:54s\n",
            "epoch 979| loss: 0.12035 |  0:01:54s\n",
            "epoch 980| loss: 0.12274 |  0:01:54s\n",
            "epoch 981| loss: 0.11893 |  0:01:54s\n",
            "epoch 982| loss: 0.1159  |  0:01:54s\n",
            "epoch 983| loss: 0.11886 |  0:01:55s\n",
            "epoch 984| loss: 0.11773 |  0:01:55s\n",
            "epoch 985| loss: 0.11252 |  0:01:55s\n",
            "epoch 986| loss: 0.11679 |  0:01:55s\n",
            "epoch 987| loss: 0.1178  |  0:01:55s\n",
            "epoch 988| loss: 0.1176  |  0:01:55s\n",
            "epoch 989| loss: 0.11633 |  0:01:55s\n",
            "epoch 990| loss: 0.11773 |  0:01:55s\n",
            "epoch 991| loss: 0.11381 |  0:01:55s\n",
            "epoch 992| loss: 0.11204 |  0:01:55s\n",
            "epoch 993| loss: 0.11622 |  0:01:55s\n",
            "epoch 994| loss: 0.11694 |  0:01:55s\n",
            "epoch 995| loss: 0.11582 |  0:01:55s\n",
            "epoch 996| loss: 0.12018 |  0:01:56s\n",
            "epoch 997| loss: 0.12287 |  0:01:56s\n",
            "epoch 998| loss: 0.1158  |  0:01:56s\n",
            "epoch 999| loss: 0.11979 |  0:01:56s\n",
            "epoch 1000| loss: 0.11992 |  0:01:56s\n",
            "epoch 1001| loss: 0.11902 |  0:01:56s\n",
            "epoch 1002| loss: 0.11633 |  0:01:56s\n",
            "epoch 1003| loss: 0.12048 |  0:01:56s\n",
            "epoch 1004| loss: 0.1209  |  0:01:56s\n",
            "epoch 1005| loss: 0.11915 |  0:01:56s\n",
            "epoch 1006| loss: 0.12259 |  0:01:56s\n",
            "epoch 1007| loss: 0.12421 |  0:01:56s\n",
            "epoch 1008| loss: 0.12113 |  0:01:56s\n",
            "epoch 1009| loss: 0.11591 |  0:01:57s\n",
            "epoch 1010| loss: 0.11624 |  0:01:57s\n",
            "epoch 1011| loss: 0.11765 |  0:01:57s\n",
            "epoch 1012| loss: 0.11724 |  0:01:57s\n",
            "epoch 1013| loss: 0.11604 |  0:01:57s\n",
            "epoch 1014| loss: 0.1258  |  0:01:57s\n",
            "epoch 1015| loss: 0.11886 |  0:01:57s\n",
            "epoch 1016| loss: 0.11756 |  0:01:57s\n",
            "epoch 1017| loss: 0.11718 |  0:01:57s\n",
            "epoch 1018| loss: 0.11927 |  0:01:57s\n",
            "epoch 1019| loss: 0.11986 |  0:01:57s\n",
            "epoch 1020| loss: 0.11375 |  0:01:57s\n",
            "epoch 1021| loss: 0.11477 |  0:01:57s\n",
            "epoch 1022| loss: 0.12079 |  0:01:58s\n",
            "epoch 1023| loss: 0.11997 |  0:01:58s\n",
            "epoch 1024| loss: 0.1184  |  0:01:58s\n",
            "epoch 1025| loss: 0.1154  |  0:01:58s\n",
            "epoch 1026| loss: 0.11823 |  0:01:58s\n",
            "epoch 1027| loss: 0.12355 |  0:01:58s\n",
            "epoch 1028| loss: 0.11866 |  0:01:58s\n",
            "epoch 1029| loss: 0.11872 |  0:01:58s\n",
            "epoch 1030| loss: 0.11672 |  0:01:58s\n",
            "epoch 1031| loss: 0.11766 |  0:01:58s\n",
            "epoch 1032| loss: 0.11698 |  0:01:58s\n",
            "epoch 1033| loss: 0.11359 |  0:01:58s\n",
            "epoch 1034| loss: 0.11875 |  0:01:58s\n",
            "epoch 1035| loss: 0.11665 |  0:01:59s\n",
            "epoch 1036| loss: 0.11493 |  0:01:59s\n",
            "epoch 1037| loss: 0.11688 |  0:01:59s\n",
            "epoch 1038| loss: 0.11895 |  0:01:59s\n",
            "epoch 1039| loss: 0.10983 |  0:01:59s\n",
            "epoch 1040| loss: 0.11571 |  0:01:59s\n",
            "epoch 1041| loss: 0.11434 |  0:01:59s\n",
            "epoch 1042| loss: 0.11643 |  0:01:59s\n",
            "epoch 1043| loss: 0.11681 |  0:01:59s\n",
            "epoch 1044| loss: 0.1193  |  0:01:59s\n",
            "epoch 1045| loss: 0.11808 |  0:01:59s\n",
            "epoch 1046| loss: 0.11043 |  0:01:59s\n",
            "epoch 1047| loss: 0.11358 |  0:01:59s\n",
            "epoch 1048| loss: 0.11451 |  0:02:00s\n",
            "epoch 1049| loss: 0.11397 |  0:02:00s\n",
            "epoch 1050| loss: 0.11654 |  0:02:00s\n",
            "epoch 1051| loss: 0.11637 |  0:02:00s\n",
            "epoch 1052| loss: 0.11424 |  0:02:00s\n",
            "epoch 1053| loss: 0.11681 |  0:02:00s\n",
            "epoch 1054| loss: 0.12287 |  0:02:00s\n",
            "epoch 1055| loss: 0.1249  |  0:02:00s\n",
            "epoch 1056| loss: 0.12016 |  0:02:00s\n",
            "epoch 1057| loss: 0.12038 |  0:02:00s\n",
            "epoch 1058| loss: 0.11816 |  0:02:00s\n",
            "epoch 1059| loss: 0.11708 |  0:02:00s\n",
            "epoch 1060| loss: 0.11924 |  0:02:00s\n",
            "epoch 1061| loss: 0.11693 |  0:02:01s\n",
            "epoch 1062| loss: 0.11607 |  0:02:01s\n",
            "epoch 1063| loss: 0.12407 |  0:02:01s\n",
            "epoch 1064| loss: 0.11618 |  0:02:01s\n",
            "epoch 1065| loss: 0.11718 |  0:02:01s\n",
            "epoch 1066| loss: 0.11336 |  0:02:01s\n",
            "epoch 1067| loss: 0.11498 |  0:02:01s\n",
            "epoch 1068| loss: 0.11331 |  0:02:01s\n",
            "epoch 1069| loss: 0.11735 |  0:02:01s\n",
            "epoch 1070| loss: 0.11938 |  0:02:01s\n",
            "epoch 1071| loss: 0.11967 |  0:02:01s\n",
            "epoch 1072| loss: 0.11451 |  0:02:01s\n",
            "epoch 1073| loss: 0.11489 |  0:02:01s\n",
            "epoch 1074| loss: 0.11191 |  0:02:02s\n",
            "epoch 1075| loss: 0.11782 |  0:02:02s\n",
            "epoch 1076| loss: 0.11591 |  0:02:02s\n",
            "epoch 1077| loss: 0.11469 |  0:02:02s\n",
            "epoch 1078| loss: 0.11536 |  0:02:02s\n",
            "epoch 1079| loss: 0.11213 |  0:02:02s\n",
            "epoch 1080| loss: 0.12022 |  0:02:02s\n",
            "epoch 1081| loss: 0.11956 |  0:02:02s\n",
            "epoch 1082| loss: 0.11612 |  0:02:02s\n",
            "epoch 1083| loss: 0.12124 |  0:02:02s\n",
            "epoch 1084| loss: 0.1153  |  0:02:02s\n",
            "epoch 1085| loss: 0.11505 |  0:02:02s\n",
            "epoch 1086| loss: 0.11585 |  0:02:02s\n",
            "epoch 1087| loss: 0.12108 |  0:02:03s\n",
            "epoch 1088| loss: 0.11779 |  0:02:03s\n",
            "epoch 1089| loss: 0.11401 |  0:02:03s\n",
            "epoch 1090| loss: 0.11705 |  0:02:03s\n",
            "epoch 1091| loss: 0.11426 |  0:02:03s\n",
            "epoch 1092| loss: 0.11863 |  0:02:03s\n",
            "epoch 1093| loss: 0.1151  |  0:02:03s\n",
            "epoch 1094| loss: 0.12047 |  0:02:03s\n",
            "epoch 1095| loss: 0.11907 |  0:02:03s\n",
            "epoch 1096| loss: 0.11484 |  0:02:03s\n",
            "epoch 1097| loss: 0.11828 |  0:02:03s\n",
            "epoch 1098| loss: 0.12084 |  0:02:03s\n",
            "epoch 1099| loss: 0.12788 |  0:02:03s\n",
            "epoch 1100| loss: 0.11585 |  0:02:03s\n",
            "epoch 1101| loss: 0.11826 |  0:02:04s\n",
            "epoch 1102| loss: 0.11724 |  0:02:04s\n",
            "epoch 1103| loss: 0.11681 |  0:02:04s\n",
            "epoch 1104| loss: 0.11584 |  0:02:04s\n",
            "epoch 1105| loss: 0.11702 |  0:02:04s\n",
            "epoch 1106| loss: 0.11458 |  0:02:04s\n",
            "epoch 1107| loss: 0.11669 |  0:02:04s\n",
            "epoch 1108| loss: 0.11358 |  0:02:04s\n",
            "epoch 1109| loss: 0.11406 |  0:02:04s\n",
            "epoch 1110| loss: 0.1188  |  0:02:04s\n",
            "epoch 1111| loss: 0.11127 |  0:02:04s\n",
            "epoch 1112| loss: 0.1198  |  0:02:04s\n",
            "epoch 1113| loss: 0.11388 |  0:02:04s\n",
            "epoch 1114| loss: 0.11517 |  0:02:05s\n",
            "epoch 1115| loss: 0.11484 |  0:02:05s\n",
            "epoch 1116| loss: 0.11742 |  0:02:05s\n",
            "epoch 1117| loss: 0.11546 |  0:02:05s\n",
            "epoch 1118| loss: 0.11542 |  0:02:05s\n",
            "epoch 1119| loss: 0.11763 |  0:02:05s\n",
            "epoch 1120| loss: 0.11356 |  0:02:05s\n",
            "epoch 1121| loss: 0.11556 |  0:02:05s\n",
            "epoch 1122| loss: 0.12282 |  0:02:05s\n",
            "epoch 1123| loss: 0.11252 |  0:02:05s\n",
            "epoch 1124| loss: 0.11763 |  0:02:05s\n",
            "epoch 1125| loss: 0.11559 |  0:02:05s\n",
            "epoch 1126| loss: 0.1095  |  0:02:05s\n",
            "epoch 1127| loss: 0.11413 |  0:02:06s\n",
            "epoch 1128| loss: 0.12038 |  0:02:06s\n",
            "epoch 1129| loss: 0.11511 |  0:02:06s\n",
            "epoch 1130| loss: 0.11852 |  0:02:06s\n",
            "epoch 1131| loss: 0.11937 |  0:02:06s\n",
            "epoch 1132| loss: 0.1206  |  0:02:06s\n",
            "epoch 1133| loss: 0.11622 |  0:02:06s\n",
            "epoch 1134| loss: 0.11799 |  0:02:06s\n",
            "epoch 1135| loss: 0.11753 |  0:02:06s\n",
            "epoch 1136| loss: 0.11764 |  0:02:06s\n",
            "epoch 1137| loss: 0.12002 |  0:02:06s\n",
            "epoch 1138| loss: 0.1186  |  0:02:06s\n",
            "epoch 1139| loss: 0.11911 |  0:02:06s\n",
            "epoch 1140| loss: 0.11741 |  0:02:07s\n",
            "epoch 1141| loss: 0.11674 |  0:02:07s\n",
            "epoch 1142| loss: 0.11347 |  0:02:07s\n",
            "epoch 1143| loss: 0.1146  |  0:02:07s\n",
            "epoch 1144| loss: 0.11464 |  0:02:07s\n",
            "epoch 1145| loss: 0.11929 |  0:02:07s\n",
            "epoch 1146| loss: 0.11377 |  0:02:07s\n",
            "epoch 1147| loss: 0.11511 |  0:02:07s\n",
            "epoch 1148| loss: 0.11375 |  0:02:07s\n",
            "epoch 1149| loss: 0.11648 |  0:02:07s\n",
            "epoch 1150| loss: 0.11831 |  0:02:07s\n",
            "epoch 1151| loss: 0.11961 |  0:02:07s\n",
            "epoch 1152| loss: 0.11713 |  0:02:07s\n",
            "epoch 1153| loss: 0.11431 |  0:02:08s\n",
            "epoch 1154| loss: 0.11786 |  0:02:08s\n",
            "epoch 1155| loss: 0.11656 |  0:02:08s\n",
            "epoch 1156| loss: 0.11704 |  0:02:08s\n",
            "epoch 1157| loss: 0.11606 |  0:02:08s\n",
            "epoch 1158| loss: 0.1158  |  0:02:08s\n",
            "epoch 1159| loss: 0.11826 |  0:02:08s\n",
            "epoch 1160| loss: 0.11455 |  0:02:08s\n",
            "epoch 1161| loss: 0.11807 |  0:02:08s\n",
            "epoch 1162| loss: 0.11496 |  0:02:08s\n",
            "epoch 1163| loss: 0.11792 |  0:02:08s\n",
            "epoch 1164| loss: 0.1196  |  0:02:08s\n",
            "epoch 1165| loss: 0.11509 |  0:02:08s\n",
            "epoch 1166| loss: 0.11836 |  0:02:09s\n",
            "epoch 1167| loss: 0.11536 |  0:02:09s\n",
            "epoch 1168| loss: 0.11591 |  0:02:09s\n",
            "epoch 1169| loss: 0.11188 |  0:02:09s\n",
            "epoch 1170| loss: 0.11214 |  0:02:09s\n",
            "epoch 1171| loss: 0.11638 |  0:02:09s\n",
            "epoch 1172| loss: 0.11877 |  0:02:09s\n",
            "epoch 1173| loss: 0.11544 |  0:02:09s\n",
            "epoch 1174| loss: 0.11487 |  0:02:09s\n",
            "epoch 1175| loss: 0.11474 |  0:02:09s\n",
            "epoch 1176| loss: 0.11143 |  0:02:09s\n",
            "epoch 1177| loss: 0.11463 |  0:02:09s\n",
            "epoch 1178| loss: 0.12266 |  0:02:09s\n",
            "epoch 1179| loss: 0.11576 |  0:02:10s\n",
            "epoch 1180| loss: 0.11535 |  0:02:10s\n",
            "epoch 1181| loss: 0.11837 |  0:02:10s\n",
            "epoch 1182| loss: 0.11729 |  0:02:10s\n",
            "epoch 1183| loss: 0.12514 |  0:02:10s\n",
            "epoch 1184| loss: 0.12338 |  0:02:10s\n",
            "epoch 1185| loss: 0.12657 |  0:02:10s\n",
            "epoch 1186| loss: 0.13004 |  0:02:10s\n",
            "epoch 1187| loss: 0.12218 |  0:02:10s\n",
            "epoch 1188| loss: 0.11585 |  0:02:10s\n",
            "epoch 1189| loss: 0.11991 |  0:02:10s\n",
            "epoch 1190| loss: 0.12498 |  0:02:10s\n",
            "epoch 1191| loss: 0.12326 |  0:02:10s\n",
            "epoch 1192| loss: 0.1198  |  0:02:11s\n",
            "epoch 1193| loss: 0.1188  |  0:02:11s\n",
            "epoch 1194| loss: 0.11864 |  0:02:11s\n",
            "epoch 1195| loss: 0.12349 |  0:02:11s\n",
            "epoch 1196| loss: 0.11835 |  0:02:11s\n",
            "epoch 1197| loss: 0.11312 |  0:02:11s\n",
            "epoch 1198| loss: 0.11577 |  0:02:11s\n",
            "epoch 1199| loss: 0.11794 |  0:02:11s\n",
            "epoch 1200| loss: 0.11962 |  0:02:11s\n",
            "epoch 1201| loss: 0.12016 |  0:02:11s\n",
            "epoch 1202| loss: 0.11778 |  0:02:11s\n",
            "epoch 1203| loss: 0.11556 |  0:02:11s\n",
            "epoch 1204| loss: 0.12259 |  0:02:11s\n",
            "epoch 1205| loss: 0.12293 |  0:02:11s\n",
            "epoch 1206| loss: 0.11605 |  0:02:12s\n",
            "epoch 1207| loss: 0.11566 |  0:02:12s\n",
            "epoch 1208| loss: 0.12114 |  0:02:12s\n",
            "epoch 1209| loss: 0.12044 |  0:02:12s\n",
            "epoch 1210| loss: 0.12023 |  0:02:12s\n",
            "epoch 1211| loss: 0.12829 |  0:02:12s\n",
            "epoch 1212| loss: 0.11729 |  0:02:12s\n",
            "epoch 1213| loss: 0.11787 |  0:02:12s\n",
            "epoch 1214| loss: 0.11762 |  0:02:12s\n",
            "epoch 1215| loss: 0.12358 |  0:02:12s\n",
            "epoch 1216| loss: 0.11771 |  0:02:12s\n",
            "epoch 1217| loss: 0.11566 |  0:02:12s\n",
            "epoch 1218| loss: 0.12059 |  0:02:13s\n",
            "epoch 1219| loss: 0.12583 |  0:02:13s\n",
            "epoch 1220| loss: 0.12205 |  0:02:13s\n",
            "epoch 1221| loss: 0.11737 |  0:02:13s\n",
            "epoch 1222| loss: 0.11717 |  0:02:13s\n",
            "epoch 1223| loss: 0.11863 |  0:02:13s\n",
            "epoch 1224| loss: 0.1198  |  0:02:13s\n",
            "epoch 1225| loss: 0.11674 |  0:02:13s\n",
            "epoch 1226| loss: 0.12121 |  0:02:13s\n",
            "epoch 1227| loss: 0.11586 |  0:02:13s\n",
            "epoch 1228| loss: 0.11632 |  0:02:13s\n",
            "epoch 1229| loss: 0.11537 |  0:02:13s\n",
            "epoch 1230| loss: 0.11717 |  0:02:13s\n",
            "epoch 1231| loss: 0.11431 |  0:02:14s\n",
            "epoch 1232| loss: 0.11666 |  0:02:14s\n",
            "epoch 1233| loss: 0.1192  |  0:02:14s\n",
            "epoch 1234| loss: 0.11705 |  0:02:14s\n",
            "epoch 1235| loss: 0.12016 |  0:02:14s\n",
            "epoch 1236| loss: 0.12052 |  0:02:14s\n",
            "epoch 1237| loss: 0.11383 |  0:02:14s\n",
            "epoch 1238| loss: 0.11866 |  0:02:14s\n",
            "epoch 1239| loss: 0.1196  |  0:02:14s\n",
            "epoch 1240| loss: 0.11194 |  0:02:14s\n",
            "epoch 1241| loss: 0.1216  |  0:02:14s\n",
            "epoch 1242| loss: 0.11243 |  0:02:14s\n",
            "epoch 1243| loss: 0.11945 |  0:02:14s\n",
            "epoch 1244| loss: 0.11534 |  0:02:15s\n",
            "epoch 1245| loss: 0.11498 |  0:02:15s\n",
            "epoch 1246| loss: 0.12043 |  0:02:15s\n",
            "epoch 1247| loss: 0.12542 |  0:02:15s\n",
            "epoch 1248| loss: 0.1181  |  0:02:15s\n",
            "epoch 1249| loss: 0.11848 |  0:02:15s\n",
            "epoch 1250| loss: 0.11736 |  0:02:15s\n",
            "epoch 1251| loss: 0.11279 |  0:02:15s\n",
            "epoch 1252| loss: 0.11508 |  0:02:15s\n",
            "epoch 1253| loss: 0.12328 |  0:02:15s\n",
            "epoch 1254| loss: 0.11976 |  0:02:15s\n",
            "epoch 1255| loss: 0.11825 |  0:02:16s\n",
            "epoch 1256| loss: 0.11349 |  0:02:16s\n",
            "epoch 1257| loss: 0.12048 |  0:02:16s\n",
            "epoch 1258| loss: 0.11323 |  0:02:16s\n",
            "epoch 1259| loss: 0.11548 |  0:02:16s\n",
            "epoch 1260| loss: 0.11917 |  0:02:16s\n",
            "epoch 1261| loss: 0.116   |  0:02:16s\n",
            "epoch 1262| loss: 0.11826 |  0:02:16s\n",
            "epoch 1263| loss: 0.11146 |  0:02:16s\n",
            "epoch 1264| loss: 0.11863 |  0:02:17s\n",
            "epoch 1265| loss: 0.11903 |  0:02:17s\n",
            "epoch 1266| loss: 0.12349 |  0:02:17s\n",
            "epoch 1267| loss: 0.11676 |  0:02:17s\n",
            "epoch 1268| loss: 0.11582 |  0:02:17s\n",
            "epoch 1269| loss: 0.12531 |  0:02:17s\n",
            "epoch 1270| loss: 0.12617 |  0:02:17s\n",
            "epoch 1271| loss: 0.12011 |  0:02:17s\n",
            "epoch 1272| loss: 0.12533 |  0:02:17s\n",
            "epoch 1273| loss: 0.12007 |  0:02:18s\n",
            "epoch 1274| loss: 0.11625 |  0:02:18s\n",
            "epoch 1275| loss: 0.11402 |  0:02:18s\n",
            "epoch 1276| loss: 0.11241 |  0:02:18s\n",
            "epoch 1277| loss: 0.11418 |  0:02:18s\n",
            "epoch 1278| loss: 0.1152  |  0:02:18s\n",
            "epoch 1279| loss: 0.11789 |  0:02:18s\n",
            "epoch 1280| loss: 0.11822 |  0:02:18s\n",
            "epoch 1281| loss: 0.11351 |  0:02:18s\n",
            "epoch 1282| loss: 0.11542 |  0:02:18s\n",
            "epoch 1283| loss: 0.11614 |  0:02:18s\n",
            "epoch 1284| loss: 0.11138 |  0:02:18s\n",
            "epoch 1285| loss: 0.11219 |  0:02:18s\n",
            "epoch 1286| loss: 0.11661 |  0:02:18s\n",
            "epoch 1287| loss: 0.11858 |  0:02:19s\n",
            "epoch 1288| loss: 0.11689 |  0:02:19s\n",
            "epoch 1289| loss: 0.11479 |  0:02:19s\n",
            "epoch 1290| loss: 0.11838 |  0:02:19s\n",
            "epoch 1291| loss: 0.11592 |  0:02:19s\n",
            "epoch 1292| loss: 0.11648 |  0:02:19s\n",
            "epoch 1293| loss: 0.1194  |  0:02:19s\n",
            "epoch 1294| loss: 0.11208 |  0:02:19s\n",
            "epoch 1295| loss: 0.11278 |  0:02:19s\n",
            "epoch 1296| loss: 0.11749 |  0:02:19s\n",
            "epoch 1297| loss: 0.11669 |  0:02:19s\n",
            "epoch 1298| loss: 0.11595 |  0:02:19s\n",
            "epoch 1299| loss: 0.11804 |  0:02:19s\n",
            "epoch 1300| loss: 0.11157 |  0:02:20s\n",
            "epoch 1301| loss: 0.12354 |  0:02:20s\n",
            "epoch 1302| loss: 0.1224  |  0:02:20s\n",
            "epoch 1303| loss: 0.11544 |  0:02:20s\n",
            "epoch 1304| loss: 0.11308 |  0:02:21s\n",
            "epoch 1305| loss: 0.11963 |  0:02:21s\n",
            "epoch 1306| loss: 0.11828 |  0:02:21s\n",
            "epoch 1307| loss: 0.12175 |  0:02:21s\n",
            "epoch 1308| loss: 0.11659 |  0:02:21s\n",
            "epoch 1309| loss: 0.11505 |  0:02:21s\n",
            "epoch 1310| loss: 0.11618 |  0:02:21s\n",
            "epoch 1311| loss: 0.12115 |  0:02:21s\n",
            "epoch 1312| loss: 0.11605 |  0:02:21s\n",
            "epoch 1313| loss: 0.119   |  0:02:21s\n",
            "epoch 1314| loss: 0.11572 |  0:02:21s\n",
            "epoch 1315| loss: 0.11656 |  0:02:21s\n",
            "epoch 1316| loss: 0.11305 |  0:02:21s\n",
            "epoch 1317| loss: 0.1221  |  0:02:22s\n",
            "epoch 1318| loss: 0.11275 |  0:02:22s\n",
            "epoch 1319| loss: 0.12473 |  0:02:22s\n",
            "epoch 1320| loss: 0.11445 |  0:02:22s\n",
            "epoch 1321| loss: 0.11772 |  0:02:22s\n",
            "epoch 1322| loss: 0.11171 |  0:02:22s\n",
            "epoch 1323| loss: 0.11806 |  0:02:22s\n",
            "epoch 1324| loss: 0.11484 |  0:02:22s\n",
            "epoch 1325| loss: 0.11457 |  0:02:22s\n",
            "epoch 1326| loss: 0.11787 |  0:02:22s\n",
            "epoch 1327| loss: 0.1132  |  0:02:22s\n",
            "epoch 1328| loss: 0.11717 |  0:02:22s\n",
            "epoch 1329| loss: 0.11453 |  0:02:22s\n",
            "epoch 1330| loss: 0.11273 |  0:02:23s\n",
            "epoch 1331| loss: 0.11507 |  0:02:23s\n",
            "epoch 1332| loss: 0.11313 |  0:02:23s\n",
            "epoch 1333| loss: 0.11977 |  0:02:23s\n",
            "epoch 1334| loss: 0.11782 |  0:02:23s\n",
            "epoch 1335| loss: 0.12125 |  0:02:23s\n",
            "epoch 1336| loss: 0.11289 |  0:02:23s\n",
            "epoch 1337| loss: 0.11567 |  0:02:23s\n",
            "epoch 1338| loss: 0.12139 |  0:02:23s\n",
            "epoch 1339| loss: 0.12119 |  0:02:23s\n",
            "epoch 1340| loss: 0.11728 |  0:02:23s\n",
            "epoch 1341| loss: 0.11327 |  0:02:23s\n",
            "epoch 1342| loss: 0.11567 |  0:02:23s\n",
            "epoch 1343| loss: 0.11495 |  0:02:24s\n",
            "epoch 1344| loss: 0.11746 |  0:02:24s\n",
            "epoch 1345| loss: 0.11893 |  0:02:24s\n",
            "epoch 1346| loss: 0.12062 |  0:02:24s\n",
            "epoch 1347| loss: 0.11246 |  0:02:24s\n",
            "epoch 1348| loss: 0.11599 |  0:02:24s\n",
            "epoch 1349| loss: 0.11583 |  0:02:24s\n",
            "epoch 1350| loss: 0.12068 |  0:02:24s\n",
            "epoch 1351| loss: 0.12822 |  0:02:24s\n",
            "epoch 1352| loss: 0.11356 |  0:02:24s\n",
            "epoch 1353| loss: 0.11679 |  0:02:24s\n",
            "epoch 1354| loss: 0.11453 |  0:02:24s\n",
            "epoch 1355| loss: 0.11848 |  0:02:24s\n",
            "epoch 1356| loss: 0.11866 |  0:02:24s\n",
            "epoch 1357| loss: 0.11461 |  0:02:25s\n",
            "epoch 1358| loss: 0.11863 |  0:02:25s\n",
            "epoch 1359| loss: 0.1187  |  0:02:25s\n",
            "epoch 1360| loss: 0.11776 |  0:02:25s\n",
            "epoch 1361| loss: 0.11522 |  0:02:25s\n",
            "epoch 1362| loss: 0.12026 |  0:02:25s\n",
            "epoch 1363| loss: 0.11874 |  0:02:25s\n",
            "epoch 1364| loss: 0.11676 |  0:02:25s\n",
            "epoch 1365| loss: 0.11543 |  0:02:25s\n",
            "epoch 1366| loss: 0.11277 |  0:02:25s\n",
            "epoch 1367| loss: 0.11422 |  0:02:25s\n",
            "epoch 1368| loss: 0.11435 |  0:02:25s\n",
            "epoch 1369| loss: 0.11156 |  0:02:25s\n",
            "epoch 1370| loss: 0.11002 |  0:02:26s\n",
            "epoch 1371| loss: 0.12243 |  0:02:26s\n",
            "epoch 1372| loss: 0.11412 |  0:02:26s\n",
            "epoch 1373| loss: 0.11685 |  0:02:26s\n",
            "epoch 1374| loss: 0.11709 |  0:02:26s\n",
            "epoch 1375| loss: 0.11822 |  0:02:26s\n",
            "epoch 1376| loss: 0.11643 |  0:02:26s\n",
            "epoch 1377| loss: 0.11606 |  0:02:26s\n",
            "epoch 1378| loss: 0.11741 |  0:02:26s\n",
            "epoch 1379| loss: 0.11918 |  0:02:26s\n",
            "epoch 1380| loss: 0.11854 |  0:02:26s\n",
            "epoch 1381| loss: 0.11466 |  0:02:26s\n",
            "epoch 1382| loss: 0.11791 |  0:02:26s\n",
            "epoch 1383| loss: 0.11841 |  0:02:26s\n",
            "epoch 1384| loss: 0.11723 |  0:02:27s\n",
            "epoch 1385| loss: 0.11326 |  0:02:27s\n",
            "epoch 1386| loss: 0.1194  |  0:02:27s\n",
            "epoch 1387| loss: 0.11225 |  0:02:27s\n",
            "epoch 1388| loss: 0.11573 |  0:02:27s\n",
            "epoch 1389| loss: 0.11653 |  0:02:27s\n",
            "epoch 1390| loss: 0.11115 |  0:02:27s\n",
            "epoch 1391| loss: 0.11408 |  0:02:27s\n",
            "epoch 1392| loss: 0.13058 |  0:02:27s\n",
            "epoch 1393| loss: 0.11721 |  0:02:27s\n",
            "epoch 1394| loss: 0.11276 |  0:02:27s\n",
            "epoch 1395| loss: 0.11783 |  0:02:27s\n",
            "epoch 1396| loss: 0.1173  |  0:02:27s\n",
            "epoch 1397| loss: 0.11556 |  0:02:27s\n",
            "epoch 1398| loss: 0.11415 |  0:02:28s\n",
            "epoch 1399| loss: 0.11777 |  0:02:28s\n",
            "epoch 1400| loss: 0.11493 |  0:02:28s\n",
            "epoch 1401| loss: 0.11366 |  0:02:28s\n",
            "epoch 1402| loss: 0.11641 |  0:02:28s\n",
            "epoch 1403| loss: 0.11512 |  0:02:28s\n",
            "epoch 1404| loss: 0.11209 |  0:02:28s\n",
            "epoch 1405| loss: 0.12316 |  0:02:28s\n",
            "epoch 1406| loss: 0.12227 |  0:02:28s\n",
            "epoch 1407| loss: 0.11634 |  0:02:28s\n",
            "epoch 1408| loss: 0.11656 |  0:02:28s\n",
            "epoch 1409| loss: 0.11427 |  0:02:28s\n",
            "epoch 1410| loss: 0.11708 |  0:02:28s\n",
            "epoch 1411| loss: 0.11127 |  0:02:28s\n",
            "epoch 1412| loss: 0.11271 |  0:02:29s\n",
            "epoch 1413| loss: 0.11398 |  0:02:29s\n",
            "epoch 1414| loss: 0.11307 |  0:02:29s\n",
            "epoch 1415| loss: 0.11693 |  0:02:29s\n",
            "epoch 1416| loss: 0.1159  |  0:02:29s\n",
            "epoch 1417| loss: 0.1133  |  0:02:29s\n",
            "epoch 1418| loss: 0.11538 |  0:02:29s\n",
            "epoch 1419| loss: 0.11238 |  0:02:29s\n",
            "epoch 1420| loss: 0.11086 |  0:02:29s\n",
            "epoch 1421| loss: 0.11362 |  0:02:29s\n",
            "epoch 1422| loss: 0.11269 |  0:02:29s\n",
            "epoch 1423| loss: 0.11489 |  0:02:29s\n",
            "epoch 1424| loss: 0.11773 |  0:02:29s\n",
            "epoch 1425| loss: 0.11448 |  0:02:30s\n",
            "epoch 1426| loss: 0.1161  |  0:02:30s\n",
            "epoch 1427| loss: 0.11503 |  0:02:30s\n",
            "epoch 1428| loss: 0.11495 |  0:02:30s\n",
            "epoch 1429| loss: 0.11577 |  0:02:30s\n",
            "epoch 1430| loss: 0.11683 |  0:02:30s\n",
            "epoch 1431| loss: 0.11197 |  0:02:30s\n",
            "epoch 1432| loss: 0.1138  |  0:02:30s\n",
            "epoch 1433| loss: 0.11442 |  0:02:30s\n",
            "epoch 1434| loss: 0.11335 |  0:02:30s\n",
            "epoch 1435| loss: 0.11509 |  0:02:30s\n",
            "epoch 1436| loss: 0.11299 |  0:02:30s\n",
            "epoch 1437| loss: 0.11468 |  0:02:30s\n",
            "epoch 1438| loss: 0.1139  |  0:02:30s\n",
            "epoch 1439| loss: 0.11345 |  0:02:31s\n",
            "epoch 1440| loss: 0.1133  |  0:02:31s\n",
            "epoch 1441| loss: 0.11385 |  0:02:31s\n",
            "epoch 1442| loss: 0.11817 |  0:02:31s\n",
            "epoch 1443| loss: 0.11171 |  0:02:31s\n",
            "epoch 1444| loss: 0.11778 |  0:02:31s\n",
            "epoch 1445| loss: 0.11361 |  0:02:31s\n",
            "epoch 1446| loss: 0.11961 |  0:02:31s\n",
            "epoch 1447| loss: 0.11338 |  0:02:31s\n",
            "epoch 1448| loss: 0.12115 |  0:02:31s\n",
            "epoch 1449| loss: 0.11695 |  0:02:31s\n",
            "epoch 1450| loss: 0.11625 |  0:02:31s\n",
            "epoch 1451| loss: 0.11397 |  0:02:31s\n",
            "epoch 1452| loss: 0.11615 |  0:02:32s\n",
            "epoch 1453| loss: 0.11928 |  0:02:32s\n",
            "epoch 1454| loss: 0.116   |  0:02:32s\n",
            "epoch 1455| loss: 0.11572 |  0:02:32s\n",
            "epoch 1456| loss: 0.11227 |  0:02:32s\n",
            "epoch 1457| loss: 0.11552 |  0:02:32s\n",
            "epoch 1458| loss: 0.11404 |  0:02:32s\n",
            "epoch 1459| loss: 0.11287 |  0:02:32s\n",
            "epoch 1460| loss: 0.1132  |  0:02:32s\n",
            "epoch 1461| loss: 0.11091 |  0:02:32s\n",
            "epoch 1462| loss: 0.11258 |  0:02:32s\n",
            "epoch 1463| loss: 0.11263 |  0:02:32s\n",
            "epoch 1464| loss: 0.11151 |  0:02:32s\n",
            "epoch 1465| loss: 0.11208 |  0:02:32s\n",
            "epoch 1466| loss: 0.1148  |  0:02:33s\n",
            "epoch 1467| loss: 0.11328 |  0:02:33s\n",
            "epoch 1468| loss: 0.11433 |  0:02:33s\n",
            "epoch 1469| loss: 0.11205 |  0:02:33s\n",
            "epoch 1470| loss: 0.1133  |  0:02:33s\n",
            "epoch 1471| loss: 0.11235 |  0:02:33s\n",
            "epoch 1472| loss: 0.11674 |  0:02:33s\n",
            "epoch 1473| loss: 0.11382 |  0:02:33s\n",
            "epoch 1474| loss: 0.11412 |  0:02:33s\n",
            "epoch 1475| loss: 0.11387 |  0:02:33s\n",
            "epoch 1476| loss: 0.11534 |  0:02:33s\n",
            "epoch 1477| loss: 0.11322 |  0:02:33s\n",
            "epoch 1478| loss: 0.11496 |  0:02:33s\n",
            "epoch 1479| loss: 0.11773 |  0:02:34s\n",
            "epoch 1480| loss: 0.11306 |  0:02:34s\n",
            "epoch 1481| loss: 0.11634 |  0:02:34s\n",
            "epoch 1482| loss: 0.11516 |  0:02:34s\n",
            "epoch 1483| loss: 0.11542 |  0:02:34s\n",
            "epoch 1484| loss: 0.11956 |  0:02:34s\n",
            "epoch 1485| loss: 0.11642 |  0:02:34s\n",
            "epoch 1486| loss: 0.11875 |  0:02:34s\n",
            "epoch 1487| loss: 0.1177  |  0:02:34s\n",
            "epoch 1488| loss: 0.11561 |  0:02:34s\n",
            "epoch 1489| loss: 0.11257 |  0:02:34s\n",
            "epoch 1490| loss: 0.11561 |  0:02:34s\n",
            "epoch 1491| loss: 0.11503 |  0:02:34s\n",
            "epoch 1492| loss: 0.11156 |  0:02:35s\n",
            "epoch 1493| loss: 0.11134 |  0:02:35s\n",
            "epoch 1494| loss: 0.11598 |  0:02:35s\n",
            "epoch 1495| loss: 0.11212 |  0:02:35s\n",
            "epoch 1496| loss: 0.11198 |  0:02:35s\n",
            "epoch 1497| loss: 0.11602 |  0:02:35s\n",
            "epoch 1498| loss: 0.11502 |  0:02:35s\n",
            "epoch 1499| loss: 0.11459 |  0:02:35s\n",
            "epoch 1500| loss: 0.12239 |  0:02:35s\n",
            "epoch 1501| loss: 0.11637 |  0:02:35s\n",
            "epoch 1502| loss: 0.11395 |  0:02:35s\n",
            "epoch 1503| loss: 0.11664 |  0:02:35s\n",
            "epoch 1504| loss: 0.11528 |  0:02:35s\n",
            "epoch 1505| loss: 0.11136 |  0:02:36s\n",
            "epoch 1506| loss: 0.11515 |  0:02:36s\n",
            "epoch 1507| loss: 0.11277 |  0:02:36s\n",
            "epoch 1508| loss: 0.11174 |  0:02:36s\n",
            "epoch 1509| loss: 0.11541 |  0:02:36s\n",
            "epoch 1510| loss: 0.11176 |  0:02:36s\n",
            "epoch 1511| loss: 0.11132 |  0:02:36s\n",
            "epoch 1512| loss: 0.11599 |  0:02:36s\n",
            "epoch 1513| loss: 0.11148 |  0:02:36s\n",
            "epoch 1514| loss: 0.116   |  0:02:36s\n",
            "epoch 1515| loss: 0.11504 |  0:02:36s\n",
            "epoch 1516| loss: 0.11881 |  0:02:36s\n",
            "epoch 1517| loss: 0.11584 |  0:02:36s\n",
            "epoch 1518| loss: 0.11361 |  0:02:37s\n",
            "epoch 1519| loss: 0.11068 |  0:02:37s\n",
            "epoch 1520| loss: 0.12192 |  0:02:37s\n",
            "epoch 1521| loss: 0.115   |  0:02:37s\n",
            "epoch 1522| loss: 0.11017 |  0:02:37s\n",
            "epoch 1523| loss: 0.113   |  0:02:37s\n",
            "epoch 1524| loss: 0.11407 |  0:02:37s\n",
            "epoch 1525| loss: 0.11076 |  0:02:37s\n",
            "epoch 1526| loss: 0.11508 |  0:02:37s\n",
            "epoch 1527| loss: 0.11295 |  0:02:37s\n",
            "epoch 1528| loss: 0.11323 |  0:02:38s\n",
            "epoch 1529| loss: 0.11389 |  0:02:38s\n",
            "epoch 1530| loss: 0.11483 |  0:02:39s\n",
            "epoch 1531| loss: 0.11006 |  0:02:39s\n",
            "epoch 1532| loss: 0.11561 |  0:02:39s\n",
            "epoch 1533| loss: 0.11668 |  0:02:40s\n",
            "epoch 1534| loss: 0.11632 |  0:02:40s\n",
            "epoch 1535| loss: 0.11072 |  0:02:40s\n",
            "epoch 1536| loss: 0.11332 |  0:02:41s\n",
            "epoch 1537| loss: 0.11292 |  0:02:41s\n",
            "epoch 1538| loss: 0.11449 |  0:02:41s\n",
            "epoch 1539| loss: 0.11403 |  0:02:41s\n",
            "epoch 1540| loss: 0.11531 |  0:02:41s\n",
            "epoch 1541| loss: 0.11845 |  0:02:42s\n",
            "epoch 1542| loss: 0.1131  |  0:02:42s\n",
            "epoch 1543| loss: 0.12273 |  0:02:42s\n",
            "epoch 1544| loss: 0.1305  |  0:02:42s\n",
            "epoch 1545| loss: 0.11623 |  0:02:42s\n",
            "epoch 1546| loss: 0.12725 |  0:02:43s\n",
            "epoch 1547| loss: 0.119   |  0:02:43s\n",
            "epoch 1548| loss: 0.11897 |  0:02:43s\n",
            "epoch 1549| loss: 0.1191  |  0:02:43s\n",
            "epoch 1550| loss: 0.12082 |  0:02:43s\n",
            "epoch 1551| loss: 0.11539 |  0:02:43s\n",
            "epoch 1552| loss: 0.11679 |  0:02:43s\n",
            "epoch 1553| loss: 0.11774 |  0:02:43s\n",
            "epoch 1554| loss: 0.12124 |  0:02:43s\n",
            "epoch 1555| loss: 0.11486 |  0:02:43s\n",
            "epoch 1556| loss: 0.11782 |  0:02:43s\n",
            "epoch 1557| loss: 0.1247  |  0:02:43s\n",
            "epoch 1558| loss: 0.1155  |  0:02:44s\n",
            "epoch 1559| loss: 0.11626 |  0:02:44s\n",
            "epoch 1560| loss: 0.11344 |  0:02:44s\n",
            "epoch 1561| loss: 0.11469 |  0:02:44s\n",
            "epoch 1562| loss: 0.11614 |  0:02:44s\n",
            "epoch 1563| loss: 0.11375 |  0:02:44s\n",
            "epoch 1564| loss: 0.11116 |  0:02:44s\n",
            "epoch 1565| loss: 0.11737 |  0:02:44s\n",
            "epoch 1566| loss: 0.11425 |  0:02:44s\n",
            "epoch 1567| loss: 0.11498 |  0:02:44s\n",
            "epoch 1568| loss: 0.11674 |  0:02:44s\n",
            "epoch 1569| loss: 0.11594 |  0:02:44s\n",
            "epoch 1570| loss: 0.11662 |  0:02:44s\n",
            "epoch 1571| loss: 0.11291 |  0:02:45s\n",
            "epoch 1572| loss: 0.11565 |  0:02:45s\n",
            "epoch 1573| loss: 0.11736 |  0:02:45s\n",
            "epoch 1574| loss: 0.11045 |  0:02:45s\n",
            "epoch 1575| loss: 0.11748 |  0:02:45s\n",
            "epoch 1576| loss: 0.11648 |  0:02:45s\n",
            "epoch 1577| loss: 0.11338 |  0:02:45s\n",
            "epoch 1578| loss: 0.11735 |  0:02:45s\n",
            "epoch 1579| loss: 0.12342 |  0:02:45s\n",
            "epoch 1580| loss: 0.11725 |  0:02:45s\n",
            "epoch 1581| loss: 0.1279  |  0:02:45s\n",
            "epoch 1582| loss: 0.11704 |  0:02:45s\n",
            "epoch 1583| loss: 0.11996 |  0:02:46s\n",
            "epoch 1584| loss: 0.11455 |  0:02:46s\n",
            "epoch 1585| loss: 0.11518 |  0:02:46s\n",
            "epoch 1586| loss: 0.12169 |  0:02:46s\n",
            "epoch 1587| loss: 0.12177 |  0:02:46s\n",
            "epoch 1588| loss: 0.11697 |  0:02:46s\n",
            "epoch 1589| loss: 0.11286 |  0:02:46s\n",
            "epoch 1590| loss: 0.11632 |  0:02:46s\n",
            "epoch 1591| loss: 0.11454 |  0:02:46s\n",
            "epoch 1592| loss: 0.11536 |  0:02:46s\n",
            "epoch 1593| loss: 0.11896 |  0:02:46s\n",
            "epoch 1594| loss: 0.11944 |  0:02:46s\n",
            "epoch 1595| loss: 0.11664 |  0:02:46s\n",
            "epoch 1596| loss: 0.11595 |  0:02:46s\n",
            "epoch 1597| loss: 0.11285 |  0:02:47s\n",
            "epoch 1598| loss: 0.11312 |  0:02:47s\n",
            "epoch 1599| loss: 0.11758 |  0:02:47s\n",
            "epoch 1600| loss: 0.11335 |  0:02:47s\n",
            "epoch 1601| loss: 0.11427 |  0:02:47s\n",
            "epoch 1602| loss: 0.11175 |  0:02:47s\n",
            "epoch 1603| loss: 0.11471 |  0:02:47s\n",
            "epoch 1604| loss: 0.11472 |  0:02:47s\n",
            "epoch 1605| loss: 0.11302 |  0:02:47s\n",
            "epoch 1606| loss: 0.11146 |  0:02:47s\n",
            "epoch 1607| loss: 0.11338 |  0:02:47s\n",
            "epoch 1608| loss: 0.11224 |  0:02:48s\n",
            "epoch 1609| loss: 0.11047 |  0:02:48s\n",
            "epoch 1610| loss: 0.11647 |  0:02:48s\n",
            "epoch 1611| loss: 0.1135  |  0:02:48s\n",
            "epoch 1612| loss: 0.11351 |  0:02:48s\n",
            "epoch 1613| loss: 0.11272 |  0:02:48s\n",
            "epoch 1614| loss: 0.1156  |  0:02:48s\n",
            "epoch 1615| loss: 0.11333 |  0:02:48s\n",
            "epoch 1616| loss: 0.11278 |  0:02:48s\n",
            "epoch 1617| loss: 0.11833 |  0:02:48s\n",
            "epoch 1618| loss: 0.11444 |  0:02:48s\n",
            "epoch 1619| loss: 0.11761 |  0:02:48s\n",
            "epoch 1620| loss: 0.11667 |  0:02:48s\n",
            "epoch 1621| loss: 0.1098  |  0:02:48s\n",
            "epoch 1622| loss: 0.11537 |  0:02:49s\n",
            "epoch 1623| loss: 0.1154  |  0:02:49s\n",
            "epoch 1624| loss: 0.11561 |  0:02:49s\n",
            "epoch 1625| loss: 0.11439 |  0:02:49s\n",
            "epoch 1626| loss: 0.11311 |  0:02:49s\n",
            "epoch 1627| loss: 0.11463 |  0:02:49s\n",
            "epoch 1628| loss: 0.11697 |  0:02:49s\n",
            "epoch 1629| loss: 0.11443 |  0:02:49s\n",
            "epoch 1630| loss: 0.1209  |  0:02:49s\n",
            "epoch 1631| loss: 0.11371 |  0:02:49s\n",
            "epoch 1632| loss: 0.11573 |  0:02:49s\n",
            "epoch 1633| loss: 0.11659 |  0:02:49s\n",
            "epoch 1634| loss: 0.11928 |  0:02:49s\n",
            "epoch 1635| loss: 0.1206  |  0:02:50s\n",
            "epoch 1636| loss: 0.12168 |  0:02:50s\n",
            "epoch 1637| loss: 0.11793 |  0:02:50s\n",
            "epoch 1638| loss: 0.11624 |  0:02:50s\n",
            "epoch 1639| loss: 0.11916 |  0:02:50s\n",
            "epoch 1640| loss: 0.11978 |  0:02:50s\n",
            "epoch 1641| loss: 0.11565 |  0:02:50s\n",
            "epoch 1642| loss: 0.11579 |  0:02:50s\n",
            "epoch 1643| loss: 0.12064 |  0:02:50s\n",
            "epoch 1644| loss: 0.11599 |  0:02:50s\n",
            "epoch 1645| loss: 0.11816 |  0:02:50s\n",
            "epoch 1646| loss: 0.11738 |  0:02:50s\n",
            "epoch 1647| loss: 0.11683 |  0:02:50s\n",
            "epoch 1648| loss: 0.11955 |  0:02:51s\n",
            "epoch 1649| loss: 0.11572 |  0:02:51s\n",
            "epoch 1650| loss: 0.11299 |  0:02:51s\n",
            "epoch 1651| loss: 0.11565 |  0:02:51s\n",
            "epoch 1652| loss: 0.11737 |  0:02:51s\n",
            "epoch 1653| loss: 0.11753 |  0:02:51s\n",
            "epoch 1654| loss: 0.11133 |  0:02:51s\n",
            "epoch 1655| loss: 0.11602 |  0:02:51s\n",
            "epoch 1656| loss: 0.11789 |  0:02:51s\n",
            "epoch 1657| loss: 0.1179  |  0:02:51s\n",
            "epoch 1658| loss: 0.1153  |  0:02:51s\n",
            "epoch 1659| loss: 0.11697 |  0:02:51s\n",
            "epoch 1660| loss: 0.11346 |  0:02:51s\n",
            "epoch 1661| loss: 0.12289 |  0:02:52s\n",
            "epoch 1662| loss: 0.11315 |  0:02:52s\n",
            "epoch 1663| loss: 0.11844 |  0:02:52s\n",
            "epoch 1664| loss: 0.11897 |  0:02:52s\n",
            "epoch 1665| loss: 0.11596 |  0:02:52s\n",
            "epoch 1666| loss: 0.11773 |  0:02:52s\n",
            "epoch 1667| loss: 0.11633 |  0:02:52s\n",
            "epoch 1668| loss: 0.11563 |  0:02:52s\n",
            "epoch 1669| loss: 0.1149  |  0:02:52s\n",
            "epoch 1670| loss: 0.11461 |  0:02:52s\n",
            "epoch 1671| loss: 0.11236 |  0:02:52s\n",
            "epoch 1672| loss: 0.11384 |  0:02:52s\n",
            "epoch 1673| loss: 0.10917 |  0:02:52s\n",
            "epoch 1674| loss: 0.11215 |  0:02:53s\n",
            "epoch 1675| loss: 0.11273 |  0:02:53s\n",
            "epoch 1676| loss: 0.11754 |  0:02:53s\n",
            "epoch 1677| loss: 0.11639 |  0:02:53s\n",
            "epoch 1678| loss: 0.11224 |  0:02:53s\n",
            "epoch 1679| loss: 0.11597 |  0:02:53s\n",
            "epoch 1680| loss: 0.11226 |  0:02:53s\n",
            "epoch 1681| loss: 0.1116  |  0:02:53s\n",
            "epoch 1682| loss: 0.11377 |  0:02:53s\n",
            "epoch 1683| loss: 0.11213 |  0:02:53s\n",
            "epoch 1684| loss: 0.11355 |  0:02:53s\n",
            "epoch 1685| loss: 0.1132  |  0:02:53s\n",
            "epoch 1686| loss: 0.111   |  0:02:53s\n",
            "epoch 1687| loss: 0.11182 |  0:02:54s\n",
            "epoch 1688| loss: 0.11519 |  0:02:54s\n",
            "epoch 1689| loss: 0.1115  |  0:02:54s\n",
            "epoch 1690| loss: 0.11772 |  0:02:54s\n",
            "epoch 1691| loss: 0.11404 |  0:02:54s\n",
            "epoch 1692| loss: 0.11834 |  0:02:54s\n",
            "epoch 1693| loss: 0.12103 |  0:02:54s\n",
            "epoch 1694| loss: 0.12202 |  0:02:54s\n",
            "epoch 1695| loss: 0.11496 |  0:02:54s\n",
            "epoch 1696| loss: 0.12122 |  0:02:54s\n",
            "epoch 1697| loss: 0.12245 |  0:02:54s\n",
            "epoch 1698| loss: 0.11946 |  0:02:54s\n",
            "epoch 1699| loss: 0.12159 |  0:02:54s\n",
            "epoch 1700| loss: 0.12264 |  0:02:55s\n",
            "epoch 1701| loss: 0.12238 |  0:02:55s\n",
            "epoch 1702| loss: 0.11911 |  0:02:55s\n",
            "epoch 1703| loss: 0.11789 |  0:02:55s\n",
            "epoch 1704| loss: 0.12286 |  0:02:55s\n",
            "epoch 1705| loss: 0.11738 |  0:02:55s\n",
            "epoch 1706| loss: 0.11452 |  0:02:55s\n",
            "epoch 1707| loss: 0.11559 |  0:02:55s\n",
            "epoch 1708| loss: 0.12104 |  0:02:55s\n",
            "epoch 1709| loss: 0.11511 |  0:02:55s\n",
            "epoch 1710| loss: 0.12069 |  0:02:55s\n",
            "epoch 1711| loss: 0.11653 |  0:02:55s\n",
            "epoch 1712| loss: 0.115   |  0:02:55s\n",
            "epoch 1713| loss: 0.11715 |  0:02:56s\n",
            "epoch 1714| loss: 0.11355 |  0:02:56s\n",
            "epoch 1715| loss: 0.11648 |  0:02:56s\n",
            "epoch 1716| loss: 0.12157 |  0:02:56s\n",
            "epoch 1717| loss: 0.11576 |  0:02:56s\n",
            "epoch 1718| loss: 0.11846 |  0:02:56s\n",
            "epoch 1719| loss: 0.11788 |  0:02:56s\n",
            "epoch 1720| loss: 0.11391 |  0:02:56s\n",
            "epoch 1721| loss: 0.1179  |  0:02:56s\n",
            "epoch 1722| loss: 0.11795 |  0:02:56s\n",
            "epoch 1723| loss: 0.1143  |  0:02:56s\n",
            "epoch 1724| loss: 0.11548 |  0:02:56s\n",
            "epoch 1725| loss: 0.11357 |  0:02:56s\n",
            "epoch 1726| loss: 0.11469 |  0:02:56s\n",
            "epoch 1727| loss: 0.1151  |  0:02:57s\n",
            "epoch 1728| loss: 0.11497 |  0:02:57s\n",
            "epoch 1729| loss: 0.12087 |  0:02:57s\n",
            "epoch 1730| loss: 0.11881 |  0:02:57s\n",
            "epoch 1731| loss: 0.11397 |  0:02:57s\n",
            "epoch 1732| loss: 0.11468 |  0:02:57s\n",
            "epoch 1733| loss: 0.11719 |  0:02:57s\n",
            "epoch 1734| loss: 0.11749 |  0:02:57s\n",
            "epoch 1735| loss: 0.11098 |  0:02:57s\n",
            "epoch 1736| loss: 0.11883 |  0:02:57s\n",
            "epoch 1737| loss: 0.11424 |  0:02:57s\n",
            "epoch 1738| loss: 0.11739 |  0:02:57s\n",
            "epoch 1739| loss: 0.11626 |  0:02:57s\n",
            "epoch 1740| loss: 0.1164  |  0:02:58s\n",
            "epoch 1741| loss: 0.11528 |  0:02:58s\n",
            "epoch 1742| loss: 0.11797 |  0:02:58s\n",
            "epoch 1743| loss: 0.1133  |  0:02:58s\n",
            "epoch 1744| loss: 0.11107 |  0:02:58s\n",
            "epoch 1745| loss: 0.11663 |  0:02:58s\n",
            "epoch 1746| loss: 0.11573 |  0:02:58s\n",
            "epoch 1747| loss: 0.11705 |  0:02:58s\n",
            "epoch 1748| loss: 0.11705 |  0:02:58s\n",
            "epoch 1749| loss: 0.11288 |  0:02:58s\n",
            "epoch 1750| loss: 0.11541 |  0:02:58s\n",
            "epoch 1751| loss: 0.11542 |  0:02:58s\n",
            "epoch 1752| loss: 0.11433 |  0:02:58s\n",
            "epoch 1753| loss: 0.11656 |  0:02:59s\n",
            "epoch 1754| loss: 0.11147 |  0:02:59s\n",
            "epoch 1755| loss: 0.11419 |  0:02:59s\n",
            "epoch 1756| loss: 0.11473 |  0:02:59s\n",
            "epoch 1757| loss: 0.11273 |  0:02:59s\n",
            "epoch 1758| loss: 0.11015 |  0:02:59s\n",
            "epoch 1759| loss: 0.12114 |  0:02:59s\n",
            "epoch 1760| loss: 0.11262 |  0:02:59s\n",
            "epoch 1761| loss: 0.11512 |  0:02:59s\n",
            "epoch 1762| loss: 0.11401 |  0:02:59s\n",
            "epoch 1763| loss: 0.11595 |  0:02:59s\n",
            "epoch 1764| loss: 0.11964 |  0:02:59s\n",
            "epoch 1765| loss: 0.11459 |  0:02:59s\n",
            "epoch 1766| loss: 0.115   |  0:02:59s\n",
            "epoch 1767| loss: 0.11579 |  0:03:00s\n",
            "epoch 1768| loss: 0.11097 |  0:03:00s\n",
            "epoch 1769| loss: 0.11836 |  0:03:00s\n",
            "epoch 1770| loss: 0.11344 |  0:03:00s\n",
            "epoch 1771| loss: 0.11841 |  0:03:00s\n",
            "epoch 1772| loss: 0.11487 |  0:03:00s\n",
            "epoch 1773| loss: 0.1137  |  0:03:00s\n",
            "epoch 1774| loss: 0.11565 |  0:03:00s\n",
            "epoch 1775| loss: 0.1216  |  0:03:00s\n",
            "epoch 1776| loss: 0.1153  |  0:03:00s\n",
            "epoch 1777| loss: 0.11546 |  0:03:00s\n",
            "epoch 1778| loss: 0.11622 |  0:03:00s\n",
            "epoch 1779| loss: 0.11681 |  0:03:00s\n",
            "epoch 1780| loss: 0.11626 |  0:03:01s\n",
            "epoch 1781| loss: 0.11712 |  0:03:01s\n",
            "epoch 1782| loss: 0.11429 |  0:03:01s\n",
            "epoch 1783| loss: 0.11431 |  0:03:01s\n",
            "epoch 1784| loss: 0.116   |  0:03:01s\n",
            "epoch 1785| loss: 0.11441 |  0:03:01s\n",
            "epoch 1786| loss: 0.11276 |  0:03:01s\n",
            "epoch 1787| loss: 0.11582 |  0:03:01s\n",
            "epoch 1788| loss: 0.11214 |  0:03:01s\n",
            "epoch 1789| loss: 0.11553 |  0:03:01s\n",
            "epoch 1790| loss: 0.11292 |  0:03:01s\n",
            "epoch 1791| loss: 0.11297 |  0:03:01s\n",
            "epoch 1792| loss: 0.11367 |  0:03:01s\n",
            "epoch 1793| loss: 0.11252 |  0:03:01s\n",
            "epoch 1794| loss: 0.11334 |  0:03:02s\n",
            "epoch 1795| loss: 0.1142  |  0:03:02s\n",
            "epoch 1796| loss: 0.11263 |  0:03:02s\n",
            "epoch 1797| loss: 0.11541 |  0:03:02s\n",
            "epoch 1798| loss: 0.11069 |  0:03:02s\n",
            "epoch 1799| loss: 0.11134 |  0:03:02s\n",
            "epoch 1800| loss: 0.11279 |  0:03:02s\n",
            "epoch 1801| loss: 0.11455 |  0:03:02s\n",
            "epoch 1802| loss: 0.11048 |  0:03:02s\n",
            "epoch 1803| loss: 0.11619 |  0:03:02s\n",
            "epoch 1804| loss: 0.11207 |  0:03:02s\n",
            "epoch 1805| loss: 0.1121  |  0:03:02s\n",
            "epoch 1806| loss: 0.11308 |  0:03:02s\n",
            "epoch 1807| loss: 0.11059 |  0:03:03s\n",
            "epoch 1808| loss: 0.11564 |  0:03:03s\n",
            "epoch 1809| loss: 0.11446 |  0:03:03s\n",
            "epoch 1810| loss: 0.1132  |  0:03:03s\n",
            "epoch 1811| loss: 0.11018 |  0:03:03s\n",
            "epoch 1812| loss: 0.11429 |  0:03:03s\n",
            "epoch 1813| loss: 0.11392 |  0:03:03s\n",
            "epoch 1814| loss: 0.11527 |  0:03:03s\n",
            "epoch 1815| loss: 0.11297 |  0:03:03s\n",
            "epoch 1816| loss: 0.1122  |  0:03:03s\n",
            "epoch 1817| loss: 0.11172 |  0:03:03s\n",
            "epoch 1818| loss: 0.11418 |  0:03:03s\n",
            "epoch 1819| loss: 0.11337 |  0:03:03s\n",
            "epoch 1820| loss: 0.11344 |  0:03:04s\n",
            "epoch 1821| loss: 0.1148  |  0:03:04s\n",
            "epoch 1822| loss: 0.11146 |  0:03:04s\n",
            "epoch 1823| loss: 0.11432 |  0:03:04s\n",
            "epoch 1824| loss: 0.12083 |  0:03:04s\n",
            "epoch 1825| loss: 0.11228 |  0:03:04s\n",
            "epoch 1826| loss: 0.11206 |  0:03:04s\n",
            "epoch 1827| loss: 0.12662 |  0:03:04s\n",
            "epoch 1828| loss: 0.11824 |  0:03:04s\n",
            "epoch 1829| loss: 0.12241 |  0:03:04s\n",
            "epoch 1830| loss: 0.12112 |  0:03:04s\n",
            "epoch 1831| loss: 0.12047 |  0:03:04s\n",
            "epoch 1832| loss: 0.12135 |  0:03:04s\n",
            "epoch 1833| loss: 0.12216 |  0:03:05s\n",
            "epoch 1834| loss: 0.11725 |  0:03:05s\n",
            "epoch 1835| loss: 0.11485 |  0:03:05s\n",
            "epoch 1836| loss: 0.11301 |  0:03:05s\n",
            "epoch 1837| loss: 0.11506 |  0:03:05s\n",
            "epoch 1838| loss: 0.11642 |  0:03:05s\n",
            "epoch 1839| loss: 0.11469 |  0:03:05s\n",
            "epoch 1840| loss: 0.11834 |  0:03:05s\n",
            "epoch 1841| loss: 0.11629 |  0:03:05s\n",
            "epoch 1842| loss: 0.1189  |  0:03:05s\n",
            "epoch 1843| loss: 0.1159  |  0:03:05s\n",
            "epoch 1844| loss: 0.11332 |  0:03:05s\n",
            "epoch 1845| loss: 0.11493 |  0:03:06s\n",
            "epoch 1846| loss: 0.11836 |  0:03:06s\n",
            "epoch 1847| loss: 0.11562 |  0:03:06s\n",
            "epoch 1848| loss: 0.11325 |  0:03:06s\n",
            "epoch 1849| loss: 0.11508 |  0:03:06s\n",
            "epoch 1850| loss: 0.11601 |  0:03:06s\n",
            "epoch 1851| loss: 0.1153  |  0:03:06s\n",
            "epoch 1852| loss: 0.11493 |  0:03:06s\n",
            "epoch 1853| loss: 0.11426 |  0:03:06s\n",
            "epoch 1854| loss: 0.11807 |  0:03:06s\n",
            "epoch 1855| loss: 0.11417 |  0:03:06s\n",
            "epoch 1856| loss: 0.11404 |  0:03:07s\n",
            "epoch 1857| loss: 0.11544 |  0:03:07s\n",
            "epoch 1858| loss: 0.11969 |  0:03:07s\n",
            "epoch 1859| loss: 0.11643 |  0:03:07s\n",
            "epoch 1860| loss: 0.11463 |  0:03:07s\n",
            "epoch 1861| loss: 0.11414 |  0:03:07s\n",
            "epoch 1862| loss: 0.1126  |  0:03:07s\n",
            "epoch 1863| loss: 0.11258 |  0:03:07s\n",
            "epoch 1864| loss: 0.1143  |  0:03:07s\n",
            "epoch 1865| loss: 0.11487 |  0:03:07s\n",
            "epoch 1866| loss: 0.11653 |  0:03:07s\n",
            "epoch 1867| loss: 0.1209  |  0:03:07s\n",
            "epoch 1868| loss: 0.11587 |  0:03:07s\n",
            "epoch 1869| loss: 0.11353 |  0:03:08s\n",
            "epoch 1870| loss: 0.11283 |  0:03:08s\n",
            "epoch 1871| loss: 0.11812 |  0:03:08s\n",
            "epoch 1872| loss: 0.11674 |  0:03:08s\n",
            "epoch 1873| loss: 0.11045 |  0:03:08s\n",
            "epoch 1874| loss: 0.11611 |  0:03:08s\n",
            "epoch 1875| loss: 0.11764 |  0:03:08s\n",
            "epoch 1876| loss: 0.11493 |  0:03:08s\n",
            "epoch 1877| loss: 0.11378 |  0:03:08s\n",
            "epoch 1878| loss: 0.11406 |  0:03:08s\n",
            "epoch 1879| loss: 0.11566 |  0:03:08s\n",
            "epoch 1880| loss: 0.11376 |  0:03:09s\n",
            "epoch 1881| loss: 0.1118  |  0:03:09s\n",
            "epoch 1882| loss: 0.11901 |  0:03:09s\n",
            "epoch 1883| loss: 0.11288 |  0:03:09s\n",
            "epoch 1884| loss: 0.11346 |  0:03:09s\n",
            "epoch 1885| loss: 0.11575 |  0:03:09s\n",
            "epoch 1886| loss: 0.11457 |  0:03:09s\n",
            "epoch 1887| loss: 0.11522 |  0:03:09s\n",
            "epoch 1888| loss: 0.11438 |  0:03:09s\n",
            "epoch 1889| loss: 0.11367 |  0:03:09s\n",
            "epoch 1890| loss: 0.11353 |  0:03:09s\n",
            "epoch 1891| loss: 0.11403 |  0:03:09s\n",
            "epoch 1892| loss: 0.11481 |  0:03:09s\n",
            "epoch 1893| loss: 0.11175 |  0:03:10s\n",
            "epoch 1894| loss: 0.11678 |  0:03:10s\n",
            "epoch 1895| loss: 0.11911 |  0:03:10s\n",
            "epoch 1896| loss: 0.11553 |  0:03:10s\n",
            "epoch 1897| loss: 0.11645 |  0:03:10s\n",
            "epoch 1898| loss: 0.11544 |  0:03:10s\n",
            "epoch 1899| loss: 0.11709 |  0:03:10s\n",
            "epoch 1900| loss: 0.11785 |  0:03:10s\n",
            "epoch 1901| loss: 0.11892 |  0:03:10s\n",
            "epoch 1902| loss: 0.11746 |  0:03:10s\n",
            "epoch 1903| loss: 0.11391 |  0:03:10s\n",
            "epoch 1904| loss: 0.11705 |  0:03:10s\n",
            "epoch 1905| loss: 0.11689 |  0:03:11s\n",
            "epoch 1906| loss: 0.11819 |  0:03:11s\n",
            "epoch 1907| loss: 0.11511 |  0:03:11s\n",
            "epoch 1908| loss: 0.11456 |  0:03:11s\n",
            "epoch 1909| loss: 0.11605 |  0:03:11s\n",
            "epoch 1910| loss: 0.11533 |  0:03:11s\n",
            "epoch 1911| loss: 0.11523 |  0:03:11s\n",
            "epoch 1912| loss: 0.11893 |  0:03:11s\n",
            "epoch 1913| loss: 0.11683 |  0:03:11s\n",
            "epoch 1914| loss: 0.11428 |  0:03:11s\n",
            "epoch 1915| loss: 0.11637 |  0:03:11s\n",
            "epoch 1916| loss: 0.12235 |  0:03:11s\n",
            "epoch 1917| loss: 0.1185  |  0:03:12s\n",
            "epoch 1918| loss: 0.1137  |  0:03:12s\n",
            "epoch 1919| loss: 0.11317 |  0:03:12s\n",
            "epoch 1920| loss: 0.11503 |  0:03:12s\n",
            "epoch 1921| loss: 0.11977 |  0:03:12s\n",
            "epoch 1922| loss: 0.11109 |  0:03:12s\n",
            "epoch 1923| loss: 0.11675 |  0:03:12s\n",
            "epoch 1924| loss: 0.11107 |  0:03:12s\n",
            "epoch 1925| loss: 0.12033 |  0:03:12s\n",
            "epoch 1926| loss: 0.1153  |  0:03:12s\n",
            "epoch 1927| loss: 0.12221 |  0:03:12s\n",
            "epoch 1928| loss: 0.11993 |  0:03:12s\n",
            "epoch 1929| loss: 0.12435 |  0:03:12s\n",
            "epoch 1930| loss: 0.11861 |  0:03:13s\n",
            "epoch 1931| loss: 0.12497 |  0:03:13s\n",
            "epoch 1932| loss: 0.12115 |  0:03:13s\n",
            "epoch 1933| loss: 0.11986 |  0:03:13s\n",
            "epoch 1934| loss: 0.12478 |  0:03:13s\n",
            "epoch 1935| loss: 0.11719 |  0:03:13s\n",
            "epoch 1936| loss: 0.12519 |  0:03:13s\n",
            "epoch 1937| loss: 0.11852 |  0:03:13s\n",
            "epoch 1938| loss: 0.12969 |  0:03:13s\n",
            "epoch 1939| loss: 0.12684 |  0:03:13s\n",
            "epoch 1940| loss: 0.11814 |  0:03:13s\n",
            "epoch 1941| loss: 0.11675 |  0:03:13s\n",
            "epoch 1942| loss: 0.11955 |  0:03:14s\n",
            "epoch 1943| loss: 0.11973 |  0:03:14s\n",
            "epoch 1944| loss: 0.11577 |  0:03:14s\n",
            "epoch 1945| loss: 0.11565 |  0:03:14s\n",
            "epoch 1946| loss: 0.1154  |  0:03:14s\n",
            "epoch 1947| loss: 0.12252 |  0:03:14s\n",
            "epoch 1948| loss: 0.1275  |  0:03:14s\n",
            "epoch 1949| loss: 0.11569 |  0:03:14s\n",
            "epoch 1950| loss: 0.11318 |  0:03:14s\n",
            "epoch 1951| loss: 0.1198  |  0:03:14s\n",
            "epoch 1952| loss: 0.1192  |  0:03:14s\n",
            "epoch 1953| loss: 0.1197  |  0:03:14s\n",
            "epoch 1954| loss: 0.12599 |  0:03:14s\n",
            "epoch 1955| loss: 0.11209 |  0:03:15s\n",
            "epoch 1956| loss: 0.11844 |  0:03:15s\n",
            "epoch 1957| loss: 0.11654 |  0:03:15s\n",
            "epoch 1958| loss: 0.11549 |  0:03:15s\n",
            "epoch 1959| loss: 0.11732 |  0:03:15s\n",
            "epoch 1960| loss: 0.11333 |  0:03:15s\n",
            "epoch 1961| loss: 0.11827 |  0:03:15s\n",
            "epoch 1962| loss: 0.11702 |  0:03:15s\n",
            "epoch 1963| loss: 0.11651 |  0:03:15s\n",
            "epoch 1964| loss: 0.11547 |  0:03:15s\n",
            "epoch 1965| loss: 0.1142  |  0:03:15s\n",
            "epoch 1966| loss: 0.12128 |  0:03:15s\n",
            "epoch 1967| loss: 0.11936 |  0:03:15s\n",
            "epoch 1968| loss: 0.11563 |  0:03:16s\n",
            "epoch 1969| loss: 0.11366 |  0:03:16s\n",
            "epoch 1970| loss: 0.11556 |  0:03:16s\n",
            "epoch 1971| loss: 0.11818 |  0:03:16s\n",
            "epoch 1972| loss: 0.12586 |  0:03:16s\n",
            "epoch 1973| loss: 0.1118  |  0:03:16s\n",
            "epoch 1974| loss: 0.11432 |  0:03:16s\n",
            "epoch 1975| loss: 0.11461 |  0:03:16s\n",
            "epoch 1976| loss: 0.12143 |  0:03:16s\n",
            "epoch 1977| loss: 0.11829 |  0:03:16s\n",
            "epoch 1978| loss: 0.11575 |  0:03:16s\n",
            "epoch 1979| loss: 0.11886 |  0:03:16s\n",
            "epoch 1980| loss: 0.11736 |  0:03:16s\n",
            "epoch 1981| loss: 0.11403 |  0:03:17s\n",
            "epoch 1982| loss: 0.11662 |  0:03:17s\n",
            "epoch 1983| loss: 0.11322 |  0:03:17s\n",
            "epoch 1984| loss: 0.11186 |  0:03:17s\n",
            "epoch 1985| loss: 0.11159 |  0:03:17s\n",
            "epoch 1986| loss: 0.1173  |  0:03:17s\n",
            "epoch 1987| loss: 0.11423 |  0:03:17s\n",
            "epoch 1988| loss: 0.11575 |  0:03:17s\n",
            "epoch 1989| loss: 0.11544 |  0:03:17s\n",
            "epoch 1990| loss: 0.11497 |  0:03:17s\n",
            "epoch 1991| loss: 0.11253 |  0:03:17s\n",
            "epoch 1992| loss: 0.11848 |  0:03:18s\n",
            "epoch 1993| loss: 0.11238 |  0:03:18s\n",
            "epoch 1994| loss: 0.11791 |  0:03:18s\n",
            "epoch 1995| loss: 0.12046 |  0:03:18s\n",
            "epoch 1996| loss: 0.11871 |  0:03:18s\n",
            "epoch 1997| loss: 0.11066 |  0:03:18s\n",
            "epoch 1998| loss: 0.12133 |  0:03:18s\n",
            "epoch 1999| loss: 0.11602 |  0:03:18s\n"
          ]
        }
      ]
    },
    {
      "cell_type": "code",
      "source": [
        "prediction=classifier.predict(X_test)\n",
        "print('Accuracy = ', metrics.accuracy_score(y_test, prediction)*100)"
      ],
      "metadata": {
        "id": "m8zVzYPoInVU",
        "outputId": "f2b2263b-600d-4f25-cb1a-e957b05a0d4b",
        "colab": {
          "base_uri": "https://localhost:8080/"
        }
      },
      "execution_count": 52,
      "outputs": [
        {
          "output_type": "stream",
          "name": "stdout",
          "text": [
            "Accuracy =  85.55240793201133\n"
          ]
        }
      ]
    },
    {
      "cell_type": "code",
      "source": [
        "y_predictionKNN_proba=classifier.predict_proba(X_test)[:,1]\n",
        "AUCKNN=metrics.roc_auc_score(y_test,y_predictionKNN_proba)\n",
        "print(\"AUC: \",AUCKNN)\n",
        "fprKNN, tprKNN, thresholds = metrics.roc_curve(y_test,y_predictionKNN_proba)\n",
        "\n",
        "plt.plot(fprKNN,tprKNN,label=\"( area = \"+str(AUCKNN)+\" )\")\n",
        "plt.xlabel('False Positive Rate')\n",
        "plt.ylabel('True Positive Rate')\n",
        "plt.legend(loc=4)\n",
        "plt.show()"
      ],
      "metadata": {
        "id": "CeFcMRuoTNVT",
        "outputId": "95f8f581-7d0d-4120-aa33-cac546f27c85",
        "colab": {
          "base_uri": "https://localhost:8080/",
          "height": 296
        }
      },
      "execution_count": 54,
      "outputs": [
        {
          "output_type": "stream",
          "name": "stdout",
          "text": [
            "AUC:  0.9192977771844337\n"
          ]
        },
        {
          "output_type": "display_data",
          "data": {
            "text/plain": [
              "<Figure size 432x288 with 1 Axes>"
            ],
            "image/png": "[encoded data removed]"
          },
          "metadata": {
            "needs_background": "light"
          }
        }
      ]
    }
  ]
}