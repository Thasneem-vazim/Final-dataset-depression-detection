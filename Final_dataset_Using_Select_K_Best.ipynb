{
  "nbformat": 4,
  "nbformat_minor": 0,
  "metadata": {
    "colab": {
      "name": "Final dataset Using Select K Best.ipynb",
      "provenance": [],
      "collapsed_sections": [],
      "authorship_tag": "ABX9TyP41nAFzNZA8hF7GD9Ak9Ym",
      "include_colab_link": true
    },
    "kernelspec": {
      "name": "python3",
      "display_name": "Python 3"
    },
    "language_info": {
      "name": "python"
    }
  },
  "cells": [
    {
      "cell_type": "markdown",
      "metadata": {
        "id": "view-in-github",
        "colab_type": "text"
      },
      "source": [
        "<a href=\"https://colab.research.google.com/github/Thasneem-vazim/Final-dataset-depression-detection/blob/main/Final_dataset_Using_Select_K_Best.ipynb\" target=\"_parent\"><img src=\"https://colab.research.google.com/assets/colab-badge.svg\" alt=\"Open In Colab\"/></a>"
      ]
    },
    {
      "cell_type": "code",
      "execution_count": null,
      "metadata": {
        "id": "Hp3gjynefyoi"
      },
      "outputs": [],
      "source": [
        "import numpy as np\n",
        "import pandas as pd\n",
        "import matplotlib.pyplot as plt\n",
        "import seaborn as sns\n",
        "from sklearn.model_selection import train_test_split\n",
        "from sklearn.linear_model import LogisticRegression\n",
        "from sklearn import metrics\n",
        "#%matplotlib inline\n",
        "import warnings\n",
        "warnings.filterwarnings('ignore')\n",
        "from sklearn.tree import DecisionTreeClassifier\n",
        "\n",
        "pd.set_option('display.max_rows', None)"
      ]
    },
    {
      "cell_type": "code",
      "source": [
        "depressionDataset = pd.read_csv(\"/content/final dataset.csv\")\n",
        "X = depressionDataset[['AGERNG','GENDER','EDU','PROF','MARSTS','RESDPL','LIVWTH','ENVSAT','POSSAT','FINSTR','DEBT','PHYEX','SMOKE','DRINK','ILLNESS','PREMED','EATDIS','AVGSLP','INSOM','TSSN','WRKPRE','ANXI','DEPRI','ABUSED','CHEAT','THREAT','SUICIDE','INFER','CONFLICT','LOST']]\n",
        "y=depressionDataset[['DEPRESSED']]"
      ],
      "metadata": {
        "id": "_6y9aE6jgCU8"
      },
      "execution_count": null,
      "outputs": []
    },
    {
      "cell_type": "code",
      "execution_count": null,
      "metadata": {
        "id": "ovbxpvqH80a3"
      },
      "outputs": [],
      "source": [
        "from sklearn.preprocessing import LabelEncoder\n",
        "### label encode the categorical values and convert them to numbers\n",
        "le = LabelEncoder()\n",
        "le.fit(X['AGERNG'].astype(str))\n",
        "X['AGERNG'] = le.transform(X['AGERNG'].astype(str))\n",
        "\n",
        "le = LabelEncoder()\n",
        "le.fit(X['GENDER'].astype(str))\n",
        "X['GENDER'] = le.transform(X['GENDER'].astype(str))\n",
        "\n",
        "le = LabelEncoder()\n",
        "le.fit(X['EDU'].astype(str))\n",
        "X['EDU'] = le.transform(X['EDU'].astype(str))\n",
        "\n",
        "le = LabelEncoder()\n",
        "le.fit(X['PROF'].astype(str))\n",
        "X['PROF'] = le.transform(X['PROF'].astype(str))\n",
        "\n",
        "\n",
        "le = LabelEncoder()\n",
        "le.fit(X['MARSTS'].astype(str))\n",
        "X['MARSTS'] = le.transform(X['MARSTS'].astype(str))\n",
        "\n",
        "\n",
        "\n",
        "le = LabelEncoder()\n",
        "le.fit(X['RESDPL'].astype(str))\n",
        "X['RESDPL'] = le.transform(X['RESDPL'].astype(str))\n",
        "\n",
        "\n",
        "\n",
        "le = LabelEncoder()\n",
        "le.fit(X['LIVWTH'].astype(str))\n",
        "X['LIVWTH'] = le.transform(X['LIVWTH'].astype(str))\n",
        "\n",
        "\n",
        "\n",
        "le = LabelEncoder()\n",
        "le.fit(X['ENVSAT'].astype(str))\n",
        "X['ENVSAT'] = le.transform(X['ENVSAT'].astype(str))\n",
        "\n",
        "le = LabelEncoder()\n",
        "le.fit(X['POSSAT'].astype(str))\n",
        "X['POSSAT'] = le.transform(X['POSSAT'].astype(str))\n",
        "\n",
        "\n",
        "\n",
        "le = LabelEncoder()\n",
        "le.fit(X['FINSTR'].astype(str))\n",
        "X['FINSTR'] = le.transform(X['FINSTR'].astype(str))\n",
        "\n",
        "le = LabelEncoder()\n",
        "le.fit(X['DEBT'].astype(str))\n",
        "X['DEBT'] = le.transform(X['DEBT'].astype(str))\n",
        "\n",
        "\n",
        "\n",
        "le = LabelEncoder()\n",
        "le.fit(X['PHYEX'].astype(str))\n",
        "X['PHYEX'] = le.transform(X['PHYEX'].astype(str))\n",
        "\n",
        "\n",
        "\n",
        "\n",
        "le = LabelEncoder()\n",
        "le.fit(X['SMOKE'].astype(str))\n",
        "X['SMOKE'] = le.transform(X['SMOKE'].astype(str))\n",
        "\n",
        "\n",
        "\n",
        "le = LabelEncoder()\n",
        "le.fit(X['DRINK'].astype(str))\n",
        "X['DRINK'] = le.transform(X['DRINK'].astype(str))\n",
        "\n",
        "\n",
        "le = LabelEncoder()\n",
        "le.fit(X['ILLNESS'].astype(str))\n",
        "X['ILLNESS'] = le.transform(X['ILLNESS'].astype(str))\n",
        "\n",
        "\n",
        "\n",
        "\n",
        "le = LabelEncoder()\n",
        "le.fit(X['PREMED'].astype(str))\n",
        "X['PREMED'] = le.transform(X['PREMED'].astype(str))\n",
        "\n",
        "\n",
        "\n",
        "le = LabelEncoder()\n",
        "le.fit(X['EATDIS'].astype(str))\n",
        "X['EATDIS'] = le.transform(X['EATDIS'].astype(str))\n",
        "\n",
        "le = LabelEncoder()\n",
        "le.fit(X['AVGSLP'].astype(str))\n",
        "X['AVGSLP'] = le.transform(X['AVGSLP'].astype(str))\n",
        "\n",
        "\n",
        "\n",
        "le = LabelEncoder()\n",
        "le.fit(X['INSOM'].astype(str))\n",
        "X['INSOM'] = le.transform(X['INSOM'].astype(str))\n",
        "\n",
        "\n",
        "\n",
        "\n",
        "le = LabelEncoder()\n",
        "le.fit(X['TSSN'].astype(str))\n",
        "X['TSSN'] = le.transform(X['TSSN'].astype(str))\n",
        "\n",
        "\n",
        "\n",
        "\n",
        "le = LabelEncoder()\n",
        "le.fit(X['WRKPRE'].astype(str))\n",
        "X['WRKPRE'] = le.transform(X['WRKPRE'].astype(str))\n",
        "\n",
        "\n",
        "\n",
        "\n",
        "le = LabelEncoder()\n",
        "le.fit(X['ANXI'].astype(str))\n",
        "X['ANXI'] = le.transform(X['ANXI'].astype(str))\n",
        "\n",
        "\n",
        "\n",
        "\n",
        "le = LabelEncoder()\n",
        "le.fit(X['DEPRI'].astype(str))\n",
        "X['DEPRI'] = le.transform(X['DEPRI'].astype(str))\n",
        "\n",
        "\n",
        "\n",
        "le = LabelEncoder()\n",
        "le.fit(X['ABUSED'].astype(str))\n",
        "X['ABUSED'] = le.transform(X['ABUSED'].astype(str))\n",
        "\n",
        "\n",
        "\n",
        "\n",
        "le = LabelEncoder()\n",
        "le.fit(X['CHEAT'].astype(str))\n",
        "X['CHEAT'] = le.transform(X['CHEAT'].astype(str))\n",
        "\n",
        "\n",
        "\n",
        "le = LabelEncoder()\n",
        "le.fit(X['THREAT'].astype(str))\n",
        "X['THREAT'] = le.transform(X['THREAT'].astype(str))\n",
        "\n",
        "\n",
        "\n",
        "le = LabelEncoder()\n",
        "le.fit(X['SUICIDE'].astype(str))\n",
        "X['SUICIDE'] = le.transform(X['SUICIDE'].astype(str))\n",
        "\n",
        "\n",
        "le = LabelEncoder()\n",
        "le.fit(X['INFER'].astype(str))\n",
        "X['INFER'] = le.transform(X['INFER'].astype(str))\n",
        "\n",
        "\n",
        "le = LabelEncoder()\n",
        "le.fit(X['CONFLICT'].astype(str))\n",
        "X['CONFLICT'] = le.transform(X['CONFLICT'].astype(str))\n",
        "\n",
        "\n",
        "\n",
        "le = LabelEncoder()\n",
        "le.fit(X['LOST'].astype(str))\n",
        "X['LOST'] = le.transform(X['LOST'].astype(str))\n",
        "\n",
        "le = LabelEncoder()\n",
        "le.fit(y['DEPRESSED'].astype(str))\n",
        "y['DEPRESSED'] = le.transform(y['DEPRESSED'].astype(str))\n"
      ]
    },
    {
      "cell_type": "code",
      "source": [
        "X_train,X_test,y_train,y_test=train_test_split(X,y,test_size=0.2,random_state=0)"
      ],
      "metadata": {
        "id": "q4TJl_3j91xF"
      },
      "execution_count": null,
      "outputs": []
    },
    {
      "cell_type": "code",
      "source": [
        "import pandas as pd\n",
        "import numpy as np\n",
        "from sklearn.feature_selection import SelectKBest\n",
        "from sklearn.feature_selection import chi2,f_classif\n",
        "\n",
        "#apply SelectKBest class to extract top 15 best features\n",
        "bestfeatures = SelectKBest(score_func=chi2, k=15)\n",
        "fit = bestfeatures.fit(X_train,y_train)\n",
        "dfscores = pd.DataFrame(fit.scores_)\n",
        "dfcolumns = pd.DataFrame(X_train.columns)\n",
        "#concat two dataframes for better visualization\n",
        "featureScores = pd.concat([dfcolumns,dfscores],axis=1)\n",
        "featureScores.columns = ['Specs','Score']  #naming the dataframe columns\n",
        "print(featureScores.nlargest(15,'Score'))  #print 15 best features"
      ],
      "metadata": {
        "colab": {
          "base_uri": "https://localhost:8080/"
        },
        "id": "ALF_Mg6PgRjk",
        "outputId": "414df3bf-2669-44d6-99b0-02d82acbc1e1"
      },
      "execution_count": null,
      "outputs": [
        {
          "output_type": "stream",
          "name": "stdout",
          "text": [
            "       Specs       Score\n",
            "27     INFER  137.507865\n",
            "22     DEPRI  137.210468\n",
            "21      ANXI  135.602531\n",
            "8     POSSAT   98.801179\n",
            "26   SUICIDE   88.972706\n",
            "18     INSOM   85.545984\n",
            "23    ABUSED   84.650158\n",
            "28  CONFLICT   79.610013\n",
            "24     CHEAT   64.562793\n",
            "9     FINSTR   61.383955\n",
            "25    THREAT   47.761946\n",
            "29      LOST   44.626956\n",
            "16    EATDIS   40.781843\n",
            "7     ENVSAT   36.374450\n",
            "20    WRKPRE   27.724719\n"
          ]
        }
      ]
    },
    {
      "cell_type": "code",
      "source": [
        "X_trainSelectedFeature=pd.DataFrame()\n",
        "\n",
        "X_trainSelectedFeature['WRKPRE']=X_train['WRKPRE']\n",
        "X_trainSelectedFeature['POSSAT']=X_train['POSSAT']\n",
        "X_trainSelectedFeature['EATDIS']=X_train['EATDIS']\n",
        "X_trainSelectedFeature['INSOM']=X_train['INSOM']\n",
        "X_trainSelectedFeature['AGERNG']=X_train['AGERNG']\n",
        "X_trainSelectedFeature['ANXI']=X_train['ANXI']\n",
        "X_trainSelectedFeature['DEPRI']=X_train['DEPRI']\n",
        "X_trainSelectedFeature['ABUSED']=X_train['ABUSED']\n",
        "X_trainSelectedFeature['CHEAT']=X_train['CHEAT']\n",
        "X_trainSelectedFeature['THREAT']=X_train['THREAT']\n",
        "X_trainSelectedFeature['SUICIDE']=X_train['SUICIDE']\n",
        "X_trainSelectedFeature['INFER']=X_train['INFER']\n",
        "X_trainSelectedFeature['CONFLICT']=X_train['CONFLICT']\n",
        "X_trainSelectedFeature['PREMED']=X_train['PREMED']\n",
        "X_trainSelectedFeature['AGERNG']=X_train['AGERNG']"
      ],
      "metadata": {
        "id": "tlQxzCoiidaH"
      },
      "execution_count": null,
      "outputs": []
    },
    {
      "cell_type": "code",
      "source": [
        "X_trainSelectedFeature.shape"
      ],
      "metadata": {
        "colab": {
          "base_uri": "https://localhost:8080/"
        },
        "id": "m1AxqR7disSV",
        "outputId": "478b56a2-7db6-432d-fd03-4cb6e9107efd"
      },
      "execution_count": null,
      "outputs": [
        {
          "output_type": "execute_result",
          "data": {
            "text/plain": [
              "(1411, 14)"
            ]
          },
          "metadata": {},
          "execution_count": 7
        }
      ]
    },
    {
      "cell_type": "code",
      "source": [
        "from imblearn.over_sampling import SMOTE\n",
        "smote=SMOTE('minority',random_state=0)\n",
        "X_trainSelectedFeatureAfterSMOTE,y_train=smote.fit_resample(X_trainSelectedFeature, y_train)"
      ],
      "metadata": {
        "id": "1ln7I-yfheQs"
      },
      "execution_count": null,
      "outputs": []
    },
    {
      "cell_type": "code",
      "source": [
        "X_testSelectedFeature=pd.DataFrame()\n",
        "\n",
        "X_testSelectedFeature['WRKPRE']=X_test['WRKPRE']\n",
        "X_testSelectedFeature['POSSAT']=X_test['POSSAT']\n",
        "X_testSelectedFeature['EATDIS']=X_test['EATDIS']\n",
        "X_testSelectedFeature['INSOM']=X_test['INSOM']\n",
        "X_testSelectedFeature['AGERNG']=X_test['AGERNG']\n",
        "X_testSelectedFeature['ANXI']=X_test['ANXI']\n",
        "X_testSelectedFeature['DEPRI']=X_test['DEPRI']\n",
        "X_testSelectedFeature['ABUSED']=X_test['ABUSED']\n",
        "X_testSelectedFeature['CHEAT']=X_test['CHEAT']\n",
        "X_testSelectedFeature['THREAT']=X_test['THREAT']\n",
        "X_testSelectedFeature['SUICIDE']=X_test['SUICIDE']\n",
        "X_testSelectedFeature['INFER']=X_test['INFER']\n",
        "X_testSelectedFeature['CONFLICT']=X_test['CONFLICT']\n",
        "X_testSelectedFeature['PREMED']=X_test['PREMED']\n",
        "X_testSelectedFeature['AGERNG']=X_test['AGERNG']"
      ],
      "metadata": {
        "id": "VyO28JSGkJVb"
      },
      "execution_count": null,
      "outputs": []
    },
    {
      "cell_type": "code",
      "source": [
        "X_testSelectedFeature.shape"
      ],
      "metadata": {
        "colab": {
          "base_uri": "https://localhost:8080/"
        },
        "id": "Q-GgMr0VBlNT",
        "outputId": "104a3ad3-49d0-4062-eb86-1d8ebc10b05d"
      },
      "execution_count": null,
      "outputs": [
        {
          "output_type": "execute_result",
          "data": {
            "text/plain": [
              "(353, 14)"
            ]
          },
          "metadata": {},
          "execution_count": 10
        }
      ]
    },
    {
      "cell_type": "code",
      "source": [
        "from sklearn.neighbors import KNeighborsClassifier\n",
        "KNNClassification = KNeighborsClassifier(n_neighbors=7)\n",
        "KNNClassification.fit(X_trainSelectedFeatureAfterSMOTE,y_train)\n",
        "y_predictionKNN=KNNClassification.predict(X_testSelectedFeature)\n"
      ],
      "metadata": {
        "id": "93aMxLB_hjBn"
      },
      "execution_count": null,
      "outputs": []
    },
    {
      "cell_type": "code",
      "source": [
        "from sklearn.metrics import classification_report,confusion_matrix\n",
        "y_predict_test=KNNClassification.predict(X_testSelectedFeature)\n",
        "cm1=confusion_matrix(y_test,y_predict_test)\n",
        "import seaborn as sns\n",
        "sns.heatmap(cm1,annot=True)\n",
        "print(classification_report(y_test,y_predict_test))\n"
      ],
      "metadata": {
        "id": "LDSHMO5YkWxA",
        "colab": {
          "base_uri": "https://localhost:8080/",
          "height": 421
        },
        "outputId": "e78e22cf-0719-4d1e-cb01-4946d06f7c1d"
      },
      "execution_count": null,
      "outputs": [
        {
          "output_type": "stream",
          "name": "stdout",
          "text": [
            "              precision    recall  f1-score   support\n",
            "\n",
            "           0       0.70      0.86      0.77       142\n",
            "           1       0.89      0.75      0.82       211\n",
            "\n",
            "    accuracy                           0.80       353\n",
            "   macro avg       0.79      0.81      0.79       353\n",
            "weighted avg       0.81      0.80      0.80       353\n",
            "\n"
          ]
        },
        {
          "output_type": "display_data",
          "data": {
            "text/plain": [
              "<Figure size 432x288 with 2 Axes>"
            ],
            "image/png": "[encoded data removed]"
          },
          "metadata": {
            "needs_background": "light"
          }
        }
      ]
    },
    {
      "cell_type": "code",
      "source": [
        "y_predictionKNN_proba=KNNClassification.predict_proba(X_testSelectedFeature)[:,1]\n",
        "AUCKNN=metrics.roc_auc_score(y_test,y_predictionKNN_proba)\n",
        "print(\"AUC KNN: \",AUCKNN)\n",
        "fprKNN, tprKNN, thresholds = metrics.roc_curve(y_test,y_predictionKNN_proba)\n",
        "\n",
        "plt.plot(fprKNN,tprKNN,label=\"KNN ( area = \"+str(AUCKNN)+\" )\")\n",
        "plt.xlabel('False Positive Rate')\n",
        "plt.ylabel('True Positive Rate')\n",
        "plt.legend(loc=4)\n",
        "plt.show()"
      ],
      "metadata": {
        "id": "cv9uP8CqkwvR",
        "colab": {
          "base_uri": "https://localhost:8080/",
          "height": 296
        },
        "outputId": "c4aa8955-e4cd-4f62-a366-6701cbcdd8d6"
      },
      "execution_count": null,
      "outputs": [
        {
          "output_type": "stream",
          "name": "stdout",
          "text": [
            "AUC KNN:  0.8737233829517388\n"
          ]
        },
        {
          "output_type": "display_data",
          "data": {
            "text/plain": [
              "<Figure size 432x288 with 1 Axes>"
            ],
            "image/png": "[encoded data removed]"
          },
          "metadata": {
            "needs_background": "light"
          }
        }
      ]
    },
    {
      "cell_type": "code",
      "source": [
        "prediction=KNNClassification.predict(X_testSelectedFeature)\n",
        "print('Accuracy = ', metrics.accuracy_score(y_test, prediction)*100)"
      ],
      "metadata": {
        "id": "vUQvgis4AKMc",
        "colab": {
          "base_uri": "https://localhost:8080/"
        },
        "outputId": "840e1293-929f-4b1d-c521-16e27caf084d"
      },
      "execution_count": null,
      "outputs": [
        {
          "output_type": "stream",
          "name": "stdout",
          "text": [
            "Accuracy =  79.60339943342775\n"
          ]
        }
      ]
    },
    {
      "cell_type": "code",
      "source": [
        ""
      ],
      "metadata": {
        "id": "tUMExGSclJwf"
      },
      "execution_count": null,
      "outputs": []
    },
    {
      "cell_type": "code",
      "source": [
        "from sklearn.ensemble import AdaBoostClassifier\n",
        "ADABoostClassification=AdaBoostClassifier()\n",
        "ADABoostClassification.fit(X_trainSelectedFeatureAfterSMOTE,y_train)"
      ],
      "metadata": {
        "id": "GYJ-4AQmkw9C",
        "colab": {
          "base_uri": "https://localhost:8080/"
        },
        "outputId": "4deb5810-0c81-4c0b-d1ed-f30087d29691"
      },
      "execution_count": null,
      "outputs": [
        {
          "output_type": "execute_result",
          "data": {
            "text/plain": [
              "AdaBoostClassifier()"
            ]
          },
          "metadata": {},
          "execution_count": 15
        }
      ]
    },
    {
      "cell_type": "code",
      "source": [
        "y_predictionADABoost=ADABoostClassification.predict(X_testSelectedFeature)"
      ],
      "metadata": {
        "id": "agI6CmGBk_Ir"
      },
      "execution_count": null,
      "outputs": []
    },
    {
      "cell_type": "code",
      "source": [
        "from sklearn.metrics import classification_report,confusion_matrix\n",
        "y_predict_test=ADABoostClassification.predict(X_testSelectedFeature)\n",
        "cm1=confusion_matrix(y_test,y_predict_test)\n",
        "import seaborn as sns\n",
        "sns.heatmap(cm1,annot=True)\n",
        "print(classification_report(y_test,y_predict_test))\n"
      ],
      "metadata": {
        "id": "snFr5AnxlEz-",
        "colab": {
          "base_uri": "https://localhost:8080/",
          "height": 421
        },
        "outputId": "05a2878c-3561-4ded-aa4f-a4710116a318"
      },
      "execution_count": null,
      "outputs": [
        {
          "output_type": "stream",
          "name": "stdout",
          "text": [
            "              precision    recall  f1-score   support\n",
            "\n",
            "           0       0.74      0.82      0.78       142\n",
            "           1       0.87      0.81      0.84       211\n",
            "\n",
            "    accuracy                           0.81       353\n",
            "   macro avg       0.80      0.81      0.81       353\n",
            "weighted avg       0.82      0.81      0.81       353\n",
            "\n"
          ]
        },
        {
          "output_type": "display_data",
          "data": {
            "text/plain": [
              "<Figure size 432x288 with 2 Axes>"
            ],
            "image/png": "[encoded data removed]"
          },
          "metadata": {
            "needs_background": "light"
          }
        }
      ]
    },
    {
      "cell_type": "code",
      "source": [
        "y_predictionKNN_proba=ADABoostClassification.predict_proba(X_testSelectedFeature)[:,1]\n",
        "AUCKNN=metrics.roc_auc_score(y_test,y_predictionKNN_proba)\n",
        "print(\"AUC : \",AUCKNN)\n",
        "fprAda, tprAda, thresholds = metrics.roc_curve(y_test,y_predictionKNN_proba)\n",
        "\n",
        "plt.plot(fprAda,tprAda,label=\"( area = \"+str(AUCKNN)+\" )\")\n",
        "plt.xlabel('False Positive Rate')\n",
        "plt.ylabel('True Positive Rate')\n",
        "plt.legend(loc=4)\n",
        "plt.show()"
      ],
      "metadata": {
        "id": "GC60qrPVlKqq",
        "colab": {
          "base_uri": "https://localhost:8080/",
          "height": 296
        },
        "outputId": "8d31d744-7ba1-4411-e991-2040034669ac"
      },
      "execution_count": null,
      "outputs": [
        {
          "output_type": "stream",
          "name": "stdout",
          "text": [
            "AUC :  0.8826513583872906\n"
          ]
        },
        {
          "output_type": "display_data",
          "data": {
            "text/plain": [
              "<Figure size 432x288 with 1 Axes>"
            ],
            "image/png": "[encoded data removed]"
          },
          "metadata": {
            "needs_background": "light"
          }
        }
      ]
    },
    {
      "cell_type": "code",
      "source": [
        "prediction=ADABoostClassification.predict(X_testSelectedFeature)\n",
        "print('Accuracy = ', metrics.accuracy_score(y_test, prediction)*100)"
      ],
      "metadata": {
        "id": "l3jJhZzWsrsB",
        "colab": {
          "base_uri": "https://localhost:8080/"
        },
        "outputId": "854b56ea-ec57-481b-9684-c4821d45bdc1"
      },
      "execution_count": null,
      "outputs": [
        {
          "output_type": "stream",
          "name": "stdout",
          "text": [
            "Accuracy =  81.01983002832861\n"
          ]
        }
      ]
    },
    {
      "cell_type": "code",
      "source": [
        "from sklearn.ensemble import GradientBoostingClassifier\n",
        "GradeintBoostClassification = GradientBoostingClassifier(loss='deviance',max_features=1,random_state=0,max_leaf_nodes=None)\n",
        "GradeintBoostClassification.fit(X_trainSelectedFeatureAfterSMOTE,y_train)\n",
        "y_predictionGradient=GradeintBoostClassification.predict(X_testSelectedFeature)"
      ],
      "metadata": {
        "id": "dpKxb7xrlXPN"
      },
      "execution_count": null,
      "outputs": []
    },
    {
      "cell_type": "code",
      "source": [
        "from sklearn.metrics import classification_report,confusion_matrix\n",
        "y_predict_test=GradeintBoostClassification.predict(X_testSelectedFeature)\n",
        "cm1=confusion_matrix(y_test,y_predict_test)\n",
        "import seaborn as sns\n",
        "sns.heatmap(cm1,annot=True)\n",
        "print(classification_report(y_test,y_predict_test))"
      ],
      "metadata": {
        "id": "L-KxvCi6lpoz",
        "colab": {
          "base_uri": "https://localhost:8080/",
          "height": 421
        },
        "outputId": "06cfb410-4b74-4f65-ba2c-11082b48cc35"
      },
      "execution_count": null,
      "outputs": [
        {
          "output_type": "stream",
          "name": "stdout",
          "text": [
            "              precision    recall  f1-score   support\n",
            "\n",
            "           0       0.74      0.85      0.79       142\n",
            "           1       0.89      0.80      0.84       211\n",
            "\n",
            "    accuracy                           0.82       353\n",
            "   macro avg       0.82      0.83      0.82       353\n",
            "weighted avg       0.83      0.82      0.82       353\n",
            "\n"
          ]
        },
        {
          "output_type": "display_data",
          "data": {
            "text/plain": [
              "<Figure size 432x288 with 2 Axes>"
            ],
            "image/png": "[encoded data removed]"
          },
          "metadata": {
            "needs_background": "light"
          }
        }
      ]
    },
    {
      "cell_type": "code",
      "source": [
        "y_predictionKNN_proba=GradeintBoostClassification.predict_proba(X_testSelectedFeature)[:,1]\n",
        "AUCKNN=metrics.roc_auc_score(y_test,y_predictionKNN_proba)\n",
        "print(\"AUC: \",AUCKNN)\n",
        "fprGradientBoost, tprGradientBoost, thresholds = metrics.roc_curve(y_test,y_predictionKNN_proba)\n",
        "\n",
        "plt.plot(fprGradientBoost,tprGradientBoost,label=\"( area = \"+str(AUCKNN)+\" )\")\n",
        "plt.xlabel('False Positive Rate')\n",
        "plt.ylabel('True Positive Rate')\n",
        "plt.legend(loc=4)\n",
        "plt.show()"
      ],
      "metadata": {
        "id": "_iMcih9mlyB6",
        "colab": {
          "base_uri": "https://localhost:8080/",
          "height": 296
        },
        "outputId": "c21ff1c7-c5f5-4f75-8394-5d0321ea1320"
      },
      "execution_count": null,
      "outputs": [
        {
          "output_type": "stream",
          "name": "stdout",
          "text": [
            "AUC:  0.9041786262599293\n"
          ]
        },
        {
          "output_type": "display_data",
          "data": {
            "text/plain": [
              "<Figure size 432x288 with 1 Axes>"
            ],
            "image/png": "[encoded data removed]"
          },
          "metadata": {
            "needs_background": "light"
          }
        }
      ]
    },
    {
      "cell_type": "code",
      "source": [
        "prediction=GradeintBoostClassification.predict(X_testSelectedFeature)\n",
        "print('Accuracy = ', metrics.accuracy_score(y_test, prediction)*100)"
      ],
      "metadata": {
        "id": "YXmHVR2fs5tp",
        "colab": {
          "base_uri": "https://localhost:8080/"
        },
        "outputId": "c25cf631-2826-46cf-e93d-919080f74943"
      },
      "execution_count": null,
      "outputs": [
        {
          "output_type": "stream",
          "name": "stdout",
          "text": [
            "Accuracy =  82.15297450424929\n"
          ]
        }
      ]
    },
    {
      "cell_type": "code",
      "execution_count": null,
      "metadata": {
        "id": "5rlZEUNUX2ea",
        "colab": {
          "base_uri": "https://localhost:8080/",
          "height": 425
        },
        "outputId": "7386c255-fb08-4995-f783-6e927c11a8ba"
      },
      "outputs": [
        {
          "output_type": "stream",
          "name": "stdout",
          "text": [
            "              precision    recall  f1-score   support\n",
            "\n",
            "           0       0.72      0.91      0.80       142\n",
            "           1       0.92      0.76      0.83       211\n",
            "\n",
            "    accuracy                           0.82       353\n",
            "   macro avg       0.82      0.83      0.82       353\n",
            "weighted avg       0.84      0.82      0.82       353\n",
            "\n"
          ]
        },
        {
          "output_type": "display_data",
          "data": {
            "text/plain": [
              "<Figure size 432x288 with 2 Axes>"
            ],
            "image/png": "[encoded data removed]"
          },
          "metadata": {
            "needs_background": "light"
          }
        }
      ],
      "source": [
        "from xgboost import XGBClassifier\n",
        "import xgboost as xgb\n",
        "params = {\n",
        " 'objective':'binary:logitraw',\n",
        " 'max_depth': 2, 'min_child_weight': 2, 'gamma': 0.3, 'subsample': 0.6,\n",
        " 'colsample_bytree': 0.6, 'scale_pos_weight': 1,\n",
        " 'alpha': 0.01,\n",
        " 'learning_rate': 0.03,\n",
        " 'n_estimators':1000,'seed': 42\n",
        " }\n",
        "xgb_clf = XGBClassifier(**params)\n",
        "xgb_clf.fit(X_trainSelectedFeatureAfterSMOTE,y_train)\n",
        "\n",
        "yxg_pred=xgb_clf.predict(X_testSelectedFeature)\n",
        "cm4=confusion_matrix(y_test,yxg_pred)\n",
        "sns.heatmap(cm4,annot=True)\n",
        "print(classification_report(y_test,yxg_pred))"
      ]
    },
    {
      "cell_type": "code",
      "source": [
        "y_predictionXgBoost=xgb_clf.predict(X_testSelectedFeature)"
      ],
      "metadata": {
        "id": "QISvXtEdx3AN"
      },
      "execution_count": null,
      "outputs": []
    },
    {
      "cell_type": "code",
      "source": [
        "y_predictionKNN_proba=xgb_clf.predict_proba(X_testSelectedFeature)[:,1]\n",
        "AUCKNN=metrics.roc_auc_score(y_test,y_predictionKNN_proba)\n",
        "print(\"AUC: \",AUCKNN)\n",
        "fprXgB, tprXgB, thresholds = metrics.roc_curve(y_test,y_predictionKNN_proba)\n",
        "\n",
        "plt.plot(fprXgB,tprXgB,label=\"( area = \"+str(AUCKNN)+\" )\")\n",
        "plt.xlabel('False Positive Rate')\n",
        "plt.ylabel('True Positive Rate')\n",
        "plt.legend(loc=4)\n",
        "plt.show()"
      ],
      "metadata": {
        "id": "QSmthl9pOtbv",
        "colab": {
          "base_uri": "https://localhost:8080/",
          "height": 296
        },
        "outputId": "89de5527-ae2f-4ca7-9d7c-7b7b0eb476b0"
      },
      "execution_count": null,
      "outputs": [
        {
          "output_type": "stream",
          "name": "stdout",
          "text": [
            "AUC:  0.9029270409184967\n"
          ]
        },
        {
          "output_type": "display_data",
          "data": {
            "text/plain": [
              "<Figure size 432x288 with 1 Axes>"
            ],
            "image/png": "[encoded data removed]"
          },
          "metadata": {
            "needs_background": "light"
          }
        }
      ]
    },
    {
      "cell_type": "code",
      "source": [
        "prediction=xgb_clf.predict(X_testSelectedFeature)\n",
        "print('Accuracy = ', metrics.accuracy_score(y_test, prediction)*100)"
      ],
      "metadata": {
        "id": "t6oi2h8jtfGw",
        "colab": {
          "base_uri": "https://localhost:8080/"
        },
        "outputId": "4b62470e-e28d-4bc7-dc47-18de521d353e"
      },
      "execution_count": null,
      "outputs": [
        {
          "output_type": "stream",
          "name": "stdout",
          "text": [
            "Accuracy =  81.86968838526913\n"
          ]
        }
      ]
    },
    {
      "cell_type": "code",
      "source": [
        "from sklearn.ensemble import BaggingClassifier\n",
        "from sklearn.neural_network import MLPClassifier\n",
        "\n",
        "base_cls = MLPClassifier(random_state=0)\n",
        "num_trees = 30\n",
        "seed = 15\n",
        "# bagging classifier\n",
        "bagClassificationMLP = BaggingClassifier(base_estimator=base_cls, n_estimators=num_trees, random_state=0)\n",
        "bagClassificationMLP.fit(X_trainSelectedFeatureAfterSMOTE, y_train)\n",
        "y_predictionBagMLP = bagClassificationMLP.predict(X_testSelectedFeature)\n"
      ],
      "metadata": {
        "id": "iL91oPzSPV4B"
      },
      "execution_count": null,
      "outputs": []
    },
    {
      "cell_type": "code",
      "source": [
        "from sklearn.metrics import classification_report,confusion_matrix\n",
        "y_predict_test=bagClassificationMLP.predict(X_testSelectedFeature)\n",
        "cm1=confusion_matrix(y_test,y_predict_test)\n",
        "import seaborn as sns\n",
        "sns.heatmap(cm1,annot=True)\n",
        "print(classification_report(y_test,y_predict_test))"
      ],
      "metadata": {
        "id": "02F1BQCiPydM",
        "colab": {
          "base_uri": "https://localhost:8080/",
          "height": 421
        },
        "outputId": "c0c74adf-b06c-42ba-d743-07c6f6318815"
      },
      "execution_count": null,
      "outputs": [
        {
          "output_type": "stream",
          "name": "stdout",
          "text": [
            "              precision    recall  f1-score   support\n",
            "\n",
            "           0       0.74      0.80      0.77       142\n",
            "           1       0.86      0.81      0.83       211\n",
            "\n",
            "    accuracy                           0.80       353\n",
            "   macro avg       0.80      0.80      0.80       353\n",
            "weighted avg       0.81      0.80      0.81       353\n",
            "\n"
          ]
        },
        {
          "output_type": "display_data",
          "data": {
            "text/plain": [
              "<Figure size 432x288 with 2 Axes>"
            ],
            "image/png": "[encoded data removed]"
          },
          "metadata": {
            "needs_background": "light"
          }
        }
      ]
    },
    {
      "cell_type": "code",
      "source": [
        "y_predictionKNN_proba=bagClassificationMLP.predict_proba(X_testSelectedFeature)[:,1]\n",
        "AUCKNN=metrics.roc_auc_score(y_test,y_predictionKNN_proba)\n",
        "print(\"AUC: \",AUCKNN)\n",
        "fprBagMLP, tprBagMLP, thresholds = metrics.roc_curve(y_test,y_predictionKNN_proba)\n",
        "\n",
        "plt.plot(fprBagMLP,tprBagMLP,label=\"( area = \"+str(AUCKNN)+\" )\")\n",
        "plt.xlabel('False Positive Rate')\n",
        "plt.ylabel('True Positive Rate')\n",
        "plt.legend(loc=4)\n",
        "plt.show()"
      ],
      "metadata": {
        "id": "9L2ro0tEP2qu",
        "colab": {
          "base_uri": "https://localhost:8080/",
          "height": 296
        },
        "outputId": "eb710f52-d0ec-48a3-90ef-895f097898d5"
      },
      "execution_count": null,
      "outputs": [
        {
          "output_type": "stream",
          "name": "stdout",
          "text": [
            "AUC:  0.9084673920299045\n"
          ]
        },
        {
          "output_type": "display_data",
          "data": {
            "text/plain": [
              "<Figure size 432x288 with 1 Axes>"
            ],
            "image/png": "[encoded data removed]"
          },
          "metadata": {
            "needs_background": "light"
          }
        }
      ]
    },
    {
      "cell_type": "code",
      "source": [
        "prediction=bagClassificationMLP.predict(X_testSelectedFeature)\n",
        "print('Accuracy = ', metrics.accuracy_score(y_test, prediction)*100)"
      ],
      "metadata": {
        "id": "CEoHemSDtqgc",
        "colab": {
          "base_uri": "https://localhost:8080/"
        },
        "outputId": "5b0d1a0c-6e2d-402a-b93a-3c2bf04a80fc"
      },
      "execution_count": null,
      "outputs": [
        {
          "output_type": "stream",
          "name": "stdout",
          "text": [
            "Accuracy =  80.45325779036827\n"
          ]
        }
      ]
    },
    {
      "cell_type": "code",
      "source": [
        "from sklearn.svm import SVC\n",
        "SVM=SVC()\n",
        "SVM.fit(X_trainSelectedFeatureAfterSMOTE,y_train)\n"
      ],
      "metadata": {
        "id": "ZhtYF6qswzHG",
        "colab": {
          "base_uri": "https://localhost:8080/"
        },
        "outputId": "170cc3c2-83b0-4558-ca91-acf8ad80c313"
      },
      "execution_count": null,
      "outputs": [
        {
          "output_type": "execute_result",
          "data": {
            "text/plain": [
              "SVC()"
            ]
          },
          "metadata": {},
          "execution_count": 32
        }
      ]
    },
    {
      "cell_type": "code",
      "source": [
        "y_prediction = SVM.predict(X_testSelectedFeature)\n",
        "from sklearn.metrics import classification_report,confusion_matrix\n",
        "cm1=confusion_matrix(y_test,y_prediction)\n",
        "import seaborn as sns\n",
        "sns.heatmap(cm1,annot=True)\n",
        "print(classification_report(y_test,y_prediction))"
      ],
      "metadata": {
        "id": "_vU9zDS4xHou",
        "colab": {
          "base_uri": "https://localhost:8080/",
          "height": 421
        },
        "outputId": "60d5f7a1-15d9-455f-de72-b95b4dac3612"
      },
      "execution_count": null,
      "outputs": [
        {
          "output_type": "stream",
          "name": "stdout",
          "text": [
            "              precision    recall  f1-score   support\n",
            "\n",
            "           0       0.73      0.78      0.75       142\n",
            "           1       0.84      0.80      0.82       211\n",
            "\n",
            "    accuracy                           0.79       353\n",
            "   macro avg       0.79      0.79      0.79       353\n",
            "weighted avg       0.80      0.79      0.79       353\n",
            "\n"
          ]
        },
        {
          "output_type": "display_data",
          "data": {
            "text/plain": [
              "<Figure size 432x288 with 2 Axes>"
            ],
            "image/png": "[encoded data removed]"
          },
          "metadata": {
            "needs_background": "light"
          }
        }
      ]
    },
    {
      "cell_type": "code",
      "source": [
        "prediction=SVM.predict(X_testSelectedFeature)\n",
        "print('Accuracy = ', metrics.accuracy_score(y_test, prediction)*100)"
      ],
      "metadata": {
        "id": "sVckgRVLr8YX",
        "colab": {
          "base_uri": "https://localhost:8080/"
        },
        "outputId": "00c555b3-56ad-4a91-a3ac-135dcd741c9f"
      },
      "execution_count": null,
      "outputs": [
        {
          "output_type": "stream",
          "name": "stdout",
          "text": [
            "Accuracy =  79.3201133144476\n"
          ]
        }
      ]
    },
    {
      "cell_type": "code",
      "source": [
        "y_predictionKNN_proba=SVM.predict_proba(X_testSelectedFeature)[:,1]\n",
        "AUCKNN=metrics.roc_auc_score(y_test,y_predictionKNN_proba)\n",
        "print(\"AUC: \",AUCKNN)\n",
        "fprKNN, tprKNN, thresholds = metrics.roc_curve(y_test,y_predictionKNN_proba)\n",
        "\n",
        "plt.plot(fprKNN,tprKNN,label=\"( area = \"+str(AUCKNN)+\" )\")\n",
        "plt.xlabel('False Positive Rate')\n",
        "plt.ylabel('True Positive Rate')\n",
        "plt.legend(loc=4)\n",
        "plt.show()"
      ],
      "metadata": {
        "id": "uVXnElhJsDj9",
        "colab": {
          "base_uri": "https://localhost:8080/",
          "height": 380
        },
        "outputId": "bb18998c-6ff5-4ac9-fb30-ab569f15d914"
      },
      "execution_count": null,
      "outputs": [
        {
          "output_type": "error",
          "ename": "AttributeError",
          "evalue": "ignored",
          "traceback": [
            "\u001b[0;31m---------------------------------------------------------------------------\u001b[0m",
            "\u001b[0;31mAttributeError\u001b[0m                            Traceback (most recent call last)",
            "\u001b[0;32m<ipython-input-35-be45df450609>\u001b[0m in \u001b[0;36m<module>\u001b[0;34m()\u001b[0m\n\u001b[0;32m----> 1\u001b[0;31m \u001b[0my_predictionKNN_proba\u001b[0m\u001b[0;34m=\u001b[0m\u001b[0mSVM\u001b[0m\u001b[0;34m.\u001b[0m\u001b[0mpredict_proba\u001b[0m\u001b[0;34m(\u001b[0m\u001b[0mX_testSelectedFeature\u001b[0m\u001b[0;34m)\u001b[0m\u001b[0;34m[\u001b[0m\u001b[0;34m:\u001b[0m\u001b[0;34m,\u001b[0m\u001b[0;36m1\u001b[0m\u001b[0;34m]\u001b[0m\u001b[0;34m\u001b[0m\u001b[0;34m\u001b[0m\u001b[0m\n\u001b[0m\u001b[1;32m      2\u001b[0m \u001b[0mAUCKNN\u001b[0m\u001b[0;34m=\u001b[0m\u001b[0mmetrics\u001b[0m\u001b[0;34m.\u001b[0m\u001b[0mroc_auc_score\u001b[0m\u001b[0;34m(\u001b[0m\u001b[0my_test\u001b[0m\u001b[0;34m,\u001b[0m\u001b[0my_predictionKNN_proba\u001b[0m\u001b[0;34m)\u001b[0m\u001b[0;34m\u001b[0m\u001b[0;34m\u001b[0m\u001b[0m\n\u001b[1;32m      3\u001b[0m \u001b[0mprint\u001b[0m\u001b[0;34m(\u001b[0m\u001b[0;34m\"AUC: \"\u001b[0m\u001b[0;34m,\u001b[0m\u001b[0mAUCKNN\u001b[0m\u001b[0;34m)\u001b[0m\u001b[0;34m\u001b[0m\u001b[0;34m\u001b[0m\u001b[0m\n\u001b[1;32m      4\u001b[0m \u001b[0mfprKNN\u001b[0m\u001b[0;34m,\u001b[0m \u001b[0mtprKNN\u001b[0m\u001b[0;34m,\u001b[0m \u001b[0mthresholds\u001b[0m \u001b[0;34m=\u001b[0m \u001b[0mmetrics\u001b[0m\u001b[0;34m.\u001b[0m\u001b[0mroc_curve\u001b[0m\u001b[0;34m(\u001b[0m\u001b[0my_test\u001b[0m\u001b[0;34m,\u001b[0m\u001b[0my_predictionKNN_proba\u001b[0m\u001b[0;34m)\u001b[0m\u001b[0;34m\u001b[0m\u001b[0;34m\u001b[0m\u001b[0m\n\u001b[1;32m      5\u001b[0m \u001b[0;34m\u001b[0m\u001b[0m\n",
            "\u001b[0;32m/usr/local/lib/python3.7/dist-packages/sklearn/utils/metaestimators.py\u001b[0m in \u001b[0;36m__get__\u001b[0;34m(self, obj, owner)\u001b[0m\n\u001b[1;32m    107\u001b[0m             \u001b[0;31m# delegate only on instances, not the classes.\u001b[0m\u001b[0;34m\u001b[0m\u001b[0;34m\u001b[0m\u001b[0;34m\u001b[0m\u001b[0m\n\u001b[1;32m    108\u001b[0m             \u001b[0;31m# this is to allow access to the docstrings.\u001b[0m\u001b[0;34m\u001b[0m\u001b[0;34m\u001b[0m\u001b[0;34m\u001b[0m\u001b[0m\n\u001b[0;32m--> 109\u001b[0;31m             \u001b[0;32mif\u001b[0m \u001b[0;32mnot\u001b[0m \u001b[0mself\u001b[0m\u001b[0;34m.\u001b[0m\u001b[0mcheck\u001b[0m\u001b[0;34m(\u001b[0m\u001b[0mobj\u001b[0m\u001b[0;34m)\u001b[0m\u001b[0;34m:\u001b[0m\u001b[0;34m\u001b[0m\u001b[0;34m\u001b[0m\u001b[0m\n\u001b[0m\u001b[1;32m    110\u001b[0m                 \u001b[0;32mraise\u001b[0m \u001b[0mattr_err\u001b[0m\u001b[0;34m\u001b[0m\u001b[0;34m\u001b[0m\u001b[0m\n\u001b[1;32m    111\u001b[0m \u001b[0;34m\u001b[0m\u001b[0m\n",
            "\u001b[0;32m/usr/local/lib/python3.7/dist-packages/sklearn/svm/_base.py\u001b[0m in \u001b[0;36m_check_proba\u001b[0;34m(self)\u001b[0m\n\u001b[1;32m    799\u001b[0m         \u001b[0;32mif\u001b[0m \u001b[0;32mnot\u001b[0m \u001b[0mself\u001b[0m\u001b[0;34m.\u001b[0m\u001b[0mprobability\u001b[0m\u001b[0;34m:\u001b[0m\u001b[0;34m\u001b[0m\u001b[0;34m\u001b[0m\u001b[0m\n\u001b[1;32m    800\u001b[0m             raise AttributeError(\n\u001b[0;32m--> 801\u001b[0;31m                 \u001b[0;34m\"predict_proba is not available when  probability=False\"\u001b[0m\u001b[0;34m\u001b[0m\u001b[0;34m\u001b[0m\u001b[0m\n\u001b[0m\u001b[1;32m    802\u001b[0m             )\n\u001b[1;32m    803\u001b[0m         \u001b[0;32mif\u001b[0m \u001b[0mself\u001b[0m\u001b[0;34m.\u001b[0m\u001b[0m_impl\u001b[0m \u001b[0;32mnot\u001b[0m \u001b[0;32min\u001b[0m \u001b[0;34m(\u001b[0m\u001b[0;34m\"c_svc\"\u001b[0m\u001b[0;34m,\u001b[0m \u001b[0;34m\"nu_svc\"\u001b[0m\u001b[0;34m)\u001b[0m\u001b[0;34m:\u001b[0m\u001b[0;34m\u001b[0m\u001b[0;34m\u001b[0m\u001b[0m\n",
            "\u001b[0;31mAttributeError\u001b[0m: predict_proba is not available when  probability=False"
          ]
        }
      ]
    },
    {
      "cell_type": "code",
      "source": [
        "from sklearn.tree import DecisionTreeClassifier\n",
        "DT=DecisionTreeClassifier()\n",
        "DT=DT.fit(X_trainSelectedFeatureAfterSMOTE,y_train)\n",
        "y4_predict_test=DT.predict(X_testSelectedFeature)\n",
        "cm4=confusion_matrix(y_test,y4_predict_test)\n",
        "sns.heatmap(cm4,annot=True)\n",
        "sns.heatmap(cm1,annot=True)\n",
        "print(classification_report(y_test,y4_predict_test))"
      ],
      "metadata": {
        "id": "TAsXG4neshA0",
        "colab": {
          "base_uri": "https://localhost:8080/",
          "height": 421
        },
        "outputId": "59413de1-aff8-4523-9885-f6c2a4d62ae4"
      },
      "execution_count": null,
      "outputs": [
        {
          "output_type": "stream",
          "name": "stdout",
          "text": [
            "              precision    recall  f1-score   support\n",
            "\n",
            "           0       0.81      0.86      0.84       142\n",
            "           1       0.90      0.87      0.88       211\n",
            "\n",
            "    accuracy                           0.86       353\n",
            "   macro avg       0.86      0.86      0.86       353\n",
            "weighted avg       0.87      0.86      0.86       353\n",
            "\n"
          ]
        },
        {
          "output_type": "display_data",
          "data": {
            "text/plain": [
              "<Figure size 432x288 with 3 Axes>"
            ],
            "image/png": "[encoded data removed]"
          },
          "metadata": {
            "needs_background": "light"
          }
        }
      ]
    },
    {
      "cell_type": "code",
      "source": [
        "y_predictionKNN_proba=DT.predict_proba(X_testSelectedFeature)[:,1]\n",
        "AUCKNN=metrics.roc_auc_score(y_test,y_predictionKNN_proba)\n",
        "print(\"AUC: \",AUCKNN)\n",
        "fprKNN, tprKNN, thresholds = metrics.roc_curve(y_test,y_predictionKNN_proba)\n",
        "\n",
        "plt.plot(fprKNN,tprKNN,label=\"( area = \"+str(AUCKNN)+\" )\")\n",
        "plt.xlabel('False Positive Rate')\n",
        "plt.ylabel('True Positive Rate')\n",
        "plt.legend(loc=4)\n",
        "plt.show()"
      ],
      "metadata": {
        "id": "EZ2ezyr61j2V",
        "colab": {
          "base_uri": "https://localhost:8080/",
          "height": 296
        },
        "outputId": "95f1be44-9bf7-46cd-cfa2-80894eda53ae"
      },
      "execution_count": null,
      "outputs": [
        {
          "output_type": "stream",
          "name": "stdout",
          "text": [
            "AUC:  0.9132067285227955\n"
          ]
        },
        {
          "output_type": "display_data",
          "data": {
            "text/plain": [
              "<Figure size 432x288 with 1 Axes>"
            ],
            "image/png": "[encoded data removed]"
          },
          "metadata": {
            "needs_background": "light"
          }
        }
      ]
    },
    {
      "cell_type": "code",
      "source": [
        "prediction=DT.predict(X_testSelectedFeature)\n",
        "print('Accuracy = ', metrics.accuracy_score(y_test, y4_predict_test)*100)"
      ],
      "metadata": {
        "id": "z6O8-fROtGW6",
        "colab": {
          "base_uri": "https://localhost:8080/"
        },
        "outputId": "e734384f-646c-4e42-b338-e2340bec0adf"
      },
      "execution_count": null,
      "outputs": [
        {
          "output_type": "stream",
          "name": "stdout",
          "text": [
            "Accuracy =  86.40226628895185\n"
          ]
        }
      ]
    },
    {
      "cell_type": "code",
      "source": [
        "from sklearn.naive_bayes import BernoulliNB\n",
        "BNBmodel = BernoulliNB()\n",
        "BNBmodel.fit(X_trainSelectedFeatureAfterSMOTE, y_train)"
      ],
      "metadata": {
        "id": "aF0I9PActfeD",
        "colab": {
          "base_uri": "https://localhost:8080/"
        },
        "outputId": "c8c818a0-ee69-477f-ac25-97c2053907d1"
      },
      "execution_count": null,
      "outputs": [
        {
          "output_type": "execute_result",
          "data": {
            "text/plain": [
              "BernoulliNB()"
            ]
          },
          "metadata": {},
          "execution_count": 40
        }
      ]
    },
    {
      "cell_type": "code",
      "source": [
        "y3_predict_test=BNBmodel.predict(X_testSelectedFeature)\n",
        "cm1=confusion_matrix(y_test,y3_predict_test)\n",
        "sns.heatmap(cm1,annot=True)\n",
        "print(classification_report(y_test,y3_predict_test))"
      ],
      "metadata": {
        "id": "Bykj_5fstnGx",
        "colab": {
          "base_uri": "https://localhost:8080/",
          "height": 422
        },
        "outputId": "8587d87c-c0f9-4e0b-c962-4810be9ca28b"
      },
      "execution_count": null,
      "outputs": [
        {
          "output_type": "stream",
          "name": "stdout",
          "text": [
            "              precision    recall  f1-score   support\n",
            "\n",
            "           0       0.71      0.86      0.78       142\n",
            "           1       0.89      0.77      0.82       211\n",
            "\n",
            "    accuracy                           0.80       353\n",
            "   macro avg       0.80      0.81      0.80       353\n",
            "weighted avg       0.82      0.80      0.81       353\n",
            "\n"
          ]
        },
        {
          "output_type": "display_data",
          "data": {
            "text/plain": [
              "<Figure size 432x288 with 2 Axes>"
            ],
            "image/png": "[encoded data removed]"
          },
          "metadata": {
            "needs_background": "light"
          }
        }
      ]
    },
    {
      "cell_type": "code",
      "source": [
        "prediction=BNBmodel.predict(X_testSelectedFeature)\n",
        "print('Accuracy = ', metrics.accuracy_score(y_test, y3_predict_test)*100)"
      ],
      "metadata": {
        "id": "0GYyUTxYt1d1",
        "colab": {
          "base_uri": "https://localhost:8080/"
        },
        "outputId": "c6f2a12b-e949-433c-b317-613f610a2aaa"
      },
      "execution_count": null,
      "outputs": [
        {
          "output_type": "stream",
          "name": "stdout",
          "text": [
            "Accuracy =  80.45325779036827\n"
          ]
        }
      ]
    },
    {
      "cell_type": "code",
      "source": [
        "y_predictionKNN_proba=BNBmodel.predict_proba(X_testSelectedFeature)[:,1]\n",
        "AUCKNN=metrics.roc_auc_score(y_test,y_predictionKNN_proba)\n",
        "print(\"AUC: \",AUCKNN)\n",
        "fprKNN, tprKNN, thresholds = metrics.roc_curve(y_test,y_predictionKNN_proba)\n",
        "\n",
        "plt.plot(fprKNN,tprKNN,label=\"( area = \"+str(AUCKNN)+\" )\")\n",
        "plt.xlabel('False Positive Rate')\n",
        "plt.ylabel('True Positive Rate')\n",
        "plt.legend(loc=4)\n",
        "plt.show()"
      ],
      "metadata": {
        "id": "jLu-2YCD2-Q4",
        "colab": {
          "base_uri": "https://localhost:8080/",
          "height": 296
        },
        "outputId": "658ffb65-bed6-43ad-86ae-a9530d704f61"
      },
      "execution_count": null,
      "outputs": [
        {
          "output_type": "stream",
          "name": "stdout",
          "text": [
            "AUC:  0.891762899672919\n"
          ]
        },
        {
          "output_type": "display_data",
          "data": {
            "text/plain": [
              "<Figure size 432x288 with 1 Axes>"
            ],
            "image/png": "[encoded data removed]"
          },
          "metadata": {
            "needs_background": "light"
          }
        }
      ]
    },
    {
      "cell_type": "code",
      "source": [
        "from sklearn.naive_bayes import MultinomialNB\n",
        "NB=MultinomialNB()\n",
        "NB.fit(X_trainSelectedFeatureAfterSMOTE,y_train)"
      ],
      "metadata": {
        "id": "dq_l-8Bet-B7",
        "colab": {
          "base_uri": "https://localhost:8080/"
        },
        "outputId": "7224ec2c-a711-4a3e-8d94-92b5863ddee1"
      },
      "execution_count": null,
      "outputs": [
        {
          "output_type": "execute_result",
          "data": {
            "text/plain": [
              "MultinomialNB()"
            ]
          },
          "metadata": {},
          "execution_count": 44
        }
      ]
    },
    {
      "cell_type": "code",
      "source": [
        "y2_predict_test=NB.predict(X_testSelectedFeature)\n",
        "cm2=confusion_matrix(y_test,y2_predict_test)\n",
        "sns.heatmap(cm2,annot=True)\n",
        "print(classification_report(y_test,y2_predict_test))"
      ],
      "metadata": {
        "id": "wR7i2a6WuFjA",
        "colab": {
          "base_uri": "https://localhost:8080/",
          "height": 421
        },
        "outputId": "b433f7a7-2fbd-440a-b4bd-7e535755d9c3"
      },
      "execution_count": null,
      "outputs": [
        {
          "output_type": "stream",
          "name": "stdout",
          "text": [
            "              precision    recall  f1-score   support\n",
            "\n",
            "           0       0.72      0.83      0.77       142\n",
            "           1       0.87      0.78      0.82       211\n",
            "\n",
            "    accuracy                           0.80       353\n",
            "   macro avg       0.79      0.80      0.80       353\n",
            "weighted avg       0.81      0.80      0.80       353\n",
            "\n"
          ]
        },
        {
          "output_type": "display_data",
          "data": {
            "text/plain": [
              "<Figure size 432x288 with 2 Axes>"
            ],
            "image/png": "[encoded data removed]"
          },
          "metadata": {
            "needs_background": "light"
          }
        }
      ]
    },
    {
      "cell_type": "code",
      "source": [
        "y_predictionKNN_proba=NB.predict_proba(X_testSelectedFeature)[:,1]\n",
        "AUCKNN=metrics.roc_auc_score(y_test,y_predictionKNN_proba)\n",
        "print(\"AUC: \",AUCKNN)\n",
        "fprKNN, tprKNN, thresholds = metrics.roc_curve(y_test,y_predictionKNN_proba)\n",
        "\n",
        "plt.plot(fprKNN,tprKNN,label=\"( area = \"+str(AUCKNN)+\" )\")\n",
        "plt.xlabel('False Positive Rate')\n",
        "plt.ylabel('True Positive Rate')\n",
        "plt.legend(loc=4)\n",
        "plt.show()"
      ],
      "metadata": {
        "id": "1Z9wdo7_37eZ",
        "colab": {
          "base_uri": "https://localhost:8080/",
          "height": 296
        },
        "outputId": "dd703ccc-0dba-4bce-fe90-9f607582c04e"
      },
      "execution_count": null,
      "outputs": [
        {
          "output_type": "stream",
          "name": "stdout",
          "text": [
            "AUC:  0.878662973099259\n"
          ]
        },
        {
          "output_type": "display_data",
          "data": {
            "text/plain": [
              "<Figure size 432x288 with 1 Axes>"
            ],
            "image/png": "[encoded data removed]"
          },
          "metadata": {
            "needs_background": "light"
          }
        }
      ]
    },
    {
      "cell_type": "code",
      "source": [
        "prediction=NB.predict(X_testSelectedFeature)\n",
        "print('Accuracy = ', metrics.accuracy_score(y_test, y2_predict_test)*100)"
      ],
      "metadata": {
        "id": "2dh7yeNbuTfq",
        "colab": {
          "base_uri": "https://localhost:8080/"
        },
        "outputId": "677dd1be-2882-43d3-e9bb-e4a2e131ac9a"
      },
      "execution_count": null,
      "outputs": [
        {
          "output_type": "stream",
          "name": "stdout",
          "text": [
            "Accuracy =  79.88668555240793\n"
          ]
        }
      ]
    },
    {
      "cell_type": "code",
      "source": [
        ""
      ],
      "metadata": {
        "id": "n2LFLnNX8YlH"
      },
      "execution_count": null,
      "outputs": []
    },
    {
      "cell_type": "code",
      "source": [
        "# Import Library\n",
        "import numpy as np \n",
        "import matplotlib.pyplot as plt \n",
        "\n",
        "# Define Data\n",
        "data3 = ['SelectKBest']\n",
        "xvals = [69.33]\n",
        "yvals = [72]\n",
        "zvals = [69.33]\n",
        "avals = [72.0]\n",
        "bvals = [72.0]\n",
        "\n",
        "x_axis = np.arange(len(data3))\n",
        "\n",
        "# Multi bar Chart\n",
        "plt.bar(x_axis +0.1, xvals, width=0.07, label = 'KNN')\n",
        "plt.bar(x_axis +0.1*2, yvals, width=0.07, label = 'AdaBoost')\n",
        "plt.bar(x_axis +0.1*3, zvals, width=0.07, label = 'GradientBoost')\n",
        "plt.bar(x_axis +0.1*4, avals, width=0.07, label = 'XGBoost')\n",
        "plt.bar(x_axis +0.1*5, bvals, width=0.07, label = 'Bagging')\n",
        "\n",
        "# Xticks\n",
        "plt.xticks(x_axis,data3)\n",
        "plt.ylabel(\"Accuracy (%)\")\n",
        "plt.xlabel(\"Experiments on classification \")\n",
        "plt.title(\"Comparitive analysis using Boruta\")\n",
        "plt.legend()\n",
        "plt.show()"
      ],
      "metadata": {
        "id": "zptjWHbG3o2B",
        "outputId": "f0f5da7e-b1d8-4a83-f6d7-a30259ccd911",
        "colab": {
          "base_uri": "https://localhost:8080/",
          "height": 278
        }
      },
      "execution_count": null,
      "outputs": [
        {
          "output_type": "display_data",
          "data": {
            "text/plain": [
              "<Figure size 432x288 with 1 Axes>"
            ],
            "image/png": "[encoded data removed]"
          },
          "metadata": {
            "needs_background": "light"
          }
        }
      ]
    },
    {
      "cell_type": "code",
      "source": [
        "plt.figure()\n",
        "\n",
        "#plt.plot(fprRBF,tprRBF,label=\"SVM (AUC: 0.95)\")\n",
        "plt.plot(fprKNN,tprKNN,label=\"KNN (AUC: 0.66)\")\n",
        "#plt.plot(fprDT,tprDT,label=\"DT (AUC: 0.86)\")\n",
        "#plt.plot(fprRF,tprRF,label=\"RF (AUC: 0.90)\")\n",
        "plt.plot(fprAda,tprAda,label=\"AdaBoost (AUC: 0.81)\")\n",
        "#plt.plot(fprMLP,tprMLP,label=\"MLP (AUC: 0.96)\")\n",
        "plt.plot(fprGradientBoost,tprGradientBoost,label=\"GB (AUC: 0.79)\")\n",
        "plt.plot(fprXgB,tprXgB,label=\"XGBoost (AUC: 0.78)\")\n",
        "plt.plot(fprBagMLP,tprBagMLP,label=\"Bagging (AUC: 0.80)\")\n",
        "\n",
        "\n",
        "plt.plot([0, 1], [0, 1], color='navy', linestyle='--')\n",
        "plt.xlabel('False Positive Rate')\n",
        "plt.ylabel('True Positive Rate')\n",
        "plt.legend(loc=4)\n",
        "plt.savefig('Without feature selection-SMOTE-ROCNew.png',dpi=1000)\n",
        "plt.show()"
      ],
      "metadata": {
        "id": "uTUeCMICMr7M",
        "outputId": "d753e1ef-cd86-47c4-a59e-49e6bd3bb35b",
        "colab": {
          "base_uri": "https://localhost:8080/",
          "height": 279
        }
      },
      "execution_count": null,
      "outputs": [
        {
          "output_type": "display_data",
          "data": {
            "text/plain": [
              "<Figure size 432x288 with 1 Axes>"
            ],
            "image/png": "[encoded data removed]"
          },
          "metadata": {
            "needs_background": "light"
          }
        }
      ]
    },
    {
      "cell_type": "code",
      "source": [
        "X_train = X_trainSelectedFeatureAfterSMOTE.to_numpy()\n",
        "y_train = y_train.to_numpy().squeeze()\n",
        "X_test  = X_testSelectedFeature.to_numpy()\n"
      ],
      "metadata": {
        "id": "89s8f-1k8bqK"
      },
      "execution_count": null,
      "outputs": []
    },
    {
      "cell_type": "code",
      "source": [
        "import numpy  as np\n",
        "import pandas as pd\n",
        "!pip install pytorch-tabnet\n",
        "from pytorch_tabnet.tab_model import TabNetClassifier\n",
        "import torch\n",
        "\n",
        "\n",
        "classifier = TabNetClassifier(optimizer_fn=torch.optim.Adam,\n",
        "                       optimizer_params=dict(lr=1e-2),\n",
        "                       scheduler_params={\"step_size\":10,\"gamma\":0.9},\n",
        "                       scheduler_fn=torch.optim.lr_scheduler.StepLR,\n",
        "                       mask_type='entmax')\n"
      ],
      "metadata": {
        "colab": {
          "base_uri": "https://localhost:8080/"
        },
        "id": "Lrx4YyBBElW-",
        "outputId": "6c9e984c-db8c-4789-ff58-14260d0ef4a6"
      },
      "execution_count": null,
      "outputs": [
        {
          "output_type": "stream",
          "name": "stdout",
          "text": [
            "Looking in indexes: https://pypi.org/simple, https://us-python.pkg.dev/colab-wheels/public/simple/\n",
            "Collecting pytorch-tabnet\n",
            "  Downloading pytorch_tabnet-3.1.1-py3-none-any.whl (39 kB)\n",
            "Requirement already satisfied: numpy<2.0,>=1.17 in /usr/local/lib/python3.7/dist-packages (from pytorch-tabnet) (1.21.6)\n",
            "Requirement already satisfied: scikit_learn>0.21 in /usr/local/lib/python3.7/dist-packages (from pytorch-tabnet) (1.0.2)\n",
            "Requirement already satisfied: scipy>1.4 in /usr/local/lib/python3.7/dist-packages (from pytorch-tabnet) (1.4.1)\n",
            "Requirement already satisfied: tqdm<5.0,>=4.36 in /usr/local/lib/python3.7/dist-packages (from pytorch-tabnet) (4.64.0)\n",
            "Requirement already satisfied: torch<2.0,>=1.2 in /usr/local/lib/python3.7/dist-packages (from pytorch-tabnet) (1.11.0+cu113)\n",
            "Requirement already satisfied: threadpoolctl>=2.0.0 in /usr/local/lib/python3.7/dist-packages (from scikit_learn>0.21->pytorch-tabnet) (3.1.0)\n",
            "Requirement already satisfied: joblib>=0.11 in /usr/local/lib/python3.7/dist-packages (from scikit_learn>0.21->pytorch-tabnet) (1.1.0)\n",
            "Requirement already satisfied: typing-extensions in /usr/local/lib/python3.7/dist-packages (from torch<2.0,>=1.2->pytorch-tabnet) (4.2.0)\n",
            "Installing collected packages: pytorch-tabnet\n",
            "Successfully installed pytorch-tabnet-3.1.1\n",
            "Device used : cpu\n"
          ]
        }
      ]
    },
    {
      "cell_type": "code",
      "source": [
        "classifier.fit(X_train=X_train, y_train=y_train,\n",
        "               patience=5,max_epochs=333,\n",
        "               eval_metric=['auc'])"
      ],
      "metadata": {
        "colab": {
          "base_uri": "https://localhost:8080/"
        },
        "id": "e84yXhu-I1xc",
        "outputId": "fa076f05-e959-4cfd-e66e-cd12703bc994"
      },
      "execution_count": null,
      "outputs": [
        {
          "output_type": "stream",
          "name": "stdout",
          "text": [
            "No early stopping will be performed, last training weights will be used.\n",
            "epoch 0  | loss: 0.71212 |  0:00:00s\n",
            "epoch 1  | loss: 0.60459 |  0:00:00s\n",
            "epoch 2  | loss: 0.54873 |  0:00:00s\n",
            "epoch 3  | loss: 0.51031 |  0:00:00s\n",
            "epoch 4  | loss: 0.49555 |  0:00:00s\n",
            "epoch 5  | loss: 0.477   |  0:00:00s\n",
            "epoch 6  | loss: 0.46045 |  0:00:00s\n",
            "epoch 7  | loss: 0.43396 |  0:00:00s\n",
            "epoch 8  | loss: 0.424   |  0:00:00s\n",
            "epoch 9  | loss: 0.4038  |  0:00:00s\n",
            "epoch 10 | loss: 0.39429 |  0:00:01s\n",
            "epoch 11 | loss: 0.37827 |  0:00:01s\n",
            "epoch 12 | loss: 0.39426 |  0:00:01s\n",
            "epoch 13 | loss: 0.37727 |  0:00:01s\n",
            "epoch 14 | loss: 0.37576 |  0:00:01s\n",
            "epoch 15 | loss: 0.37206 |  0:00:01s\n",
            "epoch 16 | loss: 0.3556  |  0:00:01s\n",
            "epoch 17 | loss: 0.35437 |  0:00:01s\n",
            "epoch 18 | loss: 0.33835 |  0:00:01s\n",
            "epoch 19 | loss: 0.33613 |  0:00:01s\n",
            "epoch 20 | loss: 0.33042 |  0:00:02s\n",
            "epoch 21 | loss: 0.3337  |  0:00:02s\n",
            "epoch 22 | loss: 0.3201  |  0:00:02s\n",
            "epoch 23 | loss: 0.34301 |  0:00:02s\n",
            "epoch 24 | loss: 0.33249 |  0:00:02s\n",
            "epoch 25 | loss: 0.31524 |  0:00:02s\n",
            "epoch 26 | loss: 0.31302 |  0:00:02s\n",
            "epoch 27 | loss: 0.31602 |  0:00:02s\n",
            "epoch 28 | loss: 0.31241 |  0:00:02s\n",
            "epoch 29 | loss: 0.30531 |  0:00:02s\n",
            "epoch 30 | loss: 0.3039  |  0:00:02s\n",
            "epoch 31 | loss: 0.30514 |  0:00:02s\n",
            "epoch 32 | loss: 0.30096 |  0:00:03s\n",
            "epoch 33 | loss: 0.28855 |  0:00:03s\n",
            "epoch 34 | loss: 0.30112 |  0:00:03s\n",
            "epoch 35 | loss: 0.29697 |  0:00:03s\n",
            "epoch 36 | loss: 0.2998  |  0:00:03s\n",
            "epoch 37 | loss: 0.29061 |  0:00:03s\n",
            "epoch 38 | loss: 0.29134 |  0:00:03s\n",
            "epoch 39 | loss: 0.28432 |  0:00:03s\n",
            "epoch 40 | loss: 0.27891 |  0:00:03s\n",
            "epoch 41 | loss: 0.28579 |  0:00:03s\n",
            "epoch 42 | loss: 0.28194 |  0:00:03s\n",
            "epoch 43 | loss: 0.28356 |  0:00:03s\n",
            "epoch 44 | loss: 0.28586 |  0:00:04s\n",
            "epoch 45 | loss: 0.28516 |  0:00:04s\n",
            "epoch 46 | loss: 0.28234 |  0:00:04s\n",
            "epoch 47 | loss: 0.27258 |  0:00:04s\n",
            "epoch 48 | loss: 0.28307 |  0:00:04s\n",
            "epoch 49 | loss: 0.27224 |  0:00:04s\n",
            "epoch 50 | loss: 0.27819 |  0:00:04s\n",
            "epoch 51 | loss: 0.27192 |  0:00:04s\n",
            "epoch 52 | loss: 0.26519 |  0:00:04s\n",
            "epoch 53 | loss: 0.27634 |  0:00:04s\n",
            "epoch 54 | loss: 0.26055 |  0:00:04s\n",
            "epoch 55 | loss: 0.25901 |  0:00:04s\n",
            "epoch 56 | loss: 0.26085 |  0:00:04s\n",
            "epoch 57 | loss: 0.27015 |  0:00:05s\n",
            "epoch 58 | loss: 0.26967 |  0:00:05s\n",
            "epoch 59 | loss: 0.26162 |  0:00:05s\n",
            "epoch 60 | loss: 0.26999 |  0:00:05s\n",
            "epoch 61 | loss: 0.27293 |  0:00:05s\n",
            "epoch 62 | loss: 0.26522 |  0:00:05s\n",
            "epoch 63 | loss: 0.25605 |  0:00:05s\n",
            "epoch 64 | loss: 0.26751 |  0:00:05s\n",
            "epoch 65 | loss: 0.24789 |  0:00:05s\n",
            "epoch 66 | loss: 0.25785 |  0:00:05s\n",
            "epoch 67 | loss: 0.25727 |  0:00:06s\n",
            "epoch 68 | loss: 0.25117 |  0:00:06s\n",
            "epoch 69 | loss: 0.25992 |  0:00:06s\n",
            "epoch 70 | loss: 0.24933 |  0:00:06s\n",
            "epoch 71 | loss: 0.24728 |  0:00:06s\n",
            "epoch 72 | loss: 0.24994 |  0:00:06s\n",
            "epoch 73 | loss: 0.2424  |  0:00:07s\n",
            "epoch 74 | loss: 0.23475 |  0:00:07s\n",
            "epoch 75 | loss: 0.24586 |  0:00:07s\n",
            "epoch 76 | loss: 0.25675 |  0:00:07s\n",
            "epoch 77 | loss: 0.25207 |  0:00:07s\n",
            "epoch 78 | loss: 0.24251 |  0:00:07s\n",
            "epoch 79 | loss: 0.24867 |  0:00:07s\n",
            "epoch 80 | loss: 0.25203 |  0:00:08s\n",
            "epoch 81 | loss: 0.24869 |  0:00:08s\n",
            "epoch 82 | loss: 0.25068 |  0:00:08s\n",
            "epoch 83 | loss: 0.24392 |  0:00:08s\n",
            "epoch 84 | loss: 0.24474 |  0:00:08s\n",
            "epoch 85 | loss: 0.24242 |  0:00:08s\n",
            "epoch 86 | loss: 0.24188 |  0:00:08s\n",
            "epoch 87 | loss: 0.23787 |  0:00:08s\n",
            "epoch 88 | loss: 0.24202 |  0:00:09s\n",
            "epoch 89 | loss: 0.22853 |  0:00:09s\n",
            "epoch 90 | loss: 0.24744 |  0:00:09s\n",
            "epoch 91 | loss: 0.2304  |  0:00:09s\n",
            "epoch 92 | loss: 0.24951 |  0:00:09s\n",
            "epoch 93 | loss: 0.22776 |  0:00:09s\n",
            "epoch 94 | loss: 0.2265  |  0:00:09s\n",
            "epoch 95 | loss: 0.24683 |  0:00:10s\n",
            "epoch 96 | loss: 0.22956 |  0:00:10s\n",
            "epoch 97 | loss: 0.23137 |  0:00:10s\n",
            "epoch 98 | loss: 0.22786 |  0:00:10s\n",
            "epoch 99 | loss: 0.22845 |  0:00:10s\n",
            "epoch 100| loss: 0.21814 |  0:00:10s\n",
            "epoch 101| loss: 0.23467 |  0:00:10s\n",
            "epoch 102| loss: 0.23482 |  0:00:11s\n",
            "epoch 103| loss: 0.21298 |  0:00:11s\n",
            "epoch 104| loss: 0.2214  |  0:00:11s\n",
            "epoch 105| loss: 0.21455 |  0:00:11s\n",
            "epoch 106| loss: 0.22731 |  0:00:11s\n",
            "epoch 107| loss: 0.2211  |  0:00:12s\n",
            "epoch 108| loss: 0.22244 |  0:00:12s\n",
            "epoch 109| loss: 0.21555 |  0:00:12s\n",
            "epoch 110| loss: 0.23021 |  0:00:12s\n",
            "epoch 111| loss: 0.21489 |  0:00:12s\n",
            "epoch 112| loss: 0.22264 |  0:00:12s\n",
            "epoch 113| loss: 0.22125 |  0:00:12s\n",
            "epoch 114| loss: 0.21759 |  0:00:13s\n",
            "epoch 115| loss: 0.22355 |  0:00:13s\n",
            "epoch 116| loss: 0.21947 |  0:00:13s\n",
            "epoch 117| loss: 0.23098 |  0:00:13s\n",
            "epoch 118| loss: 0.22115 |  0:00:13s\n",
            "epoch 119| loss: 0.21356 |  0:00:13s\n",
            "epoch 120| loss: 0.21958 |  0:00:14s\n",
            "epoch 121| loss: 0.22393 |  0:00:14s\n",
            "epoch 122| loss: 0.21295 |  0:00:14s\n",
            "epoch 123| loss: 0.21554 |  0:00:14s\n",
            "epoch 124| loss: 0.22164 |  0:00:14s\n",
            "epoch 125| loss: 0.20773 |  0:00:14s\n",
            "epoch 126| loss: 0.22518 |  0:00:15s\n",
            "epoch 127| loss: 0.21781 |  0:00:15s\n",
            "epoch 128| loss: 0.21469 |  0:00:15s\n",
            "epoch 129| loss: 0.21979 |  0:00:15s\n",
            "epoch 130| loss: 0.21452 |  0:00:15s\n",
            "epoch 131| loss: 0.21304 |  0:00:15s\n",
            "epoch 132| loss: 0.20703 |  0:00:16s\n",
            "epoch 133| loss: 0.20568 |  0:00:16s\n",
            "epoch 134| loss: 0.21479 |  0:00:16s\n",
            "epoch 135| loss: 0.22328 |  0:00:16s\n",
            "epoch 136| loss: 0.20639 |  0:00:16s\n",
            "epoch 137| loss: 0.20492 |  0:00:16s\n",
            "epoch 138| loss: 0.19989 |  0:00:16s\n",
            "epoch 139| loss: 0.20269 |  0:00:17s\n",
            "epoch 140| loss: 0.2142  |  0:00:17s\n",
            "epoch 141| loss: 0.20742 |  0:00:17s\n",
            "epoch 142| loss: 0.19568 |  0:00:17s\n",
            "epoch 143| loss: 0.20592 |  0:00:17s\n",
            "epoch 144| loss: 0.19684 |  0:00:17s\n",
            "epoch 145| loss: 0.20515 |  0:00:17s\n",
            "epoch 146| loss: 0.20595 |  0:00:18s\n",
            "epoch 147| loss: 0.19665 |  0:00:18s\n",
            "epoch 148| loss: 0.20069 |  0:00:18s\n",
            "epoch 149| loss: 0.20211 |  0:00:18s\n",
            "epoch 150| loss: 0.19981 |  0:00:18s\n",
            "epoch 151| loss: 0.2053  |  0:00:19s\n",
            "epoch 152| loss: 0.21875 |  0:00:19s\n",
            "epoch 153| loss: 0.20246 |  0:00:19s\n",
            "epoch 154| loss: 0.20525 |  0:00:19s\n",
            "epoch 155| loss: 0.20329 |  0:00:20s\n",
            "epoch 156| loss: 0.19758 |  0:00:20s\n",
            "epoch 157| loss: 0.21178 |  0:00:20s\n",
            "epoch 158| loss: 0.20049 |  0:00:20s\n",
            "epoch 159| loss: 0.21084 |  0:00:20s\n",
            "epoch 160| loss: 0.21972 |  0:00:20s\n",
            "epoch 161| loss: 0.20414 |  0:00:21s\n",
            "epoch 162| loss: 0.20612 |  0:00:21s\n",
            "epoch 163| loss: 0.20772 |  0:00:21s\n",
            "epoch 164| loss: 0.19182 |  0:00:21s\n",
            "epoch 165| loss: 0.19858 |  0:00:21s\n",
            "epoch 166| loss: 0.2001  |  0:00:22s\n",
            "epoch 167| loss: 0.19664 |  0:00:22s\n",
            "epoch 168| loss: 0.20355 |  0:00:22s\n",
            "epoch 169| loss: 0.20369 |  0:00:22s\n",
            "epoch 170| loss: 0.20968 |  0:00:22s\n",
            "epoch 171| loss: 0.20439 |  0:00:22s\n",
            "epoch 172| loss: 0.20428 |  0:00:23s\n",
            "epoch 173| loss: 0.20437 |  0:00:23s\n",
            "epoch 174| loss: 0.20454 |  0:00:23s\n",
            "epoch 175| loss: 0.19817 |  0:00:23s\n",
            "epoch 176| loss: 0.20223 |  0:00:23s\n",
            "epoch 177| loss: 0.20181 |  0:00:23s\n",
            "epoch 178| loss: 0.19741 |  0:00:24s\n",
            "epoch 179| loss: 0.19463 |  0:00:24s\n",
            "epoch 180| loss: 0.19339 |  0:00:24s\n",
            "epoch 181| loss: 0.20261 |  0:00:24s\n",
            "epoch 182| loss: 0.1949  |  0:00:24s\n",
            "epoch 183| loss: 0.20421 |  0:00:24s\n",
            "epoch 184| loss: 0.19084 |  0:00:24s\n",
            "epoch 185| loss: 0.19645 |  0:00:25s\n",
            "epoch 186| loss: 0.19583 |  0:00:25s\n",
            "epoch 187| loss: 0.1986  |  0:00:25s\n",
            "epoch 188| loss: 0.19129 |  0:00:25s\n",
            "epoch 189| loss: 0.19566 |  0:00:25s\n",
            "epoch 190| loss: 0.20451 |  0:00:26s\n",
            "epoch 191| loss: 0.19888 |  0:00:26s\n",
            "epoch 192| loss: 0.19414 |  0:00:26s\n",
            "epoch 193| loss: 0.19805 |  0:00:26s\n",
            "epoch 194| loss: 0.19998 |  0:00:26s\n",
            "epoch 195| loss: 0.19081 |  0:00:26s\n",
            "epoch 196| loss: 0.20474 |  0:00:27s\n",
            "epoch 197| loss: 0.19203 |  0:00:27s\n",
            "epoch 198| loss: 0.19963 |  0:00:27s\n",
            "epoch 199| loss: 0.19651 |  0:00:27s\n",
            "epoch 200| loss: 0.19177 |  0:00:27s\n",
            "epoch 201| loss: 0.19809 |  0:00:27s\n",
            "epoch 202| loss: 0.19434 |  0:00:27s\n",
            "epoch 203| loss: 0.19327 |  0:00:28s\n",
            "epoch 204| loss: 0.19174 |  0:00:28s\n",
            "epoch 205| loss: 0.19285 |  0:00:28s\n",
            "epoch 206| loss: 0.18737 |  0:00:28s\n",
            "epoch 207| loss: 0.19026 |  0:00:28s\n",
            "epoch 208| loss: 0.18687 |  0:00:28s\n",
            "epoch 209| loss: 0.1992  |  0:00:28s\n",
            "epoch 210| loss: 0.18608 |  0:00:29s\n",
            "epoch 211| loss: 0.18757 |  0:00:29s\n",
            "epoch 212| loss: 0.19654 |  0:00:29s\n",
            "epoch 213| loss: 0.18801 |  0:00:29s\n",
            "epoch 214| loss: 0.18925 |  0:00:29s\n",
            "epoch 215| loss: 0.19968 |  0:00:30s\n",
            "epoch 216| loss: 0.19178 |  0:00:30s\n",
            "epoch 217| loss: 0.18738 |  0:00:30s\n",
            "epoch 218| loss: 0.19972 |  0:00:30s\n",
            "epoch 219| loss: 0.19214 |  0:00:31s\n",
            "epoch 220| loss: 0.19033 |  0:00:31s\n",
            "epoch 221| loss: 0.18392 |  0:00:31s\n",
            "epoch 222| loss: 0.18738 |  0:00:31s\n",
            "epoch 223| loss: 0.19747 |  0:00:31s\n",
            "epoch 224| loss: 0.19598 |  0:00:31s\n",
            "epoch 225| loss: 0.18046 |  0:00:32s\n",
            "epoch 226| loss: 0.18697 |  0:00:32s\n",
            "epoch 227| loss: 0.18891 |  0:00:32s\n",
            "epoch 228| loss: 0.18483 |  0:00:32s\n",
            "epoch 229| loss: 0.19877 |  0:00:32s\n",
            "epoch 230| loss: 0.19411 |  0:00:33s\n",
            "epoch 231| loss: 0.19381 |  0:00:33s\n",
            "epoch 232| loss: 0.19429 |  0:00:33s\n",
            "epoch 233| loss: 0.18438 |  0:00:33s\n",
            "epoch 234| loss: 0.18321 |  0:00:33s\n",
            "epoch 235| loss: 0.18055 |  0:00:33s\n",
            "epoch 236| loss: 0.18472 |  0:00:33s\n",
            "epoch 237| loss: 0.18758 |  0:00:34s\n",
            "epoch 238| loss: 0.18863 |  0:00:34s\n",
            "epoch 239| loss: 0.18222 |  0:00:34s\n",
            "epoch 240| loss: 0.1788  |  0:00:34s\n",
            "epoch 241| loss: 0.18318 |  0:00:34s\n",
            "epoch 242| loss: 0.19618 |  0:00:34s\n",
            "epoch 243| loss: 0.18349 |  0:00:35s\n",
            "epoch 244| loss: 0.1863  |  0:00:35s\n",
            "epoch 245| loss: 0.17309 |  0:00:35s\n",
            "epoch 246| loss: 0.18009 |  0:00:35s\n",
            "epoch 247| loss: 0.18926 |  0:00:35s\n",
            "epoch 248| loss: 0.18051 |  0:00:35s\n",
            "epoch 249| loss: 0.17677 |  0:00:35s\n",
            "epoch 250| loss: 0.17904 |  0:00:35s\n",
            "epoch 251| loss: 0.18645 |  0:00:35s\n",
            "epoch 252| loss: 0.18737 |  0:00:36s\n",
            "epoch 253| loss: 0.18092 |  0:00:36s\n",
            "epoch 254| loss: 0.17926 |  0:00:36s\n",
            "epoch 255| loss: 0.17635 |  0:00:36s\n",
            "epoch 256| loss: 0.18596 |  0:00:36s\n",
            "epoch 257| loss: 0.18409 |  0:00:36s\n",
            "epoch 258| loss: 0.18446 |  0:00:36s\n",
            "epoch 259| loss: 0.17574 |  0:00:37s\n",
            "epoch 260| loss: 0.18751 |  0:00:37s\n",
            "epoch 261| loss: 0.17732 |  0:00:37s\n",
            "epoch 262| loss: 0.17307 |  0:00:37s\n",
            "epoch 263| loss: 0.186   |  0:00:37s\n",
            "epoch 264| loss: 0.17989 |  0:00:37s\n",
            "epoch 265| loss: 0.19031 |  0:00:38s\n",
            "epoch 266| loss: 0.17947 |  0:00:38s\n",
            "epoch 267| loss: 0.17833 |  0:00:38s\n",
            "epoch 268| loss: 0.18323 |  0:00:38s\n",
            "epoch 269| loss: 0.17629 |  0:00:38s\n",
            "epoch 270| loss: 0.1909  |  0:00:38s\n",
            "epoch 271| loss: 0.18064 |  0:00:38s\n",
            "epoch 272| loss: 0.18954 |  0:00:39s\n",
            "epoch 273| loss: 0.18213 |  0:00:39s\n",
            "epoch 274| loss: 0.18194 |  0:00:39s\n",
            "epoch 275| loss: 0.17963 |  0:00:39s\n",
            "epoch 276| loss: 0.18485 |  0:00:39s\n",
            "epoch 277| loss: 0.19642 |  0:00:39s\n",
            "epoch 278| loss: 0.18604 |  0:00:39s\n",
            "epoch 279| loss: 0.19015 |  0:00:40s\n",
            "epoch 280| loss: 0.19128 |  0:00:40s\n",
            "epoch 281| loss: 0.18447 |  0:00:40s\n",
            "epoch 282| loss: 0.19245 |  0:00:40s\n",
            "epoch 283| loss: 0.17844 |  0:00:40s\n",
            "epoch 284| loss: 0.18478 |  0:00:40s\n",
            "epoch 285| loss: 0.17581 |  0:00:40s\n",
            "epoch 286| loss: 0.18989 |  0:00:40s\n",
            "epoch 287| loss: 0.17139 |  0:00:41s\n",
            "epoch 288| loss: 0.17968 |  0:00:41s\n",
            "epoch 289| loss: 0.18223 |  0:00:41s\n",
            "epoch 290| loss: 0.1714  |  0:00:41s\n",
            "epoch 291| loss: 0.17496 |  0:00:41s\n",
            "epoch 292| loss: 0.17517 |  0:00:41s\n",
            "epoch 293| loss: 0.17305 |  0:00:41s\n",
            "epoch 294| loss: 0.1817  |  0:00:42s\n",
            "epoch 295| loss: 0.17393 |  0:00:42s\n",
            "epoch 296| loss: 0.18596 |  0:00:42s\n",
            "epoch 297| loss: 0.16755 |  0:00:42s\n",
            "epoch 298| loss: 0.18509 |  0:00:42s\n",
            "epoch 299| loss: 0.17754 |  0:00:42s\n",
            "epoch 300| loss: 0.17274 |  0:00:42s\n",
            "epoch 301| loss: 0.17783 |  0:00:43s\n",
            "epoch 302| loss: 0.18322 |  0:00:43s\n",
            "epoch 303| loss: 0.17949 |  0:00:43s\n",
            "epoch 304| loss: 0.17799 |  0:00:43s\n",
            "epoch 305| loss: 0.17595 |  0:00:43s\n",
            "epoch 306| loss: 0.16991 |  0:00:43s\n",
            "epoch 307| loss: 0.18255 |  0:00:43s\n",
            "epoch 308| loss: 0.18473 |  0:00:44s\n",
            "epoch 309| loss: 0.17177 |  0:00:44s\n",
            "epoch 310| loss: 0.17771 |  0:00:44s\n",
            "epoch 311| loss: 0.17712 |  0:00:44s\n",
            "epoch 312| loss: 0.17297 |  0:00:44s\n",
            "epoch 313| loss: 0.18079 |  0:00:44s\n",
            "epoch 314| loss: 0.1703  |  0:00:44s\n",
            "epoch 315| loss: 0.18012 |  0:00:44s\n",
            "epoch 316| loss: 0.17514 |  0:00:45s\n",
            "epoch 317| loss: 0.18018 |  0:00:45s\n",
            "epoch 318| loss: 0.18122 |  0:00:45s\n",
            "epoch 319| loss: 0.1816  |  0:00:45s\n",
            "epoch 320| loss: 0.17521 |  0:00:45s\n",
            "epoch 321| loss: 0.17765 |  0:00:45s\n",
            "epoch 322| loss: 0.17101 |  0:00:45s\n",
            "epoch 323| loss: 0.16769 |  0:00:46s\n",
            "epoch 324| loss: 0.17424 |  0:00:46s\n",
            "epoch 325| loss: 0.16867 |  0:00:46s\n",
            "epoch 326| loss: 0.18002 |  0:00:46s\n",
            "epoch 327| loss: 0.17511 |  0:00:46s\n",
            "epoch 328| loss: 0.18069 |  0:00:46s\n",
            "epoch 329| loss: 0.17463 |  0:00:47s\n",
            "epoch 330| loss: 0.17746 |  0:00:47s\n",
            "epoch 331| loss: 0.1889  |  0:00:47s\n",
            "epoch 332| loss: 0.17322 |  0:00:47s\n"
          ]
        }
      ]
    },
    {
      "cell_type": "code",
      "source": [
        "prediction=classifier.predict(X_test)\n",
        "print('Accuracy = ', metrics.accuracy_score(y_test, prediction)*100)"
      ],
      "metadata": {
        "id": "m8zVzYPoInVU",
        "outputId": "5f3ddf4b-b7a7-4518-e028-8b5cd9fadff6",
        "colab": {
          "base_uri": "https://localhost:8080/"
        }
      },
      "execution_count": null,
      "outputs": [
        {
          "output_type": "stream",
          "name": "stdout",
          "text": [
            "Accuracy =  88.6685552407932\n"
          ]
        }
      ]
    }
  ]
}